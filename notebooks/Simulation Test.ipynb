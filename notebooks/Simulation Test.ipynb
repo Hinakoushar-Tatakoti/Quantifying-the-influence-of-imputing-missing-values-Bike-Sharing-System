{
 "cells": [
  {
   "cell_type": "code",
   "execution_count": 325,
   "id": "ab8de175",
   "metadata": {
    "id": "ab8de175"
   },
   "outputs": [],
   "source": [
    "import pandas as pd\n",
    "import random\n",
    "import numpy as np\n",
    "import matplotlib.pyplot as plt\n",
    "import seaborn as sns\n",
    "%matplotlib inline\n",
    "\n",
    "\n",
    "import warnings\n",
    "warnings.filterwarnings(\"ignore\")\n",
    "from sklearn.model_selection import train_test_split\n",
    "from sklearn import  linear_model\n",
    "from sklearn.preprocessing import StandardScaler\n",
    "from sklearn.preprocessing import LabelEncoder\n",
    "from sklearn.model_selection import cross_val_score\n",
    "from sklearn.model_selection import RepeatedStratifiedKFold\n",
    "from sklearn.pipeline import Pipeline\n",
    "from sklearn.linear_model import LinearRegression, Ridge, HuberRegressor, ElasticNetCV\n",
    "from sklearn.tree import DecisionTreeRegressor\n",
    "from sklearn.ensemble import RandomForestRegressor, GradientBoostingRegressor, ExtraTreesRegressor\n",
    "from sklearn import model_selection\n",
    "\n",
    "from sklearn.metrics import mean_squared_error\n",
    "from sklearn.model_selection import cross_val_score\n",
    "from sklearn import preprocessing\n",
    "from sklearn.metrics import mean_squared_error\n",
    "\n",
    "from sklearn.impute import SimpleImputer\n",
    "from sklearn_pandas import CategoricalImputer\n",
    "from dython.nominal import associations\n",
    "from dython.nominal import identify_nominal_columns"
   ]
  },
  {
   "cell_type": "code",
   "execution_count": 326,
   "id": "c518e2ff",
   "metadata": {
    "id": "c518e2ff"
   },
   "outputs": [],
   "source": [
    "tripdata = pd.read_csv(\"../dataset/final_bike_sharing.csv\")"
   ]
  },
  {
   "cell_type": "code",
   "execution_count": 327,
   "id": "f7739d90",
   "metadata": {
    "colab": {
     "base_uri": "https://localhost:8080/",
     "height": 428
    },
    "id": "f7739d90",
    "outputId": "8e738096-cf3a-4eda-9fb4-71fac14810f2"
   },
   "outputs": [
    {
     "data": {
      "text/html": [
       "<div>\n",
       "<style scoped>\n",
       "    .dataframe tbody tr th:only-of-type {\n",
       "        vertical-align: middle;\n",
       "    }\n",
       "\n",
       "    .dataframe tbody tr th {\n",
       "        vertical-align: top;\n",
       "    }\n",
       "\n",
       "    .dataframe thead th {\n",
       "        text-align: right;\n",
       "    }\n",
       "</style>\n",
       "<table border=\"1\" class=\"dataframe\">\n",
       "  <thead>\n",
       "    <tr style=\"text-align: right;\">\n",
       "      <th></th>\n",
       "      <th>tripduration</th>\n",
       "      <th>start_lat</th>\n",
       "      <th>start_lon</th>\n",
       "      <th>end_lat</th>\n",
       "      <th>end_lon</th>\n",
       "      <th>usertype</th>\n",
       "      <th>gender</th>\n",
       "      <th>dist</th>\n",
       "      <th>birthyear</th>\n",
       "      <th>date</th>\n",
       "      <th>...</th>\n",
       "      <th>feelslike</th>\n",
       "      <th>precip</th>\n",
       "      <th>dew</th>\n",
       "      <th>humidity</th>\n",
       "      <th>snow</th>\n",
       "      <th>windspeed</th>\n",
       "      <th>visibility</th>\n",
       "      <th>solarradiation</th>\n",
       "      <th>conditions</th>\n",
       "      <th>seasons</th>\n",
       "    </tr>\n",
       "  </thead>\n",
       "  <tbody>\n",
       "    <tr>\n",
       "      <th>0</th>\n",
       "      <td>932</td>\n",
       "      <td>40.716247</td>\n",
       "      <td>-74.033459</td>\n",
       "      <td>40.728745</td>\n",
       "      <td>-74.032108</td>\n",
       "      <td>Subscriber</td>\n",
       "      <td>1</td>\n",
       "      <td>0.9</td>\n",
       "      <td>1992</td>\n",
       "      <td>2018-01-01</td>\n",
       "      <td>...</td>\n",
       "      <td>-17.0</td>\n",
       "      <td>0.0</td>\n",
       "      <td>-19.9</td>\n",
       "      <td>47.8</td>\n",
       "      <td>0.0</td>\n",
       "      <td>18.5</td>\n",
       "      <td>16.0</td>\n",
       "      <td>106.7</td>\n",
       "      <td>Clear</td>\n",
       "      <td>winter</td>\n",
       "    </tr>\n",
       "    <tr>\n",
       "      <th>1</th>\n",
       "      <td>550</td>\n",
       "      <td>40.716247</td>\n",
       "      <td>-74.033459</td>\n",
       "      <td>40.728745</td>\n",
       "      <td>-74.032108</td>\n",
       "      <td>Subscriber</td>\n",
       "      <td>2</td>\n",
       "      <td>0.9</td>\n",
       "      <td>1969</td>\n",
       "      <td>2018-01-01</td>\n",
       "      <td>...</td>\n",
       "      <td>-17.0</td>\n",
       "      <td>0.0</td>\n",
       "      <td>-19.9</td>\n",
       "      <td>47.8</td>\n",
       "      <td>0.0</td>\n",
       "      <td>18.5</td>\n",
       "      <td>16.0</td>\n",
       "      <td>106.7</td>\n",
       "      <td>Clear</td>\n",
       "      <td>winter</td>\n",
       "    </tr>\n",
       "    <tr>\n",
       "      <th>2</th>\n",
       "      <td>510</td>\n",
       "      <td>40.716247</td>\n",
       "      <td>-74.033459</td>\n",
       "      <td>40.728745</td>\n",
       "      <td>-74.032108</td>\n",
       "      <td>Subscriber</td>\n",
       "      <td>1</td>\n",
       "      <td>0.9</td>\n",
       "      <td>1946</td>\n",
       "      <td>2018-01-01</td>\n",
       "      <td>...</td>\n",
       "      <td>-17.0</td>\n",
       "      <td>0.0</td>\n",
       "      <td>-19.9</td>\n",
       "      <td>47.8</td>\n",
       "      <td>0.0</td>\n",
       "      <td>18.5</td>\n",
       "      <td>16.0</td>\n",
       "      <td>106.7</td>\n",
       "      <td>Clear</td>\n",
       "      <td>winter</td>\n",
       "    </tr>\n",
       "  </tbody>\n",
       "</table>\n",
       "<p>3 rows × 29 columns</p>\n",
       "</div>"
      ],
      "text/plain": [
       "   tripduration  start_lat  start_lon    end_lat    end_lon    usertype  \\\n",
       "0           932  40.716247 -74.033459  40.728745 -74.032108  Subscriber   \n",
       "1           550  40.716247 -74.033459  40.728745 -74.032108  Subscriber   \n",
       "2           510  40.716247 -74.033459  40.728745 -74.032108  Subscriber   \n",
       "\n",
       "   gender  dist  birthyear        date  ... feelslike precip   dew  humidity  \\\n",
       "0       1   0.9       1992  2018-01-01  ...     -17.0    0.0 -19.9      47.8   \n",
       "1       2   0.9       1969  2018-01-01  ...     -17.0    0.0 -19.9      47.8   \n",
       "2       1   0.9       1946  2018-01-01  ...     -17.0    0.0 -19.9      47.8   \n",
       "\n",
       "   snow  windspeed visibility solarradiation  conditions  seasons  \n",
       "0   0.0       18.5       16.0          106.7       Clear   winter  \n",
       "1   0.0       18.5       16.0          106.7       Clear   winter  \n",
       "2   0.0       18.5       16.0          106.7       Clear   winter  \n",
       "\n",
       "[3 rows x 29 columns]"
      ]
     },
     "execution_count": 327,
     "metadata": {},
     "output_type": "execute_result"
    }
   ],
   "source": [
    "tripdata.head(3)"
   ]
  },
  {
   "cell_type": "markdown",
   "id": "e757ab54",
   "metadata": {},
   "source": [
    "### Amputation logic"
   ]
  },
  {
   "cell_type": "code",
   "execution_count": 328,
   "id": "6bc2d045",
   "metadata": {},
   "outputs": [],
   "source": [
    "## get the sample size such as 5%, 10%,20% etc\n",
    "def get_sample_size(df, perc=5):\n",
    "    return round(perc/100 * df.shape[0])\n",
    "\n",
    "def get_an_index(index):\n",
    "    li = []\n",
    "    for i in index:\n",
    "        li.append(i)\n",
    "    return li  \n",
    "\n",
    "def convert_to_dataframe(y_train):\n",
    "    return pd.DataFrame(y_train)\n",
    "\n",
    "def convert_to_series(y_train):\n",
    "    return y_train.squeeze()\n",
    "        \n",
    "random.seed(100)\n",
    "def ampute_nan_values(X_train,y_train,col_name, perc):\n",
    "    index = get_an_index(X_train.index)\n",
    "    sample_size = get_sample_size(X_train, perc)\n",
    "    selected_index = random.sample(index, sample_size)\n",
    "    y_train = convert_to_dataframe(y_train)\n",
    "    for i in selected_index:\n",
    "        if col_name in X_train.columns:\n",
    "            X_train.at[i,col_name]= np.NaN\n",
    "        else:\n",
    "            X_train.loc[i] = np.NaN\n",
    "        y_train.loc[i] = np.NaN\n",
    "    y_train = convert_to_series(y_train)\n",
    "    return X_train, y_train"
   ]
  },
  {
   "cell_type": "markdown",
   "id": "1b2f6f47",
   "metadata": {},
   "source": [
    "### Split the data into train and test"
   ]
  },
  {
   "cell_type": "code",
   "execution_count": 329,
   "id": "6a4c949a",
   "metadata": {},
   "outputs": [
    {
     "data": {
      "text/plain": [
       "Index(['tripduration', 'start_lat', 'start_lon', 'end_lat', 'end_lon',\n",
       "       'usertype', 'gender', 'dist', 'birthyear', 'date', 'month', 'day',\n",
       "       'hour', 'min', 'year', 'years_old', 'holiday', 'datetime', 'temp',\n",
       "       'feelslike', 'precip', 'dew', 'humidity', 'snow', 'windspeed',\n",
       "       'visibility', 'solarradiation', 'conditions', 'seasons'],\n",
       "      dtype='object')"
      ]
     },
     "execution_count": 329,
     "metadata": {},
     "output_type": "execute_result"
    }
   ],
   "source": [
    "tripdata.columns"
   ]
  },
  {
   "cell_type": "code",
   "execution_count": 330,
   "id": "8095c0cd",
   "metadata": {},
   "outputs": [],
   "source": [
    "features = ['start_lat', 'start_lon', 'end_lat', 'end_lon',\n",
    "       'usertype', 'gender', 'dist', 'birthyear', 'date', 'month', 'day',\n",
    "       'hour', 'min', 'year', 'years_old', 'holiday', 'datetime', 'temp',\n",
    "       'feelslike', 'precip', 'dew', 'humidity', 'snow', 'windspeed',\n",
    "       'visibility', 'solarradiation', 'conditions', 'seasons']"
   ]
  },
  {
   "cell_type": "code",
   "execution_count": 331,
   "id": "f3a15ca5",
   "metadata": {},
   "outputs": [],
   "source": [
    "X = tripdata.loc[:, features]\n",
    "y = tripdata.loc[:, ['tripduration']]"
   ]
  },
  {
   "cell_type": "code",
   "execution_count": 332,
   "id": "e691e113",
   "metadata": {},
   "outputs": [
    {
     "name": "stdout",
     "output_type": "stream",
     "text": [
      "(352767, 28) (352767, 1)\n"
     ]
    }
   ],
   "source": [
    "print(X.shape , y.shape)"
   ]
  },
  {
   "cell_type": "code",
   "execution_count": 333,
   "id": "466c3c11",
   "metadata": {},
   "outputs": [],
   "source": [
    "X_train, X_test, y_train, y_test = train_test_split(X, y, random_state=42, train_size = .80)"
   ]
  },
  {
   "cell_type": "code",
   "execution_count": 334,
   "id": "10585b65",
   "metadata": {},
   "outputs": [
    {
     "name": "stdout",
     "output_type": "stream",
     "text": [
      "(282213, 28) (282213, 1)\n"
     ]
    }
   ],
   "source": [
    "print(X_train.shape , y_train.shape)"
   ]
  },
  {
   "cell_type": "code",
   "execution_count": 335,
   "id": "1adcc0ad",
   "metadata": {},
   "outputs": [
    {
     "name": "stdout",
     "output_type": "stream",
     "text": [
      "(70554, 28) (70554, 1)\n"
     ]
    }
   ],
   "source": [
    "print(X_test.shape , y_test.shape)"
   ]
  },
  {
   "cell_type": "markdown",
   "id": "2cb80d90",
   "metadata": {},
   "source": [
    "### Ampute on Train data and Test"
   ]
  },
  {
   "cell_type": "code",
   "execution_count": 336,
   "id": "0f00e406",
   "metadata": {},
   "outputs": [],
   "source": [
    "X_train_amp , y_train_amp = ampute_nan_values(X_train,y_train,\"birthyear\",perc=5)"
   ]
  },
  {
   "cell_type": "code",
   "execution_count": 337,
   "id": "05fab535",
   "metadata": {},
   "outputs": [
    {
     "name": "stdout",
     "output_type": "stream",
     "text": [
      "Train after amputation (282213, 28) (282213,)\n",
      "start_lat             0\n",
      "start_lon             0\n",
      "end_lat               0\n",
      "end_lon               0\n",
      "usertype              0\n",
      "gender                0\n",
      "dist                  0\n",
      "birthyear         14111\n",
      "date                  0\n",
      "month                 0\n",
      "day                   0\n",
      "hour                  0\n",
      "min                   0\n",
      "year                  0\n",
      "years_old             0\n",
      "holiday               0\n",
      "datetime              0\n",
      "temp                  0\n",
      "feelslike             0\n",
      "precip                0\n",
      "dew                   0\n",
      "humidity              0\n",
      "snow                  0\n",
      "windspeed             0\n",
      "visibility            0\n",
      "solarradiation        0\n",
      "conditions            0\n",
      "seasons               0\n",
      "dtype: int64\n",
      "14111\n"
     ]
    }
   ],
   "source": [
    "print('Train after amputation', X_train_amp.shape, y_train_amp.shape)\n",
    "print(X_train_amp.isnull().sum())\n",
    "print(y_train_amp.isnull().sum())"
   ]
  },
  {
   "cell_type": "code",
   "execution_count": 338,
   "id": "a00496b8",
   "metadata": {},
   "outputs": [
    {
     "name": "stdout",
     "output_type": "stream",
     "text": [
      "Test after amputation (70554, 28) (70554,)\n",
      "start_lat            0\n",
      "start_lon            0\n",
      "end_lat              0\n",
      "end_lon              0\n",
      "usertype             0\n",
      "gender               0\n",
      "dist                 0\n",
      "birthyear         3528\n",
      "date                 0\n",
      "month                0\n",
      "day                  0\n",
      "hour                 0\n",
      "min                  0\n",
      "year                 0\n",
      "years_old            0\n",
      "holiday              0\n",
      "datetime             0\n",
      "temp                 0\n",
      "feelslike            0\n",
      "precip               0\n",
      "dew                  0\n",
      "humidity             0\n",
      "snow                 0\n",
      "windspeed            0\n",
      "visibility           0\n",
      "solarradiation       0\n",
      "conditions           0\n",
      "seasons              0\n",
      "dtype: int64\n",
      "3528\n"
     ]
    }
   ],
   "source": [
    "X_test_amp , y_test_amp = ampute_nan_values(X_test,y_test,\"birthyear\",perc=5)\n",
    "print('Test after amputation', X_test_amp.shape, y_test_amp.shape)\n",
    "print(X_test_amp.isnull().sum())\n",
    "print(y_test_amp.isnull().sum())"
   ]
  },
  {
   "cell_type": "markdown",
   "id": "7a04998b",
   "metadata": {},
   "source": [
    "#### 1. Imputation with mean"
   ]
  },
  {
   "cell_type": "code",
   "execution_count": 339,
   "id": "584b8a8d",
   "metadata": {},
   "outputs": [],
   "source": [
    "X_train_amp['birthyear'] = X_train_amp['birthyear'].fillna(X_train_amp['birthyear'].mean())"
   ]
  },
  {
   "cell_type": "code",
   "execution_count": 340,
   "id": "1ebe982f",
   "metadata": {},
   "outputs": [],
   "source": [
    "y_train_amp = y_train_amp.fillna(y_train_amp.mean())"
   ]
  },
  {
   "cell_type": "code",
   "execution_count": 341,
   "id": "f9059dac",
   "metadata": {},
   "outputs": [
    {
     "name": "stdout",
     "output_type": "stream",
     "text": [
      "Train after Imputation (282213, 28) (282213,)\n",
      "start_lat         0\n",
      "start_lon         0\n",
      "end_lat           0\n",
      "end_lon           0\n",
      "usertype          0\n",
      "gender            0\n",
      "dist              0\n",
      "birthyear         0\n",
      "date              0\n",
      "month             0\n",
      "day               0\n",
      "hour              0\n",
      "min               0\n",
      "year              0\n",
      "years_old         0\n",
      "holiday           0\n",
      "datetime          0\n",
      "temp              0\n",
      "feelslike         0\n",
      "precip            0\n",
      "dew               0\n",
      "humidity          0\n",
      "snow              0\n",
      "windspeed         0\n",
      "visibility        0\n",
      "solarradiation    0\n",
      "conditions        0\n",
      "seasons           0\n",
      "dtype: int64\n",
      "0\n"
     ]
    }
   ],
   "source": [
    "print('Train after Imputation', X_train_amp.shape, y_train_amp.shape)\n",
    "print(X_train_amp.isnull().sum())\n",
    "print(y_train_amp.isnull().sum())"
   ]
  },
  {
   "cell_type": "code",
   "execution_count": 342,
   "id": "8024aef0",
   "metadata": {},
   "outputs": [],
   "source": [
    "X_test_amp['birthyear'] = X_test_amp['birthyear'].fillna(X_test_amp['birthyear'].mean())"
   ]
  },
  {
   "cell_type": "code",
   "execution_count": 343,
   "id": "fd88b3e1",
   "metadata": {},
   "outputs": [],
   "source": [
    "y_test_amp = y_test_amp.fillna(y_test_amp.mean())"
   ]
  },
  {
   "cell_type": "code",
   "execution_count": 344,
   "id": "ab27d867",
   "metadata": {},
   "outputs": [
    {
     "name": "stdout",
     "output_type": "stream",
     "text": [
      "Train after Imputation (70554, 28) (70554,)\n"
     ]
    }
   ],
   "source": [
    "print('Train after Imputation', X_test_amp.shape, y_test_amp.shape)"
   ]
  },
  {
   "cell_type": "code",
   "execution_count": 345,
   "id": "eb979cb6",
   "metadata": {},
   "outputs": [
    {
     "name": "stdout",
     "output_type": "stream",
     "text": [
      "start_lat         0\n",
      "start_lon         0\n",
      "end_lat           0\n",
      "end_lon           0\n",
      "usertype          0\n",
      "gender            0\n",
      "dist              0\n",
      "birthyear         0\n",
      "date              0\n",
      "month             0\n",
      "day               0\n",
      "hour              0\n",
      "min               0\n",
      "year              0\n",
      "years_old         0\n",
      "holiday           0\n",
      "datetime          0\n",
      "temp              0\n",
      "feelslike         0\n",
      "precip            0\n",
      "dew               0\n",
      "humidity          0\n",
      "snow              0\n",
      "windspeed         0\n",
      "visibility        0\n",
      "solarradiation    0\n",
      "conditions        0\n",
      "seasons           0\n",
      "dtype: int64\n",
      "0\n"
     ]
    }
   ],
   "source": [
    "print(X_test_amp.isnull().sum())\n",
    "print(y_test_amp.isnull().sum())"
   ]
  },
  {
   "cell_type": "markdown",
   "id": "20b34641",
   "metadata": {},
   "source": [
    "### One Hot encoding"
   ]
  },
  {
   "cell_type": "code",
   "execution_count": 346,
   "id": "86439e28",
   "metadata": {},
   "outputs": [
    {
     "data": {
      "text/plain": [
       "['usertype',\n",
       " 'date',\n",
       " 'month',\n",
       " 'day',\n",
       " 'holiday',\n",
       " 'datetime',\n",
       " 'conditions',\n",
       " 'seasons']"
      ]
     },
     "execution_count": 346,
     "metadata": {},
     "output_type": "execute_result"
    }
   ],
   "source": [
    "categorical_features=identify_nominal_columns(X_train)\n",
    "categorical_features"
   ]
  },
  {
   "cell_type": "code",
   "execution_count": 347,
   "id": "b43d1e2b",
   "metadata": {},
   "outputs": [],
   "source": [
    "def one_hot_encoding(data, column):\n",
    "    data = pd.concat([data, pd.get_dummies(data[column], prefix=column, drop_first=True)], axis=1)\n",
    "    data = data.drop([column], axis=1)\n",
    "    return data\n",
    "\n",
    "def get_encoded_data(train, test):\n",
    "    cols = ['usertype','date','month','day','holiday','datetime','conditions','seasons']\n",
    "    for col in cols:\n",
    "        train = one_hot_encoding(train, col)\n",
    "        test = one_hot_encoding(test, col)\n",
    "    train = train.astype('float32')\n",
    "    test = test.astype('float32')\n",
    "    return train , test\n"
   ]
  },
  {
   "cell_type": "markdown",
   "id": "60d4cd9c",
   "metadata": {
    "id": "60d4cd9c"
   },
   "source": [
    "## Applay LinearRegression"
   ]
  },
  {
   "cell_type": "code",
   "execution_count": 348,
   "id": "1764462a",
   "metadata": {
    "id": "1764462a",
    "outputId": "b1031763-fbd6-473f-a217-79a15aa0382f"
   },
   "outputs": [],
   "source": [
    "X_train_encoded, X_test_encoded = get_encoded_data(X_train_amp, X_test_amp)\n",
    "y_train = y_train_amp.astype('float32')\n",
    "y_test = y_test_amp.astype('float32')"
   ]
  },
  {
   "cell_type": "code",
   "execution_count": 349,
   "id": "4c2f7bab",
   "metadata": {},
   "outputs": [
    {
     "name": "stdout",
     "output_type": "stream",
     "text": [
      "-2409007.8\n"
     ]
    }
   ],
   "source": [
    "model = linear_model.LinearRegression().fit(X_train_encoded, y_train) \n",
    "print(model.intercept_)"
   ]
  },
  {
   "cell_type": "code",
   "execution_count": 350,
   "id": "89aec9da",
   "metadata": {},
   "outputs": [
    {
     "name": "stdout",
     "output_type": "stream",
     "text": [
      "[-1.75740552e+03 -3.45852478e+02  3.16094666e+02 -1.05842712e+03\n",
      "  1.92588577e+01  2.95266174e+02 -3.58544922e+00  4.32531738e+00\n",
      "  1.08064651e-01  1.17430920e+03 -1.26971436e+00  1.16297287e+02\n",
      " -3.11722717e+01 -1.31921387e+00 -8.14088898e+01  2.21595459e+01\n",
      "  6.14973354e+00 -1.52294922e+00  1.33580780e+01  2.83813477e-02\n",
      " -9.38808350e+02  2.63537617e+01  5.23028221e+01  1.76588612e+01\n",
      "  3.55287781e+01 -2.36561942e+00  4.26978912e+01  6.08192596e+01\n",
      "  3.83042946e+01  2.16331120e+01 -1.90053349e+01 -8.44121170e+00\n",
      " -6.81749268e+01 -1.75116768e+01  1.39611053e+00 -1.34871473e+01\n",
      "  1.41240149e+01  2.47785873e+01  2.79807568e+01 -2.16196938e+01\n",
      "  1.63940182e+01 -3.05322790e+00  1.36690769e+01  8.56425476e+00\n",
      " -1.30623446e+01  1.64858036e+01 -1.61124592e+01 -5.97112656e+01\n",
      "  1.51121864e+01 -6.88459730e+00  3.75275803e+01  3.51500893e+01\n",
      "  1.96455059e+01 -6.40734863e+00  3.15376644e+01  7.64281303e-03\n",
      "  5.89056015e+01  5.01961565e+00  1.35921669e+01  2.29477425e+01\n",
      " -4.48544693e+01 -2.12806606e+01 -1.83335552e+01  1.93370667e+01\n",
      "  1.38846779e+01 -3.07711053e+00 -1.29058695e+01  3.12374210e+01\n",
      "  7.18914747e+00 -9.61323547e+00  1.15532303e+01  1.43711967e+01\n",
      " -1.51085377e+00 -4.53752556e+01 -8.15731506e+01 -3.22222176e+01\n",
      " -2.36856842e+01  4.24254513e+00  1.23801794e+01  4.18065987e+01\n",
      "  1.31381187e+01 -2.35570583e+01  4.15139732e+01  1.66733170e+01\n",
      "  3.25446396e+01 -4.90841064e+01 -1.93803477e+00  2.62173653e+01\n",
      " -4.41881981e+01 -8.36125183e+00  2.48607121e+01 -2.78858986e+01\n",
      "  1.96550522e+01  2.16665745e-01 -1.59940586e+01 -5.32253609e+01\n",
      " -3.86424561e+01 -3.57357483e+01 -5.89864588e+00 -2.37674065e+01\n",
      " -8.55677223e+00  1.44086075e+01 -7.43579674e+00 -2.57501354e+01\n",
      "  2.12730179e+01  2.14454403e+01  3.06074028e+01  2.87060223e+01\n",
      "  2.46226387e+01 -6.93710899e+00  5.35800743e+01 -1.99401605e+00\n",
      " -6.06823921e+00  3.82826843e+01 -3.30529366e+01  1.36228752e+01\n",
      " -4.40519943e+01 -4.87293091e+01 -1.13697016e+00  1.53021202e+01\n",
      "  5.44877863e+00  9.61304855e+00 -5.82702446e+00  8.65087662e+01\n",
      " -3.30710945e+01  3.12113819e+01  3.92868614e+00  1.81754780e+01\n",
      " -1.95345001e+01  2.28432674e+01 -9.10159607e+01 -4.24381676e+01\n",
      " -7.24498320e+00  1.33369598e+01  1.80472755e+01  5.46516514e+00\n",
      " -1.72845325e+01  8.43777542e+01  7.66039431e-01  1.48649511e+01\n",
      " -1.11701279e+02 -1.84574280e+02 -6.64012680e+01  1.34049864e+01\n",
      "  1.27918730e+01  9.00883789e+01  3.58522630e+00  3.39164124e+01\n",
      "  1.02566872e+01  1.82318401e+01 -2.83920345e+01 -2.09612827e+01\n",
      " -5.48696518e+01  3.88009109e+01  1.35672951e+01 -2.95008039e+00\n",
      " -2.83696246e+00  1.41653976e+01  5.20371704e+01  3.33525848e+01\n",
      "  8.81433678e+00  1.57153358e+01  1.69974575e+01 -3.82937393e+01\n",
      "  5.95502901e+00  6.10311050e+01 -3.47782249e+01  7.92350998e+01\n",
      "  4.99608898e+00 -4.25571251e+00  4.06130219e+00  1.74750443e+01\n",
      "  4.98722000e+01  1.35507477e+02  2.37040997e+00 -7.80724430e+00\n",
      "  2.71346931e+01  6.24697018e+00 -3.24026108e+01 -2.11754150e+01\n",
      "  1.27862644e+01 -8.36773682e+00  1.49308491e+01 -1.73148174e+01\n",
      " -4.78231316e+01  1.21537781e+01 -3.37172966e+01 -2.64775143e+01\n",
      "  2.31619682e+01 -3.67050781e+01 -2.04795437e+01 -1.38010111e+01\n",
      " -2.44291668e+01  7.90485764e+00  5.87377930e+01 -4.84546890e+01\n",
      "  8.30508614e+00 -1.25357399e+01  1.00205059e+01 -3.49943504e+01\n",
      "  6.76451874e+00  6.38537292e+01  1.34555321e+01  1.52379446e+01\n",
      "  1.01484886e+02 -2.13109531e+01 -1.66675434e+01  1.18724785e+01\n",
      "  6.51892319e+01 -2.61380596e+01 -8.53630676e+01 -1.58571482e+01\n",
      " -9.49827576e+00  2.06099033e+00 -1.52073116e+01  1.31210079e+01\n",
      "  2.37119904e+01  3.87341499e+01 -4.70395088e+01 -2.72072887e+01\n",
      " -1.01317759e+01  2.86946526e+01  4.48361015e+00 -1.03246536e+01\n",
      "  4.34548855e-02 -4.10536537e+01 -4.39133987e+01 -1.02735214e+01\n",
      "  5.85140657e+00  4.59346733e+01 -9.94943810e+00 -1.63651733e+01\n",
      " -2.37049274e+01 -8.68077564e+00 -2.50300617e+01  2.33387375e+01\n",
      " -9.47109318e+00  1.51559896e+01  6.67595387e+00 -1.08753014e+01\n",
      " -9.28359413e+00  2.38841248e+01 -1.40170612e+01  1.58933048e+01\n",
      " -2.60933723e+01  3.36999846e+00 -1.26831493e+01  4.50943899e+00\n",
      "  4.14537659e+01  5.74989319e+00 -1.32872353e+01 -1.36132574e+01\n",
      " -3.79402962e+01 -1.88980019e+00 -7.35007143e+00 -1.33037252e+01\n",
      "  1.64910545e+01  2.02276649e+01  7.74589157e+00  2.17405052e+01\n",
      "  7.33594418e+00 -3.33293247e+00 -6.95733023e+00  3.96116562e+01\n",
      "  1.02799377e+01  7.56338043e+01  8.08353710e+00  5.40117359e+00\n",
      "  2.58112621e+00 -3.44794502e+01 -5.34777641e+00 -5.23224678e+01\n",
      " -1.56777525e+01  1.47073193e+01 -4.98989725e+00 -1.80252590e+01\n",
      " -2.01251564e+01  1.30734673e+01  5.81433220e+01 -2.07738056e+01\n",
      " -3.48296394e+01 -2.78801804e+01 -2.21653461e+01 -1.14817944e+01\n",
      "  1.52130365e+01  1.87283115e+01 -5.66830683e+00  2.65993233e+01\n",
      " -4.23210106e+01 -3.58055305e+00 -2.14528713e+01  5.66835785e+00\n",
      "  4.75909996e+01 -2.42661839e+01 -3.31395698e+00  4.22969055e+00\n",
      " -2.94913483e+01  9.58537006e+00 -5.13097420e+01  1.14401484e+01\n",
      " -3.63393173e+01 -2.20574665e+01 -2.85363064e+01 -4.47754517e+01\n",
      "  4.22836533e+01  2.81162262e-02  1.90830727e+01 -3.25753784e+00\n",
      "  5.45768967e+01  5.33138237e+01  1.71434402e+00  4.13344955e+01\n",
      "  6.12401867e+00 -1.62291603e+01  2.67792587e+01  3.31728897e+01\n",
      "  3.02367592e+01  1.59434338e+01  2.37141418e+01 -4.08953934e+01\n",
      " -1.29894676e+01  6.35678101e+00  6.10603476e+00  2.68790283e+01\n",
      "  1.88310361e+00 -1.27486820e+01  3.51348534e+01  6.46987991e+01\n",
      " -1.02169008e+01 -4.78894234e+01 -4.37881351e-01  1.13130045e+01\n",
      "  2.01554413e+01 -6.37304001e+01  1.10428782e+01 -9.73255444e+00\n",
      " -2.12986145e+01 -6.34526825e+00  1.64905949e+01 -4.54251595e+01\n",
      " -4.14956589e+01  9.37399483e+00 -8.15556717e+00 -2.36116219e+01\n",
      "  2.34691963e+01  9.55692863e+00  1.95098724e+01  1.02026391e+00\n",
      "  6.24564323e+01  2.12243786e+01 -1.20793180e+01  5.81185579e-01\n",
      " -3.15553856e+00  1.31880760e+01 -2.00004959e+01 -4.19645958e+01\n",
      "  7.10577965e-01 -9.21456456e-01  1.58114052e+01  2.05621872e+01\n",
      "  3.04919243e+00 -2.18651085e+01  2.19941730e+01  1.70708828e+01\n",
      "  2.22585049e+01  1.89320052e+00 -2.96420879e+01 -2.47696323e+01\n",
      " -1.52235756e+01 -7.34707947e+01 -2.79702702e+01 -3.98728967e+00\n",
      "  2.02203770e+01 -2.94807863e+00  1.47594309e+01  8.49077988e+00\n",
      " -2.47939134e+00  1.09823637e+01  1.29952078e+01  2.60371208e+01\n",
      "  1.13299189e+01  5.44975128e+01  1.02056646e+01 -4.22370071e+01\n",
      "  3.86977882e+01  8.02507877e+00  3.64217854e+00 -1.88421106e+00\n",
      "  1.13236256e+01  1.81683636e+01  4.29929638e+00 -2.00231552e+01\n",
      " -3.58400230e+01 -1.57148480e+00 -2.38442440e+01 -1.60327225e+01\n",
      "  1.04707008e+02 -3.81397324e+01  2.48876400e+01  5.26071548e+01\n",
      "  1.71176605e+01  3.45126152e+01 -1.78134787e+00  4.32540092e+01\n",
      "  6.23577576e+01  3.88919716e+01  2.28561363e+01 -1.65009212e+01\n",
      " -8.97663689e+00 -6.74566116e+01 -1.93564606e+01  2.52668381e+00\n",
      " -1.37467480e+01  1.61659622e+01  2.40799065e+01  2.61459351e+01\n",
      " -2.26970367e+01  1.88128624e+01 -4.03481436e+00  1.39040442e+01\n",
      "  8.11103630e+00 -1.55463610e+01  1.63881474e+01 -1.56675577e+01\n",
      " -5.87362556e+01  1.10973244e+01 -5.96146297e+00  3.78742027e+01\n",
      "  3.71734734e+01  1.89720631e+01 -7.95319891e+00  3.09491768e+01\n",
      "  4.54737306e-01  5.97910309e+01  5.85255480e+00  1.41716204e+01\n",
      "  2.13355331e+01 -4.47303963e+01 -2.14368668e+01 -1.96257496e+01\n",
      "  1.78699112e+01  1.21822948e+01 -1.15853596e+00 -1.71689014e+01\n",
      "  3.02085133e+01  1.03312492e+01 -9.17492294e+00  1.08753233e+01\n",
      "  1.25531731e+01 -1.18691254e+00 -4.53050308e+01 -8.05299377e+01\n",
      " -3.14937420e+01 -2.29582291e+01  4.38240147e+00  1.18635836e+01\n",
      "  4.04415092e+01  1.32185411e+01 -2.38178673e+01  3.89179611e+01\n",
      "  1.44165840e+01  3.24688187e+01 -5.11403351e+01  7.29680061e-02\n",
      "  2.62809887e+01 -4.71433449e+01 -8.36400795e+00  2.19096603e+01\n",
      " -2.90354366e+01  1.87793179e+01  9.54592466e-01 -1.55940676e+01\n",
      " -4.97528610e+01 -3.87556877e+01 -3.31830864e+01 -5.21574926e+00\n",
      " -2.50783157e+01 -9.50480175e+00  1.45435524e+01 -5.57953453e+00\n",
      " -2.69368649e+01  2.13568745e+01  2.11478500e+01  3.00204144e+01\n",
      "  2.96345520e+01  2.58018913e+01 -4.51134682e+00  5.94553871e+01\n",
      " -1.41833267e+01 -9.12182713e+00  3.71712418e+01 -2.93790112e+01\n",
      "  1.05329485e+01 -4.57452583e+01 -5.04823647e+01 -4.42849350e+00\n",
      "  8.28551102e+00  1.55094051e+00  1.12636681e+01 -8.12877083e+00\n",
      "  8.44575882e+01 -3.58861351e+01  2.94410114e+01  5.89290738e-01\n",
      "  1.80992413e+01 -2.13625107e+01  2.25960579e+01 -8.99896317e+01\n",
      " -3.68409195e+01 -5.00293112e+00  1.26941414e+01  1.92101116e+01\n",
      "  2.73869038e+00 -1.69438667e+01  8.26028290e+01 -5.41768074e-02\n",
      "  1.30948391e+01 -1.05040497e+02 -1.79299911e+02 -6.64509430e+01\n",
      "  1.03953991e+01  1.35246983e+01  8.96639099e+01  4.28043222e+00\n",
      "  3.27176170e+01  1.71012325e+01  1.75125084e+01 -2.23833904e+01\n",
      " -1.96276131e+01 -5.33731728e+01  3.90038872e+01  1.18266010e+01\n",
      " -3.00413465e+00 -2.66090846e+00  1.63284607e+01  5.23233528e+01\n",
      "  2.90738945e+01  3.95013189e+00  1.47645512e+01  1.37232962e+01\n",
      " -3.50959778e+01  1.55182111e+00  5.18801231e+01 -3.51658974e+01\n",
      "  8.13149185e+01 -2.64171433e+00 -9.47817612e+00 -9.82283831e-01\n",
      "  1.33805504e+01  4.95505219e+01  1.37343781e+02  4.37205410e+00\n",
      " -7.52352238e+00  3.06088581e+01  1.53620338e+01 -2.80886765e+01\n",
      " -2.75185223e+01  1.00266418e+01 -4.05200720e+00  1.76925144e+01\n",
      " -1.91347504e+01 -4.41149788e+01  1.32544250e+01 -3.36185684e+01\n",
      " -2.64054356e+01  1.70888195e+01 -3.82075920e+01 -2.57675476e+01\n",
      " -1.71745701e+01 -2.29645691e+01  6.22299528e+00  5.80840645e+01\n",
      " -4.43475342e+01  7.24028969e+00 -1.23718414e+01  8.66798973e+00\n",
      " -3.99085197e+01 -5.59782982e-03  6.36638718e+01  1.21953506e+01\n",
      "  1.44474955e+01  1.01539085e+02 -1.66058140e+01 -1.98464584e+01\n",
      "  1.86897984e+01  6.82326813e+01 -2.99591961e+01 -8.38594208e+01\n",
      " -1.99301243e+01 -9.97401428e+00 -1.31917000e-01 -1.99606171e+01\n",
      "  1.22673740e+01  2.79103889e+01  4.05923882e+01 -4.16984215e+01\n",
      " -2.53199577e+01 -9.84477711e+00  2.74685211e+01  4.83253098e+00\n",
      " -9.82071018e+00 -2.40573907e+00 -4.19620476e+01 -4.46979980e+01\n",
      " -9.65539932e+00  8.49753284e+00  4.47712479e+01 -1.72341995e+01\n",
      " -1.78678780e+01 -1.28735018e+01 -9.64641476e+00 -2.20783634e+01\n",
      "  2.26169491e+01 -2.02847366e+01  1.31901255e+01  1.06506348e+01\n",
      " -6.97041082e+00 -9.55430508e+00  1.55306253e+01 -1.44442329e+01\n",
      "  1.83110809e+01 -2.64076557e+01  1.56205320e+00 -9.34062195e+00\n",
      " -1.79904819e+00  4.77197952e+01  6.00716496e+00 -1.04947338e+01\n",
      " -6.87345695e+00 -3.50810394e+01 -4.94250011e+00  6.52241707e-02\n",
      " -1.45447254e+01  6.79620361e+00  1.98802624e+01  5.96844482e+00\n",
      "  3.35249138e+01  2.01914864e+01 -2.39591694e+00 -1.49944038e+01\n",
      "  2.92998409e+01  7.14882517e+00  7.97384415e+01  1.94305837e-01\n",
      "  7.05828381e+00 -2.88085651e+00 -4.01272087e+01 -4.55832672e+00\n",
      " -4.49106712e+01 -8.77170682e-01  1.31375179e+01 -1.14462671e+01\n",
      " -2.49501820e+01 -1.68587570e+01  1.23104534e+01  5.29626923e+01\n",
      " -2.04684963e+01 -3.60769958e+01 -3.61028519e+01 -2.02166500e+01\n",
      " -1.15529480e+01  1.36566811e+01  2.16088963e+01  4.55200911e+00\n",
      "  2.71070271e+01 -4.91491318e+01 -9.25529861e+00 -1.53520269e+01\n",
      "  1.94782495e-01  5.22871933e+01 -3.84510040e+01 -2.22555332e+01\n",
      " -3.03088951e+00 -3.34827995e+01  2.63035297e+00 -5.47797813e+01\n",
      "  4.55930758e+00 -4.56794968e+01 -4.03144073e+01 -4.57629166e+01\n",
      " -4.73826065e+01  4.38483925e+01  1.47355175e+00  2.18997040e+01\n",
      " -1.23822880e+00  5.54363098e+01  4.36407776e+01 -7.11568546e+00\n",
      "  3.67963181e+01  1.37396955e+01 -2.54170513e+01  1.87643204e+01\n",
      "  3.68105011e+01  2.41757374e+01  4.72485352e+00  2.15557003e+01\n",
      " -4.03429642e+01 -7.98154640e+00  1.80147858e+01  8.85087490e+00\n",
      "  3.16766090e+01 -2.39199901e+00 -2.22464695e+01  4.63287964e+01\n",
      "  6.73756027e+01 -5.33888769e+00 -3.01013813e+01  4.23130703e+00\n",
      "  1.44249811e+01  2.34312172e+01 -6.81497116e+01  1.00989590e+01\n",
      "  3.81405139e+00 -2.15566845e+01 -1.82617149e+01  1.62748795e+01\n",
      " -4.56730537e+01 -5.00908432e+01  1.16321392e+01  7.00621486e-01\n",
      " -2.64975204e+01  5.98639631e+00  5.35339546e+00  2.25571651e+01\n",
      "  4.39557171e+00  6.43857346e+01  2.37638321e+01 -2.16095676e+01\n",
      " -1.40177813e+01 -1.71857185e+01  2.10883541e+01 -1.13986454e+01\n",
      " -3.95165100e+01  1.22774115e+01 -1.46297693e+01  1.77462959e+01\n",
      "  1.88761063e+01 -7.26968956e+00 -2.62252216e+01  2.48351364e+01\n",
      "  1.81868801e+01  2.84552097e+01 -2.46751714e+00 -2.95179787e+01\n",
      " -2.02599430e+01 -1.01776094e+01 -7.21320038e+01 -2.92413254e+01\n",
      " -5.10342026e+00  2.18684311e+01 -1.52995241e+00  2.18005695e+01\n",
      "  8.63191032e+00 -1.58003652e+00  1.07096519e+01  1.34894123e+01\n",
      "  2.50392933e+01  1.17480040e+01  5.52713242e+01  9.51002312e+00\n",
      " -4.12623978e+01  3.84497643e+01 -1.30087519e+01  6.89944744e+00\n",
      " -1.21066532e+01 -4.24425049e+01 -1.18319740e+01  3.25554008e+01\n",
      "  1.68288383e+01 -9.91571617e+00 -4.56407547e+01 -8.44775867e+00\n",
      "  8.93992615e+00 -1.02406635e+01  5.00148773e+00]\n"
     ]
    }
   ],
   "source": [
    "print(model.coef_)"
   ]
  },
  {
   "cell_type": "code",
   "execution_count": 351,
   "id": "54bbc5a9",
   "metadata": {},
   "outputs": [
    {
     "data": {
      "text/plain": [
       "0.1969677924152352"
      ]
     },
     "execution_count": 351,
     "metadata": {},
     "output_type": "execute_result"
    }
   ],
   "source": [
    "model.score(X_test_encoded, y_test)"
   ]
  },
  {
   "cell_type": "code",
   "execution_count": 352,
   "id": "c2ce9e36",
   "metadata": {},
   "outputs": [],
   "source": [
    "y_pred = model.predict(X_test_encoded)"
   ]
  },
  {
   "cell_type": "code",
   "execution_count": 353,
   "id": "52adfacc",
   "metadata": {},
   "outputs": [
    {
     "name": "stdout",
     "output_type": "stream",
     "text": [
      "        Actual  Predicted\n",
      "292209   498.0     205.50\n",
      "19585    221.0     355.50\n",
      "116919   518.0     508.00\n",
      "138648   531.0     455.25\n",
      "46042    546.0     480.75\n",
      "...        ...        ...\n",
      "292855   197.0     248.50\n",
      "18475   1093.0     650.25\n",
      "100429   358.0     319.00\n",
      "270749   197.0     333.00\n",
      "98068    133.0     290.25\n",
      "\n",
      "[70554 rows x 2 columns]\n"
     ]
    }
   ],
   "source": [
    "df_preds = pd.DataFrame({'Actual': y_test.squeeze(), 'Predicted': y_pred.squeeze()})\n",
    "print(df_preds)"
   ]
  },
  {
   "cell_type": "code",
   "execution_count": 354,
   "id": "b2bf50f0",
   "metadata": {},
   "outputs": [
    {
     "data": {
      "image/png": "[encoded data removed]",
      "text/plain": [
       "<Figure size 640x480 with 1 Axes>"
      ]
     },
     "metadata": {},
     "output_type": "display_data"
    }
   ],
   "source": [
    "# plot the error difference\n",
    "error = np.log(y_test) - np.log(y_pred)\n",
    "fig, ax = plt.subplots()\n",
    "ax.scatter(y_test, error)\n",
    "ax.axhline(lw=3, color='black')\n",
    "ax.set_xlabel('Observed')\n",
    "ax.set_ylabel('Error')\n",
    "plt.show()"
   ]
  },
  {
   "cell_type": "code",
   "execution_count": 355,
   "id": "0cf0a823",
   "metadata": {},
   "outputs": [
    {
     "data": {
      "text/plain": [
       "Text(0.5, 1.0, 'Residual Plot')"
      ]
     },
     "execution_count": 355,
     "metadata": {},
     "output_type": "execute_result"
    },
    {
     "data": {
      "text/plain": [
       "<Figure size 640x480 with 0 Axes>"
      ]
     },
     "metadata": {},
     "output_type": "display_data"
    },
    {
     "data": {
      "image/png": "[encoded data removed]",
      "text/plain": [
       "<Figure size 500x500 with 1 Axes>"
      ]
     },
     "metadata": {},
     "output_type": "display_data"
    }
   ],
   "source": [
    "plt.figure()\n",
    "\n",
    "sns.displot(error)\n",
    "\n",
    "plt.title(\"Residual Plot\")"
   ]
  },
  {
   "cell_type": "code",
   "execution_count": 356,
   "id": "1aa3adb0",
   "metadata": {},
   "outputs": [
    {
     "name": "stdout",
     "output_type": "stream",
     "text": [
      "RMSE is 574.3153\n",
      "R2 error is  0.19696781421203025\n"
     ]
    }
   ],
   "source": [
    "#RMSE\n",
    "print(\"RMSE is\", np.sqrt(mean_squared_error(y_test, y_pred)))\n",
    "print(\"R2 error is \" ,r2_score(y_test, y_pred))\n"
   ]
  },
  {
   "cell_type": "code",
   "execution_count": 357,
   "id": "6de832a8",
   "metadata": {},
   "outputs": [
    {
     "data": {
      "text/plain": [
       "<matplotlib.collections.PathCollection at 0x2a843bf7e80>"
      ]
     },
     "execution_count": 357,
     "metadata": {},
     "output_type": "execute_result"
    },
    {
     "data": {
      "image/png": "[encoded data removed]",
      "text/plain": [
       "<Figure size 640x480 with 1 Axes>"
      ]
     },
     "metadata": {},
     "output_type": "display_data"
    }
   ],
   "source": [
    "plt.scatter(np.log(y_pred), np.log(y_test))"
   ]
  },
  {
   "cell_type": "markdown",
   "id": "48aec380",
   "metadata": {},
   "source": [
    "### Imputation with removing NA values"
   ]
  },
  {
   "cell_type": "code",
   "execution_count": 358,
   "id": "05c44249",
   "metadata": {},
   "outputs": [
    {
     "name": "stdout",
     "output_type": "stream",
     "text": [
      "Test after amputation (282213, 28) (282213,)\n",
      "start_lat             0\n",
      "start_lon             0\n",
      "end_lat               0\n",
      "end_lon               0\n",
      "usertype              0\n",
      "gender                0\n",
      "dist                  0\n",
      "birthyear         14111\n",
      "date                  0\n",
      "month                 0\n",
      "day                   0\n",
      "hour                  0\n",
      "min                   0\n",
      "year                  0\n",
      "years_old             0\n",
      "holiday               0\n",
      "datetime              0\n",
      "temp                  0\n",
      "feelslike             0\n",
      "precip                0\n",
      "dew                   0\n",
      "humidity              0\n",
      "snow                  0\n",
      "windspeed             0\n",
      "visibility            0\n",
      "solarradiation        0\n",
      "conditions            0\n",
      "seasons               0\n",
      "dtype: int64\n",
      "14111\n"
     ]
    }
   ],
   "source": [
    "## Ampute the data\n",
    "X_train_amp , y_train_amp = ampute_nan_values(X_train,y_train,\"birthyear\",perc=5)\n",
    "print('Test after amputation', X_train_amp.shape, y_train_amp.shape)\n",
    "print(X_train_amp.isnull().sum())\n",
    "print(y_train_amp.isnull().sum())"
   ]
  },
  {
   "cell_type": "code",
   "execution_count": 359,
   "id": "6d2ec0db",
   "metadata": {},
   "outputs": [
    {
     "name": "stdout",
     "output_type": "stream",
     "text": [
      "Test after amputation (70554, 28) (70554,)\n",
      "start_lat            0\n",
      "start_lon            0\n",
      "end_lat              0\n",
      "end_lon              0\n",
      "usertype             0\n",
      "gender               0\n",
      "dist                 0\n",
      "birthyear         3528\n",
      "date                 0\n",
      "month                0\n",
      "day                  0\n",
      "hour                 0\n",
      "min                  0\n",
      "year                 0\n",
      "years_old            0\n",
      "holiday              0\n",
      "datetime             0\n",
      "temp                 0\n",
      "feelslike            0\n",
      "precip               0\n",
      "dew                  0\n",
      "humidity             0\n",
      "snow                 0\n",
      "windspeed            0\n",
      "visibility           0\n",
      "solarradiation       0\n",
      "conditions           0\n",
      "seasons              0\n",
      "dtype: int64\n",
      "3528\n"
     ]
    }
   ],
   "source": [
    "X_test_amp , y_test_amp = ampute_nan_values(X_test,y_test,\"birthyear\",perc=5)\n",
    "print('Test after amputation', X_test_amp.shape, y_test_amp.shape)\n",
    "print(X_test_amp.isnull().sum())\n",
    "print(y_test_amp.isnull().sum())"
   ]
  },
  {
   "cell_type": "code",
   "execution_count": 360,
   "id": "29c0869f",
   "metadata": {},
   "outputs": [
    {
     "name": "stdout",
     "output_type": "stream",
     "text": [
      "Train after Imputation (268102, 28) (268102,)\n"
     ]
    }
   ],
   "source": [
    "X_train_amp.dropna(axis=0, inplace=True)\n",
    "y_train_amp.dropna(inplace=True)\n",
    "print('Train after Imputation', X_train_amp.shape, y_train_amp.shape)"
   ]
  },
  {
   "cell_type": "code",
   "execution_count": 361,
   "id": "f197a692",
   "metadata": {},
   "outputs": [
    {
     "name": "stdout",
     "output_type": "stream",
     "text": [
      "Train after Imputation (67026, 28) (67026,)\n"
     ]
    }
   ],
   "source": [
    "X_test_amp.dropna(axis=0, inplace=True)\n",
    "y_test_amp.dropna(inplace=True)\n",
    "print('Train after Imputation', X_test_amp.shape, y_test_amp.shape)"
   ]
  },
  {
   "cell_type": "code",
   "execution_count": 362,
   "id": "f3906fd3",
   "metadata": {},
   "outputs": [],
   "source": [
    "X_train_encoded, X_test_encoded = get_encoded_data(X_train_amp, X_test_amp)\n",
    "y_train = y_train_amp.astype('float32')\n",
    "y_test = y_test_amp.astype('float32')"
   ]
  },
  {
   "cell_type": "code",
   "execution_count": 363,
   "id": "f9093ee0",
   "metadata": {},
   "outputs": [
    {
     "name": "stdout",
     "output_type": "stream",
     "text": [
      "2571124.0\n",
      "[-1.76912988e+03 -3.38005554e+02  3.72185638e+02 -1.04624011e+03\n",
      "  1.88445969e+01  2.94920227e+02 -3.70547485e+00  4.29034424e+00\n",
      "  1.16758347e-01 -1.29278320e+03 -1.36393738e+00  2.80671082e+01\n",
      " -4.16192627e+00 -5.48645020e-01 -2.07662201e+01  5.69755554e+00\n",
      "  7.73854160e+00 -6.22558594e-01  4.99974060e+00  1.21498108e-01\n",
      " -9.37092529e+02  2.52510471e+01  2.21275101e+01  2.34832439e+01\n",
      "  4.37091255e+01  1.22614598e+00  4.39571648e+01  4.28427200e+01\n",
      "  3.49279823e+01  7.35629320e+00 -1.15821762e+01 -1.98010921e-01\n",
      " -5.41407242e+01 -1.97693634e+01  1.10405970e+01  8.11120701e+00\n",
      "  2.25707645e+01  2.55293064e+01  1.77234535e+01 -4.22629089e+01\n",
      " -2.13392615e+00  7.30383682e+00  9.55366802e+00  4.26671219e+00\n",
      "  2.75654125e+00  5.71090603e+00 -3.00381126e+01 -5.35923119e+01\n",
      "  2.93979263e+00 -4.38979292e+00  2.60045643e+01  1.58665667e+01\n",
      "  1.22975035e+01 -1.32681494e+01 -2.97883916e+00  1.48666496e+01\n",
      "  3.29210777e+01  4.05873394e+00  4.30499077e+00  1.04632072e+01\n",
      " -3.59059410e+01 -9.51407337e+00 -5.30300045e+00  8.96107864e+00\n",
      "  1.48480988e+00  1.05778611e+00 -5.80551088e-01  2.11851549e+00\n",
      "  3.61951566e+00 -1.02537699e+01  2.40402851e+01  1.60246735e+01\n",
      "  5.47823858e+00 -3.67549658e+00 -5.72338181e+01 -6.36148643e+00\n",
      " -1.36875553e+01 -1.55327868e+00 -6.27305079e+00  1.63103142e+01\n",
      "  2.30900059e+01 -2.16383095e+01  3.86360512e+01  9.17232037e+00\n",
      "  1.72588367e+01 -1.12647781e+01  1.82606530e+00  2.64713593e+01\n",
      " -4.82272987e+01 -3.98631554e+01  2.37804775e+01 -1.09686966e+01\n",
      "  1.21344719e+01  3.33986473e+00 -1.11293001e+01 -3.07797451e+01\n",
      " -3.38717961e+00 -9.35453320e+00  6.72266054e+00 -2.49677315e+01\n",
      " -1.99258556e+01  3.60693049e+00 -4.53930569e+00 -2.64436989e+01\n",
      "  5.53178835e+00  5.66603994e+00  1.78434944e+01  1.20919571e+01\n",
      "  1.90799465e+01 -1.10509109e+00  4.04645576e+01 -1.63563557e+01\n",
      "  2.44657755e+00  3.70447922e+01 -1.46297045e+01 -4.17155832e-01\n",
      " -3.25320816e+01 -4.43241043e+01 -9.49997902e+00  4.71128178e+00\n",
      " -1.09366827e+01 -1.19624863e+01  1.16172523e+01  7.37231750e+01\n",
      " -1.51389446e+01  1.64251385e+01 -6.87279558e+00 -1.10075939e+00\n",
      " -9.18345070e+00  1.22417107e+01 -5.83054123e+01  1.83710346e+01\n",
      " -8.15996552e+00 -4.33299112e+00  1.99976482e+01 -4.29155445e+00\n",
      " -1.45147972e+01  5.82959900e+01 -8.10528660e+00  1.68225253e+00\n",
      " -2.53333797e+01 -4.00225601e+01 -2.36154232e+01 -1.79176712e+00\n",
      "  2.50376835e+01  5.26336441e+01 -7.93407536e+00  9.02933121e+00\n",
      " -6.81299829e+00  4.71857357e+00  4.54154110e+00 -2.65632305e+01\n",
      " -4.93913422e+01  1.65736008e+01 -9.98497486e+00 -1.59599142e+01\n",
      " -8.97719669e+00  5.49505186e+00  2.38961086e+01  2.63336182e+01\n",
      " -9.12006438e-01  2.11118746e+00  9.18272877e+00 -1.17768898e+01\n",
      "  6.25966167e+00  3.59348068e+01 -4.07012634e+01  7.03806686e+01\n",
      " -4.54046869e+00 -9.79147911e+00 -1.01994925e+01  1.54536476e+01\n",
      "  4.35169716e+01  1.25827972e+02  1.82918930e+00 -1.99790554e+01\n",
      "  5.12155199e+00  3.64315653e+00 -2.52824802e+01 -2.33633213e+01\n",
      "  8.46959114e+00 -1.82250633e+01 -4.12669659e+00 -1.25625620e+01\n",
      " -2.13218594e+01 -7.55033493e-01 -8.88604164e+00  1.66435394e+01\n",
      " -1.80506458e+01 -1.58557787e+01 -2.26748123e+01 -1.99325275e+01\n",
      " -2.30490360e+01  5.22752142e+00  5.85100479e+01 -3.05642796e+01\n",
      " -9.28148270e+00 -1.43398876e+01  1.09698343e+01 -1.99979687e+01\n",
      "  2.01153774e+01  4.01261978e+01 -1.91465130e+01 -1.60139751e+01\n",
      "  8.35546112e+01 -3.10229588e+01 -9.64475930e-01  1.00823679e+01\n",
      "  6.65189209e+01 -2.09097843e+01 -5.45125923e+01 -1.64486942e+01\n",
      " -6.83909559e+00  6.59301519e+00 -9.24350643e+00  2.29960003e+01\n",
      " -1.24590635e+00  7.82396746e+00 -2.41986046e+01 -1.59309797e+01\n",
      " -9.65347195e+00  1.54809570e+01 -9.92965221e-01  2.03905106e-01\n",
      "  1.73415065e-01 -2.65921249e+01 -2.80336342e+01 -1.57128248e+01\n",
      "  1.44480057e+01  4.44404335e+01  2.43125916e-01 -7.98488474e+00\n",
      " -1.03927870e+01 -1.37688503e+01  1.95710106e+01  2.74680138e+01\n",
      " -7.24534321e+00 -1.05949621e+01 -1.47038965e+01 -1.72988319e+01\n",
      " -1.45940132e+01  1.91366577e+01 -1.13562365e+01  3.33866348e+01\n",
      " -9.60044670e+00  1.51934299e+01 -6.66624641e+00 -1.37793055e+01\n",
      "  8.43482018e+00  1.12439432e+01 -3.92737031e+00  2.62449837e+00\n",
      " -2.08707981e+01  3.18365455e+00  3.80476618e+00 -1.49146366e+01\n",
      "  1.28241901e+01  2.95550804e+01  2.75902820e+00 -7.62454700e+00\n",
      " -1.80387039e+01 -1.53545246e+01 -1.54960752e+00  2.65714130e+01\n",
      "  1.79086609e+01  5.85760460e+01 -1.48668442e+01 -1.12581930e+01\n",
      " -2.05383492e+01 -1.24671888e+01 -7.38941765e+00 -5.34039001e+01\n",
      " -4.71483088e+00  1.74366837e+01 -4.89773321e+00 -5.20387650e+00\n",
      " -1.59390998e+00  3.19464912e+01  5.20957069e+01  3.20404005e+00\n",
      " -1.31295099e+01 -1.46837463e+01 -2.66430359e+01 -7.06630135e+00\n",
      "  7.33338237e-01  1.69722214e+01 -9.73339176e+00  3.20276213e+00\n",
      " -2.46582432e+01 -2.42170982e+01 -1.38373013e+01  8.87401772e+00\n",
      "  3.70234489e+01 -8.42600918e+00 -2.43397069e+00  4.00262356e+00\n",
      " -6.33860111e+00  2.43818927e+00 -3.02936096e+01  3.40209732e+01\n",
      " -3.14144726e+01 -4.63804436e+00 -5.02379799e+00 -1.64395370e+01\n",
      "  1.91433067e+01 -1.86723270e+01  1.14443436e+01  4.64315081e+00\n",
      "  2.30964241e+01  1.98406067e+01 -4.59395552e+00  1.16664410e+01\n",
      "  3.34758312e-01 -2.34723072e+01  1.12777739e+01  6.79136181e+00\n",
      "  3.43871045e+00  8.98771286e+00  1.03716955e+01 -3.36921883e+01\n",
      " -7.57691193e+00  9.26748943e+00 -1.58978367e+00  1.99321508e+00\n",
      " -1.74179196e+00 -4.16312313e+00  2.21992588e+01  6.19089470e+01\n",
      " -7.29322147e+00 -2.34700623e+01 -1.31040154e+01 -8.49404240e+00\n",
      "  1.60975399e+01 -4.65907516e+01  1.06109142e+00 -2.33267593e+01\n",
      " -1.99251938e+00 -4.85223675e+00  1.22507324e+01 -1.92078342e+01\n",
      " -3.38060722e+01 -1.63072681e+01 -1.46534395e+01 -8.63697433e+00\n",
      "  1.51747704e+01  3.33619232e+01  1.75010452e+01 -1.19581661e+01\n",
      "  5.29526558e+01  1.78271790e+01 -1.16142521e+01  9.97734964e-01\n",
      " -5.92841721e+00  9.61975670e+00 -7.36909533e+00 -3.92534637e+01\n",
      " -1.40359712e+00 -2.67934060e+00  6.48719072e+00  1.55542908e+01\n",
      "  3.99638772e+00 -3.00184383e+01  4.28763747e-01  5.34985542e+00\n",
      "  8.53212833e+00 -1.90662146e+00 -1.99283469e+00 -8.43707085e+00\n",
      " -1.39183340e+01 -5.21931419e+01 -4.40693468e-01  6.42109299e+00\n",
      "  9.73659897e+00  4.67199683e-02  4.42280674e+00  9.88406086e+00\n",
      " -1.44186621e+01  1.98761768e+01  1.66896954e+01  1.73520317e+01\n",
      "  9.38968468e+00  5.33027229e+01  4.01843405e+00 -4.55780106e+01\n",
      "  3.72823792e+01 -1.19637003e+01  7.66227722e+00 -8.86981773e+00\n",
      "  4.89957762e+00  6.51918030e+00  4.93043900e+00 -2.01005459e+01\n",
      " -4.61512947e+00  4.95449972e+00 -1.50689898e+01 -1.32725143e+00\n",
      "  1.05344788e+02 -4.71590042e+01  2.31033649e+01  1.69423923e+01\n",
      "  2.44719734e+01  3.87013512e+01  4.64623117e+00  4.35622177e+01\n",
      "  4.91095810e+01  3.47787895e+01  8.30760670e+00 -1.16627913e+01\n",
      " -2.97204161e+00 -5.31038322e+01 -1.96739502e+01  1.14429932e+01\n",
      "  7.20770502e+00  2.36980953e+01  2.56862545e+01  1.72270832e+01\n",
      " -4.17915306e+01 -3.22479153e+00  7.89455032e+00  8.50230885e+00\n",
      "  6.66153145e+00  2.72458434e+00  5.55535555e+00 -2.97015057e+01\n",
      " -5.37457504e+01  3.00868750e+00 -4.36398840e+00  2.57644577e+01\n",
      "  1.57353029e+01  1.20794544e+01 -1.32822943e+01 -3.10257697e+00\n",
      "  1.49960642e+01  3.27663803e+01  4.11205578e+00  4.18225002e+00\n",
      "  1.05468903e+01 -3.59471703e+01 -9.67376995e+00 -5.58521080e+00\n",
      "  8.64004707e+00  1.65117431e+00  8.96073341e-01 -4.67456728e-01\n",
      "  2.11125398e+00  3.45980287e+00 -1.03249111e+01  2.38768826e+01\n",
      "  1.62054787e+01  5.58944607e+00 -3.47052670e+00 -5.72249985e+01\n",
      " -6.26628160e+00 -1.37463360e+01 -1.76065171e+00 -6.34762716e+00\n",
      "  1.61105366e+01  2.31144962e+01 -2.17365265e+01  3.86234741e+01\n",
      "  9.18491173e+00  1.76932182e+01 -1.13984623e+01  1.92007959e+00\n",
      "  2.66987858e+01 -4.83123932e+01 -3.98440628e+01  2.37125969e+01\n",
      " -1.09323540e+01  1.19412127e+01  3.90243745e+00 -1.12215977e+01\n",
      " -3.06998863e+01 -3.43623185e+00 -9.30584431e+00  6.84794331e+00\n",
      " -2.49752369e+01 -2.01935997e+01  3.42457151e+00 -4.76575232e+00\n",
      " -2.65860519e+01  5.37724781e+00  5.76005077e+00  1.80162029e+01\n",
      "  1.19610863e+01  1.88543758e+01 -1.00779295e+00  4.06916542e+01\n",
      " -1.66000786e+01  2.54489017e+00  3.74004059e+01 -1.46119490e+01\n",
      " -5.61490417e-01 -3.26013870e+01 -4.43022537e+01 -9.38564205e+00\n",
      "  4.69660997e+00 -1.08937912e+01 -1.17315969e+01  1.17448835e+01\n",
      "  7.16150208e+01 -1.50434141e+01  1.62323074e+01 -6.82602262e+00\n",
      " -4.86335397e-01 -9.09159756e+00  1.21603985e+01 -5.81011620e+01\n",
      "  1.78989925e+01 -8.28601646e+00 -4.30310106e+00  1.99842644e+01\n",
      " -4.29098034e+00 -1.44940367e+01  5.78855667e+01 -8.32833004e+00\n",
      "  1.62901616e+00 -2.58315353e+01 -3.96746063e+01 -2.36730957e+01\n",
      " -1.91070557e+00  2.46412868e+01  5.26688995e+01 -7.56977749e+00\n",
      "  9.04652119e+00 -6.58412218e+00  5.18578053e+00  4.30523109e+00\n",
      " -2.65859737e+01 -4.95003700e+01  1.69052734e+01 -1.01250429e+01\n",
      " -1.57805433e+01 -9.10735416e+00  5.41379404e+00  2.39481506e+01\n",
      "  2.62204437e+01 -7.85737991e-01  2.05476046e+00  9.18832588e+00\n",
      " -1.19306774e+01  6.32390785e+00  3.62614784e+01 -4.06765289e+01\n",
      "  7.03384399e+01 -4.12904024e+00 -9.98640251e+00 -9.80124474e+00\n",
      "  1.47027512e+01  4.28100510e+01  1.25542221e+02  1.65796685e+00\n",
      " -1.99646931e+01  5.34701777e+00  3.70102715e+00 -2.52630348e+01\n",
      " -2.31181126e+01  8.17938995e+00 -1.83249893e+01 -3.42572713e+00\n",
      " -1.23207026e+01 -2.14404087e+01 -7.19210565e-01 -8.87025356e+00\n",
      "  1.67245140e+01 -1.80462532e+01 -1.60226212e+01 -2.29671726e+01\n",
      " -1.97264442e+01 -2.27892284e+01  5.06949091e+00  5.88969955e+01\n",
      " -3.06293335e+01 -9.33732033e+00 -1.46270847e+01  1.08546782e+01\n",
      " -1.99896507e+01  2.00115299e+01  4.00676422e+01 -1.92979050e+01\n",
      " -1.53322258e+01  8.34543686e+01 -3.04327869e+01 -9.02945518e-01\n",
      "  1.04277515e+01  6.68241501e+01 -2.14483147e+01 -5.43741188e+01\n",
      " -1.59824963e+01 -6.98920965e+00  6.56901073e+00 -9.75228691e+00\n",
      "  2.23098965e+01 -1.52473807e+00  8.02788925e+00 -2.43416977e+01\n",
      " -1.60591202e+01 -9.58942795e+00  1.57434959e+01 -1.26487684e+00\n",
      "  4.24785614e-02  4.00198817e-01 -2.61650124e+01 -2.77317715e+01\n",
      " -1.56355124e+01  1.46255207e+01  4.41959076e+01  5.92865944e-01\n",
      " -7.99375296e+00 -1.04708738e+01 -1.40205173e+01  1.96490211e+01\n",
      "  2.74946556e+01 -7.59555149e+00 -1.08813257e+01 -1.50953875e+01\n",
      " -1.74837971e+01 -1.39651108e+01  1.91358395e+01 -1.17019968e+01\n",
      "  3.25000992e+01 -9.70719528e+00  1.59587841e+01 -6.68324423e+00\n",
      " -1.37141428e+01  8.91564751e+00  1.11738291e+01 -3.47263551e+00\n",
      "  2.71697426e+00 -2.02459183e+01  3.85278869e+00  4.33887148e+00\n",
      " -1.52213306e+01  1.23901834e+01  2.98236694e+01  3.03215194e+00\n",
      " -7.75447464e+00 -1.79563789e+01 -1.50200186e+01 -1.18057632e+00\n",
      "  2.68070602e+01  1.77862453e+01  5.84838943e+01 -1.48899765e+01\n",
      " -1.11366825e+01 -2.06677132e+01 -1.22007113e+01 -7.92287064e+00\n",
      " -5.35309563e+01 -4.75845098e+00  1.73821926e+01 -5.22116613e+00\n",
      " -5.28163910e+00 -1.20512354e+00  3.20790672e+01  5.18533592e+01\n",
      "  3.60490394e+00 -1.30115395e+01 -1.42094498e+01 -2.65427723e+01\n",
      " -7.36279202e+00  7.46514082e-01  1.67974358e+01 -1.02079325e+01\n",
      "  3.36270714e+00 -2.47603016e+01 -2.42745514e+01 -1.36383696e+01\n",
      "  8.52252769e+00  3.66953201e+01 -8.60493946e+00 -2.34875035e+00\n",
      "  4.28432751e+00 -6.22126818e+00  2.99552608e+00 -3.08652706e+01\n",
      "  3.41667671e+01 -3.21428947e+01 -4.11185646e+00 -5.06254005e+00\n",
      " -1.60401764e+01  1.89123459e+01 -1.89251080e+01  1.13577490e+01\n",
      "  4.58859491e+00  2.33160381e+01  1.98211021e+01 -4.43135977e+00\n",
      "  1.19775085e+01  9.83117580e-01 -2.37162685e+01  1.12490187e+01\n",
      "  6.56582117e+00  3.40642476e+00  9.06203556e+00  1.00743456e+01\n",
      " -3.38240242e+01 -7.36216497e+00  8.85289669e+00 -1.79967403e+00\n",
      "  1.78299761e+00 -1.81564355e+00 -3.86253691e+00  2.21481800e+01\n",
      "  6.17929573e+01 -7.30671644e+00 -2.34655476e+01 -1.31640205e+01\n",
      " -8.52774334e+00  1.60647488e+01 -4.69511642e+01  9.59208429e-01\n",
      " -2.30891285e+01 -2.10347843e+00 -4.78764772e+00  1.25850163e+01\n",
      " -1.93930149e+01 -3.36819496e+01 -1.65098419e+01 -1.51115046e+01\n",
      " -8.69476318e+00  1.50962086e+01  3.28528214e+01  1.72863350e+01\n",
      " -1.20792065e+01  5.31373100e+01  1.77589188e+01 -1.08197536e+01\n",
      "  1.47425175e+00 -5.93009949e+00  9.57218552e+00 -7.18713140e+00\n",
      " -3.92173729e+01 -1.43055177e+00 -2.86614251e+00  6.10168505e+00\n",
      "  1.56547890e+01  3.61580300e+00 -3.02702808e+01  4.73245502e-01\n",
      "  5.24484825e+00  8.52325344e+00 -1.97498834e+00 -1.92356408e+00\n",
      " -8.50721550e+00 -1.40132666e+01 -5.22063026e+01 -5.53339541e-01\n",
      "  6.59228706e+00  9.79505157e+00  4.90612984e-02  4.36395550e+00\n",
      "  9.76214314e+00 -1.44033327e+01  1.99792080e+01  1.67193527e+01\n",
      "  1.71846027e+01  9.46736908e+00  5.33101997e+01  3.92649007e+00\n",
      " -4.55657120e+01  3.72518387e+01 -1.43741274e+00  6.66755676e+00\n",
      " -1.58678780e+01 -1.40694046e+01 -7.09575653e+00  4.32388496e+01\n",
      "  2.44716244e+01 -2.01815090e+01 -5.34688139e+00  1.09376249e+01\n",
      "  2.73396301e+00 -2.59913421e+00  7.22663593e+00]\n"
     ]
    },
    {
     "name": "stdout",
     "output_type": "stream",
     "text": [
      " Score is  0.1944651601248124\n",
      " y_pred is  [209.5  510.75 460.   ... 319.   333.25 291.25]\n",
      "        Actual  Predicted\n",
      "292209   498.0     209.50\n",
      "116919   518.0     510.75\n",
      "138648   531.0     460.00\n",
      "46042    546.0     479.25\n",
      "215133   330.0     417.25\n",
      "...        ...        ...\n",
      "292855   197.0     245.00\n",
      "18475   1093.0     645.25\n",
      "100429   358.0     319.00\n",
      "270749   197.0     333.25\n",
      "98068    133.0     291.25\n",
      "\n",
      "[67026 rows x 2 columns]\n"
     ]
    }
   ],
   "source": [
    "model = linear_model.LinearRegression().fit(X_train_encoded, y_train) \n",
    "print(model.intercept_)\n",
    "print(model.coef_)\n",
    "score = model.score(X_test_encoded, y_test)\n",
    "print(\" Score is \", score)\n",
    "y_pred = model.predict(X_test_encoded)\n",
    "print(\" y_pred is \", y_pred)\n",
    "\n",
    "df_preds = pd.DataFrame({'Actual': y_test.squeeze(), 'Predicted': y_pred.squeeze()})\n",
    "print(df_preds)\n"
   ]
  },
  {
   "cell_type": "code",
   "execution_count": 364,
   "id": "74e25d2f",
   "metadata": {},
   "outputs": [
    {
     "data": {
      "image/png": "[encoded data removed]",
      "text/plain": [
       "<Figure size 640x480 with 1 Axes>"
      ]
     },
     "metadata": {},
     "output_type": "display_data"
    }
   ],
   "source": [
    "# plot the error difference\n",
    "error = np.log(y_test) - np.log(y_pred)\n",
    "fig, ax = plt.subplots()\n",
    "ax.scatter(y_test, error)\n",
    "ax.axhline(lw=3, color='black')\n",
    "ax.set_xlabel('Observed')\n",
    "ax.set_ylabel('Error')\n",
    "plt.show()"
   ]
  },
  {
   "cell_type": "code",
   "execution_count": 365,
   "id": "82cae7ff",
   "metadata": {},
   "outputs": [
    {
     "name": "stdout",
     "output_type": "stream",
     "text": [
      "RMSE is 577.41486\n",
      "R2 error is  0.1944651601248124\n"
     ]
    },
    {
     "data": {
      "text/plain": [
       "<matplotlib.collections.PathCollection at 0x2a842bf19a0>"
      ]
     },
     "execution_count": 365,
     "metadata": {},
     "output_type": "execute_result"
    },
    {
     "data": {
      "image/png": "[encoded data removed]",
      "text/plain": [
       "<Figure size 640x480 with 1 Axes>"
      ]
     },
     "metadata": {},
     "output_type": "display_data"
    }
   ],
   "source": [
    "#RMSE\n",
    "print(\"RMSE is\", np.sqrt(mean_squared_error(y_test, y_pred)))\n",
    "print(\"R2 error is \" ,r2_score(y_test, y_pred))\n",
    "\n",
    "plt.scatter(np.log(y_pred), np.log(y_test))\n",
    "\n"
   ]
  },
  {
   "cell_type": "code",
   "execution_count": 366,
   "id": "08b06871",
   "metadata": {},
   "outputs": [
    {
     "data": {
      "text/plain": [
       "Text(0.5, 1.0, 'Residual Plot')"
      ]
     },
     "execution_count": 366,
     "metadata": {},
     "output_type": "execute_result"
    },
    {
     "data": {
      "text/plain": [
       "<Figure size 640x480 with 0 Axes>"
      ]
     },
     "metadata": {},
     "output_type": "display_data"
    },
    {
     "data": {
      "image/png": "[encoded data removed]",
      "text/plain": [
       "<Figure size 500x500 with 1 Axes>"
      ]
     },
     "metadata": {},
     "output_type": "display_data"
    }
   ],
   "source": [
    "plt.figure()\n",
    "\n",
    "sns.displot(error)\n",
    "\n",
    "plt.title(\"Residual Plot\")"
   ]
  },
  {
   "cell_type": "markdown",
   "id": "a8e4d8f2",
   "metadata": {},
   "source": [
    "## Imputation with mode"
   ]
  },
  {
   "cell_type": "code",
   "execution_count": 367,
   "id": "3d9b78a1",
   "metadata": {},
   "outputs": [
    {
     "name": "stdout",
     "output_type": "stream",
     "text": [
      "Test after amputation (268102, 28) (268102,)\n",
      "start_lat             0\n",
      "start_lon             0\n",
      "end_lat               0\n",
      "end_lon               0\n",
      "usertype              0\n",
      "gender                0\n",
      "dist                  0\n",
      "birthyear         13405\n",
      "date                  0\n",
      "month                 0\n",
      "day                   0\n",
      "hour                  0\n",
      "min                   0\n",
      "year                  0\n",
      "years_old             0\n",
      "holiday               0\n",
      "datetime              0\n",
      "temp                  0\n",
      "feelslike             0\n",
      "precip                0\n",
      "dew                   0\n",
      "humidity              0\n",
      "snow                  0\n",
      "windspeed             0\n",
      "visibility            0\n",
      "solarradiation        0\n",
      "conditions            0\n",
      "seasons               0\n",
      "dtype: int64\n",
      "13405\n",
      "Test after amputation (67026, 28) (67026,)\n",
      "start_lat            0\n",
      "start_lon            0\n",
      "end_lat              0\n",
      "end_lon              0\n",
      "usertype             0\n",
      "gender               0\n",
      "dist                 0\n",
      "birthyear         3351\n",
      "date                 0\n",
      "month                0\n",
      "day                  0\n",
      "hour                 0\n",
      "min                  0\n",
      "year                 0\n",
      "years_old            0\n",
      "holiday              0\n",
      "datetime             0\n",
      "temp                 0\n",
      "feelslike            0\n",
      "precip               0\n",
      "dew                  0\n",
      "humidity             0\n",
      "snow                 0\n",
      "windspeed            0\n",
      "visibility           0\n",
      "solarradiation       0\n",
      "conditions           0\n",
      "seasons              0\n",
      "dtype: int64\n",
      "3351\n"
     ]
    }
   ],
   "source": [
    "## Ampute the data\n",
    "X_train_amp , y_train_amp = ampute_nan_values(X_train,y_train,\"birthyear\",perc=5)\n",
    "print('Test after amputation', X_train_amp.shape, y_train_amp.shape)\n",
    "print(X_train_amp.isnull().sum())\n",
    "print(y_train_amp.isnull().sum())\n",
    "\n",
    "X_test_amp , y_test_amp = ampute_nan_values(X_test,y_test,\"birthyear\",perc=5)\n",
    "print('Test after amputation', X_test_amp.shape, y_test_amp.shape)\n",
    "print(X_test_amp.isnull().sum())\n",
    "print(y_test_amp.isnull().sum())"
   ]
  },
  {
   "cell_type": "code",
   "execution_count": 368,
   "id": "616781dd",
   "metadata": {},
   "outputs": [
    {
     "data": {
      "text/plain": [
       "0    518.692017\n",
       "Name: tripduration, dtype: float32"
      ]
     },
     "execution_count": 368,
     "metadata": {},
     "output_type": "execute_result"
    }
   ],
   "source": [
    "y_test_amp.mode()"
   ]
  },
  {
   "cell_type": "code",
   "execution_count": 372,
   "id": "3a5420aa",
   "metadata": {},
   "outputs": [
    {
     "name": "stdout",
     "output_type": "stream",
     "text": [
      "test after Imputation (67026, 28) (67026,)\n",
      "start_lat         0\n",
      "start_lon         0\n",
      "end_lat           0\n",
      "end_lon           0\n",
      "usertype          0\n",
      "gender            0\n",
      "dist              0\n",
      "birthyear         0\n",
      "date              0\n",
      "month             0\n",
      "day               0\n",
      "hour              0\n",
      "min               0\n",
      "year              0\n",
      "years_old         0\n",
      "holiday           0\n",
      "datetime          0\n",
      "temp              0\n",
      "feelslike         0\n",
      "precip            0\n",
      "dew               0\n",
      "humidity          0\n",
      "snow              0\n",
      "windspeed         0\n",
      "visibility        0\n",
      "solarradiation    0\n",
      "conditions        0\n",
      "seasons           0\n",
      "dtype: int64\n",
      "0\n"
     ]
    }
   ],
   "source": [
    "X_test_amp['birthyear'] = X_test_amp['birthyear'].fillna(X_test_amp['birthyear'].mode()[0])\n",
    "y_test_amp = y_test_amp.fillna(y_test_amp.mode()[0])\n",
    "print('test after Imputation', X_test_amp.shape, y_test_amp.shape)\n",
    "print(X_test_amp.isnull().sum())\n",
    "print(y_test_amp.isnull().sum())"
   ]
  },
  {
   "cell_type": "code",
   "execution_count": 373,
   "id": "065c5439",
   "metadata": {},
   "outputs": [
    {
     "name": "stdout",
     "output_type": "stream",
     "text": [
      "Train after Imputation (268102, 28) (268102,)\n",
      "start_lat         0\n",
      "start_lon         0\n",
      "end_lat           0\n",
      "end_lon           0\n",
      "usertype          0\n",
      "gender            0\n",
      "dist              0\n",
      "birthyear         0\n",
      "date              0\n",
      "month             0\n",
      "day               0\n",
      "hour              0\n",
      "min               0\n",
      "year              0\n",
      "years_old         0\n",
      "holiday           0\n",
      "datetime          0\n",
      "temp              0\n",
      "feelslike         0\n",
      "precip            0\n",
      "dew               0\n",
      "humidity          0\n",
      "snow              0\n",
      "windspeed         0\n",
      "visibility        0\n",
      "solarradiation    0\n",
      "conditions        0\n",
      "seasons           0\n",
      "dtype: int64\n",
      "0\n"
     ]
    }
   ],
   "source": [
    "X_train_amp['birthyear'] = X_train_amp['birthyear'].fillna(X_train_amp['birthyear'].mode()[0])\n",
    "y_train_amp = y_train_amp.fillna(y_train_amp.mode()[0])\n",
    "print('Train after Imputation', X_train_amp.shape, y_train_amp.shape)\n",
    "print(X_train_amp.isnull().sum())\n",
    "print(y_train_amp.isnull().sum())"
   ]
  },
  {
   "cell_type": "code",
   "execution_count": 374,
   "id": "8f83b6c9",
   "metadata": {},
   "outputs": [
    {
     "name": "stdout",
     "output_type": "stream",
     "text": [
      "-1493167.9\n",
      "[-1.67254602e+03 -3.18130249e+02  3.50844482e+02 -9.36274597e+02\n",
      "  1.89703789e+01  2.80359985e+02 -2.23796082e+00  4.06805420e+00\n",
      "  1.02228165e-01  7.23228516e+02  2.98347473e-02  4.59104919e+00\n",
      "  9.10232544e-01 -3.30444336e-01 -2.09012604e+00  8.76007080e-01\n",
      "  8.02044868e+00 -3.95568848e-01  3.01300049e+00  1.50917053e-01\n",
      " -8.91830078e+02  2.33429203e+01  1.14387760e+01  2.35872307e+01\n",
      "  4.14706573e+01  5.10438538e+00  3.51749954e+01  4.17990494e+01\n",
      "  3.30493851e+01  4.76531982e+00 -1.19163227e+01 -1.82781696e-01\n",
      " -4.55328827e+01 -1.71478176e+01  1.69010677e+01  1.28835354e+01\n",
      "  2.71246262e+01  2.78877010e+01  1.34388838e+01 -4.69104767e+01\n",
      " -7.27159214e+00  8.45420933e+00  1.14998379e+01  7.91201234e-01\n",
      "  9.38048363e+00  6.10495949e+00 -3.43430138e+01 -4.98304367e+01\n",
      "  2.25176525e+00 -2.72087187e-01  2.39707184e+01  1.23151579e+01\n",
      "  1.30302715e+01 -1.70644817e+01 -1.19556980e+01  1.76903763e+01\n",
      "  2.48634968e+01  2.62792611e+00  2.31669247e-02  6.68304491e+00\n",
      " -2.68068867e+01  4.38349390e+00 -8.38045359e-01  8.92543697e+00\n",
      " -2.80010605e+00  1.49355495e+00 -1.52106798e+00 -3.16490149e+00\n",
      "  1.95095003e-01 -6.85805750e+00  2.47401619e+01  1.07269745e+01\n",
      "  4.65970325e+00  7.02863216e+00 -5.36219330e+01  2.66723394e+00\n",
      " -9.69611645e+00 -4.85851383e+00 -8.79095173e+00  1.03186131e+01\n",
      "  2.84476490e+01 -2.53252773e+01  3.64756203e+01  2.65970302e+00\n",
      "  1.53843966e+01 -1.98998749e+00  2.99777699e+00  2.50381832e+01\n",
      " -5.16014366e+01 -4.57070389e+01  2.31554489e+01 -7.58422422e+00\n",
      "  9.12687016e+00  5.38174057e+00 -1.07856627e+01 -2.97839718e+01\n",
      "  1.04593916e+01  1.58977461e+00  1.00920410e+01 -1.91667347e+01\n",
      " -2.50265522e+01  2.41229510e+00 -2.07092357e+00 -2.69260902e+01\n",
      "  7.13266492e-01  3.50654817e+00  1.27738180e+01  8.31186008e+00\n",
      "  1.85708981e+01  2.07068205e+00  3.65360527e+01 -2.00306492e+01\n",
      "  7.35966587e+00  3.73434067e+01 -9.93022346e+00 -3.53498983e+00\n",
      " -2.67796326e+01 -3.55121346e+01 -1.01638832e+01  2.56623697e+00\n",
      " -9.31354713e+00 -1.55511246e+01  1.57174015e+01  5.40766983e+01\n",
      " -9.41285992e+00  1.32923336e+01 -9.59562874e+00 -8.51590729e+00\n",
      " -5.33255291e+00  5.90510321e+00 -4.19153786e+01  3.89459229e+01\n",
      " -3.90519452e+00 -1.18999081e+01  2.02239933e+01 -8.41956520e+00\n",
      " -1.30773525e+01  3.81985359e+01 -6.14343596e+00 -1.72929835e+00\n",
      "  6.26456118e+00  6.53583622e+00 -1.05702362e+01 -3.51287222e+00\n",
      "  2.63728905e+01  4.66678085e+01 -1.14635906e+01 -1.26049364e+00\n",
      " -1.35607071e+01  6.84273720e-01  1.30809431e+01 -3.29718895e+01\n",
      " -4.64209137e+01  1.02027321e+01 -1.73297501e+01 -1.78379650e+01\n",
      " -7.79655504e+00  1.79760396e+00  1.89343572e-01  2.52631512e+01\n",
      " -7.10813570e+00 -1.00839782e+00  7.35263443e+00 -2.48003793e+00\n",
      "  7.85850191e+00  2.87589188e+01 -4.01706886e+01  6.87615585e+01\n",
      " -6.78598928e+00 -1.37045422e+01 -1.39065161e+01  1.27448273e+01\n",
      "  3.73368454e+01  1.19670181e+02  2.84433389e+00 -1.93156338e+01\n",
      " -4.77860928e+00  3.99003410e+00 -2.17878532e+01 -2.12407761e+01\n",
      "  8.09863663e+00 -1.98264999e+01 -6.43101788e+00 -9.56670761e+00\n",
      " -1.58677006e+01 -4.96389914e+00 -4.19821167e+00  3.07307816e+01\n",
      " -2.35972805e+01 -1.07843666e+01 -1.75722942e+01 -2.01514587e+01\n",
      " -2.72708492e+01  5.19885874e+00  5.72197113e+01 -2.41958408e+01\n",
      " -1.37082367e+01 -1.49291925e+01  3.90249753e+00 -1.47999268e+01\n",
      "  2.07137280e+01  2.84878578e+01 -2.69046974e+01 -2.12012444e+01\n",
      "  7.24623871e+01 -3.20437927e+01  3.77097654e+00  1.53387470e+01\n",
      "  7.29126511e+01 -1.51509876e+01 -4.32350845e+01 -1.81515102e+01\n",
      " -5.96686554e+00  8.74990273e+00 -2.03133183e+01  2.83163719e+01\n",
      " -4.31221676e+00 -7.28412628e-01 -1.75870552e+01 -1.17915096e+01\n",
      " -9.67634106e+00  1.22119446e+01 -4.87786627e+00  6.53207839e-01\n",
      " -2.89835691e-01 -2.22533417e+01 -2.39855213e+01 -1.70167446e+01\n",
      "  1.83723488e+01  4.34058647e+01  2.19538140e+00 -7.26618195e+00\n",
      " -7.17330551e+00 -1.34703579e+01  2.46106796e+01  2.83770523e+01\n",
      " -7.04231405e+00 -1.69170189e+01 -1.84333153e+01 -1.78419971e+01\n",
      " -1.36826134e+01  2.01947136e+01 -1.01259661e+01  2.88577728e+01\n",
      " -1.99034262e+00  1.73722458e+01 -3.94476008e+00 -1.80461788e+01\n",
      " -1.82375121e+00  1.40385551e+01 -1.28511989e+00  6.59985065e+00\n",
      " -1.49314766e+01  4.18767309e+00  8.99963474e+00 -1.06034279e+01\n",
      "  1.31789064e+01  3.24472580e+01  2.15564060e+00 -1.30310001e+01\n",
      " -2.38145638e+01 -1.76182213e+01 -2.12286067e+00  1.06483822e+01\n",
      "  1.96413574e+01  5.42231903e+01 -2.13567505e+01 -1.88742104e+01\n",
      " -2.38142357e+01 -7.09442854e+00 -2.62925577e+00 -4.93380165e+01\n",
      " -6.42711926e+00  1.90191803e+01 -2.71093535e+00  1.74436796e+00\n",
      "  4.69897747e+00  3.20823021e+01  5.11243362e+01  3.36618543e+00\n",
      " -7.22650385e+00 -1.11397171e+01 -2.41024647e+01 -9.43801880e+00\n",
      " -7.53764451e-01  8.26225471e+00 -1.28250847e+01 -1.35482693e+00\n",
      " -1.85650101e+01 -2.56558323e+01 -1.23129168e+01  1.07348061e+01\n",
      "  3.73252449e+01 -2.85653591e+00 -2.51065254e+00  2.51431513e+00\n",
      " -2.52846003e+00 -3.66607726e-01 -2.79640999e+01  4.47796860e+01\n",
      " -2.45845718e+01  3.07824105e-01  1.19540334e+00 -1.21630898e+01\n",
      "  1.39425898e+01 -1.95006084e+01  8.12355995e+00  7.87141514e+00\n",
      "  1.49385862e+01  1.45553398e+01 -3.36326098e+00  7.88154888e+00\n",
      "  7.17252195e-01 -2.60818539e+01  9.10406494e+00 -1.30015349e+00\n",
      " -1.82684827e+00  6.65154505e+00  1.17086782e+01 -2.97522526e+01\n",
      " -4.16170979e+00  1.00908108e+01 -1.54763031e+00 -4.52250671e+00\n",
      " -6.60689950e-01 -3.59495211e+00  2.26142979e+01  4.56134453e+01\n",
      " -4.97664404e+00 -1.72979240e+01 -1.51852942e+01 -1.07171440e+01\n",
      "  1.61417370e+01 -3.56832657e+01  3.20516968e+00 -2.32694435e+01\n",
      "  3.07054114e+00 -2.26028013e+00  1.30521841e+01 -1.61155930e+01\n",
      " -2.88078022e+01 -1.82862568e+01 -1.41020002e+01 -3.35378075e+00\n",
      "  1.36075277e+01  2.24890289e+01  1.89879780e+01 -9.75909996e+00\n",
      "  3.91341782e+01  1.70786877e+01 -1.00218058e+01  2.35780573e+00\n",
      " -3.75301862e+00  7.19973564e+00 -2.86598420e+00 -3.01385250e+01\n",
      " -4.10572648e-01 -1.36352682e+00  4.85941172e+00  1.46414042e+01\n",
      "  4.72008705e+00 -3.29944458e+01 -3.44767904e+00  4.81005621e+00\n",
      "  4.88682938e+00 -1.97619641e+00  5.30143785e+00 -5.55361271e+00\n",
      " -1.85080624e+01 -4.96611824e+01  5.91834593e+00  9.17221069e+00\n",
      "  5.72557640e+00 -2.70089567e-01  3.74913239e+00  5.59157038e+00\n",
      " -2.05297546e+01  2.39916134e+01  2.00507889e+01  1.59395485e+01\n",
      "  3.38987279e+00  3.75349045e+01  8.92953300e+00 -4.05441475e+01\n",
      "  3.67186546e+01 -1.62692890e+01  8.83376694e+00 -6.93829441e+00\n",
      "  4.81954384e+00  5.07190847e+00  6.55045033e+00 -1.87787724e+01\n",
      "  2.21782970e+00  6.83665943e+00 -1.16438351e+01  1.41510010e+00\n",
      "  1.01399918e+02 -4.35613594e+01  2.10089436e+01  1.24735203e+01\n",
      "  2.28097057e+01  4.04707184e+01  3.25306726e+00  3.42666092e+01\n",
      "  4.09888000e+01  3.43073349e+01  4.08759212e+00 -1.14253054e+01\n",
      "  2.38989353e-01 -4.58645706e+01 -1.73555450e+01  1.70528793e+01\n",
      "  1.27765636e+01  2.68766212e+01  2.74463081e+01  1.33301907e+01\n",
      " -4.56525078e+01 -5.82489920e+00  9.05220699e+00  1.06039743e+01\n",
      "  2.01758683e-01  9.33791065e+00  5.95172501e+00 -3.41997528e+01\n",
      " -4.97835350e+01  2.12167358e+00 -2.17419177e-01  2.39855766e+01\n",
      "  1.22024260e+01  1.30889778e+01 -1.70662746e+01 -1.18753633e+01\n",
      "  1.76756687e+01  2.48337498e+01  2.58881450e+00  1.60087794e-01\n",
      "  6.73395443e+00 -2.67973156e+01  4.39908028e+00 -8.26909423e-01\n",
      "  8.97709846e+00 -2.79157686e+00  1.45912838e+00 -1.47217596e+00\n",
      " -3.12318134e+00  1.97741747e-01 -6.81641817e+00  2.48176327e+01\n",
      "  1.06427231e+01  4.71756077e+00  6.90284824e+00 -5.36502953e+01\n",
      "  2.63995290e+00 -9.65595818e+00 -4.83803797e+00 -8.81081295e+00\n",
      "  1.00753498e+01  2.84634571e+01 -2.53049202e+01  3.64177551e+01\n",
      "  2.81367707e+00  1.53949633e+01 -2.09020090e+00  3.00334740e+00\n",
      "  2.50561333e+01 -5.17702789e+01 -4.57848816e+01  2.30930309e+01\n",
      " -7.61650801e+00  9.22950840e+00  5.38204384e+00 -1.06911993e+01\n",
      " -2.97400513e+01  1.05168104e+01  1.67283094e+00  1.00163469e+01\n",
      " -1.91480007e+01 -2.49092884e+01  2.27894521e+00 -2.28209758e+00\n",
      " -2.68954716e+01  7.23228633e-01  3.40623879e+00  1.27700195e+01\n",
      "  8.45650101e+00  1.83912754e+01  2.13824224e+00  3.65367928e+01\n",
      " -2.02506962e+01  7.40632248e+00  3.73320885e+01 -9.89590836e+00\n",
      " -3.59155011e+00 -2.68125648e+01 -3.55228157e+01 -1.00284929e+01\n",
      "  2.56562042e+00 -9.29242802e+00 -1.55934429e+01  1.56543665e+01\n",
      "  5.44429131e+01 -9.41888714e+00  1.33296385e+01 -9.63232136e+00\n",
      " -8.48645115e+00 -5.30400801e+00  5.95485258e+00 -4.18435555e+01\n",
      "  3.87656441e+01 -3.48741174e+00 -1.16268387e+01  2.01787262e+01\n",
      " -8.49191189e+00 -1.31071548e+01  3.82270660e+01 -6.26670885e+00\n",
      " -1.69520974e+00  6.22130060e+00  6.34803009e+00 -1.07267246e+01\n",
      " -3.61780596e+00  2.64073048e+01  4.67523003e+01 -1.14732256e+01\n",
      " -1.30892134e+00 -1.34128580e+01  4.67039585e-01  1.30879660e+01\n",
      " -3.28640747e+01 -4.62648506e+01  1.01957350e+01 -1.74325733e+01\n",
      " -1.80873585e+01 -7.94369268e+00  1.68035197e+00  1.65635467e-01\n",
      "  2.62741261e+01 -7.13697815e+00 -1.36601138e+00  7.21746349e+00\n",
      " -2.48285341e+00  7.89938211e+00  2.90535927e+01 -4.03161469e+01\n",
      "  6.88949280e+01 -6.84067488e+00 -1.34985132e+01 -1.40413561e+01\n",
      "  1.27420225e+01  3.73686600e+01  1.19676231e+02  2.87843490e+00\n",
      " -1.90527897e+01 -4.82116318e+00  4.20573282e+00 -2.20877876e+01\n",
      " -2.12604027e+01  8.24847126e+00 -1.99944210e+01 -6.54299688e+00\n",
      " -9.36808395e+00 -1.57389641e+01 -4.78613138e+00 -4.32629728e+00\n",
      "  3.07791195e+01 -2.36249638e+01 -1.05802689e+01 -1.76412182e+01\n",
      " -2.03959332e+01 -2.74652081e+01  4.96814489e+00  5.73194809e+01\n",
      " -2.42931576e+01 -1.36737423e+01 -1.49954596e+01  3.73731732e+00\n",
      " -1.48416138e+01  2.07012825e+01  2.85747166e+01 -2.68658218e+01\n",
      " -2.12221985e+01  7.24211655e+01 -3.21649017e+01  3.74250078e+00\n",
      "  1.53365326e+01  7.30381012e+01 -1.47367954e+01 -4.32242813e+01\n",
      " -1.82606087e+01 -6.06720257e+00  8.68861389e+00 -2.01197853e+01\n",
      "  2.85421162e+01 -4.38346577e+00 -8.54691029e-01 -1.76163902e+01\n",
      " -1.18521004e+01 -9.66464996e+00  1.22271633e+01 -4.68758631e+00\n",
      "  8.10086787e-01 -9.84294415e-02 -2.23126831e+01 -2.41085396e+01\n",
      " -1.72803211e+01  1.79366436e+01  4.32399979e+01  2.54816985e+00\n",
      " -7.40285921e+00 -7.27036190e+00 -1.33790436e+01  2.43926735e+01\n",
      "  2.83839493e+01 -7.13056326e+00 -1.68106022e+01 -1.85336704e+01\n",
      " -1.81760788e+01 -1.42616711e+01  2.00292282e+01 -1.00813255e+01\n",
      "  2.86039810e+01 -1.92805099e+00  1.72303925e+01 -3.95285559e+00\n",
      " -1.82494965e+01 -1.97512901e+00  1.41501656e+01 -1.71269727e+00\n",
      "  6.94692230e+00 -1.52148447e+01  4.06457281e+00  8.67196655e+00\n",
      " -1.07589703e+01  1.31439543e+01  3.27164688e+01  2.07209206e+00\n",
      " -1.30917130e+01 -2.36028404e+01 -1.76096706e+01 -2.14228702e+00\n",
      "  1.04855566e+01  1.97231903e+01  5.45374947e+01 -2.12791901e+01\n",
      " -1.90085564e+01 -2.40029068e+01 -7.14285278e+00 -2.77507234e+00\n",
      " -4.94137192e+01 -6.36505938e+00  1.90929947e+01 -2.70255446e+00\n",
      "  1.81545770e+00  4.50819206e+00  3.22042694e+01  5.10637321e+01\n",
      "  2.89255142e+00 -7.24470568e+00 -1.12466583e+01 -2.39792061e+01\n",
      " -9.10604858e+00 -7.68672645e-01  8.42660618e+00 -1.30241804e+01\n",
      " -1.23357320e+00 -1.84636860e+01 -2.55391369e+01 -1.22073593e+01\n",
      "  1.11477623e+01  3.74742241e+01 -2.97146297e+00 -2.25448036e+00\n",
      "  2.16128111e+00 -2.28554010e+00 -7.84639478e-01 -2.75271492e+01\n",
      "  4.46981163e+01 -2.46178932e+01  4.93954778e-01  1.32417607e+00\n",
      " -1.22445469e+01  1.38606081e+01 -1.93797855e+01  8.19315720e+00\n",
      "  8.33930111e+00  1.47581949e+01  1.45185146e+01 -3.52122378e+00\n",
      "  7.87628508e+00  4.31230694e-01 -2.58161545e+01  9.37032509e+00\n",
      " -1.20610487e+00 -1.77949464e+00  6.64861345e+00  1.17305079e+01\n",
      " -2.97224216e+01 -4.58889437e+00  9.93041039e+00 -1.35609281e+00\n",
      " -4.47637463e+00 -7.99889684e-01 -3.14091229e+00  2.27623100e+01\n",
      "  4.55972328e+01 -4.90639544e+00 -1.74056282e+01 -1.51189032e+01\n",
      " -1.07385874e+01  1.62484703e+01 -3.55140038e+01  3.14728928e+00\n",
      " -2.35429745e+01  3.13675237e+00 -2.31989527e+00  1.29871283e+01\n",
      " -1.60514812e+01 -2.90366440e+01 -1.83141403e+01 -1.39044733e+01\n",
      " -3.28511858e+00  1.35076303e+01  2.25893631e+01  1.90411835e+01\n",
      " -9.72049999e+00  3.89853973e+01  1.71005268e+01 -1.02085400e+01\n",
      "  2.28096819e+00 -3.91414285e+00  7.30988550e+00 -2.97282863e+00\n",
      " -3.01185894e+01 -4.02069747e-01 -1.10240984e+00  5.03647280e+00\n",
      "  1.46881628e+01  4.95889854e+00 -3.28544769e+01 -3.55665851e+00\n",
      "  5.05853796e+00  4.85828876e+00 -1.96401620e+00  5.28194523e+00\n",
      " -5.49909401e+00 -1.83656673e+01 -4.96752739e+01  6.01989412e+00\n",
      "  9.33487797e+00  5.67307711e+00 -2.75937259e-01  3.81348157e+00\n",
      "  5.58437300e+00 -2.06182957e+01  2.40433369e+01  2.00308552e+01\n",
      "  1.60684700e+01  3.34301162e+00  3.75117455e+01  9.07501602e+00\n",
      " -4.05689545e+01  3.67467804e+01  2.01563072e+00  5.80195332e+00\n",
      " -1.44976425e+01 -6.72059155e+00 -5.13882446e+00  4.37949524e+01\n",
      "  2.28077087e+01 -2.48614101e+01  5.89778614e+00  1.34161968e+01\n",
      "  4.55227852e+00 -4.07864857e+00  8.09259129e+00]\n"
     ]
    },
    {
     "name": "stdout",
     "output_type": "stream",
     "text": [
      " Score is  0.18635049313945506\n",
      " y_pred is  [223.5   507.75  462.    ... 327.25  342.625 298.5  ]\n",
      "        Actual  Predicted\n",
      "292209   498.0    223.500\n",
      "116919   518.0    507.750\n",
      "138648   531.0    462.000\n",
      "46042    546.0    473.500\n",
      "215133   330.0    421.625\n",
      "...        ...        ...\n",
      "292855   197.0    254.375\n",
      "18475   1093.0    647.875\n",
      "100429   358.0    327.250\n",
      "270749   197.0    342.625\n",
      "98068    133.0    298.500\n",
      "\n",
      "[67026 rows x 2 columns]\n"
     ]
    }
   ],
   "source": [
    "\n",
    "X_train_encoded, X_test_encoded = get_encoded_data(X_train_amp, X_test_amp)\n",
    "y_train = y_train_amp.astype('float32')\n",
    "y_test = y_test_amp.astype('float32')\n",
    "\n",
    "model = linear_model.LinearRegression().fit(X_train_encoded, y_train) \n",
    "print(model.intercept_)\n",
    "print(model.coef_)\n",
    "score = model.score(X_test_encoded, y_test)\n",
    "print(\" Score is \", score)\n",
    "y_pred = model.predict(X_test_encoded)\n",
    "print(\" y_pred is \", y_pred)\n",
    "\n",
    "df_preds = pd.DataFrame({'Actual': y_test.squeeze(), 'Predicted': y_pred.squeeze()})\n",
    "print(df_preds)\n"
   ]
  },
  {
   "cell_type": "code",
   "execution_count": 375,
   "id": "68a90188",
   "metadata": {},
   "outputs": [
    {
     "data": {
      "image/png": "[encoded data removed]",
      "text/plain": [
       "<Figure size 640x480 with 1 Axes>"
      ]
     },
     "metadata": {},
     "output_type": "display_data"
    }
   ],
   "source": [
    "\n",
    "# plot the error difference\n",
    "error = np.log(y_test) - np.log(y_pred)\n",
    "fig, ax = plt.subplots()\n",
    "ax.scatter(y_test, error)\n",
    "ax.axhline(lw=3, color='black')\n",
    "ax.set_xlabel('Observed')\n",
    "ax.set_ylabel('Error')\n",
    "plt.show()"
   ]
  },
  {
   "cell_type": "code",
   "execution_count": 376,
   "id": "73214757",
   "metadata": {},
   "outputs": [
    {
     "name": "stdout",
     "output_type": "stream",
     "text": [
      "RMSE is 568.314\n",
      "R2 error is  0.18635050864630387\n"
     ]
    },
    {
     "data": {
      "text/plain": [
       "<matplotlib.collections.PathCollection at 0x2a8154719d0>"
      ]
     },
     "execution_count": 376,
     "metadata": {},
     "output_type": "execute_result"
    },
    {
     "data": {
      "image/png": "[encoded data removed]",
      "text/plain": [
       "<Figure size 640x480 with 1 Axes>"
      ]
     },
     "metadata": {},
     "output_type": "display_data"
    }
   ],
   "source": [
    "\n",
    "#RMSE\n",
    "print(\"RMSE is\", np.sqrt(mean_squared_error(y_test, y_pred)))\n",
    "print(\"R2 error is \" ,r2_score(y_test, y_pred))\n",
    "\n",
    "plt.scatter(np.log(y_pred), np.log(y_test))"
   ]
  },
  {
   "cell_type": "code",
   "execution_count": 377,
   "id": "783eb759",
   "metadata": {},
   "outputs": [
    {
     "data": {
      "text/plain": [
       "Text(0.5, 1.0, 'Residual Plot')"
      ]
     },
     "execution_count": 377,
     "metadata": {},
     "output_type": "execute_result"
    },
    {
     "data": {
      "text/plain": [
       "<Figure size 640x480 with 0 Axes>"
      ]
     },
     "metadata": {},
     "output_type": "display_data"
    },
    {
     "data": {
      "image/png": "[encoded data removed]",
      "text/plain": [
       "<Figure size 500x500 with 1 Axes>"
      ]
     },
     "metadata": {},
     "output_type": "display_data"
    }
   ],
   "source": [
    "plt.figure()\n",
    "\n",
    "sns.displot(error)\n",
    "\n",
    "plt.title(\"Residual Plot\")"
   ]
  }
 ],
 "metadata": {
  "accelerator": "GPU",
  "colab": {
   "provenance": []
  },
  "gpuClass": "standard",
  "kernelspec": {
   "display_name": "Python 3 (ipykernel)",
   "language": "python",
   "name": "python3"
  },
  "language_info": {
   "codemirror_mode": {
    "name": "ipython",
    "version": 3
   },
   "file_extension": ".py",
   "mimetype": "text/x-python",
   "name": "python",
   "nbconvert_exporter": "python",
   "pygments_lexer": "ipython3",
   "version": "3.9.13"
  }
 },
 "nbformat": 4,
 "nbformat_minor": 5
}
