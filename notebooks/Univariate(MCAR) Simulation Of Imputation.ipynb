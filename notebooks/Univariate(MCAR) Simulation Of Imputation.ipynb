{
 "cells": [
  {
   "cell_type": "code",
   "execution_count": 1,
   "id": "ab8de175",
   "metadata": {
    "id": "ab8de175"
   },
   "outputs": [],
   "source": [
    "import pandas as pd\n",
    "import random\n",
    "import numpy as np\n",
    "import matplotlib.pyplot as plt\n",
    "import seaborn as sns\n",
    "%matplotlib inline\n",
    "\n",
    "\n",
    "import warnings\n",
    "warnings.filterwarnings(\"ignore\")\n",
    "from sklearn.model_selection import train_test_split\n",
    "from sklearn import  linear_model\n",
    "from sklearn.preprocessing import StandardScaler\n",
    "from sklearn.preprocessing import LabelEncoder\n",
    "from sklearn.model_selection import cross_val_score\n",
    "from sklearn.model_selection import RepeatedStratifiedKFold\n",
    "from sklearn.pipeline import Pipeline\n",
    "from sklearn.linear_model import LinearRegression, Ridge, HuberRegressor, ElasticNetCV\n",
    "from sklearn.tree import DecisionTreeRegressor\n",
    "from sklearn.ensemble import RandomForestRegressor, GradientBoostingRegressor, ExtraTreesRegressor\n",
    "from sklearn import model_selection\n",
    "\n",
    "from sklearn.metrics import mean_squared_error\n",
    "from sklearn.model_selection import cross_val_score\n",
    "from sklearn import preprocessing\n",
    "from sklearn.metrics import mean_squared_error\n",
    "\n",
    "from sklearn.metrics import r2_score"
   ]
  },
  {
   "cell_type": "code",
   "execution_count": 2,
   "id": "c518e2ff",
   "metadata": {
    "id": "c518e2ff"
   },
   "outputs": [],
   "source": [
    "tripdata = pd.read_csv(\"../dataset/final_bike_sharing.csv\")"
   ]
  },
  {
   "cell_type": "code",
   "execution_count": 3,
   "id": "f7739d90",
   "metadata": {
    "colab": {
     "base_uri": "https://localhost:8080/",
     "height": 428
    },
    "id": "f7739d90",
    "outputId": "8e738096-cf3a-4eda-9fb4-71fac14810f2"
   },
   "outputs": [
    {
     "data": {
      "text/html": [
       "<div>\n",
       "<style scoped>\n",
       "    .dataframe tbody tr th:only-of-type {\n",
       "        vertical-align: middle;\n",
       "    }\n",
       "\n",
       "    .dataframe tbody tr th {\n",
       "        vertical-align: top;\n",
       "    }\n",
       "\n",
       "    .dataframe thead th {\n",
       "        text-align: right;\n",
       "    }\n",
       "</style>\n",
       "<table border=\"1\" class=\"dataframe\">\n",
       "  <thead>\n",
       "    <tr style=\"text-align: right;\">\n",
       "      <th></th>\n",
       "      <th>tripduration</th>\n",
       "      <th>start_lat</th>\n",
       "      <th>start_lon</th>\n",
       "      <th>end_lat</th>\n",
       "      <th>end_lon</th>\n",
       "      <th>usertype</th>\n",
       "      <th>gender</th>\n",
       "      <th>dist</th>\n",
       "      <th>birthyear</th>\n",
       "      <th>date</th>\n",
       "      <th>...</th>\n",
       "      <th>feelslike</th>\n",
       "      <th>precip</th>\n",
       "      <th>dew</th>\n",
       "      <th>humidity</th>\n",
       "      <th>snow</th>\n",
       "      <th>windspeed</th>\n",
       "      <th>visibility</th>\n",
       "      <th>solarradiation</th>\n",
       "      <th>conditions</th>\n",
       "      <th>seasons</th>\n",
       "    </tr>\n",
       "  </thead>\n",
       "  <tbody>\n",
       "    <tr>\n",
       "      <th>0</th>\n",
       "      <td>932</td>\n",
       "      <td>40.716247</td>\n",
       "      <td>-74.033459</td>\n",
       "      <td>40.728745</td>\n",
       "      <td>-74.032108</td>\n",
       "      <td>Subscriber</td>\n",
       "      <td>1</td>\n",
       "      <td>0.9</td>\n",
       "      <td>1992</td>\n",
       "      <td>2018-01-01</td>\n",
       "      <td>...</td>\n",
       "      <td>-17.0</td>\n",
       "      <td>0.0</td>\n",
       "      <td>-19.9</td>\n",
       "      <td>47.8</td>\n",
       "      <td>0.0</td>\n",
       "      <td>18.5</td>\n",
       "      <td>16.0</td>\n",
       "      <td>106.7</td>\n",
       "      <td>Clear</td>\n",
       "      <td>winter</td>\n",
       "    </tr>\n",
       "    <tr>\n",
       "      <th>1</th>\n",
       "      <td>550</td>\n",
       "      <td>40.716247</td>\n",
       "      <td>-74.033459</td>\n",
       "      <td>40.728745</td>\n",
       "      <td>-74.032108</td>\n",
       "      <td>Subscriber</td>\n",
       "      <td>2</td>\n",
       "      <td>0.9</td>\n",
       "      <td>1969</td>\n",
       "      <td>2018-01-01</td>\n",
       "      <td>...</td>\n",
       "      <td>-17.0</td>\n",
       "      <td>0.0</td>\n",
       "      <td>-19.9</td>\n",
       "      <td>47.8</td>\n",
       "      <td>0.0</td>\n",
       "      <td>18.5</td>\n",
       "      <td>16.0</td>\n",
       "      <td>106.7</td>\n",
       "      <td>Clear</td>\n",
       "      <td>winter</td>\n",
       "    </tr>\n",
       "    <tr>\n",
       "      <th>2</th>\n",
       "      <td>510</td>\n",
       "      <td>40.716247</td>\n",
       "      <td>-74.033459</td>\n",
       "      <td>40.728745</td>\n",
       "      <td>-74.032108</td>\n",
       "      <td>Subscriber</td>\n",
       "      <td>1</td>\n",
       "      <td>0.9</td>\n",
       "      <td>1946</td>\n",
       "      <td>2018-01-01</td>\n",
       "      <td>...</td>\n",
       "      <td>-17.0</td>\n",
       "      <td>0.0</td>\n",
       "      <td>-19.9</td>\n",
       "      <td>47.8</td>\n",
       "      <td>0.0</td>\n",
       "      <td>18.5</td>\n",
       "      <td>16.0</td>\n",
       "      <td>106.7</td>\n",
       "      <td>Clear</td>\n",
       "      <td>winter</td>\n",
       "    </tr>\n",
       "  </tbody>\n",
       "</table>\n",
       "<p>3 rows × 29 columns</p>\n",
       "</div>"
      ],
      "text/plain": [
       "   tripduration  start_lat  start_lon    end_lat    end_lon    usertype  \\\n",
       "0           932  40.716247 -74.033459  40.728745 -74.032108  Subscriber   \n",
       "1           550  40.716247 -74.033459  40.728745 -74.032108  Subscriber   \n",
       "2           510  40.716247 -74.033459  40.728745 -74.032108  Subscriber   \n",
       "\n",
       "   gender  dist  birthyear        date  ... feelslike precip   dew  humidity  \\\n",
       "0       1   0.9       1992  2018-01-01  ...     -17.0    0.0 -19.9      47.8   \n",
       "1       2   0.9       1969  2018-01-01  ...     -17.0    0.0 -19.9      47.8   \n",
       "2       1   0.9       1946  2018-01-01  ...     -17.0    0.0 -19.9      47.8   \n",
       "\n",
       "   snow  windspeed visibility solarradiation  conditions  seasons  \n",
       "0   0.0       18.5       16.0          106.7       Clear   winter  \n",
       "1   0.0       18.5       16.0          106.7       Clear   winter  \n",
       "2   0.0       18.5       16.0          106.7       Clear   winter  \n",
       "\n",
       "[3 rows x 29 columns]"
      ]
     },
     "execution_count": 3,
     "metadata": {},
     "output_type": "execute_result"
    }
   ],
   "source": [
    "tripdata.head(3)"
   ]
  },
  {
   "cell_type": "markdown",
   "id": "e757ab54",
   "metadata": {},
   "source": [
    "### Amputation logic"
   ]
  },
  {
   "cell_type": "code",
   "execution_count": 4,
   "id": "6bc2d045",
   "metadata": {},
   "outputs": [],
   "source": [
    "## get the sample size such as 5%, 10%,20% etc\n",
    "def get_sample_size(df, perc=5):\n",
    "    return round(perc/100 * df.shape[0])\n",
    "\n",
    "def get_an_index(index):\n",
    "    li = []\n",
    "    for i in index:\n",
    "        li.append(i)\n",
    "    return li  \n",
    "\n",
    "def convert_to_dataframe(y_train):\n",
    "    return pd.DataFrame(y_train)\n",
    "\n",
    "def convert_to_series(y_train):\n",
    "    return y_train.squeeze()\n",
    "        \n",
    "random.seed(100)\n",
    "def ampute_nan_values(X_train,y_train,col_name, perc):\n",
    "    index = get_an_index(X_train.index)\n",
    "    sample_size = get_sample_size(X_train, perc)\n",
    "    selected_index = random.sample(index, sample_size)\n",
    "    y_train = convert_to_dataframe(y_train)\n",
    "    for i in selected_index:\n",
    "        if col_name in X_train.columns:\n",
    "            X_train.at[i,col_name]= np.NaN\n",
    "        else:\n",
    "            X_train.loc[i] = np.NaN\n",
    "        y_train.loc[i] = np.NaN\n",
    "    y_train = convert_to_series(y_train)\n",
    "    return X_train, y_train"
   ]
  },
  {
   "cell_type": "markdown",
   "id": "1b2f6f47",
   "metadata": {},
   "source": [
    "### Split the data into train and test"
   ]
  },
  {
   "cell_type": "code",
   "execution_count": 5,
   "id": "f3a15ca5",
   "metadata": {},
   "outputs": [
    {
     "name": "stdout",
     "output_type": "stream",
     "text": [
      "(352767, 28)\n",
      "(352767,)\n"
     ]
    }
   ],
   "source": [
    "X = tripdata.drop('tripduration', axis=1)\n",
    "y = tripdata['tripduration']\n",
    "print(X.shape)\n",
    "print(y.shape)"
   ]
  },
  {
   "cell_type": "code",
   "execution_count": 6,
   "id": "b6aef019",
   "metadata": {},
   "outputs": [
    {
     "name": "stdout",
     "output_type": "stream",
     "text": [
      "Train (282213, 28) (282213,)\n",
      "Test (70554, 28) (70554,)\n"
     ]
    }
   ],
   "source": [
    "X_train, X_test, y_train, y_test = train_test_split(X, y, test_size=0.2, random_state=42)\n",
    "# summarize\n",
    "print('Train', X_train.shape, y_train.shape)\n",
    "print('Test', X_test.shape, y_test.shape)"
   ]
  },
  {
   "cell_type": "markdown",
   "id": "2cb80d90",
   "metadata": {},
   "source": [
    "### Ampute on Train data"
   ]
  },
  {
   "cell_type": "code",
   "execution_count": 7,
   "id": "0f00e406",
   "metadata": {},
   "outputs": [],
   "source": [
    "X_train , y_train = ampute_nan_values(X_train,y_train,\"birthyear\",perc=5)"
   ]
  },
  {
   "cell_type": "code",
   "execution_count": 8,
   "id": "05fab535",
   "metadata": {},
   "outputs": [
    {
     "name": "stdout",
     "output_type": "stream",
     "text": [
      "Train after amputation (282213, 28) (282213,)\n",
      "start_lat             0\n",
      "start_lon             0\n",
      "end_lat               0\n",
      "end_lon               0\n",
      "usertype              0\n",
      "gender                0\n",
      "dist                  0\n",
      "birthyear         14111\n",
      "date                  0\n",
      "month                 0\n",
      "day                   0\n",
      "hour                  0\n",
      "min                   0\n",
      "year                  0\n",
      "years_old             0\n",
      "holiday               0\n",
      "datetime              0\n",
      "temp                  0\n",
      "feelslike             0\n",
      "precip                0\n",
      "dew                   0\n",
      "humidity              0\n",
      "snow                  0\n",
      "windspeed             0\n",
      "visibility            0\n",
      "solarradiation        0\n",
      "conditions            0\n",
      "seasons               0\n",
      "dtype: int64\n"
     ]
    }
   ],
   "source": [
    "print('Train after amputation', X_train.shape, y_train.shape)\n",
    "print(X_train.isnull().sum())"
   ]
  },
  {
   "cell_type": "code",
   "execution_count": 9,
   "id": "d9c95270",
   "metadata": {},
   "outputs": [
    {
     "name": "stdout",
     "output_type": "stream",
     "text": [
      "14111\n"
     ]
    }
   ],
   "source": [
    "print(y_train.isnull().sum())"
   ]
  },
  {
   "cell_type": "markdown",
   "id": "7a04998b",
   "metadata": {},
   "source": [
    "#### 1. Imputation Remove just remove NA"
   ]
  },
  {
   "cell_type": "code",
   "execution_count": 10,
   "id": "4c0b025d",
   "metadata": {},
   "outputs": [],
   "source": [
    "X_train.dropna(axis=0, inplace=True)\n",
    "y_train.dropna(inplace=True)"
   ]
  },
  {
   "cell_type": "code",
   "execution_count": 11,
   "id": "f9059dac",
   "metadata": {},
   "outputs": [
    {
     "name": "stdout",
     "output_type": "stream",
     "text": [
      "Train after Imputation (268102, 28) (268102,)\n"
     ]
    }
   ],
   "source": [
    "print('Train after Imputation', X_train.shape, y_train.shape)"
   ]
  },
  {
   "cell_type": "markdown",
   "id": "90f37220",
   "metadata": {},
   "source": [
    " ### Amputation on Test data"
   ]
  },
  {
   "cell_type": "code",
   "execution_count": 12,
   "id": "3a98d576",
   "metadata": {},
   "outputs": [],
   "source": [
    "X_test , y_test = ampute_nan_values(X_test,y_test,\"birthyear\",perc=5)"
   ]
  },
  {
   "cell_type": "code",
   "execution_count": 13,
   "id": "862ac11c",
   "metadata": {},
   "outputs": [
    {
     "name": "stdout",
     "output_type": "stream",
     "text": [
      "Test after amputation (70554, 28) (70554,)\n",
      "start_lat            0\n",
      "start_lon            0\n",
      "end_lat              0\n",
      "end_lon              0\n",
      "usertype             0\n",
      "gender               0\n",
      "dist                 0\n",
      "birthyear         3528\n",
      "date                 0\n",
      "month                0\n",
      "day                  0\n",
      "hour                 0\n",
      "min                  0\n",
      "year                 0\n",
      "years_old            0\n",
      "holiday              0\n",
      "datetime             0\n",
      "temp                 0\n",
      "feelslike            0\n",
      "precip               0\n",
      "dew                  0\n",
      "humidity             0\n",
      "snow                 0\n",
      "windspeed            0\n",
      "visibility           0\n",
      "solarradiation       0\n",
      "conditions           0\n",
      "seasons              0\n",
      "dtype: int64\n"
     ]
    }
   ],
   "source": [
    "print('Test after amputation', X_test.shape, y_test.shape)\n",
    "print(X_test.isnull().sum())"
   ]
  },
  {
   "cell_type": "code",
   "execution_count": 14,
   "id": "b04b3609",
   "metadata": {},
   "outputs": [
    {
     "name": "stdout",
     "output_type": "stream",
     "text": [
      "3528\n"
     ]
    }
   ],
   "source": [
    "print(y_test.isnull().sum())"
   ]
  },
  {
   "cell_type": "code",
   "execution_count": 15,
   "id": "8024aef0",
   "metadata": {},
   "outputs": [],
   "source": [
    "X_test.dropna(axis=0, inplace=True)\n",
    "y_test.dropna(inplace=True)"
   ]
  },
  {
   "cell_type": "code",
   "execution_count": 16,
   "id": "ab27d867",
   "metadata": {},
   "outputs": [
    {
     "name": "stdout",
     "output_type": "stream",
     "text": [
      "Train after Imputation (67026, 28) (67026,)\n"
     ]
    }
   ],
   "source": [
    "print('Train after Imputation', X_test.shape, y_test.shape)"
   ]
  },
  {
   "cell_type": "markdown",
   "id": "b119c026",
   "metadata": {},
   "source": [
    "### One hot encoding for categorical values on Train"
   ]
  },
  {
   "cell_type": "code",
   "execution_count": 17,
   "id": "b53b2c5a",
   "metadata": {},
   "outputs": [],
   "source": [
    "df_oh_train = X_train"
   ]
  },
  {
   "cell_type": "code",
   "execution_count": 18,
   "id": "5f80d8f9",
   "metadata": {},
   "outputs": [
    {
     "data": {
      "text/plain": [
       "['usertype',\n",
       " 'date',\n",
       " 'month',\n",
       " 'day',\n",
       " 'holiday',\n",
       " 'datetime',\n",
       " 'conditions',\n",
       " 'seasons']"
      ]
     },
     "execution_count": 18,
     "metadata": {},
     "output_type": "execute_result"
    }
   ],
   "source": [
    "from dython.nominal import associations\n",
    "from dython.nominal import identify_nominal_columns\n",
    "categorical_features=identify_nominal_columns(df_oh_train)\n",
    "categorical_features"
   ]
  },
  {
   "cell_type": "code",
   "execution_count": 19,
   "id": "87477d74",
   "metadata": {},
   "outputs": [
    {
     "data": {
      "text/html": [
       "<div>\n",
       "<style scoped>\n",
       "    .dataframe tbody tr th:only-of-type {\n",
       "        vertical-align: middle;\n",
       "    }\n",
       "\n",
       "    .dataframe tbody tr th {\n",
       "        vertical-align: top;\n",
       "    }\n",
       "\n",
       "    .dataframe thead th {\n",
       "        text-align: right;\n",
       "    }\n",
       "</style>\n",
       "<table border=\"1\" class=\"dataframe\">\n",
       "  <thead>\n",
       "    <tr style=\"text-align: right;\">\n",
       "      <th></th>\n",
       "      <th>start_lat</th>\n",
       "      <th>start_lon</th>\n",
       "      <th>end_lat</th>\n",
       "      <th>end_lon</th>\n",
       "      <th>gender</th>\n",
       "      <th>dist</th>\n",
       "      <th>birthyear</th>\n",
       "      <th>hour</th>\n",
       "      <th>min</th>\n",
       "      <th>year</th>\n",
       "      <th>...</th>\n",
       "      <th>conditions_Rain, Overcast</th>\n",
       "      <th>conditions_Rain, Partially cloudy</th>\n",
       "      <th>conditions_Snow</th>\n",
       "      <th>conditions_Snow, Partially cloudy</th>\n",
       "      <th>conditions_Snow, Rain</th>\n",
       "      <th>conditions_Snow, Rain, Overcast</th>\n",
       "      <th>conditions_Snow, Rain, Partially cloudy</th>\n",
       "      <th>seasons_spring</th>\n",
       "      <th>seasons_summer</th>\n",
       "      <th>seasons_winter</th>\n",
       "    </tr>\n",
       "  </thead>\n",
       "  <tbody>\n",
       "    <tr>\n",
       "      <th>94163</th>\n",
       "      <td>40.723332</td>\n",
       "      <td>-74.045953</td>\n",
       "      <td>40.719586</td>\n",
       "      <td>-74.043117</td>\n",
       "      <td>2</td>\n",
       "      <td>0.3</td>\n",
       "      <td>1988.0</td>\n",
       "      <td>9</td>\n",
       "      <td>9</td>\n",
       "      <td>2018</td>\n",
       "      <td>...</td>\n",
       "      <td>0</td>\n",
       "      <td>1</td>\n",
       "      <td>0</td>\n",
       "      <td>0</td>\n",
       "      <td>0</td>\n",
       "      <td>0</td>\n",
       "      <td>0</td>\n",
       "      <td>1</td>\n",
       "      <td>0</td>\n",
       "      <td>0</td>\n",
       "    </tr>\n",
       "    <tr>\n",
       "      <th>56258</th>\n",
       "      <td>40.727596</td>\n",
       "      <td>-74.044247</td>\n",
       "      <td>40.727224</td>\n",
       "      <td>-74.033759</td>\n",
       "      <td>1</td>\n",
       "      <td>0.5</td>\n",
       "      <td>1979.0</td>\n",
       "      <td>8</td>\n",
       "      <td>6</td>\n",
       "      <td>2018</td>\n",
       "      <td>...</td>\n",
       "      <td>0</td>\n",
       "      <td>0</td>\n",
       "      <td>0</td>\n",
       "      <td>0</td>\n",
       "      <td>0</td>\n",
       "      <td>0</td>\n",
       "      <td>0</td>\n",
       "      <td>1</td>\n",
       "      <td>0</td>\n",
       "      <td>0</td>\n",
       "    </tr>\n",
       "    <tr>\n",
       "      <th>161501</th>\n",
       "      <td>40.727224</td>\n",
       "      <td>-74.033759</td>\n",
       "      <td>40.724176</td>\n",
       "      <td>-74.050656</td>\n",
       "      <td>0</td>\n",
       "      <td>0.9</td>\n",
       "      <td>1969.0</td>\n",
       "      <td>12</td>\n",
       "      <td>1</td>\n",
       "      <td>2018</td>\n",
       "      <td>...</td>\n",
       "      <td>0</td>\n",
       "      <td>0</td>\n",
       "      <td>0</td>\n",
       "      <td>0</td>\n",
       "      <td>0</td>\n",
       "      <td>0</td>\n",
       "      <td>0</td>\n",
       "      <td>0</td>\n",
       "      <td>1</td>\n",
       "      <td>0</td>\n",
       "    </tr>\n",
       "    <tr>\n",
       "      <th>27013</th>\n",
       "      <td>40.724294</td>\n",
       "      <td>-74.035483</td>\n",
       "      <td>40.727224</td>\n",
       "      <td>-74.033759</td>\n",
       "      <td>1</td>\n",
       "      <td>0.2</td>\n",
       "      <td>1989.0</td>\n",
       "      <td>18</td>\n",
       "      <td>29</td>\n",
       "      <td>2018</td>\n",
       "      <td>...</td>\n",
       "      <td>0</td>\n",
       "      <td>0</td>\n",
       "      <td>0</td>\n",
       "      <td>0</td>\n",
       "      <td>0</td>\n",
       "      <td>0</td>\n",
       "      <td>0</td>\n",
       "      <td>0</td>\n",
       "      <td>0</td>\n",
       "      <td>1</td>\n",
       "    </tr>\n",
       "    <tr>\n",
       "      <th>69663</th>\n",
       "      <td>40.716247</td>\n",
       "      <td>-74.033459</td>\n",
       "      <td>40.716490</td>\n",
       "      <td>-74.041050</td>\n",
       "      <td>1</td>\n",
       "      <td>0.4</td>\n",
       "      <td>1970.0</td>\n",
       "      <td>16</td>\n",
       "      <td>17</td>\n",
       "      <td>2018</td>\n",
       "      <td>...</td>\n",
       "      <td>0</td>\n",
       "      <td>0</td>\n",
       "      <td>0</td>\n",
       "      <td>0</td>\n",
       "      <td>0</td>\n",
       "      <td>0</td>\n",
       "      <td>0</td>\n",
       "      <td>1</td>\n",
       "      <td>0</td>\n",
       "      <td>0</td>\n",
       "    </tr>\n",
       "  </tbody>\n",
       "</table>\n",
       "<p>5 rows × 775 columns</p>\n",
       "</div>"
      ],
      "text/plain": [
       "        start_lat  start_lon    end_lat    end_lon  gender  dist  birthyear  \\\n",
       "94163   40.723332 -74.045953  40.719586 -74.043117       2   0.3     1988.0   \n",
       "56258   40.727596 -74.044247  40.727224 -74.033759       1   0.5     1979.0   \n",
       "161501  40.727224 -74.033759  40.724176 -74.050656       0   0.9     1969.0   \n",
       "27013   40.724294 -74.035483  40.727224 -74.033759       1   0.2     1989.0   \n",
       "69663   40.716247 -74.033459  40.716490 -74.041050       1   0.4     1970.0   \n",
       "\n",
       "        hour  min  year  ...  conditions_Rain, Overcast  \\\n",
       "94163      9    9  2018  ...                          0   \n",
       "56258      8    6  2018  ...                          0   \n",
       "161501    12    1  2018  ...                          0   \n",
       "27013     18   29  2018  ...                          0   \n",
       "69663     16   17  2018  ...                          0   \n",
       "\n",
       "        conditions_Rain, Partially cloudy  conditions_Snow  \\\n",
       "94163                                   1                0   \n",
       "56258                                   0                0   \n",
       "161501                                  0                0   \n",
       "27013                                   0                0   \n",
       "69663                                   0                0   \n",
       "\n",
       "        conditions_Snow, Partially cloudy  conditions_Snow, Rain  \\\n",
       "94163                                   0                      0   \n",
       "56258                                   0                      0   \n",
       "161501                                  0                      0   \n",
       "27013                                   0                      0   \n",
       "69663                                   0                      0   \n",
       "\n",
       "        conditions_Snow, Rain, Overcast  \\\n",
       "94163                                 0   \n",
       "56258                                 0   \n",
       "161501                                0   \n",
       "27013                                 0   \n",
       "69663                                 0   \n",
       "\n",
       "        conditions_Snow, Rain, Partially cloudy  seasons_spring  \\\n",
       "94163                                         0               1   \n",
       "56258                                         0               1   \n",
       "161501                                        0               0   \n",
       "27013                                         0               0   \n",
       "69663                                         0               1   \n",
       "\n",
       "        seasons_summer  seasons_winter  \n",
       "94163                0               0  \n",
       "56258                0               0  \n",
       "161501               1               0  \n",
       "27013                0               1  \n",
       "69663                0               0  \n",
       "\n",
       "[5 rows x 775 columns]"
      ]
     },
     "execution_count": 19,
     "metadata": {},
     "output_type": "execute_result"
    }
   ],
   "source": [
    "def one_hot_encoding(data, column):\n",
    "    data = pd.concat([data, pd.get_dummies(data[column], prefix=column, drop_first=True)], axis=1)\n",
    "    data = data.drop([column], axis=1)\n",
    "    return data\n",
    "\n",
    "cols = ['usertype','date','month','day','holiday','datetime','conditions','seasons']\n",
    "\n",
    "for col in cols:\n",
    "    df_oh_train = one_hot_encoding(df_oh_train, col)\n",
    "df_oh_train.head()\n"
   ]
  },
  {
   "cell_type": "code",
   "execution_count": 20,
   "id": "7ac2eb21",
   "metadata": {},
   "outputs": [],
   "source": [
    "X_train = df_oh_train.astype('float32')\n",
    "y_train = y_train.astype('float32')"
   ]
  },
  {
   "cell_type": "markdown",
   "id": "c80fe8fe",
   "metadata": {},
   "source": [
    "### One hot encoding for categorical values on Test"
   ]
  },
  {
   "cell_type": "code",
   "execution_count": 21,
   "id": "3f0d06ef",
   "metadata": {},
   "outputs": [],
   "source": [
    "df_oh_test = X_test"
   ]
  },
  {
   "cell_type": "code",
   "execution_count": 22,
   "id": "01a22a91",
   "metadata": {},
   "outputs": [
    {
     "data": {
      "text/html": [
       "<div>\n",
       "<style scoped>\n",
       "    .dataframe tbody tr th:only-of-type {\n",
       "        vertical-align: middle;\n",
       "    }\n",
       "\n",
       "    .dataframe tbody tr th {\n",
       "        vertical-align: top;\n",
       "    }\n",
       "\n",
       "    .dataframe thead th {\n",
       "        text-align: right;\n",
       "    }\n",
       "</style>\n",
       "<table border=\"1\" class=\"dataframe\">\n",
       "  <thead>\n",
       "    <tr style=\"text-align: right;\">\n",
       "      <th></th>\n",
       "      <th>start_lat</th>\n",
       "      <th>start_lon</th>\n",
       "      <th>end_lat</th>\n",
       "      <th>end_lon</th>\n",
       "      <th>gender</th>\n",
       "      <th>dist</th>\n",
       "      <th>birthyear</th>\n",
       "      <th>hour</th>\n",
       "      <th>min</th>\n",
       "      <th>year</th>\n",
       "      <th>...</th>\n",
       "      <th>conditions_Rain, Overcast</th>\n",
       "      <th>conditions_Rain, Partially cloudy</th>\n",
       "      <th>conditions_Snow</th>\n",
       "      <th>conditions_Snow, Partially cloudy</th>\n",
       "      <th>conditions_Snow, Rain</th>\n",
       "      <th>conditions_Snow, Rain, Overcast</th>\n",
       "      <th>conditions_Snow, Rain, Partially cloudy</th>\n",
       "      <th>seasons_spring</th>\n",
       "      <th>seasons_summer</th>\n",
       "      <th>seasons_winter</th>\n",
       "    </tr>\n",
       "  </thead>\n",
       "  <tbody>\n",
       "    <tr>\n",
       "      <th>292209</th>\n",
       "      <td>40.718489</td>\n",
       "      <td>-74.047727</td>\n",
       "      <td>40.718489</td>\n",
       "      <td>-74.047727</td>\n",
       "      <td>2</td>\n",
       "      <td>0.0</td>\n",
       "      <td>1989.0</td>\n",
       "      <td>15</td>\n",
       "      <td>36</td>\n",
       "      <td>2018</td>\n",
       "      <td>...</td>\n",
       "      <td>1</td>\n",
       "      <td>0</td>\n",
       "      <td>0</td>\n",
       "      <td>0</td>\n",
       "      <td>0</td>\n",
       "      <td>0</td>\n",
       "      <td>0</td>\n",
       "      <td>0</td>\n",
       "      <td>0</td>\n",
       "      <td>0</td>\n",
       "    </tr>\n",
       "    <tr>\n",
       "      <th>19585</th>\n",
       "      <td>40.727224</td>\n",
       "      <td>-74.033759</td>\n",
       "      <td>40.721124</td>\n",
       "      <td>-74.038051</td>\n",
       "      <td>2</td>\n",
       "      <td>0.5</td>\n",
       "      <td>1985.0</td>\n",
       "      <td>19</td>\n",
       "      <td>12</td>\n",
       "      <td>2018</td>\n",
       "      <td>...</td>\n",
       "      <td>0</td>\n",
       "      <td>0</td>\n",
       "      <td>0</td>\n",
       "      <td>0</td>\n",
       "      <td>0</td>\n",
       "      <td>0</td>\n",
       "      <td>0</td>\n",
       "      <td>0</td>\n",
       "      <td>0</td>\n",
       "      <td>1</td>\n",
       "    </tr>\n",
       "    <tr>\n",
       "      <th>116919</th>\n",
       "      <td>40.728745</td>\n",
       "      <td>-74.032108</td>\n",
       "      <td>40.716247</td>\n",
       "      <td>-74.033459</td>\n",
       "      <td>1</td>\n",
       "      <td>0.9</td>\n",
       "      <td>1986.0</td>\n",
       "      <td>12</td>\n",
       "      <td>0</td>\n",
       "      <td>2018</td>\n",
       "      <td>...</td>\n",
       "      <td>0</td>\n",
       "      <td>1</td>\n",
       "      <td>0</td>\n",
       "      <td>0</td>\n",
       "      <td>0</td>\n",
       "      <td>0</td>\n",
       "      <td>0</td>\n",
       "      <td>0</td>\n",
       "      <td>1</td>\n",
       "      <td>0</td>\n",
       "    </tr>\n",
       "    <tr>\n",
       "      <th>138648</th>\n",
       "      <td>40.716490</td>\n",
       "      <td>-74.041050</td>\n",
       "      <td>40.727224</td>\n",
       "      <td>-74.033759</td>\n",
       "      <td>1</td>\n",
       "      <td>0.8</td>\n",
       "      <td>1986.0</td>\n",
       "      <td>8</td>\n",
       "      <td>6</td>\n",
       "      <td>2018</td>\n",
       "      <td>...</td>\n",
       "      <td>0</td>\n",
       "      <td>0</td>\n",
       "      <td>0</td>\n",
       "      <td>0</td>\n",
       "      <td>0</td>\n",
       "      <td>0</td>\n",
       "      <td>0</td>\n",
       "      <td>0</td>\n",
       "      <td>1</td>\n",
       "      <td>0</td>\n",
       "    </tr>\n",
       "    <tr>\n",
       "      <th>46042</th>\n",
       "      <td>40.714145</td>\n",
       "      <td>-74.033552</td>\n",
       "      <td>40.727224</td>\n",
       "      <td>-74.033759</td>\n",
       "      <td>2</td>\n",
       "      <td>0.9</td>\n",
       "      <td>1986.0</td>\n",
       "      <td>13</td>\n",
       "      <td>34</td>\n",
       "      <td>2018</td>\n",
       "      <td>...</td>\n",
       "      <td>0</td>\n",
       "      <td>0</td>\n",
       "      <td>0</td>\n",
       "      <td>0</td>\n",
       "      <td>0</td>\n",
       "      <td>0</td>\n",
       "      <td>1</td>\n",
       "      <td>1</td>\n",
       "      <td>0</td>\n",
       "      <td>0</td>\n",
       "    </tr>\n",
       "  </tbody>\n",
       "</table>\n",
       "<p>5 rows × 775 columns</p>\n",
       "</div>"
      ],
      "text/plain": [
       "        start_lat  start_lon    end_lat    end_lon  gender  dist  birthyear  \\\n",
       "292209  40.718489 -74.047727  40.718489 -74.047727       2   0.0     1989.0   \n",
       "19585   40.727224 -74.033759  40.721124 -74.038051       2   0.5     1985.0   \n",
       "116919  40.728745 -74.032108  40.716247 -74.033459       1   0.9     1986.0   \n",
       "138648  40.716490 -74.041050  40.727224 -74.033759       1   0.8     1986.0   \n",
       "46042   40.714145 -74.033552  40.727224 -74.033759       2   0.9     1986.0   \n",
       "\n",
       "        hour  min  year  ...  conditions_Rain, Overcast  \\\n",
       "292209    15   36  2018  ...                          1   \n",
       "19585     19   12  2018  ...                          0   \n",
       "116919    12    0  2018  ...                          0   \n",
       "138648     8    6  2018  ...                          0   \n",
       "46042     13   34  2018  ...                          0   \n",
       "\n",
       "        conditions_Rain, Partially cloudy  conditions_Snow  \\\n",
       "292209                                  0                0   \n",
       "19585                                   0                0   \n",
       "116919                                  1                0   \n",
       "138648                                  0                0   \n",
       "46042                                   0                0   \n",
       "\n",
       "        conditions_Snow, Partially cloudy  conditions_Snow, Rain  \\\n",
       "292209                                  0                      0   \n",
       "19585                                   0                      0   \n",
       "116919                                  0                      0   \n",
       "138648                                  0                      0   \n",
       "46042                                   0                      0   \n",
       "\n",
       "        conditions_Snow, Rain, Overcast  \\\n",
       "292209                                0   \n",
       "19585                                 0   \n",
       "116919                                0   \n",
       "138648                                0   \n",
       "46042                                 0   \n",
       "\n",
       "        conditions_Snow, Rain, Partially cloudy  seasons_spring  \\\n",
       "292209                                        0               0   \n",
       "19585                                         0               0   \n",
       "116919                                        0               0   \n",
       "138648                                        0               0   \n",
       "46042                                         1               1   \n",
       "\n",
       "        seasons_summer  seasons_winter  \n",
       "292209               0               0  \n",
       "19585                0               1  \n",
       "116919               1               0  \n",
       "138648               1               0  \n",
       "46042                0               0  \n",
       "\n",
       "[5 rows x 775 columns]"
      ]
     },
     "execution_count": 22,
     "metadata": {},
     "output_type": "execute_result"
    }
   ],
   "source": [
    "def one_hot_encoding(data, column):\n",
    "    data = pd.concat([data, pd.get_dummies(data[column], prefix=column, drop_first=True)], axis=1)\n",
    "    data = data.drop([column], axis=1)\n",
    "    return data\n",
    "\n",
    "cols = ['usertype','date','month','day','holiday','datetime','conditions','seasons']\n",
    "\n",
    "for col in cols:\n",
    "    df_oh_test = one_hot_encoding(df_oh_test, col)\n",
    "df_oh_test.head()"
   ]
  },
  {
   "cell_type": "code",
   "execution_count": 23,
   "id": "6d57ee52",
   "metadata": {},
   "outputs": [],
   "source": [
    "X_test = df_oh_test.astype('float32')\n",
    "y_test = y_test.astype('float32')"
   ]
  },
  {
   "cell_type": "markdown",
   "id": "60d4cd9c",
   "metadata": {
    "id": "60d4cd9c"
   },
   "source": [
    "## Applay LinearRegression"
   ]
  },
  {
   "cell_type": "code",
   "execution_count": 43,
   "id": "1764462a",
   "metadata": {
    "id": "1764462a",
    "outputId": "b1031763-fbd6-473f-a217-79a15aa0382f"
   },
   "outputs": [],
   "source": [
    "model = linear_model.LinearRegression().fit(X_train, y_train) "
   ]
  },
  {
   "cell_type": "code",
   "execution_count": 44,
   "id": "4c2f7bab",
   "metadata": {},
   "outputs": [
    {
     "name": "stdout",
     "output_type": "stream",
     "text": [
      "19586818.0\n"
     ]
    }
   ],
   "source": [
    "print(model.intercept_)"
   ]
  },
  {
   "cell_type": "code",
   "execution_count": 45,
   "id": "89aec9da",
   "metadata": {},
   "outputs": [
    {
     "name": "stdout",
     "output_type": "stream",
     "text": [
      "[-1.83752734e+03 -3.56871979e+02  3.38820496e+02 -1.10993372e+03\n",
      "  2.01678581e+01  3.10573853e+02  1.64819824e+02  4.55042267e+00\n",
      "  1.10975266e-01 -9.89978125e+03  1.67059341e+02  2.27107007e+03\n",
      " -3.48716992e+03  6.84556885e+01  2.13606714e+03 -2.96909302e+02\n",
      "  4.39944885e+02  5.87763672e+01  1.09275281e+03 -1.84075928e+00\n",
      " -9.88835205e+02  1.07649150e+04 -5.55112122e+02 -8.21126465e+03\n",
      " -3.08657495e+03 -9.02289551e+03  8.00974072e+03  2.59398999e+03\n",
      "  5.17049789e+01  4.10808887e+03  3.31534497e+03 -1.04499292e+03\n",
      "  8.56804199e+03 -1.47553540e+03 -1.13662109e+03  6.90041357e+03\n",
      "  2.45132764e+03  1.01530098e+02  2.14624710e+02 -6.82996338e+02\n",
      "  3.98532324e+03  8.28421265e+02  7.98173981e+01 -1.61609717e+03\n",
      "  3.20310181e+03  5.30686523e+03  6.29123779e+02  1.57623669e+03\n",
      " -1.90925183e+03  2.17648779e+03  1.19294702e+03  1.41311401e+03\n",
      " -2.04284753e+03 -1.88848755e+03  1.03649390e+03 -1.48638641e+02\n",
      "  2.47219946e+03  2.53766037e+02 -3.68197900e+03 -4.55529022e+02\n",
      "  1.87653284e+03  1.79031262e+03  8.79334259e+01 -3.95383667e+02\n",
      " -5.85120239e+02  1.09535596e+03 -1.56367371e+03  1.23260083e+03\n",
      "  1.43379614e+03  8.63855957e+02  3.45356232e+02 -1.94704468e+03\n",
      " -1.24544092e+03  4.83746643e+02 -1.34001672e+03 -9.24105164e+02\n",
      "  8.60539185e+02  1.96277649e+03  7.49350098e+02  3.02546906e+02\n",
      " -3.15797705e+03 -4.24392578e+03 -2.99899731e+03 -2.20568945e+03\n",
      " -7.28280762e+02 -8.05968140e+02 -1.65397205e+03 -2.41445410e+03\n",
      " -1.79073315e+03  2.79300873e+02 -2.13687378e+03 -2.36780777e+02\n",
      " -1.51175537e+03 -3.78634375e+03 -1.92629919e+03  5.76197632e+02\n",
      "  4.48022168e+03  3.48198560e+03  1.32195093e+03 -6.52301575e+02\n",
      " -2.04441980e+03  4.37576447e+02  1.94189783e+03 -1.02096381e+03\n",
      "  8.03492615e+02  2.51242383e+03  7.56162109e+02  2.62359058e+03\n",
      "  9.05627747e+02  2.55361572e+03 -2.74407935e+03 -4.71535059e+03\n",
      " -2.19526562e+03  4.97030615e+03 -1.23381921e+03  7.29998352e+02\n",
      " -7.81361450e+02 -6.12767395e+02  2.31221497e+02  1.67714661e+03\n",
      "  2.56356982e+03 -1.84326904e+02 -1.95381665e+03 -7.39828369e+02\n",
      " -4.98748975e+03 -4.90538379e+03 -1.29534888e+03 -9.61151489e+02\n",
      " -2.44280005e+03 -1.95489258e+03  2.48522388e+03  5.64903955e+03\n",
      "  8.73137146e+02  8.74243774e+01 -2.13335785e+02 -4.81472931e+02\n",
      "  3.10514343e+02  8.72070435e+02 -1.84642883e+03 -2.37691650e+03\n",
      "  6.19797314e+03  3.37918433e+03 -4.26427197e+03 -2.86234937e+03\n",
      "  3.95272998e+03  1.62224503e+02 -1.49649756e+03 -8.95518372e+02\n",
      " -7.21726440e+02 -2.15597534e+03  2.31625513e+03  1.01700110e+03\n",
      "  5.58623291e+02  3.63592310e+03 -6.22396484e+02  2.84226593e+02\n",
      "  2.10729492e+03 -9.25338840e+00  3.74868530e+03  1.65301514e+02\n",
      " -2.70354828e+02  2.50245337e+03  1.06402710e+03  2.10241016e+03\n",
      " -2.57443994e+03 -1.04271729e+03 -1.88501367e+03  1.53551965e+03\n",
      " -1.37603333e+03 -1.02493201e+03  2.23371924e+03  9.18809509e+02\n",
      " -2.12586133e+03 -9.51973755e+02  9.07006653e+02 -2.80563403e+03\n",
      "  1.54997192e+03 -1.60486084e+03 -5.26633728e+02 -1.16493263e+02\n",
      "  1.78841568e+02  7.79382324e+02  4.87447540e+02 -5.65196594e+02\n",
      " -5.59007690e+02  3.63581909e+02  9.80110779e+02 -9.50466766e+01\n",
      "  2.30345932e+02  7.27915344e+02 -4.52194214e+01 -8.60398483e+00\n",
      " -8.63175781e+02 -1.31497221e+01  1.34661316e+02  3.47904999e+02\n",
      " -1.36979663e+03 -1.92217139e+03 -1.56727161e+03 -7.41119446e+02\n",
      " -1.05317456e+03  1.55450317e+03  1.05726245e+03  5.18785706e+02\n",
      "  2.68971069e+03 -1.93576990e+03 -1.09893286e+03  1.05708752e+03\n",
      "  1.76705017e+03  6.47868347e+02  8.30797485e+02  1.69639145e+02\n",
      "  1.52851697e+03  8.64586731e+02  2.30862305e+02 -1.28587366e+03\n",
      " -1.69109485e+03  6.91791260e+02 -1.27024872e+02  1.29148047e+03\n",
      " -6.34748474e+02 -3.15448883e+02 -2.19817456e+03 -1.50290869e+03\n",
      " -1.26298328e+03 -1.47628955e+03 -8.51205872e+02 -1.69543182e+02\n",
      "  1.37739417e+03 -7.24096924e+02 -2.34543384e+03 -1.57723889e+03\n",
      " -2.45474487e+03 -1.17701221e+03 -1.64104126e+03 -2.15805933e+03\n",
      "  8.61961121e+02  4.16709686e+02  1.59112488e+02 -1.90733496e+03\n",
      "  1.03787537e+03  9.54004395e+02 -9.12677429e+02  3.34201843e+02\n",
      " -1.62353979e+03  7.58913696e+02 -5.41967468e+02  1.88182104e+03\n",
      " -5.82672852e+02 -1.08383643e+03 -2.00543176e+03 -6.51643005e+02\n",
      " -1.64435510e+03 -3.87526970e+01  1.18256555e+03  5.63905823e+02\n",
      " -4.55532928e+02 -6.48274963e+02  1.13242358e+03 -1.65093298e+03\n",
      " -3.46166138e+03 -1.22193115e+03 -1.09678650e+03  3.19879360e+01\n",
      " -1.76887622e+03 -1.47072229e+03 -1.07709875e+03 -5.33134644e+02\n",
      "  9.17730896e+02  2.33096851e+03 -1.09433862e+03 -6.83425598e+02\n",
      " -5.29992065e+02  5.04457715e+03  1.68589099e+03  1.60056848e+03\n",
      " -3.59203369e+02 -1.40012354e+03 -1.18891467e+03  1.89550830e+03\n",
      "  1.87167709e+02  2.32142456e+03  2.80147217e+03  1.29863358e+02\n",
      " -1.60092072e+02 -5.71053345e+02 -3.22630640e+03 -7.78231323e+02\n",
      "  1.71597058e+03  1.99393640e+03 -5.30550110e+02 -1.28852661e+03\n",
      " -2.07831314e+02  1.70212317e+03  4.04304663e+03  1.26916272e+03\n",
      " -6.94674561e+02  1.16926184e+01  1.91635315e+02 -8.37148621e+02\n",
      " -3.94876068e+02  5.06999365e+03  6.62279907e+02 -2.94249658e+03\n",
      " -1.82293018e+03 -2.63923492e+02 -3.71523010e+02 -2.48946289e+03\n",
      " -6.01350635e+03 -8.96821191e+03  1.70922278e+03 -3.19683423e+03\n",
      " -3.17985815e+03 -1.85143152e+03 -9.67588623e+02 -4.34244287e+03\n",
      " -3.09317920e+03  4.02850739e+02 -5.01026855e+03 -4.39997803e+02\n",
      " -3.12033142e+02 -2.77632422e+03 -1.12499756e+03 -6.40314941e+03\n",
      " -2.78558075e+02 -6.47761047e+02 -3.33931335e+02 -2.00188934e+02\n",
      " -1.61320667e+03 -1.73466492e+03 -4.06244067e+03 -1.66841537e+02\n",
      "  7.42254883e+02  4.59368439e+02 -6.99952011e+01 -2.23988550e+03\n",
      "  2.94302185e+02  1.64536902e+03 -1.00264923e+03 -2.85921753e+03\n",
      "  1.32755273e+03  1.94745972e+03 -5.25631714e+02  2.02097095e+03\n",
      "  2.77639893e+03 -1.16428979e+03  1.92107422e+03 -6.74376221e+02\n",
      " -1.14880005e+02  1.57554989e+01  4.45681250e+03  3.75048999e+03\n",
      "  2.22980688e+03 -1.75954236e+03  3.31082489e+02  4.39161719e+03\n",
      " -2.97273755e+03  3.19750610e+03  4.20784363e+02  2.50621118e+03\n",
      "  2.03843948e+02  1.77805164e+03  1.77371170e+02  6.62549927e+02\n",
      " -5.03145172e+02  1.85100867e+03  1.18176892e+03 -1.20832141e+03\n",
      "  2.98969312e+03 -1.63870557e+03 -2.72746533e+03 -2.42376440e+03\n",
      "  1.44050684e+03  1.87177393e+03  3.69302521e+02 -2.62404639e+03\n",
      " -6.75254211e+01  1.95149817e+03 -3.08910095e+02  3.07787842e+02\n",
      " -1.94667831e+02  2.38038745e+03 -1.06316797e+03  8.46728638e+02\n",
      "  1.46240649e+03 -1.18712415e+03 -6.34700806e+02  4.56093896e+03\n",
      "  1.46653674e+03 -1.13994153e+03  9.89195740e+02 -2.29822827e+03\n",
      " -4.95191406e+03  1.29558486e+04  1.24348672e+04  1.19462627e+04\n",
      " -2.01782654e+02  5.33572327e+02 -1.26342227e+04  9.25811523e+03\n",
      " -4.44658928e+01 -6.90432178e+03  6.78003711e+03 -5.91257422e+03\n",
      "  2.01173047e+03 -9.83036316e+02 -5.68909180e+02 -3.31943237e+02\n",
      "  4.49024463e+03 -1.00286191e+04  2.24226904e+03 -7.78123736e-01\n",
      "  7.06396332e+01  2.92199365e+03 -1.61004248e+03  1.78671692e+03\n",
      "  1.88621948e+03  1.05640820e+03  5.61577100e+03  6.06346533e+03\n",
      "  1.13531105e+02  1.58476025e+03  4.21376953e+03  1.22282129e+03\n",
      "  1.05844275e+03 -1.96060278e+03  3.54396362e+03  8.17191040e+02\n",
      "  2.09032715e+02 -1.60294360e+03 -1.18117896e+03  1.48413623e+03\n",
      " -1.99129590e+03  1.60787427e+03 -5.82024658e+02  1.80211761e+02\n",
      "  5.23038101e+01  2.86543213e+03  1.99865076e+03 -1.79488391e+03\n",
      " -5.15970642e+02  2.51183212e+02 -3.64987152e+02 -1.93820337e+03\n",
      "  2.31849121e+03  4.87885162e+02  4.15678314e+02 -9.54327545e+01\n",
      " -4.46162646e+03 -2.45623901e+03 -1.48509277e+03  3.20780701e+02\n",
      " -2.64572998e+02  2.09702661e+03  2.35578174e+03 -8.11914825e+01\n",
      "  1.35670789e+03 -2.25463599e+03 -3.96288037e+03 -1.79107349e+03\n",
      " -2.31736938e+03  6.50136780e+02 -2.31801685e+03 -2.19273956e+02\n",
      " -2.13239990e+03 -3.81231982e+03  6.48031189e+02 -2.41738989e+03\n",
      "  5.07459351e+02 -1.49956567e+03 -5.77126770e+02 -2.01060144e+03\n",
      "  3.18278595e+02  4.39782129e+03  4.07278857e+03  2.93969879e+02\n",
      " -1.32928772e+03  1.29149976e+03 -1.02160088e+02  3.80132007e+03\n",
      " -1.60385779e+03 -2.54495712e+02  2.35635962e+03  7.70966675e+02\n",
      "  3.41590112e+03  1.98370984e+03  3.31140527e+03  7.83213745e+02\n",
      "  3.62331055e+03  3.25840381e+03  1.12283594e+03 -2.93428986e+02\n",
      "  9.94027893e+02  5.17935059e+02 -9.87008743e+01 -1.97761192e+01\n",
      "  5.74028564e+02  1.62389404e+03 -3.72438751e+02 -1.21500110e+03\n",
      " -5.29299756e+03 -5.53084766e+03 -4.07193018e+03 -2.05988184e+03\n",
      " -9.93679932e+02 -2.90763257e+03 -3.05484863e+03  3.22727148e+03\n",
      "  5.78043750e+03  2.40488696e+03 -7.08246399e+02  1.48192123e+02\n",
      " -2.39607315e+02 -4.24139771e+02 -2.01177136e+03 -4.59064880e+02\n",
      " -2.87356763e+03  7.27800488e+03  4.53529004e+03 -1.10103711e+03\n",
      " -4.02365869e+03 -9.64366760e+01 -8.75555603e+02  9.62636353e+02\n",
      " -9.63349792e+02  1.45390125e+03  1.39505823e+03  3.39777441e+03\n",
      "  1.88833899e+03  1.93912427e+03  4.02082947e+02 -9.58850159e+02\n",
      "  5.01323517e+02  1.96760583e+03  7.73707703e+02  4.47063525e+03\n",
      " -6.29434692e+02 -9.44100098e+02 -8.01146423e+02  9.66565613e+02\n",
      " -1.13396448e+03 -1.31457471e+03 -6.04294971e+03 -5.98742554e+02\n",
      "  1.76658981e+02 -1.66011829e+03 -2.08623608e+03 -1.54264514e+03\n",
      "  3.34576978e+03 -1.43811780e+03  1.04981189e+03  1.63166370e+03\n",
      "  3.51927515e+03  3.68727539e+03  4.51262543e+02 -1.99962964e+03\n",
      " -2.22273389e+03  4.65037018e+02  1.62608093e+03 -1.19171410e+02\n",
      " -2.42525488e+03 -7.10858215e+02  7.27145813e+02  3.32326324e+02\n",
      " -6.84079895e+02 -5.31119629e+02 -2.76153394e+03 -7.85696472e+02\n",
      "  1.79142342e+01 -3.23906250e+03 -1.22640063e+03  6.14102783e+02\n",
      " -4.61637695e+02 -1.48124109e+03 -2.27785620e+03 -1.53497144e+03\n",
      " -5.00534814e+03 -1.80014783e+03  1.52554529e+03  2.48517505e+03\n",
      "  1.61395728e+03  2.23662524e+03  1.21457629e+03 -2.26168237e+03\n",
      "  2.83458936e+03  3.20970459e+02 -1.20989758e+03 -2.54419092e+03\n",
      " -2.82988403e+03 -2.12073975e+03 -2.29026978e+03 -2.12486279e+03\n",
      " -8.66224365e+01  8.82939087e+02 -1.49323853e+03 -2.94072296e+02\n",
      "  4.21327454e+02 -2.13762866e+03 -3.32713562e+02 -1.87857092e+03\n",
      " -1.90232166e+03 -2.96553052e+03 -3.77510205e+03 -3.37789612e+02\n",
      " -3.12274567e+02  1.36788342e+03 -8.79575491e-01 -4.64321191e+03\n",
      " -3.13414819e+03  1.54002771e+03 -4.15539970e+01 -3.09164136e+03\n",
      " -1.09666614e+03 -3.59428101e+03  1.71606848e+03  4.57166016e+03\n",
      "  5.03050518e+00 -1.71497437e+03 -1.01234387e+03 -1.42483069e+03\n",
      " -1.67754224e+03 -2.08251733e+03 -1.93892700e+03 -7.44108337e+02\n",
      " -1.45083777e+03  5.38514209e+03 -5.23012543e+01 -1.22789429e+03\n",
      "  1.62741382e+03 -1.85884705e+03 -2.59613525e+03  3.90721344e+02\n",
      " -1.45361267e+03 -1.82480627e+03 -3.19617126e+02 -9.82408630e+02\n",
      "  7.29421826e+03  7.33588574e+03  4.09897614e+02 -3.21265112e+03\n",
      " -4.31574561e+03 -4.17882031e+03  1.25241785e+03 -1.04595691e+03\n",
      " -3.45983740e+03 -1.87155920e+03 -9.58776074e+03 -8.06223755e+02\n",
      "  1.44016248e+03  3.65723755e+03 -1.13058533e+03 -2.26286035e+03\n",
      " -7.80419727e+03 -1.54299597e+03 -3.94787988e+03 -4.44978662e+03\n",
      " -8.88698828e+03 -8.12065332e+03 -7.60670361e+03 -1.89633423e+03\n",
      " -1.58977063e+03 -1.48261279e+03  6.24813293e+02  2.03229883e+03\n",
      "  2.18651276e+01 -5.64553760e+03 -2.20705566e+03  1.62121326e+03\n",
      "  1.30107947e+03  6.15202713e+01 -6.78448389e+03 -8.62057617e+03\n",
      " -5.38292920e+03 -2.32579517e+03 -2.23243457e+03  2.83541187e+03\n",
      " -3.63926587e+03 -4.16274872e+02 -7.72497900e+03 -7.75283203e+03\n",
      " -4.01798999e+03  4.28226172e+03  4.26069385e+03  1.86785864e+03\n",
      "  1.16331958e+03  5.24959229e+03  1.28097451e+04 -4.53437012e+02\n",
      "  5.29951953e+03  5.75240723e+03 -1.38152075e+03  2.30056641e+03\n",
      "  8.54792090e+03  3.36333081e+03 -4.15538672e+03  8.06225586e+03\n",
      "  2.44170944e+02  9.02980042e+02  6.00780469e+03  2.28775220e+03\n",
      "  1.02032666e+04 -9.71018982e+02 -3.35057544e+03  4.56250732e+03\n",
      "  2.55489844e+03  7.02320752e+03  9.28746680e+03  7.01074609e+03\n",
      "  3.56247021e+03  1.87062878e+03 -2.05106323e+03  7.92294250e+02\n",
      "  9.43256250e+03 -1.25112976e+03 -4.39136377e+03 -1.31630957e+03\n",
      " -4.28402979e+03 -4.61303027e+03  4.76647705e+03  6.31155273e+03\n",
      " -3.11701978e+03 -6.70443213e+03 -3.67252051e+03  3.85905371e+03\n",
      "  1.73974365e+03  1.74289749e+02  4.42506775e+02 -1.06374697e+04\n",
      " -7.73535889e+03 -8.98537988e+03  5.72957422e+03  3.15562354e+03\n",
      "  5.24285889e+03  5.77114648e+03 -6.04160693e+03  4.83181549e+02\n",
      " -5.28547656e+03 -4.00023926e+03 -9.50339905e+02  3.24341846e+03\n",
      " -7.13314331e+02  1.76382532e+03 -2.25530493e+03 -7.72447327e+02\n",
      "  7.68664307e+02  4.25712256e+03 -2.75148096e+03 -3.87659497e+03\n",
      " -4.44520605e+03  7.56095505e+01  3.06980200e+03  3.22430176e+03\n",
      " -3.18224683e+03  2.33380386e+02  2.25485059e+03 -1.13106177e+03\n",
      "  1.60106308e+02  6.10748863e+01  2.26424683e+03 -7.37495667e+02\n",
      "  1.13544836e+03  1.38003015e+03 -5.60591748e+03 -1.56199426e+03\n",
      "  2.50274463e+03 -1.57082654e+03 -2.07867969e+03 -4.87514587e+02\n",
      "  1.10409378e+02  1.47083459e+03 -1.95062146e+03 -3.90549072e+03\n",
      "  1.99074629e+04  1.15233369e+04  1.36319229e+04]\n"
     ]
    }
   ],
   "source": [
    "print(model.coef_)"
   ]
  },
  {
   "cell_type": "code",
   "execution_count": 46,
   "id": "54bbc5a9",
   "metadata": {},
   "outputs": [
    {
     "data": {
      "text/plain": [
       "0.2054367592505696"
      ]
     },
     "execution_count": 46,
     "metadata": {},
     "output_type": "execute_result"
    }
   ],
   "source": [
    "model.score(X_test, y_test)"
   ]
  },
  {
   "cell_type": "code",
   "execution_count": 47,
   "id": "c2ce9e36",
   "metadata": {},
   "outputs": [],
   "source": [
    "y_pred = model.predict(X_test)"
   ]
  },
  {
   "cell_type": "code",
   "execution_count": 48,
   "id": "52adfacc",
   "metadata": {},
   "outputs": [
    {
     "name": "stdout",
     "output_type": "stream",
     "text": [
      "        Actual  Predicted\n",
      "292209   498.0      188.0\n",
      "19585    221.0      380.0\n",
      "116919   518.0      506.0\n",
      "138648   531.0      452.0\n",
      "46042    546.0      444.0\n",
      "...        ...        ...\n",
      "292855   197.0      198.0\n",
      "18475   1093.0      620.0\n",
      "100429   358.0      324.0\n",
      "270749   197.0      320.0\n",
      "98068    133.0      266.0\n",
      "\n",
      "[67026 rows x 2 columns]\n"
     ]
    }
   ],
   "source": [
    "df_preds = pd.DataFrame({'Actual': y_test.squeeze(), 'Predicted': y_pred.squeeze()})\n",
    "print(df_preds)"
   ]
  },
  {
   "cell_type": "code",
   "execution_count": 49,
   "id": "b2bf50f0",
   "metadata": {},
   "outputs": [
    {
     "data": {
      "image/png": "[encoded data removed]",
      "text/plain": [
       "<Figure size 640x480 with 1 Axes>"
      ]
     },
     "metadata": {},
     "output_type": "display_data"
    }
   ],
   "source": [
    "# plot the error difference\n",
    "error = np.log(y_test) - np.log(y_pred)\n",
    "fig, ax = plt.subplots()\n",
    "ax.scatter(y_test, error)\n",
    "ax.axhline(lw=3, color='black')\n",
    "ax.set_xlabel('Observed')\n",
    "ax.set_ylabel('Error')\n",
    "fig.legend(labels = ('Actual','Predicted'),loc='upper left')\n",
    "plt.show()"
   ]
  },
  {
   "cell_type": "code",
   "execution_count": 50,
   "id": "0cf0a823",
   "metadata": {},
   "outputs": [
    {
     "data": {
      "text/plain": [
       "Text(0.5, 1.0, 'Residual Plot')"
      ]
     },
     "execution_count": 50,
     "metadata": {},
     "output_type": "execute_result"
    },
    {
     "data": {
      "text/plain": [
       "<Figure size 640x480 with 0 Axes>"
      ]
     },
     "metadata": {},
     "output_type": "display_data"
    },
    {
     "data": {
      "image/png": "[encoded data removed]",
      "text/plain": [
       "<Figure size 500x500 with 1 Axes>"
      ]
     },
     "metadata": {},
     "output_type": "display_data"
    }
   ],
   "source": [
    "plt.figure()\n",
    "\n",
    "sns.displot(error)\n",
    "\n",
    "plt.title(\"Residual Plot\")"
   ]
  },
  {
   "cell_type": "code",
   "execution_count": 51,
   "id": "1aa3adb0",
   "metadata": {},
   "outputs": [
    {
     "name": "stdout",
     "output_type": "stream",
     "text": [
      "RMSE is 586.12103\n",
      "R2 error is  0.2054367592505696\n"
     ]
    }
   ],
   "source": [
    "#RMSE\n",
    "print(\"RMSE is\", np.sqrt(mean_squared_error(y_test, y_pred)))\n",
    "print(\"R2 error is \" ,r2_score(y_test, y_pred))\n"
   ]
  },
  {
   "cell_type": "code",
   "execution_count": 72,
   "id": "1eb5d560",
   "metadata": {},
   "outputs": [
    {
     "data": {
      "text/plain": [
       "<matplotlib.collections.PathCollection at 0x2060bb29250>"
      ]
     },
     "execution_count": 72,
     "metadata": {},
     "output_type": "execute_result"
    },
    {
     "data": {
      "image/png": "[encoded data removed]",
      "text/plain": [
       "<Figure size 640x480 with 1 Axes>"
      ]
     },
     "metadata": {},
     "output_type": "display_data"
    }
   ],
   "source": [
    "plt.scatter(y_pred, y_test)"
   ]
  },
  {
   "cell_type": "code",
   "execution_count": null,
   "id": "94fa2b88",
   "metadata": {},
   "outputs": [],
   "source": []
  },
  {
   "cell_type": "code",
   "execution_count": null,
   "id": "c4ef3b37",
   "metadata": {},
   "outputs": [],
   "source": []
  },
  {
   "cell_type": "code",
   "execution_count": null,
   "id": "1c02fbd9",
   "metadata": {},
   "outputs": [],
   "source": []
  }
 ],
 "metadata": {
  "accelerator": "GPU",
  "colab": {
   "provenance": []
  },
  "gpuClass": "standard",
  "kernelspec": {
   "display_name": "Python 3 (ipykernel)",
   "language": "python",
   "name": "python3"
  },
  "language_info": {
   "codemirror_mode": {
    "name": "ipython",
    "version": 3
   },
   "file_extension": ".py",
   "mimetype": "text/x-python",
   "name": "python",
   "nbconvert_exporter": "python",
   "pygments_lexer": "ipython3",
   "version": "3.9.13"
  }
 },
 "nbformat": 4,
 "nbformat_minor": 5
}
