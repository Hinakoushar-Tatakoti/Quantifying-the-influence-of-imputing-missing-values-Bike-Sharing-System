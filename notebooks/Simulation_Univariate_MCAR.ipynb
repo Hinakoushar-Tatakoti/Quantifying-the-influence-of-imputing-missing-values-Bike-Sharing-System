{
 "cells": [
  {
   "cell_type": "code",
   "execution_count": 1,
   "id": "ab8de175",
   "metadata": {
    "id": "ab8de175"
   },
   "outputs": [],
   "source": [
    "import pandas as pd\n",
    "import dask.dataframe as dd\n",
    "import numpy as np\n",
    "import random\n",
    "import seaborn as sns\n",
    "import plotly.express as px\n",
    "import plotly.graph_objects as go\n",
    "import matplotlib.pyplot as plt\n",
    "%matplotlib inline\n",
    "\n",
    "import warnings\n",
    "warnings.filterwarnings(\"ignore\")\n",
    "\n",
    "import plotly.io as pio\n",
    "pio.renderers.default='notebook'\n",
    "from sklearn.model_selection import train_test_split\n",
    "from sklearn.preprocessing import StandardScaler\n",
    "from sklearn.preprocessing import LabelEncoder\n",
    "from sklearn.preprocessing import OneHotEncoder\n",
    "from sklearn.feature_selection import SelectKBest\n",
    "from sklearn.feature_selection import mutual_info_classif\n",
    "from matplotlib import pyplot\n",
    "from sklearn.feature_selection import chi2\n",
    "from sklearn.metrics import mean_absolute_error as mae\n",
    "from sklearn.ensemble import RandomForestRegressor\n",
    "from sklearn.linear_model import LogisticRegression\n",
    "import math"
   ]
  },
  {
   "cell_type": "code",
   "execution_count": 2,
   "id": "c518e2ff",
   "metadata": {
    "id": "c518e2ff"
   },
   "outputs": [],
   "source": [
    "tripdata = pd.read_csv(\"/content/final_bike_sharing.csv\")"
   ]
  },
  {
   "cell_type": "code",
   "execution_count": 3,
   "id": "f7739d90",
   "metadata": {
    "colab": {
     "base_uri": "https://localhost:8080/",
     "height": 428
    },
    "id": "f7739d90",
    "outputId": "8e738096-cf3a-4eda-9fb4-71fac14810f2"
   },
   "outputs": [
    {
     "data": {
      "text/html": [
       "\n",
       "  <div id=\"df-496cb48d-aaa2-4ea8-bc87-de7b9c915751\">\n",
       "    <div class=\"colab-df-container\">\n",
       "      <div>\n",
       "<style scoped>\n",
       "    .dataframe tbody tr th:only-of-type {\n",
       "        vertical-align: middle;\n",
       "    }\n",
       "\n",
       "    .dataframe tbody tr th {\n",
       "        vertical-align: top;\n",
       "    }\n",
       "\n",
       "    .dataframe thead th {\n",
       "        text-align: right;\n",
       "    }\n",
       "</style>\n",
       "<table border=\"1\" class=\"dataframe\">\n",
       "  <thead>\n",
       "    <tr style=\"text-align: right;\">\n",
       "      <th></th>\n",
       "      <th>tripduration</th>\n",
       "      <th>starttime</th>\n",
       "      <th>stoptime</th>\n",
       "      <th>start station id</th>\n",
       "      <th>start station name</th>\n",
       "      <th>start station latitude</th>\n",
       "      <th>start station longitude</th>\n",
       "      <th>end station id</th>\n",
       "      <th>end station name</th>\n",
       "      <th>end station latitude</th>\n",
       "      <th>...</th>\n",
       "      <th>humidity</th>\n",
       "      <th>snow</th>\n",
       "      <th>snowdepth</th>\n",
       "      <th>windspeed</th>\n",
       "      <th>visibility</th>\n",
       "      <th>solarradiation</th>\n",
       "      <th>cloudcover</th>\n",
       "      <th>conditions</th>\n",
       "      <th>description</th>\n",
       "      <th>seasons</th>\n",
       "    </tr>\n",
       "  </thead>\n",
       "  <tbody>\n",
       "    <tr>\n",
       "      <th>0</th>\n",
       "      <td>932</td>\n",
       "      <td>2018-01-01 02:06:17.541</td>\n",
       "      <td>2018-01-01 02:21:50.027</td>\n",
       "      <td>3183</td>\n",
       "      <td>Exchange Place</td>\n",
       "      <td>40.716247</td>\n",
       "      <td>-74.033459</td>\n",
       "      <td>3199</td>\n",
       "      <td>Newport Pkwy</td>\n",
       "      <td>40.728745</td>\n",
       "      <td>...</td>\n",
       "      <td>47.8</td>\n",
       "      <td>0.0</td>\n",
       "      <td>0.1</td>\n",
       "      <td>18.5</td>\n",
       "      <td>16.0</td>\n",
       "      <td>106.7</td>\n",
       "      <td>0.3</td>\n",
       "      <td>Clear</td>\n",
       "      <td>Clear conditions throughout the day.</td>\n",
       "      <td>winter</td>\n",
       "    </tr>\n",
       "    <tr>\n",
       "      <th>1</th>\n",
       "      <td>550</td>\n",
       "      <td>2018-01-01 12:06:18.039</td>\n",
       "      <td>2018-01-01 12:15:28.443</td>\n",
       "      <td>3183</td>\n",
       "      <td>Exchange Place</td>\n",
       "      <td>40.716247</td>\n",
       "      <td>-74.033459</td>\n",
       "      <td>3199</td>\n",
       "      <td>Newport Pkwy</td>\n",
       "      <td>40.728745</td>\n",
       "      <td>...</td>\n",
       "      <td>47.8</td>\n",
       "      <td>0.0</td>\n",
       "      <td>0.1</td>\n",
       "      <td>18.5</td>\n",
       "      <td>16.0</td>\n",
       "      <td>106.7</td>\n",
       "      <td>0.3</td>\n",
       "      <td>Clear</td>\n",
       "      <td>Clear conditions throughout the day.</td>\n",
       "      <td>winter</td>\n",
       "    </tr>\n",
       "    <tr>\n",
       "      <th>2</th>\n",
       "      <td>510</td>\n",
       "      <td>2018-01-01 12:06:56.978</td>\n",
       "      <td>2018-01-01 12:15:27.810</td>\n",
       "      <td>3183</td>\n",
       "      <td>Exchange Place</td>\n",
       "      <td>40.716247</td>\n",
       "      <td>-74.033459</td>\n",
       "      <td>3199</td>\n",
       "      <td>Newport Pkwy</td>\n",
       "      <td>40.728745</td>\n",
       "      <td>...</td>\n",
       "      <td>47.8</td>\n",
       "      <td>0.0</td>\n",
       "      <td>0.1</td>\n",
       "      <td>18.5</td>\n",
       "      <td>16.0</td>\n",
       "      <td>106.7</td>\n",
       "      <td>0.3</td>\n",
       "      <td>Clear</td>\n",
       "      <td>Clear conditions throughout the day.</td>\n",
       "      <td>winter</td>\n",
       "    </tr>\n",
       "  </tbody>\n",
       "</table>\n",
       "<p>3 rows × 43 columns</p>\n",
       "</div>\n",
       "      <button class=\"colab-df-convert\" onclick=\"convertToInteractive('df-496cb48d-aaa2-4ea8-bc87-de7b9c915751')\"\n",
       "              title=\"Convert this dataframe to an interactive table.\"\n",
       "              style=\"display:none;\">\n",
       "        \n",
       "  <svg xmlns=\"http://www.w3.org/2000/svg\" height=\"24px\"viewBox=\"0 0 24 24\"\n",
       "       width=\"24px\">\n",
       "    <path d=\"M0 0h24v24H0V0z\" fill=\"none\"/>\n",
       "    <path d=\"M18.56 5.44l.94 2.06.94-2.06 2.06-.94-2.06-.94-.94-2.06-.94 2.06-2.06.94zm-11 1L8.5 8.5l.94-2.06 2.06-.94-2.06-.94L8.5 2.5l-.94 2.06-2.06.94zm10 10l.94 2.06.94-2.06 2.06-.94-2.06-.94-.94-2.06-.94 2.06-2.06.94z\"/><path d=\"M17.41 7.96l-1.37-1.37c-.4-.4-.92-.59-1.43-.59-.52 0-1.04.2-1.43.59L10.3 9.45l-7.72 7.72c-.78.78-.78 2.05 0 2.83L4 21.41c.39.39.9.59 1.41.59.51 0 1.02-.2 1.41-.59l7.78-7.78 2.81-2.81c.8-.78.8-2.07 0-2.86zM5.41 20L4 18.59l7.72-7.72 1.47 1.35L5.41 20z\"/>\n",
       "  </svg>\n",
       "      </button>\n",
       "      \n",
       "  <style>\n",
       "    .colab-df-container {\n",
       "      display:flex;\n",
       "      flex-wrap:wrap;\n",
       "      gap: 12px;\n",
       "    }\n",
       "\n",
       "    .colab-df-convert {\n",
       "      background-color: #E8F0FE;\n",
       "      border: none;\n",
       "      border-radius: 50%;\n",
       "      cursor: pointer;\n",
       "      display: none;\n",
       "      fill: #1967D2;\n",
       "      height: 32px;\n",
       "      padding: 0 0 0 0;\n",
       "      width: 32px;\n",
       "    }\n",
       "\n",
       "    .colab-df-convert:hover {\n",
       "      background-color: #E2EBFA;\n",
       "      box-shadow: 0px 1px 2px rgba(60, 64, 67, 0.3), 0px 1px 3px 1px rgba(60, 64, 67, 0.15);\n",
       "      fill: #174EA6;\n",
       "    }\n",
       "\n",
       "    [theme=dark] .colab-df-convert {\n",
       "      background-color: #3B4455;\n",
       "      fill: #D2E3FC;\n",
       "    }\n",
       "\n",
       "    [theme=dark] .colab-df-convert:hover {\n",
       "      background-color: #434B5C;\n",
       "      box-shadow: 0px 1px 3px 1px rgba(0, 0, 0, 0.15);\n",
       "      filter: drop-shadow(0px 1px 2px rgba(0, 0, 0, 0.3));\n",
       "      fill: #FFFFFF;\n",
       "    }\n",
       "  </style>\n",
       "\n",
       "      <script>\n",
       "        const buttonEl =\n",
       "          document.querySelector('#df-496cb48d-aaa2-4ea8-bc87-de7b9c915751 button.colab-df-convert');\n",
       "        buttonEl.style.display =\n",
       "          google.colab.kernel.accessAllowed ? 'block' : 'none';\n",
       "\n",
       "        async function convertToInteractive(key) {\n",
       "          const element = document.querySelector('#df-496cb48d-aaa2-4ea8-bc87-de7b9c915751');\n",
       "          const dataTable =\n",
       "            await google.colab.kernel.invokeFunction('convertToInteractive',\n",
       "                                                     [key], {});\n",
       "          if (!dataTable) return;\n",
       "\n",
       "          const docLinkHtml = 'Like what you see? Visit the ' +\n",
       "            '<a target=\"_blank\" href=https://colab.research.google.com/notebooks/data_table.ipynb>data table notebook</a>'\n",
       "            + ' to learn more about interactive tables.';\n",
       "          element.innerHTML = '';\n",
       "          dataTable['output_type'] = 'display_data';\n",
       "          await google.colab.output.renderOutput(dataTable, element);\n",
       "          const docLink = document.createElement('div');\n",
       "          docLink.innerHTML = docLinkHtml;\n",
       "          element.appendChild(docLink);\n",
       "        }\n",
       "      </script>\n",
       "    </div>\n",
       "  </div>\n",
       "  "
      ],
      "text/plain": [
       "   tripduration                starttime                 stoptime  \\\n",
       "0           932  2018-01-01 02:06:17.541  2018-01-01 02:21:50.027   \n",
       "1           550  2018-01-01 12:06:18.039  2018-01-01 12:15:28.443   \n",
       "2           510  2018-01-01 12:06:56.978  2018-01-01 12:15:27.810   \n",
       "\n",
       "   start station id start station name  start station latitude  \\\n",
       "0              3183     Exchange Place               40.716247   \n",
       "1              3183     Exchange Place               40.716247   \n",
       "2              3183     Exchange Place               40.716247   \n",
       "\n",
       "   start station longitude  end station id end station name  \\\n",
       "0               -74.033459            3199     Newport Pkwy   \n",
       "1               -74.033459            3199     Newport Pkwy   \n",
       "2               -74.033459            3199     Newport Pkwy   \n",
       "\n",
       "   end station latitude  ...  humidity  snow snowdepth  windspeed  visibility  \\\n",
       "0             40.728745  ...      47.8   0.0       0.1       18.5        16.0   \n",
       "1             40.728745  ...      47.8   0.0       0.1       18.5        16.0   \n",
       "2             40.728745  ...      47.8   0.0       0.1       18.5        16.0   \n",
       "\n",
       "   solarradiation  cloudcover conditions  \\\n",
       "0           106.7         0.3      Clear   \n",
       "1           106.7         0.3      Clear   \n",
       "2           106.7         0.3      Clear   \n",
       "\n",
       "                            description seasons  \n",
       "0  Clear conditions throughout the day.  winter  \n",
       "1  Clear conditions throughout the day.  winter  \n",
       "2  Clear conditions throughout the day.  winter  \n",
       "\n",
       "[3 rows x 43 columns]"
      ]
     },
     "execution_count": 3,
     "metadata": {},
     "output_type": "execute_result"
    }
   ],
   "source": [
    "tripdata.head(3)"
   ]
  },
  {
   "cell_type": "code",
   "execution_count": 4,
   "id": "1b985344",
   "metadata": {
    "colab": {
     "base_uri": "https://localhost:8080/"
    },
    "id": "1b985344",
    "outputId": "b0039331-ae6d-47f9-e531-b543da8af055"
   },
   "outputs": [
    {
     "data": {
      "text/plain": [
       "Index(['tripduration', 'starttime', 'stoptime', 'start station id',\n",
       "       'start station name', 'start station latitude',\n",
       "       'start station longitude', 'end station id', 'end station name',\n",
       "       'end station latitude', 'end station longitude', 'bikeid', 'usertype',\n",
       "       'birth year', 'gender', 'dist', 'birthyear', 'date', 'month', 'day',\n",
       "       'hour', 'min', 'year', 'years_old', 'age_group', 'holiday', 'datetime',\n",
       "       'tempmax', 'tempmin', 'temp', 'feelslike', 'precip', 'dew', 'humidity',\n",
       "       'snow', 'snowdepth', 'windspeed', 'visibility', 'solarradiation',\n",
       "       'cloudcover', 'conditions', 'description', 'seasons'],\n",
       "      dtype='object')"
      ]
     },
     "execution_count": 4,
     "metadata": {},
     "output_type": "execute_result"
    }
   ],
   "source": [
    "tripdata.columns"
   ]
  },
  {
   "cell_type": "code",
   "execution_count": 5,
   "id": "3186d2d8",
   "metadata": {
    "colab": {
     "base_uri": "https://localhost:8080/"
    },
    "id": "3186d2d8",
    "outputId": "4a571227-fa13-49b5-87c5-cd34ed44c26d"
   },
   "outputs": [
    {
     "data": {
      "text/plain": [
       "Index(['tripduration', 'start station id', 'start station name',\n",
       "       'start station latitude', 'start station longitude', 'end station id',\n",
       "       'end station name', 'end station latitude', 'end station longitude',\n",
       "       'bikeid', 'usertype', 'birth year', 'gender', 'dist', 'birthyear',\n",
       "       'date', 'month', 'day', 'hour', 'min', 'year', 'years_old', 'age_group',\n",
       "       'holiday', 'datetime', 'tempmax', 'tempmin', 'temp', 'feelslike',\n",
       "       'precip', 'dew', 'humidity', 'snow', 'snowdepth', 'windspeed',\n",
       "       'visibility', 'solarradiation', 'cloudcover', 'conditions',\n",
       "       'description', 'seasons'],\n",
       "      dtype='object')"
      ]
     },
     "execution_count": 5,
     "metadata": {},
     "output_type": "execute_result"
    }
   ],
   "source": [
    "tripdata=tripdata.drop(['starttime','stoptime'], axis=1)\n",
    "tripdata.columns"
   ]
  },
  {
   "cell_type": "code",
   "execution_count": 6,
   "id": "b697b46d",
   "metadata": {
    "id": "b697b46d"
   },
   "outputs": [],
   "source": [
    "X = tripdata.drop('tripduration', axis=1)\n",
    "y = tripdata['tripduration']\n",
    "\n",
    "X_train, X_test, y_train, y_test = train_test_split(X, y, test_size=0.2, random_state=42)\n"
   ]
  },
  {
   "cell_type": "code",
   "execution_count": 7,
   "id": "d3d56903",
   "metadata": {
    "colab": {
     "base_uri": "https://localhost:8080/"
    },
    "id": "d3d56903",
    "outputId": "3d610a50-7007-49dd-834a-93b334f95432"
   },
   "outputs": [
    {
     "name": "stdout",
     "output_type": "stream",
     "text": [
      "Train (26323, 40) (26323,)\n",
      "Test (6581, 40) (6581,)\n"
     ]
    }
   ],
   "source": [
    "# summarize\n",
    "print('Train', X_train.shape, y_train.shape)\n",
    "print('Test', X_test.shape, y_test.shape)\n"
   ]
  },
  {
   "cell_type": "code",
   "execution_count": 8,
   "id": "880b29b3",
   "metadata": {
    "id": "880b29b3"
   },
   "outputs": [],
   "source": [
    "feature_names=['start station id', 'start station name',\n",
    "       'start station latitude', 'start station longitude', 'end station id',\n",
    "       'end station name', 'end station latitude', 'end station longitude',\n",
    "       'bikeid', 'usertype', 'birth year', 'gender', 'dist', 'birthyear',\n",
    "       'date', 'month', 'day', 'hour', 'min', 'year', 'years_old', 'age_group',\n",
    "       'holiday', 'datetime', 'tempmax', 'tempmin', 'temp', 'feelslike',\n",
    "       'precip', 'dew', 'humidity', 'snow', 'snowdepth', 'windspeed',\n",
    "       'visibility', 'solarradiation', 'cloudcover', 'conditions',\n",
    "       'description', 'seasons']"
   ]
  },
  {
   "cell_type": "code",
   "execution_count": 11,
   "id": "d9722c4a",
   "metadata": {
    "id": "d9722c4a"
   },
   "outputs": [],
   "source": [
    "ohe = OneHotEncoder(handle_unknown = 'ignore')\n",
    "ohe.fit(X_train)\n",
    "X_train_encoded = ohe.transform(X_train)\n",
    "X_test_encoded = ohe.transform(X_test)\n"
   ]
  },
  {
   "cell_type": "code",
   "execution_count": 12,
   "id": "a552b1ba",
   "metadata": {
    "id": "a552b1ba"
   },
   "outputs": [],
   "source": [
    "le = LabelEncoder()     \n",
    "le.fit_transform(y_train) \n",
    "\n",
    "y_train_encoded = le.fit_transform(y_train)\n",
    "y_test_encoded = le.fit_transform(y_test)"
   ]
  },
  {
   "cell_type": "code",
   "execution_count": 13,
   "id": "f1a4a5c0",
   "metadata": {
    "colab": {
     "base_uri": "https://localhost:8080/"
    },
    "id": "f1a4a5c0",
    "outputId": "a33531ef-b3df-4f73-f038-53473d089081"
   },
   "outputs": [
    {
     "name": "stdout",
     "output_type": "stream",
     "text": [
      "84.27708706883452\n"
     ]
    }
   ],
   "source": [
    "# fitting a RF model\n",
    "model = RandomForestRegressor()\n",
    "model.fit(X_train_encoded, y_train_encoded)\n",
    "\n",
    "# getting forecasts for the test set\n",
    "preds = model.predict(X_test_encoded)\n",
    "\n",
    "# computing MAE error\n",
    "print(mae(y_test_encoded, preds))\n"
   ]
  },
  {
   "cell_type": "code",
   "execution_count": 14,
   "id": "a65b6dcd",
   "metadata": {
    "id": "a65b6dcd"
   },
   "outputs": [],
   "source": [
    "# getting importance scores from previous model\n",
    "importance_scores = pd.Series(dict(zip(X_train.columns, model.feature_importances_)))\n",
    "\n",
    "# getting top 10 features\n",
    "top_20_features = importance_scores.sort_values(ascending=False)[:20]\n",
    "top_20_features_nm = top_20_features.index"
   ]
  },
  {
   "cell_type": "code",
   "execution_count": 15,
   "id": "zBzJr006aQGS",
   "metadata": {
    "colab": {
     "base_uri": "https://localhost:8080/"
    },
    "id": "zBzJr006aQGS",
    "outputId": "99856260-e28a-4d7d-84c4-9dff9e79fd91"
   },
   "outputs": [
    {
     "data": {
      "text/plain": [
       "Index(['start station longitude', 'min', 'solarradiation', 'year',\n",
       "       'start station id', 'tempmin', 'feelslike', 'start station latitude',\n",
       "       'gender', 'years_old', 'usertype', 'start station name',\n",
       "       'end station longitude', 'holiday', 'end station id', 'birth year',\n",
       "       'month', 'dist', 'snowdepth', 'datetime'],\n",
       "      dtype='object')"
      ]
     },
     "execution_count": 15,
     "metadata": {},
     "output_type": "execute_result"
    }
   ],
   "source": [
    "top_20_features_nm"
   ]
  },
  {
   "cell_type": "markdown",
   "id": "218fd544",
   "metadata": {
    "id": "218fd544"
   },
   "source": [
    "## Univate amputaion of 5% NA on training data"
   ]
  },
  {
   "cell_type": "code",
   "execution_count": null,
   "id": "069a5cf8",
   "metadata": {
    "id": "069a5cf8"
   },
   "outputs": [],
   "source": [
    "## get the sample size such as 5%, 10%,20% etc\n",
    "def get_sample_size(df, perc=5):\n",
    "    return round(perc/100 * df.shape[0])\n",
    "\n",
    "#get_sample_size(training_data)    "
   ]
  },
  {
   "cell_type": "code",
   "execution_count": null,
   "id": "8ba6d4b4",
   "metadata": {
    "id": "8ba6d4b4"
   },
   "outputs": [],
   "source": [
    "def get_an_index(index):\n",
    "    li = []\n",
    "    for i in index:\n",
    "        li.append(i)\n",
    "    return li\n",
    "        \n",
    "##get_an_index(training_data.index)"
   ]
  },
  {
   "cell_type": "code",
   "execution_count": null,
   "id": "4cce55ac",
   "metadata": {
    "id": "4cce55ac"
   },
   "outputs": [],
   "source": [
    "random.seed(100)\n",
    "def replace_nan_values(df,col_name, perc):\n",
    "    index = get_an_index(df.index)\n",
    "    sample_size = get_sample_size(df, perc)\n",
    "    selected_index = random.sample(index, sample_size)\n",
    "    for i in selected_index:\n",
    "        df.at[i,col_name]= np.NaN\n",
    "    "
   ]
  },
  {
   "cell_type": "code",
   "execution_count": null,
   "id": "493b63f3",
   "metadata": {
    "id": "493b63f3"
   },
   "outputs": [],
   "source": [
    "replace_nan_values(training_data,\"tripduration\",perc=5)"
   ]
  },
  {
   "cell_type": "code",
   "execution_count": null,
   "id": "8ad0cc3c",
   "metadata": {
    "id": "8ad0cc3c",
    "outputId": "e4a068bb-236c-4290-fead-ff2f091a2342"
   },
   "outputs": [
    {
     "data": {
      "text/plain": [
       "tripduration               14156\n",
       "start station id               0\n",
       "start station latitude         0\n",
       "start station longitude        0\n",
       "end station id                 0\n",
       "end station latitude           0\n",
       "end station longitude          0\n",
       "bikeid                         0\n",
       "usertype                       0\n",
       "birth year                     0\n",
       "gender                         0\n",
       "dist                           0\n",
       "year                           0\n",
       "month                          0\n",
       "day                            0\n",
       "hour                           0\n",
       "date                           0\n",
       "holiday                        0\n",
       "datetime                       0\n",
       "tempmax                        0\n",
       "tempmin                        0\n",
       "temp                           0\n",
       "dew                            0\n",
       "humidity                       0\n",
       "snow                           0\n",
       "snowdepth                      0\n",
       "windspeed                      0\n",
       "visibility                     0\n",
       "solarradiation                 0\n",
       "cloudcover                     0\n",
       "conditions                     0\n",
       "description                    0\n",
       "seasons                        0\n",
       "dtype: int64"
      ]
     },
     "execution_count": 291,
     "metadata": {},
     "output_type": "execute_result"
    }
   ],
   "source": [
    "training_data.isnull().sum()"
   ]
  },
  {
   "cell_type": "markdown",
   "id": "60208c8d",
   "metadata": {
    "id": "60208c8d"
   },
   "source": [
    "## 1. Remove amputed NA values"
   ]
  },
  {
   "cell_type": "code",
   "execution_count": null,
   "id": "55e06963",
   "metadata": {
    "id": "55e06963"
   },
   "outputs": [],
   "source": [
    "df = training_data.dropna()"
   ]
  },
  {
   "cell_type": "code",
   "execution_count": null,
   "id": "bd08ab9a",
   "metadata": {
    "id": "bd08ab9a",
    "outputId": "f1f608f1-99e2-417c-a633-098754369caf"
   },
   "outputs": [
    {
     "data": {
      "text/plain": [
       "tripduration               0\n",
       "start station id           0\n",
       "start station latitude     0\n",
       "start station longitude    0\n",
       "end station id             0\n",
       "end station latitude       0\n",
       "end station longitude      0\n",
       "bikeid                     0\n",
       "usertype                   0\n",
       "birth year                 0\n",
       "gender                     0\n",
       "dist                       0\n",
       "year                       0\n",
       "month                      0\n",
       "day                        0\n",
       "hour                       0\n",
       "date                       0\n",
       "holiday                    0\n",
       "datetime                   0\n",
       "tempmax                    0\n",
       "tempmin                    0\n",
       "temp                       0\n",
       "dew                        0\n",
       "humidity                   0\n",
       "snow                       0\n",
       "snowdepth                  0\n",
       "windspeed                  0\n",
       "visibility                 0\n",
       "solarradiation             0\n",
       "cloudcover                 0\n",
       "conditions                 0\n",
       "description                0\n",
       "seasons                    0\n",
       "dtype: int64"
      ]
     },
     "execution_count": 296,
     "metadata": {},
     "output_type": "execute_result"
    }
   ],
   "source": [
    "df.isnull().sum()"
   ]
  },
  {
   "cell_type": "markdown",
   "id": "60d4cd9c",
   "metadata": {
    "id": "60d4cd9c"
   },
   "source": [
    "## Applay LinearRegression"
   ]
  },
  {
   "cell_type": "code",
   "execution_count": null,
   "id": "1764462a",
   "metadata": {
    "id": "1764462a",
    "outputId": "b1031763-fbd6-473f-a217-79a15aa0382f"
   },
   "outputs": [
    {
     "ename": "NameError",
     "evalue": "name 'LinearRegression' is not defined",
     "output_type": "error",
     "traceback": [
      "\u001b[1;31m---------------------------------------------------------------------------\u001b[0m",
      "\u001b[1;31mNameError\u001b[0m                                 Traceback (most recent call last)",
      "\u001b[1;32m~\\AppData\\Local\\Temp\\ipykernel_41284\\4168197077.py\u001b[0m in \u001b[0;36m<module>\u001b[1;34m\u001b[0m\n\u001b[1;32m----> 1\u001b[1;33m \u001b[0mmodel\u001b[0m \u001b[1;33m=\u001b[0m \u001b[0mLinearRegression\u001b[0m\u001b[1;33m(\u001b[0m\u001b[1;33m)\u001b[0m\u001b[1;33m.\u001b[0m\u001b[0mfit\u001b[0m\u001b[1;33m(\u001b[0m\u001b[0mx\u001b[0m\u001b[1;33m,\u001b[0m \u001b[0my\u001b[0m\u001b[1;33m)\u001b[0m\u001b[1;33m\u001b[0m\u001b[1;33m\u001b[0m\u001b[0m\n\u001b[0m",
      "\u001b[1;31mNameError\u001b[0m: name 'LinearRegression' is not defined"
     ]
    }
   ],
   "source": [
    "model = LinearRegression().fit(x, y) "
   ]
  }
 ],
 "metadata": {
  "accelerator": "GPU",
  "colab": {
   "provenance": []
  },
  "gpuClass": "standard",
  "kernelspec": {
   "display_name": "Python 3 (ipykernel)",
   "language": "python",
   "name": "python3"
  },
  "language_info": {
   "codemirror_mode": {
    "name": "ipython",
    "version": 3
   },
   "file_extension": ".py",
   "mimetype": "text/x-python",
   "name": "python",
   "nbconvert_exporter": "python",
   "pygments_lexer": "ipython3",
   "version": "3.9.13"
  }
 },
 "nbformat": 4,
 "nbformat_minor": 5
}
