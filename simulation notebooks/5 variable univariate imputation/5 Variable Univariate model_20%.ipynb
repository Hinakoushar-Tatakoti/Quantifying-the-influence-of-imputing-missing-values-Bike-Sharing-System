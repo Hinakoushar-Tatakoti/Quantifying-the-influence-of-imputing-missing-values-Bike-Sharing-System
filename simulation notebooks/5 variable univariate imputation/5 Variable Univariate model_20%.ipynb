{
 "cells": [
  {
   "cell_type": "code",
   "execution_count": 58,
   "id": "9aa8cb9c",
   "metadata": {},
   "outputs": [],
   "source": [
    "import datetime\n",
    "import os\n",
    "import random\n",
    "import matplotlib.pyplot as plt\n",
    "import pandas as pd\n",
    "import seaborn as sns\n",
    "import scipy\n",
    "import statsmodels.api as sm\n",
    "import pylab as py\n",
    "\n",
    "import numpy as np\n",
    "from sklearn.model_selection import train_test_split\n",
    "from sklearn.preprocessing import LabelEncoder\n",
    "from sklearn.preprocessing import OneHotEncoder\n",
    "from sklearn.metrics import mean_squared_error, mean_absolute_error,r2_score\n",
    "from sklearn.linear_model import LinearRegression\n",
    "\n",
    "import math\n",
    "import time\n",
    "import datetime\n",
    "from dython.nominal import associations\n",
    "from dython.nominal import identify_nominal_columns"
   ]
  },
  {
   "cell_type": "code",
   "execution_count": 59,
   "id": "c7c35869",
   "metadata": {},
   "outputs": [],
   "source": [
    "data = pd.read_csv(\"../../dataset/final_bike_sharing.csv\")"
   ]
  },
  {
   "cell_type": "code",
   "execution_count": 60,
   "id": "2dd15883",
   "metadata": {},
   "outputs": [],
   "source": [
    "cols = ['tripduration','gender','dist','hour','birthyear','usertype']"
   ]
  },
  {
   "cell_type": "code",
   "execution_count": 61,
   "id": "2d65e73f",
   "metadata": {},
   "outputs": [],
   "source": [
    "df = data[cols]"
   ]
  },
  {
   "cell_type": "markdown",
   "id": "7fb4cd7f",
   "metadata": {},
   "source": [
    "## Before Imputation the distributaion is "
   ]
  },
  {
   "cell_type": "code",
   "execution_count": 62,
   "id": "be66d8e4",
   "metadata": {},
   "outputs": [],
   "source": [
    "# for col in  ['tripduration','gender','dist','hour','birthyear']:\n",
    "#     np.random.seed(19680801)\n",
    "#     plt.figure(figsize=(20,8))\n",
    "#     mu = df[col].mean()\n",
    "#     sigma = df[col].std()\n",
    "#     x = df[col]\n",
    "#     num_bins = 500\n",
    "#     fig, ax = plt.subplots()\n",
    "#     # the histogram of the data\n",
    "#     n, bins, patches = ax.hist(x, num_bins, density=True)\n",
    "#     # add a 'best fit' line\n",
    "#     y = ((1 / (np.sqrt(2 * np.pi) * sigma)) *\n",
    "#          np.exp(-0.5 * (1 / sigma * (bins - mu))**2))\n",
    "#     ax.plot(bins, y, '--')\n",
    "#     ax.set_xlabel(col)\n",
    "#     ax.set_ylabel('Probability density')\n",
    "#     ax.set_title(f'Histogram of IQ: {mu}, {sigma}')\n",
    "#     plt.plot([mu,mu],[0, 2], lw=1.8, label=\"mean\")\n",
    "# #     plt.plot([sigma,sigma],[0, 2], lw=1.8, label=\"std\")\n",
    "# #     ax.set_ylim([0,2.5])\n",
    "# #     ax.set_xlim([0, 6])\n",
    "#     # Tweak spacing to prevent clipping of ylabel\n",
    "#     fig.tight_layout()\n",
    "#     plt.show()"
   ]
  },
  {
   "cell_type": "code",
   "execution_count": 63,
   "id": "fba878f6",
   "metadata": {},
   "outputs": [],
   "source": [
    "# for col in df.columns:\n",
    "#     norm_cdf = scipy.stats.norm.cdf(df[col]) # calculate the cdf - also discrete\n",
    "#     # plot the cdf\n",
    "#     sns.lineplot(x=df[col], y=norm_cdf)\n",
    "#     plt.show()\n",
    "#     sm.qqplot(df[col], line ='45')\n",
    "#     py.show()\n"
   ]
  },
  {
   "cell_type": "code",
   "execution_count": 64,
   "id": "eb970929",
   "metadata": {},
   "outputs": [
    {
     "name": "stdout",
     "output_type": "stream",
     "text": [
      "The variable tripduration has mean = 525.9314525266259 and standard deviation =731.0970649533257 \n",
      "The variable dist has mean = 0.7842291293398377 and standard deviation =0.5421989613484405 \n",
      "The variable hour has mean = 13.633500453206436 and standard deviation =5.156725828688158 \n",
      "The variable birthyear has mean = 1980.439108882846 and standard deviation =10.094119857977768 \n",
      "The variable usertype categorical type mode is  0    Subscriber\n",
      "Name: usertype, dtype: object\n",
      "gender mode is :  0    male\n",
      "Name: gender, dtype: object\n"
     ]
    }
   ],
   "source": [
    "for col in  ['tripduration','dist','hour','birthyear']:\n",
    "    mu = df[col].mean()\n",
    "    sigma = df[col].std()\n",
    "    print(f\"The variable {col} has mean = {mu} and standard deviation ={sigma} \")\n",
    "print(f\"The variable usertype categorical type mode is \", df['usertype'].mode() )  \n",
    "print(\"gender mode is : \" , df['gender'].mode() )"
   ]
  },
  {
   "cell_type": "code",
   "execution_count": 65,
   "id": "51286e84",
   "metadata": {},
   "outputs": [],
   "source": [
    "def split_dataset(df):\n",
    "    X = df.drop('tripduration', axis=1)\n",
    "    y = df['tripduration']\n",
    "\n",
    "    X_train, X_test, y_train, y_test = train_test_split(X, y, test_size=0.2, random_state=42)\n",
    "    print('Train', X_train.shape, y_train.shape)\n",
    "    print('Test', X_test.shape, y_test.shape)\n",
    "    return X_train, X_test, y_train, y_test"
   ]
  },
  {
   "cell_type": "code",
   "execution_count": 66,
   "id": "68a18fb2",
   "metadata": {},
   "outputs": [],
   "source": [
    "## get the sample size such as 5%, 10%,20% etc\n",
    "def get_sample_size(df, perc):\n",
    "    return round(perc/100 * df.shape[0])\n",
    "\n",
    "def get_an_index(index):\n",
    "    li = []\n",
    "    for i in index:\n",
    "        li.append(i)\n",
    "    return li   \n",
    "\n",
    "def ampute_nan_values(X_train,col_name, perc):\n",
    "    random.seed(100)\n",
    "    index = get_an_index(X_train.index)\n",
    "    sample_size = get_sample_size(X_train, perc)\n",
    "    selected_index = random.sample(index, sample_size)\n",
    "    for i in selected_index:\n",
    "        if col_name in X_train.columns:\n",
    "            X_train.at[i,col_name]= np.NaN\n",
    "        else:\n",
    "            X_train.loc[i] = np.NaN\n",
    "    return X_train\n",
    "\n",
    "###====================####\n",
    "def convert_to_dataframe(y_train):\n",
    "    return pd.DataFrame(y_train)\n",
    "\n",
    "def convert_to_series(y_train):\n",
    "    return y_train.squeeze()\n",
    "\n",
    "def ampute_nan_values_drop(X_train,y_train,col_name, perc):\n",
    "    random.seed(100)\n",
    "    index = get_an_index(X_train.index)\n",
    "    sample_size = get_sample_size(X_train, perc)\n",
    "    selected_index = random.sample(index, sample_size)\n",
    "    y_train = convert_to_dataframe(y_train)\n",
    "    for i in selected_index:\n",
    "        if col_name in X_train.columns:\n",
    "            X_train.at[i,col_name]= np.NaN\n",
    "        else:\n",
    "            X_train.loc[i] = np.NaN\n",
    "        y_train.loc[i] = np.NaN\n",
    "    y_train = convert_to_series(y_train)\n",
    "    return X_train, y_train"
   ]
  },
  {
   "cell_type": "code",
   "execution_count": 67,
   "id": "82bcd4f5",
   "metadata": {},
   "outputs": [],
   "source": [
    "def sample_imputation_X(var,X_train,X_test):\n",
    "    # extract a random sample\n",
    "    random_sample_train = X_train[var].dropna().sample(X_train[var].isnull().sum(), random_state=0)\n",
    "    random_sample_test = X_test[var].dropna().sample(X_test[var].isnull().sum(), random_state=0)\n",
    "     # re-index the randomly extracted sample\n",
    "    random_sample_train.index = X_train[X_train[var].isnull()].index\n",
    "    random_sample_test.index = X_test[X_test[var].isnull()].index\n",
    "\n",
    "    # replace the NA\n",
    "    X_train.loc[X_train[var].isnull(), var] = random_sample_train\n",
    "    X_test.loc[X_test[var].isnull(), var] = random_sample_test\n",
    "    return X_train, X_test"
   ]
  },
  {
   "cell_type": "code",
   "execution_count": 68,
   "id": "e13ef9a3",
   "metadata": {},
   "outputs": [],
   "source": [
    "def one_hot_encoding(X_train,X_test):\n",
    "    categorical_features=identify_nominal_columns(X_train)\n",
    "    print(categorical_features)\n",
    "    one_hot_encoded_data_train = pd.get_dummies(X_train, columns = categorical_features)\n",
    "    one_hot_encoded_data_test = pd.get_dummies(X_test, columns = categorical_features)\n",
    "    return one_hot_encoded_data_train,one_hot_encoded_data_test"
   ]
  },
  {
   "cell_type": "code",
   "execution_count": 69,
   "id": "c4c3a36c",
   "metadata": {},
   "outputs": [],
   "source": [
    "def model_evaluation(X_train,y_train):\n",
    "    print(datetime.datetime.now())\n",
    "    model_lr = LinearRegression(fit_intercept=True).fit(X_train, y_train) \n",
    "    print(datetime.datetime.now())\n",
    "    return model_lr"
   ]
  },
  {
   "cell_type": "code",
   "execution_count": 70,
   "id": "da36f77a",
   "metadata": {},
   "outputs": [],
   "source": [
    "def ampute_each_variables(variable, method,X_train,y_train,X_test,y_test):\n",
    "    if method == \"remove\":\n",
    "        X_train , y_train = ampute_nan_values_drop(X_train,y_train,variable,perc=20)\n",
    "        print('Train set after Amputation', X_train.shape, y_train.shape)\n",
    "        print(\"y_train Amputed value count of varaible \", y_train.isnull().sum())\n",
    "        print(\"X_train Amputed value count of varaible \", X_train.isnull().sum()[variable])\n",
    "        X_test , y_test = ampute_nan_values_drop(X_test,y_test,variable,perc=20)\n",
    "        print('Test set after Amputation', X_test.shape, y_test.shape)\n",
    "        print(\"y_test Amputed value count of varaible \", y_test.isnull().sum())\n",
    "        print(\"X_test Amputed value count of varaible \", X_test.isnull().sum()[variable])\n",
    "    else:\n",
    "        X_train = ampute_nan_values(X_train,variable,perc=20)\n",
    "        print('Train set after Amputation', X_train.shape)\n",
    "        print(\"X_train Amputed value count of varaible \", X_train.isnull().sum()[variable])\n",
    "        X_test = ampute_nan_values(X_test,variable,perc=20)\n",
    "        print('Test set after Amputation', X_test.shape)\n",
    "        print(\"X_test Amputed value count of varaible \", X_test.isnull().sum()[variable])\n",
    "    \n",
    "    if method == \"remove\":\n",
    "        print(\"Simulate Imputation for NA\")\n",
    "        X_train.dropna(axis=0, inplace=True)\n",
    "        y_train.dropna(inplace=True)\n",
    "        print('Train after NA value removal Imputation', X_train.shape, y_train.shape)\n",
    "        X_test.dropna(axis=0, inplace=True)\n",
    "        y_test.dropna(inplace=True)\n",
    "        print('Test after NA value removal Imputation', X_test.shape, y_test.shape)\n",
    "    if method == \"mode\":\n",
    "        print(\"Simulate Imputation for Mode\")\n",
    "        X_train.fillna(X_train.mode().iloc[0], inplace=True)\n",
    "        print('Train after Mode Imputation', X_train.shape, y_train.shape)\n",
    "        X_test.fillna(X_test.mode().iloc[0], inplace=True)\n",
    "        print('Test after Mode Imputation', X_test.shape, y_test.shape)\n",
    "    if method == \"mean\":\n",
    "        print(\"Simulate Imputation for Mean\")\n",
    "        X_train.fillna(X_train.mean(), inplace=True)\n",
    "        print('Train after Mean Imputation', X_train.shape, y_train.shape)\n",
    "        X_test.fillna(X_test.mean(), inplace=True)\n",
    "        print('Test after Mean Imputation', X_test.shape, y_test.shape)\n",
    "    if method == \"sample\":\n",
    "        print(\"Simple Imputation using sampling\")\n",
    "        X_train, X_test = sample_imputation_X(variable, X_train, X_test)        \n",
    "            \n",
    "    return X_train , y_train, X_test , y_test"
   ]
  },
  {
   "cell_type": "code",
   "execution_count": 71,
   "id": "dacafc9b",
   "metadata": {},
   "outputs": [],
   "source": [
    "def visualize_dist(df, col):\n",
    "    np.random.seed(19680801)\n",
    "    plt.figure(figsize=(20,8))\n",
    "    mu = df[col].mean()\n",
    "    sigma = df[col].std()\n",
    "    x = df[col]\n",
    "    num_bins = 500\n",
    "    fig, ax = plt.subplots()\n",
    "    # the histogram of the data\n",
    "    n, bins, patches = ax.hist(x, num_bins, density=True)\n",
    "    # add a 'best fit' line\n",
    "    y = ((1 / (np.sqrt(2 * np.pi) * sigma)) *\n",
    "         np.exp(-0.5 * (1 / sigma * (bins - mu))**2))\n",
    "    ax.plot(bins, y, '--')\n",
    "    ax.set_xlabel(col)\n",
    "    ax.set_ylabel('Probability density')\n",
    "    ax.set_title(f'Histogram of IQ: {mu}, {sigma}')\n",
    "    plt.plot([mu,mu],[0, 2], lw=1.8, label=\"mean\")\n",
    "    #     plt.plot([sigma,sigma],[0, 2], lw=1.8, label=\"std\")\n",
    "    #     ax.set_ylim([0,2.5])\n",
    "    #     ax.set_xlim([0, 6])\n",
    "    # Tweak spacing to prevent clipping of ylabel\n",
    "    fig.tight_layout()\n",
    "    plt.show()"
   ]
  },
  {
   "cell_type": "code",
   "execution_count": 72,
   "id": "1928c7ab",
   "metadata": {},
   "outputs": [],
   "source": [
    "features_for_amputation =['gender','dist','hour','birthyear','usertype']"
   ]
  },
  {
   "cell_type": "markdown",
   "id": "af059b5d",
   "metadata": {},
   "source": [
    "## Calculate mean and std before imputation"
   ]
  },
  {
   "cell_type": "code",
   "execution_count": 73,
   "id": "d9173084",
   "metadata": {},
   "outputs": [
    {
     "name": "stdout",
     "output_type": "stream",
     "text": [
      "Train (282432, 5) (282432,)\n",
      "Test (70608, 5) (70608,)\n"
     ]
    }
   ],
   "source": [
    "X_train, X_test, y_train, y_test = split_dataset(df)"
   ]
  },
  {
   "cell_type": "code",
   "execution_count": 74,
   "id": "2ddd530a",
   "metadata": {},
   "outputs": [
    {
     "name": "stdout",
     "output_type": "stream",
     "text": [
      "The variable dist has mean = 0.7848814720776504 and standard deviation =0.54278813457282 \n",
      "The variable hour has mean = 13.633274558123725 and standard deviation =5.155597162884377 \n",
      "The variable birthyear has mean = 1980.450076478586 and standard deviation =10.101242979840942 \n",
      "The variable usertype has mode  0    Subscriber\n",
      "Name: usertype, dtype: object\n",
      "The variable gender categorical type mode is  0    male\n",
      "Name: gender, dtype: object\n"
     ]
    }
   ],
   "source": [
    "for col in  ['dist','hour','birthyear']:\n",
    "    mu = X_train[col].mean()\n",
    "    sigma = X_train[col].std()\n",
    "    print(f\"The variable {col} has mean = {mu} and standard deviation ={sigma} \")\n",
    "print(f\"The variable usertype has mode \",  X_train['usertype'].mode())\n",
    "print(f\"The variable gender categorical type mode is \", X_train['gender'].mode() ) "
   ]
  },
  {
   "cell_type": "code",
   "execution_count": 75,
   "id": "5e98df2e",
   "metadata": {},
   "outputs": [
    {
     "name": "stdout",
     "output_type": "stream",
     "text": [
      "The variable dist has mean = 0.7816197583886165 and standard deviation =0.539831786399696 \n",
      "The variable hour has mean = 13.634404033537276 and standard deviation =5.161274457822756 \n",
      "The variable birthyear has mean = 1980.3952384998868 and standard deviation =10.065528836178935 \n",
      "The variable usertype has mode  0    Subscriber\n",
      "Name: usertype, dtype: object\n",
      "The variable gender categorical type mode is  0    male\n",
      "Name: gender, dtype: object\n"
     ]
    }
   ],
   "source": [
    "for col in ['dist','hour','birthyear']:\n",
    "    mu = X_test[col].mean()\n",
    "    sigma = X_test[col].std()\n",
    "    print(f\"The variable {col} has mean = {mu} and standard deviation ={sigma} \")\n",
    "print(f\"The variable usertype has mode \",  X_test['usertype'].mode())\n",
    "print(f\"The variable gender categorical type mode is \", X_test['gender'].mode() ) "
   ]
  },
  {
   "cell_type": "code",
   "execution_count": 76,
   "id": "e788f017",
   "metadata": {},
   "outputs": [],
   "source": [
    "cat_gender = ['gender_female', 'gender_male','gender_unknown']\n",
    "cat_usertype = ['usertype_Customer', 'usertype_Subscriber']"
   ]
  },
  {
   "cell_type": "markdown",
   "id": "5c66ca11",
   "metadata": {},
   "source": [
    "## Imputation for NA ( drop NA values)"
   ]
  },
  {
   "cell_type": "code",
   "execution_count": 77,
   "id": "0b78a92c",
   "metadata": {},
   "outputs": [
    {
     "name": "stdout",
     "output_type": "stream",
     "text": [
      "Now running model is .... gender\n",
      "Train (282432, 5) (282432,)\n",
      "Test (70608, 5) (70608,)\n",
      "Train set after Amputation (282432, 5) (282432,)\n",
      "y_train Amputed value count of varaible  56486\n",
      "X_train Amputed value count of varaible  56486\n",
      "Test set after Amputation (70608, 5) (70608,)\n",
      "y_test Amputed value count of varaible  14122\n",
      "X_test Amputed value count of varaible  14122\n",
      "Simulate Imputation for NA\n",
      "Train after NA value removal Imputation (225946, 5) (225946,)\n",
      "Test after NA value removal Imputation (56486, 5) (56486,)\n",
      "['gender', 'usertype']\n",
      "2023-02-19 14:15:18.676519\n",
      "2023-02-19 14:15:18.759604\n",
      "Now running model is .... dist\n",
      "Train (282432, 5) (282432,)\n",
      "Test (70608, 5) (70608,)\n",
      "Train set after Amputation (282432, 5) (282432,)\n",
      "y_train Amputed value count of varaible  56486\n",
      "X_train Amputed value count of varaible  56486\n",
      "Test set after Amputation (70608, 5) (70608,)\n",
      "y_test Amputed value count of varaible  14122\n",
      "X_test Amputed value count of varaible  14122\n",
      "Simulate Imputation for NA\n",
      "Train after NA value removal Imputation (225946, 5) (225946,)\n",
      "Test after NA value removal Imputation (56486, 5) (56486,)\n",
      "['gender', 'usertype']\n",
      "2023-02-19 14:15:23.661691\n",
      "2023-02-19 14:15:23.723696\n",
      "Now running model is .... hour\n",
      "Train (282432, 5) (282432,)\n",
      "Test (70608, 5) (70608,)\n",
      "Train set after Amputation (282432, 5) (282432,)\n",
      "y_train Amputed value count of varaible  56486\n",
      "X_train Amputed value count of varaible  56486\n",
      "Test set after Amputation (70608, 5) (70608,)\n",
      "y_test Amputed value count of varaible  14122\n",
      "X_test Amputed value count of varaible  14122\n",
      "Simulate Imputation for NA\n",
      "Train after NA value removal Imputation (225946, 5) (225946,)\n",
      "Test after NA value removal Imputation (56486, 5) (56486,)\n",
      "['gender', 'usertype']\n",
      "2023-02-19 14:15:28.262960\n",
      "2023-02-19 14:15:28.320529\n",
      "Now running model is .... birthyear\n",
      "Train (282432, 5) (282432,)\n",
      "Test (70608, 5) (70608,)\n",
      "Train set after Amputation (282432, 5) (282432,)\n",
      "y_train Amputed value count of varaible  56486\n",
      "X_train Amputed value count of varaible  56486\n",
      "Test set after Amputation (70608, 5) (70608,)\n",
      "y_test Amputed value count of varaible  14122\n",
      "X_test Amputed value count of varaible  14122\n",
      "Simulate Imputation for NA\n",
      "Train after NA value removal Imputation (225946, 5) (225946,)\n",
      "Test after NA value removal Imputation (56486, 5) (56486,)\n",
      "['gender', 'usertype']\n",
      "2023-02-19 14:15:32.842585\n",
      "2023-02-19 14:15:32.931118\n",
      "Now running model is .... usertype\n",
      "Train (282432, 5) (282432,)\n",
      "Test (70608, 5) (70608,)\n",
      "Train set after Amputation (282432, 5) (282432,)\n",
      "y_train Amputed value count of varaible  56486\n",
      "X_train Amputed value count of varaible  56486\n",
      "Test set after Amputation (70608, 5) (70608,)\n",
      "y_test Amputed value count of varaible  14122\n",
      "X_test Amputed value count of varaible  14122\n",
      "Simulate Imputation for NA\n",
      "Train after NA value removal Imputation (225946, 5) (225946,)\n",
      "Test after NA value removal Imputation (56486, 5) (56486,)\n",
      "['gender', 'usertype']\n",
      "2023-02-19 14:15:37.555918\n",
      "2023-02-19 14:15:37.618459\n"
     ]
    }
   ],
   "source": [
    "model_metrics ={}\n",
    "for var in features_for_amputation:\n",
    "    print(\"Now running model is ....\", var)\n",
    "    X_train, X_test, y_train, y_test = split_dataset(df)\n",
    "    X_train , y_train, X_test , y_test = ampute_each_variables(var,\"remove\",X_train,y_train,X_test,y_test)\n",
    "    X_train, X_test = one_hot_encoding(X_train,X_test)\n",
    "    model_reg = model_evaluation(X_train,y_train)\n",
    "    y_pred = model_reg.predict(X_test)\n",
    "    if(var == 'gender'):\n",
    "        for v in cat_gender:\n",
    "            mu_train = X_train[v].mean()\n",
    "            sigma_train = X_train[v].std()\n",
    "            mu_test = X_test[v].mean()\n",
    "            sigma_test = X_test[v].std()\n",
    "            model_metrics[v] = {\"MAE\":mean_absolute_error(y_test, y_pred),\"MSE\":mean_squared_error(y_test, y_pred),\n",
    "                          \"RMSE\":np.sqrt(mean_squared_error(y_test, y_pred)),\"R2\":r2_score(y_test, y_pred),\n",
    "                           \"intercept\":model_reg.intercept_,\n",
    "                          \"Mu_train\":mu_train, \"sigma_train\":sigma_train,\n",
    "                          \"Mu_test\":mu_test, \"sigma_test\":sigma_test}\n",
    "    elif(var == 'usertype'):\n",
    "        for v in cat_usertype:\n",
    "            mu_train = X_train[v].mean()\n",
    "            sigma_train = X_train[v].std()\n",
    "            mu_test = X_test[v].mean()\n",
    "            sigma_test = X_test[v].std()\n",
    "            model_metrics[v] = {\"MAE\":mean_absolute_error(y_test, y_pred),\"MSE\":mean_squared_error(y_test, y_pred),\n",
    "                          \"RMSE\":np.sqrt(mean_squared_error(y_test, y_pred)),\"R2\":r2_score(y_test, y_pred),\n",
    "                            \"intercept\":model_reg.intercept_,\n",
    "                          \"Mu_train\":mu_train, \"sigma_train\":sigma_train,\n",
    "                          \"Mu_test\":mu_test, \"sigma_test\":sigma_test}\n",
    "    else:\n",
    "        mu_train = X_train[var].mean()\n",
    "        sigma_train = X_train[var].std()\n",
    "        mu_test = X_test[var].mean()\n",
    "        sigma_test = X_test[var].std()\n",
    "        model_metrics[var] = {\"MAE\":mean_absolute_error(y_test, y_pred),\"MSE\":mean_squared_error(y_test, y_pred),\n",
    "                              \"RMSE\":np.sqrt(mean_squared_error(y_test, y_pred)),\"R2\":r2_score(y_test, y_pred),\n",
    "                               \"intercept\":model_reg.intercept_,\n",
    "                              \"Mu_train\":mu_train, \"sigma_train\":sigma_train,\n",
    "                              \"Mu_test\":mu_test, \"sigma_test\":sigma_test}\n",
    "    del X_train\n",
    "    del X_test\n",
    "    del y_train\n",
    "    del y_test"
   ]
  },
  {
   "cell_type": "code",
   "execution_count": 78,
   "id": "a6a307d3",
   "metadata": {},
   "outputs": [
    {
     "data": {
      "text/plain": [
       "{'gender_female': {'MAE': 278.73865762235374,\n",
       "  'MSE': 422975.10446836834,\n",
       "  'RMSE': 650.3653622913572,\n",
       "  'R2': 0.16997851844153733,\n",
       "  'intercept': 4267.144804996973,\n",
       "  'Mu_train': 0.2129004275357829,\n",
       "  'sigma_train': 0.40935873894239,\n",
       "  'Mu_test': 0.20999893778989484,\n",
       "  'sigma_test': 0.4073110862339015},\n",
       " 'gender_male': {'MAE': 278.73865762235374,\n",
       "  'MSE': 422975.10446836834,\n",
       "  'RMSE': 650.3653622913572,\n",
       "  'R2': 0.16997851844153733,\n",
       "  'intercept': 4267.144804996973,\n",
       "  'Mu_train': 0.7271294911173466,\n",
       "  'sigma_train': 0.4454358229964737,\n",
       "  'Mu_test': 0.7307474418439968,\n",
       "  'sigma_test': 0.4435753615875751},\n",
       " 'gender_unknown': {'MAE': 278.73865762235374,\n",
       "  'MSE': 422975.10446836834,\n",
       "  'RMSE': 650.3653622913572,\n",
       "  'R2': 0.16997851844153733,\n",
       "  'intercept': 4267.144804996973,\n",
       "  'Mu_train': 0.05997008134687049,\n",
       "  'sigma_train': 0.23743192749051348,\n",
       "  'Mu_test': 0.059253620366108414,\n",
       "  'sigma_test': 0.23610085916153653},\n",
       " 'dist': {'MAE': 278.73865762235374,\n",
       "  'MSE': 422975.10446836834,\n",
       "  'RMSE': 650.3653622913572,\n",
       "  'R2': 0.16997851844153733,\n",
       "  'intercept': 4267.144804996973,\n",
       "  'Mu_train': 0.7841921337561862,\n",
       "  'sigma_train': 0.5423111331460886,\n",
       "  'Mu_test': 0.782068133606212,\n",
       "  'sigma_test': 0.5395611725931245},\n",
       " 'hour': {'MAE': 278.73865762235374,\n",
       "  'MSE': 422975.10446836834,\n",
       "  'RMSE': 650.3653622913572,\n",
       "  'R2': 0.16997851844153733,\n",
       "  'intercept': 4267.144804996973,\n",
       "  'Mu_train': 13.641184176750198,\n",
       "  'sigma_train': 5.154544364033436,\n",
       "  'Mu_test': 13.603990369295046,\n",
       "  'sigma_test': 5.165492883680779},\n",
       " 'birthyear': {'MAE': 278.73865762235374,\n",
       "  'MSE': 422975.10446836834,\n",
       "  'RMSE': 650.3653622913572,\n",
       "  'R2': 0.16997851844153733,\n",
       "  'intercept': 4267.144804996973,\n",
       "  'Mu_train': 1980.4455091039451,\n",
       "  'sigma_train': 10.108843492651083,\n",
       "  'Mu_test': 1980.3877597988883,\n",
       "  'sigma_test': 10.049076615209367},\n",
       " 'usertype_Customer': {'MAE': 278.73865762235374,\n",
       "  'MSE': 422975.10446836834,\n",
       "  'RMSE': 650.3653622913572,\n",
       "  'R2': 0.16997851844153733,\n",
       "  'intercept': 4267.144804996973,\n",
       "  'Mu_train': 0.06216087029644251,\n",
       "  'sigma_train': 0.2414480368818346,\n",
       "  'Mu_test': 0.06123641256240484,\n",
       "  'sigma_test': 0.2397655773240115},\n",
       " 'usertype_Subscriber': {'MAE': 278.73865762235374,\n",
       "  'MSE': 422975.10446836834,\n",
       "  'RMSE': 650.3653622913572,\n",
       "  'R2': 0.16997851844153733,\n",
       "  'intercept': 4267.144804996973,\n",
       "  'Mu_train': 0.9378391297035575,\n",
       "  'sigma_train': 0.24144803688183458,\n",
       "  'Mu_test': 0.9387635874375951,\n",
       "  'sigma_test': 0.2397655773240115}}"
      ]
     },
     "execution_count": 78,
     "metadata": {},
     "output_type": "execute_result"
    }
   ],
   "source": [
    "model_metrics"
   ]
  },
  {
   "cell_type": "markdown",
   "id": "cd06c39a",
   "metadata": {},
   "source": [
    "### Bootstarp with drop NA"
   ]
  },
  {
   "cell_type": "code",
   "execution_count": 79,
   "id": "20760012",
   "metadata": {},
   "outputs": [
    {
     "name": "stdout",
     "output_type": "stream",
     "text": [
      "Now running model is .... gender\n",
      "Train (282432, 5) (282432,)\n",
      "Test (70608, 5) (70608,)\n",
      "Train set after Amputation (282432, 5) (282432,)\n",
      "y_train Amputed value count of varaible  56486\n",
      "X_train Amputed value count of varaible  56486\n",
      "Test set after Amputation (70608, 5) (70608,)\n",
      "y_test Amputed value count of varaible  14122\n",
      "X_test Amputed value count of varaible  14122\n",
      "Simulate Imputation for NA\n",
      "Train after NA value removal Imputation (225946, 5) (225946,)\n",
      "Test after NA value removal Imputation (56486, 5) (56486,)\n",
      "['gender', 'usertype']\n",
      "Now running model is .... dist\n",
      "Train (282432, 5) (282432,)\n",
      "Test (70608, 5) (70608,)\n",
      "Train set after Amputation (282432, 5) (282432,)\n",
      "y_train Amputed value count of varaible  56486\n",
      "X_train Amputed value count of varaible  56486\n",
      "Test set after Amputation (70608, 5) (70608,)\n",
      "y_test Amputed value count of varaible  14122\n",
      "X_test Amputed value count of varaible  14122\n",
      "Simulate Imputation for NA\n",
      "Train after NA value removal Imputation (225946, 5) (225946,)\n",
      "Test after NA value removal Imputation (56486, 5) (56486,)\n",
      "['gender', 'usertype']\n",
      "Now running model is .... hour\n",
      "Train (282432, 5) (282432,)\n",
      "Test (70608, 5) (70608,)\n",
      "Train set after Amputation (282432, 5) (282432,)\n",
      "y_train Amputed value count of varaible  56486\n",
      "X_train Amputed value count of varaible  56486\n",
      "Test set after Amputation (70608, 5) (70608,)\n",
      "y_test Amputed value count of varaible  14122\n",
      "X_test Amputed value count of varaible  14122\n",
      "Simulate Imputation for NA\n",
      "Train after NA value removal Imputation (225946, 5) (225946,)\n",
      "Test after NA value removal Imputation (56486, 5) (56486,)\n",
      "['gender', 'usertype']\n",
      "Now running model is .... birthyear\n",
      "Train (282432, 5) (282432,)\n",
      "Test (70608, 5) (70608,)\n",
      "Train set after Amputation (282432, 5) (282432,)\n",
      "y_train Amputed value count of varaible  56486\n",
      "X_train Amputed value count of varaible  56486\n",
      "Test set after Amputation (70608, 5) (70608,)\n",
      "y_test Amputed value count of varaible  14122\n",
      "X_test Amputed value count of varaible  14122\n",
      "Simulate Imputation for NA\n",
      "Train after NA value removal Imputation (225946, 5) (225946,)\n",
      "Test after NA value removal Imputation (56486, 5) (56486,)\n",
      "['gender', 'usertype']\n",
      "Now running model is .... usertype\n",
      "Train (282432, 5) (282432,)\n",
      "Test (70608, 5) (70608,)\n",
      "Train set after Amputation (282432, 5) (282432,)\n",
      "y_train Amputed value count of varaible  56486\n",
      "X_train Amputed value count of varaible  56486\n",
      "Test set after Amputation (70608, 5) (70608,)\n",
      "y_test Amputed value count of varaible  14122\n",
      "X_test Amputed value count of varaible  14122\n",
      "Simulate Imputation for NA\n",
      "Train after NA value removal Imputation (225946, 5) (225946,)\n",
      "Test after NA value removal Imputation (56486, 5) (56486,)\n",
      "['gender', 'usertype']\n"
     ]
    }
   ],
   "source": [
    "bootstrap_data_drop ={}\n",
    "for var in features_for_amputation:\n",
    "    print(\"Now running model is ....\", var)\n",
    "    X_train, X_test, y_train, y_test = split_dataset(df)\n",
    "    X_train , y_train, X_test , y_test = ampute_each_variables(var,\"remove\",X_train,y_train,X_test,y_test)\n",
    "    X_train, X_test = one_hot_encoding(X_train,X_test)\n",
    "    model_lr = LinearRegression(fit_intercept=True)\n",
    "    rng = np.random.RandomState(1234)\n",
    "    idx = np.arange(y_train.shape[0])\n",
    "    bootstarp_train_accuracies = {}\n",
    "    for i in range(501):\n",
    "        train_idx = rng.choice(idx, size=idx.shape[0], replace=True)\n",
    "        test_idx = np.setdiff1d(idx, train_idx, assume_unique=False)\n",
    "        boot_train_X, boot_train_y = X_train.iloc[train_idx], y_train.iloc[train_idx]\n",
    "        boot_test_X, boot_test_y = X_train.iloc[test_idx], y_train.iloc[test_idx]\n",
    "        model_lr.fit(boot_test_X, boot_test_y )\n",
    "        boot_y_pred = model_lr.predict(boot_test_X)\n",
    "        bootstarp_train_accuracies[i] = {\"RMSE\": np.sqrt(mean_squared_error(boot_test_y, boot_y_pred)),\n",
    "                                      \"R2\":r2_score(boot_test_y, boot_y_pred), \"intercept\":model_lr.intercept_}\n",
    "    R2 = []\n",
    "    RMSE = []\n",
    "    intercept = []\n",
    "    for i in range(501):\n",
    "        R2.append(bootstarp_train_accuracies[i]['R2'])\n",
    "        RMSE.append(bootstarp_train_accuracies[i]['RMSE'])\n",
    "        intercept.append(bootstarp_train_accuracies[i]['intercept'])\n",
    "    bootstrap_data_drop[var] = {\"R2\": [np.percentile(R2, 2.5), np.percentile(R2, 97.5)],\n",
    "                         \"RMSE\": [np.percentile(RMSE, 2.5), np.percentile(RMSE, 97.5)],\n",
    "                         \"intercept\": [np.percentile(intercept, 2.5), np.percentile(intercept, 97.5)]}"
   ]
  },
  {
   "cell_type": "code",
   "execution_count": 80,
   "id": "c5e49148",
   "metadata": {},
   "outputs": [
    {
     "data": {
      "text/plain": [
       "{'gender': {'R2': [0.16943407382491632, 0.18401755037351225],\n",
       "  'RMSE': [649.3841484106034, 682.964131050179],\n",
       "  'intercept': [3697.38996191378, 4870.295350546845]},\n",
       " 'dist': {'R2': [0.16943407382491632, 0.18401755037351225],\n",
       "  'RMSE': [649.3841484106034, 682.964131050179],\n",
       "  'intercept': [3697.38996191378, 4870.295350546845]},\n",
       " 'hour': {'R2': [0.16943407382491632, 0.18401755037351225],\n",
       "  'RMSE': [649.3841484106034, 682.964131050179],\n",
       "  'intercept': [3697.38996191378, 4870.295350546845]},\n",
       " 'birthyear': {'R2': [0.16943407382491632, 0.18401755037351225],\n",
       "  'RMSE': [649.3841484106034, 682.964131050179],\n",
       "  'intercept': [3697.38996191378, 4870.295350546845]},\n",
       " 'usertype': {'R2': [0.16943407382491632, 0.18401755037351225],\n",
       "  'RMSE': [649.3841484106034, 682.964131050179],\n",
       "  'intercept': [3697.38996191378, 4870.295350546845]}}"
      ]
     },
     "execution_count": 80,
     "metadata": {},
     "output_type": "execute_result"
    }
   ],
   "source": [
    "bootstrap_data_drop"
   ]
  },
  {
   "cell_type": "markdown",
   "id": "c2bf9d60",
   "metadata": {},
   "source": [
    "### Mode Replacement"
   ]
  },
  {
   "cell_type": "code",
   "execution_count": 81,
   "id": "1bb598f3",
   "metadata": {},
   "outputs": [
    {
     "name": "stdout",
     "output_type": "stream",
     "text": [
      "Now model is running for varaible ==== gender\n",
      "Train (282432, 5) (282432,)\n",
      "Test (70608, 5) (70608,)\n",
      "Train set after Amputation (282432, 5)\n",
      "X_train Amputed value count of varaible  56486\n",
      "Test set after Amputation (70608, 5)\n",
      "X_test Amputed value count of varaible  14122\n",
      "Simulate Imputation for Mode\n",
      "Train after Mode Imputation (282432, 5) (282432,)\n",
      "Test after Mode Imputation (70608, 5) (70608,)\n",
      "['gender', 'usertype']\n",
      "2023-02-19 14:20:30.435282\n",
      "2023-02-19 14:20:30.499878\n",
      "Now model is running for varaible ==== dist\n",
      "Train (282432, 5) (282432,)\n",
      "Test (70608, 5) (70608,)\n",
      "Train set after Amputation (282432, 5)\n",
      "X_train Amputed value count of varaible  56486\n",
      "Test set after Amputation (70608, 5)\n",
      "X_test Amputed value count of varaible  14122\n",
      "Simulate Imputation for Mode\n",
      "Train after Mode Imputation (282432, 5) (282432,)\n",
      "Test after Mode Imputation (70608, 5) (70608,)\n",
      "['gender', 'usertype']\n",
      "2023-02-19 14:20:32.007019\n",
      "2023-02-19 14:20:32.087177\n",
      "Now model is running for varaible ==== hour\n",
      "Train (282432, 5) (282432,)\n",
      "Test (70608, 5) (70608,)\n",
      "Train set after Amputation (282432, 5)\n",
      "X_train Amputed value count of varaible  56486\n",
      "Test set after Amputation (70608, 5)\n",
      "X_test Amputed value count of varaible  14122\n",
      "Simulate Imputation for Mode\n",
      "Train after Mode Imputation (282432, 5) (282432,)\n",
      "Test after Mode Imputation (70608, 5) (70608,)\n",
      "['gender', 'usertype']\n",
      "2023-02-19 14:20:33.578198\n",
      "2023-02-19 14:20:33.659912\n",
      "Now model is running for varaible ==== birthyear\n",
      "Train (282432, 5) (282432,)\n",
      "Test (70608, 5) (70608,)\n",
      "Train set after Amputation (282432, 5)\n",
      "X_train Amputed value count of varaible  56486\n",
      "Test set after Amputation (70608, 5)\n",
      "X_test Amputed value count of varaible  14122\n",
      "Simulate Imputation for Mode\n",
      "Train after Mode Imputation (282432, 5) (282432,)\n",
      "Test after Mode Imputation (70608, 5) (70608,)\n",
      "['gender', 'usertype']\n",
      "2023-02-19 14:20:35.180554\n",
      "2023-02-19 14:20:35.265257\n",
      "Now model is running for varaible ==== usertype\n",
      "Train (282432, 5) (282432,)\n",
      "Test (70608, 5) (70608,)\n",
      "Train set after Amputation (282432, 5)\n",
      "X_train Amputed value count of varaible  56486\n",
      "Test set after Amputation (70608, 5)\n",
      "X_test Amputed value count of varaible  14122\n",
      "Simulate Imputation for Mode\n",
      "Train after Mode Imputation (282432, 5) (282432,)\n",
      "Test after Mode Imputation (70608, 5) (70608,)\n",
      "['gender', 'usertype']\n",
      "2023-02-19 14:20:36.690384\n",
      "2023-02-19 14:20:36.782332\n"
     ]
    }
   ],
   "source": [
    "model_metrics_mode ={}\n",
    "for var in features_for_amputation:\n",
    "    print(\"Now model is running for varaible ====\", var)\n",
    "    X_train, X_test, y_train, y_test = split_dataset(df)\n",
    "    X_train , y_train, X_test , y_test = ampute_each_variables(var,\"mode\",X_train,y_train,X_test,y_test)\n",
    "    X_train, X_test = one_hot_encoding(X_train,X_test)\n",
    "    model_reg = model_evaluation(X_train,y_train)\n",
    "    y_pred = model_reg.predict(X_test)\n",
    "    if(var == 'gender'):\n",
    "        for v in cat_gender:\n",
    "            mu_train = X_train[v].mean()\n",
    "            sigma_train = X_train[v].std()\n",
    "            mu_test = X_test[v].mean()\n",
    "            sigma_test = X_test[v].std()\n",
    "            model_metrics_mode[v] = {\"MAE\":mean_absolute_error(y_test, y_pred),\"MSE\":mean_squared_error(y_test, y_pred),\n",
    "                          \"RMSE\":np.sqrt(mean_squared_error(y_test, y_pred)),\"R2\":r2_score(y_test, y_pred),\n",
    "                            \"intercept\":model_reg.intercept_,\n",
    "                          \"Mu_train\":mu_train, \"sigma_train\":sigma_train,\n",
    "                          \"Mu_test\":mu_test, \"sigma_test\":sigma_test}\n",
    "    elif(var == 'usertype'):\n",
    "        for v in cat_usertype:\n",
    "            mu_train = X_train[v].mean()\n",
    "            sigma_train = X_train[v].std()\n",
    "            mu_test = X_test[v].mean()\n",
    "            sigma_test = X_test[v].std()\n",
    "            model_metrics_mode[v] = {\"MAE\":mean_absolute_error(y_test, y_pred),\"MSE\":mean_squared_error(y_test, y_pred),\n",
    "                          \"RMSE\":np.sqrt(mean_squared_error(y_test, y_pred)),\"R2\":r2_score(y_test, y_pred),\n",
    "                            \"intercept\":model_reg.intercept_,\n",
    "                          \"Mu_train\":mu_train, \"sigma_train\":sigma_train,\n",
    "                          \"Mu_test\":mu_test, \"sigma_test\":sigma_test}\n",
    "    else:\n",
    "        mu_train = X_train[var].mean()\n",
    "        sigma_train = X_train[var].std()\n",
    "        mu_test = X_test[var].mean()\n",
    "        sigma_test = X_test[var].std()\n",
    "        model_metrics_mode[var] = {\"MAE\":mean_absolute_error(y_test, y_pred),\"MSE\":mean_squared_error(y_test, y_pred),\n",
    "                              \"RMSE\":np.sqrt(mean_squared_error(y_test, y_pred)),\"R2\":r2_score(y_test, y_pred),\n",
    "                                \"intercept\":model_reg.intercept_,\n",
    "                              \"Mu_train\":mu_train, \"sigma_train\":sigma_train,\n",
    "                              \"Mu_test\":mu_test, \"sigma_test\":sigma_test}\n",
    "    del X_train\n",
    "    del X_test\n",
    "    del y_train\n",
    "    del y_test"
   ]
  },
  {
   "cell_type": "code",
   "execution_count": 82,
   "id": "5631e12a",
   "metadata": {},
   "outputs": [
    {
     "data": {
      "text/plain": [
       "{'gender_female': {'MAE': 278.7321056006803,\n",
       "  'MSE': 429275.83119951247,\n",
       "  'RMSE': 655.1914462197385,\n",
       "  'R2': 0.16717760784514024,\n",
       "  'intercept': 4526.713198285251,\n",
       "  'Mu_train': 0.17032064355313845,\n",
       "  'sigma_train': 0.37591491360780954,\n",
       "  'Mu_test': 0.1679979605710401,\n",
       "  'sigma_test': 0.3738671226914444},\n",
       " 'gender_male': {'MAE': 278.7321056006803,\n",
       "  'MSE': 429275.83119951247,\n",
       "  'RMSE': 655.1914462197385,\n",
       "  'R2': 0.16717760784514024,\n",
       "  'intercept': 4526.713198285251,\n",
       "  'Mu_train': 0.7817032064355314,\n",
       "  'sigma_train': 0.4130906773077862,\n",
       "  'Mu_test': 0.7845994788125992,\n",
       "  'sigma_test': 0.41110282197329623},\n",
       " 'gender_unknown': {'MAE': 278.7321056006803,\n",
       "  'MSE': 429275.83119951247,\n",
       "  'RMSE': 655.1914462197385,\n",
       "  'R2': 0.16717760784514024,\n",
       "  'intercept': 4526.713198285251,\n",
       "  'Mu_train': 0.04797615001133016,\n",
       "  'sigma_train': 0.213716168691913,\n",
       "  'Mu_test': 0.04740256061636075,\n",
       "  'sigma_test': 0.21249987622843455},\n",
       " 'dist': {'MAE': 287.7887012385004,\n",
       "  'MSE': 432003.53220551024,\n",
       "  'RMSE': 657.2697560404786,\n",
       "  'R2': 0.16188569455351487,\n",
       "  'intercept': 3985.0390717951336,\n",
       "  'Mu_train': 0.759163550890677,\n",
       "  'sigma_train': 0.4876341366894877,\n",
       "  'Mu_test': 0.7574634766169788,\n",
       "  'sigma_test': 0.4850979678381624},\n",
       " 'hour': {'MAE': 278.87003565167066,\n",
       "  'MSE': 429190.7940687901,\n",
       "  'RMSE': 655.1265481330993,\n",
       "  'R2': 0.16734258528268275,\n",
       "  'intercept': 4237.822911722738,\n",
       "  'Mu_train': 12.512955330840699,\n",
       "  'sigma_train': 5.132947039263315,\n",
       "  'Mu_test': 12.483160548379788,\n",
       "  'sigma_test': 5.1352271465681385},\n",
       " 'birthyear': {'MAE': 278.71103269721345,\n",
       "  'MSE': 429104.1670860413,\n",
       "  'RMSE': 655.0604301024764,\n",
       "  'R2': 0.16751064713418828,\n",
       "  'intercept': 3569.7323147814336,\n",
       "  'Mu_train': 1978.1564234930886,\n",
       "  'sigma_train': 10.134641446441634,\n",
       "  'Mu_test': 1978.1101433265353,\n",
       "  'sigma_test': 10.076507375930033},\n",
       " 'usertype_Customer': {'MAE': 283.68266088672016,\n",
       "  'MSE': 440405.1961433106,\n",
       "  'RMSE': 663.6303158712014,\n",
       "  'R2': 0.14558593260509967,\n",
       "  'intercept': 3725.5643932418284,\n",
       "  'Mu_train': 0.049728784273736684,\n",
       "  'sigma_train': 0.21738445116093827,\n",
       "  'Mu_test': 0.048988783140720596,\n",
       "  'sigma_test': 0.21584610744896857},\n",
       " 'usertype_Subscriber': {'MAE': 283.68266088672016,\n",
       "  'MSE': 440405.1961433106,\n",
       "  'RMSE': 663.6303158712014,\n",
       "  'R2': 0.14558593260509967,\n",
       "  'intercept': 3725.5643932418284,\n",
       "  'Mu_train': 0.9502712157262633,\n",
       "  'sigma_train': 0.21738445116093827,\n",
       "  'Mu_test': 0.9510112168592794,\n",
       "  'sigma_test': 0.21584610744896857}}"
      ]
     },
     "execution_count": 82,
     "metadata": {},
     "output_type": "execute_result"
    }
   ],
   "source": [
    "model_metrics_mode"
   ]
  },
  {
   "cell_type": "markdown",
   "id": "904f3b41",
   "metadata": {},
   "source": [
    "### Bootstrap with mode"
   ]
  },
  {
   "cell_type": "code",
   "execution_count": 83,
   "id": "c5d13ee3",
   "metadata": {},
   "outputs": [
    {
     "name": "stdout",
     "output_type": "stream",
     "text": [
      "Now running model is .... gender\n",
      "Train (282432, 5) (282432,)\n",
      "Test (70608, 5) (70608,)\n",
      "Train set after Amputation (282432, 5)\n",
      "X_train Amputed value count of varaible  56486\n",
      "Test set after Amputation (70608, 5)\n",
      "X_test Amputed value count of varaible  14122\n",
      "Simulate Imputation for Mode\n",
      "Train after Mode Imputation (282432, 5) (282432,)\n",
      "Test after Mode Imputation (70608, 5) (70608,)\n",
      "['gender', 'usertype']\n",
      "Now running model is .... dist\n",
      "Train (282432, 5) (282432,)\n",
      "Test (70608, 5) (70608,)\n",
      "Train set after Amputation (282432, 5)\n",
      "X_train Amputed value count of varaible  56486\n",
      "Test set after Amputation (70608, 5)\n",
      "X_test Amputed value count of varaible  14122\n",
      "Simulate Imputation for Mode\n",
      "Train after Mode Imputation (282432, 5) (282432,)\n",
      "Test after Mode Imputation (70608, 5) (70608,)\n",
      "['gender', 'usertype']\n",
      "Now running model is .... hour\n",
      "Train (282432, 5) (282432,)\n",
      "Test (70608, 5) (70608,)\n",
      "Train set after Amputation (282432, 5)\n",
      "X_train Amputed value count of varaible  56486\n",
      "Test set after Amputation (70608, 5)\n",
      "X_test Amputed value count of varaible  14122\n",
      "Simulate Imputation for Mode\n",
      "Train after Mode Imputation (282432, 5) (282432,)\n",
      "Test after Mode Imputation (70608, 5) (70608,)\n",
      "['gender', 'usertype']\n",
      "Now running model is .... birthyear\n",
      "Train (282432, 5) (282432,)\n",
      "Test (70608, 5) (70608,)\n",
      "Train set after Amputation (282432, 5)\n",
      "X_train Amputed value count of varaible  56486\n",
      "Test set after Amputation (70608, 5)\n",
      "X_test Amputed value count of varaible  14122\n",
      "Simulate Imputation for Mode\n",
      "Train after Mode Imputation (282432, 5) (282432,)\n",
      "Test after Mode Imputation (70608, 5) (70608,)\n",
      "['gender', 'usertype']\n",
      "Now running model is .... usertype\n",
      "Train (282432, 5) (282432,)\n",
      "Test (70608, 5) (70608,)\n",
      "Train set after Amputation (282432, 5)\n",
      "X_train Amputed value count of varaible  56486\n",
      "Test set after Amputation (70608, 5)\n",
      "X_test Amputed value count of varaible  14122\n",
      "Simulate Imputation for Mode\n",
      "Train after Mode Imputation (282432, 5) (282432,)\n",
      "Test after Mode Imputation (70608, 5) (70608,)\n",
      "['gender', 'usertype']\n"
     ]
    }
   ],
   "source": [
    "bootstrap_data_mode = {}\n",
    "for var in features_for_amputation:\n",
    "    print(\"Now running model is ....\", var)\n",
    "    X_train, X_test, y_train, y_test = split_dataset(df)\n",
    "    X_train , y_train, X_test , y_test = ampute_each_variables(var,\"mode\",X_train,y_train,X_test,y_test)\n",
    "    X_train, X_test = one_hot_encoding(X_train,X_test)\n",
    "    model_lr = LinearRegression(fit_intercept=True)\n",
    "    rng = np.random.RandomState(1234)\n",
    "    idx = np.arange(y_train.shape[0])\n",
    "    bootstarp_train_accuracies = {}\n",
    "    for i in range(501):\n",
    "        train_idx = rng.choice(idx, size=idx.shape[0], replace=True)\n",
    "        test_idx = np.setdiff1d(idx, train_idx, assume_unique=False)\n",
    "        boot_train_X, boot_train_y = X_train.iloc[train_idx], y_train.iloc[train_idx]\n",
    "        boot_test_X, boot_test_y = X_train.iloc[test_idx], y_train.iloc[test_idx]\n",
    "        model_lr.fit(boot_test_X, boot_test_y )\n",
    "        boot_y_pred = model_lr.predict(boot_test_X)\n",
    "        bootstarp_train_accuracies[i] = {\"RMSE\": np.sqrt(mean_squared_error(boot_test_y, boot_y_pred)),\n",
    "                                      \"R2\":r2_score(boot_test_y, boot_y_pred), \"intercept\":model_lr.intercept_}\n",
    "    R2 = []\n",
    "    RMSE = []\n",
    "    intercept = []\n",
    "    for i in range(501):\n",
    "        R2.append(bootstarp_train_accuracies[i]['R2'])\n",
    "        RMSE.append(bootstarp_train_accuracies[i]['RMSE'])\n",
    "        intercept.append(bootstarp_train_accuracies[i]['intercept'])\n",
    "    bootstrap_data_mode[var] = {\"R2\": [np.percentile(R2, 2.5), np.percentile(R2, 97.5)],\n",
    "                         \"RMSE\": [np.percentile(RMSE, 2.5), np.percentile(RMSE, 97.5)],\n",
    "                         \"intercept\": [np.percentile(intercept, 2.5), np.percentile(intercept, 97.5)]}"
   ]
  },
  {
   "cell_type": "code",
   "execution_count": 84,
   "id": "c00e8ad6",
   "metadata": {},
   "outputs": [
    {
     "data": {
      "text/plain": [
       "{'gender': {'R2': [0.16973032735521126, 0.18328887417240441],\n",
       "  'RMSE': [649.9661593370878, 682.3086117052005],\n",
       "  'intercept': [3941.7687143969606, 5136.733952024837]},\n",
       " 'dist': {'R2': [0.1650597668183234, 0.17807347049664235],\n",
       "  'RMSE': [652.269048305782, 684.3071188015057],\n",
       "  'intercept': [3430.0731945687094, 4544.887549308664]},\n",
       " 'hour': {'R2': [0.16978808150000507, 0.1832118916726434],\n",
       "  'RMSE': [649.9980485808713, 682.3219704229684],\n",
       "  'intercept': [3694.4669898510856, 4824.266534073853]},\n",
       " 'birthyear': {'R2': [0.17014831708532757, 0.18356607156988253],\n",
       "  'RMSE': [649.7996569371485, 682.1833673320891],\n",
       "  'intercept': [3047.6715971176936, 4143.338728569215]},\n",
       " 'usertype': {'R2': [0.14569816237386468, 0.16030193995685388],\n",
       "  'RMSE': [659.4080615971518, 692.6142244694461],\n",
       "  'intercept': [3133.2711707980457, 4329.958767812104]}}"
      ]
     },
     "execution_count": 84,
     "metadata": {},
     "output_type": "execute_result"
    }
   ],
   "source": [
    "bootstrap_data_mode"
   ]
  },
  {
   "cell_type": "markdown",
   "id": "b7fc77e5",
   "metadata": {},
   "source": [
    "## Mean Imputation"
   ]
  },
  {
   "cell_type": "code",
   "execution_count": 85,
   "id": "b54fe94a",
   "metadata": {},
   "outputs": [
    {
     "name": "stdout",
     "output_type": "stream",
     "text": [
      "Now model is running for varaible ==== dist\n",
      "Train (282432, 5) (282432,)\n",
      "Test (70608, 5) (70608,)\n",
      "Train set after Amputation (282432, 5)\n",
      "X_train Amputed value count of varaible  56486\n",
      "Test set after Amputation (70608, 5)\n",
      "X_test Amputed value count of varaible  14122\n",
      "Simulate Imputation for Mean\n"
     ]
    },
    {
     "name": "stderr",
     "output_type": "stream",
     "text": [
      "C:\\Users\\Hinakoushar\\AppData\\Local\\Temp\\ipykernel_30400\\1187816321.py:35: FutureWarning: Dropping of nuisance columns in DataFrame reductions (with 'numeric_only=None') is deprecated; in a future version this will raise TypeError.  Select only valid columns before calling the reduction.\n",
      "  X_train.fillna(X_train.mean(), inplace=True)\n"
     ]
    },
    {
     "name": "stdout",
     "output_type": "stream",
     "text": [
      "Train after Mean Imputation (282432, 5) (282432,)\n"
     ]
    },
    {
     "name": "stderr",
     "output_type": "stream",
     "text": [
      "C:\\Users\\Hinakoushar\\AppData\\Local\\Temp\\ipykernel_30400\\1187816321.py:37: FutureWarning: Dropping of nuisance columns in DataFrame reductions (with 'numeric_only=None') is deprecated; in a future version this will raise TypeError.  Select only valid columns before calling the reduction.\n",
      "  X_test.fillna(X_test.mean(), inplace=True)\n"
     ]
    },
    {
     "name": "stdout",
     "output_type": "stream",
     "text": [
      "Test after Mean Imputation (70608, 5) (70608,)\n",
      "['gender', 'usertype']\n",
      "2023-02-19 14:30:20.507455\n",
      "2023-02-19 14:30:20.584420\n",
      "Now model is running for varaible ==== hour\n",
      "Train (282432, 5) (282432,)\n",
      "Test (70608, 5) (70608,)\n",
      "Train set after Amputation (282432, 5)\n",
      "X_train Amputed value count of varaible  56486\n",
      "Test set after Amputation (70608, 5)\n",
      "X_test Amputed value count of varaible  14122\n",
      "Simulate Imputation for Mean\n"
     ]
    },
    {
     "name": "stderr",
     "output_type": "stream",
     "text": [
      "C:\\Users\\Hinakoushar\\AppData\\Local\\Temp\\ipykernel_30400\\1187816321.py:35: FutureWarning: Dropping of nuisance columns in DataFrame reductions (with 'numeric_only=None') is deprecated; in a future version this will raise TypeError.  Select only valid columns before calling the reduction.\n",
      "  X_train.fillna(X_train.mean(), inplace=True)\n"
     ]
    },
    {
     "name": "stdout",
     "output_type": "stream",
     "text": [
      "Train after Mean Imputation (282432, 5) (282432,)\n"
     ]
    },
    {
     "name": "stderr",
     "output_type": "stream",
     "text": [
      "C:\\Users\\Hinakoushar\\AppData\\Local\\Temp\\ipykernel_30400\\1187816321.py:37: FutureWarning: Dropping of nuisance columns in DataFrame reductions (with 'numeric_only=None') is deprecated; in a future version this will raise TypeError.  Select only valid columns before calling the reduction.\n",
      "  X_test.fillna(X_test.mean(), inplace=True)\n"
     ]
    },
    {
     "name": "stdout",
     "output_type": "stream",
     "text": [
      "Test after Mean Imputation (70608, 5) (70608,)\n",
      "['gender', 'usertype']\n",
      "2023-02-19 14:33:27.533437\n",
      "2023-02-19 14:33:27.604432\n",
      "Now model is running for varaible ==== birthyear\n",
      "Train (282432, 5) (282432,)\n",
      "Test (70608, 5) (70608,)\n",
      "Train set after Amputation (282432, 5)\n",
      "X_train Amputed value count of varaible  56486\n",
      "Test set after Amputation (70608, 5)\n",
      "X_test Amputed value count of varaible  14122\n",
      "Simulate Imputation for Mean\n"
     ]
    },
    {
     "name": "stderr",
     "output_type": "stream",
     "text": [
      "C:\\Users\\Hinakoushar\\AppData\\Local\\Temp\\ipykernel_30400\\1187816321.py:35: FutureWarning: Dropping of nuisance columns in DataFrame reductions (with 'numeric_only=None') is deprecated; in a future version this will raise TypeError.  Select only valid columns before calling the reduction.\n",
      "  X_train.fillna(X_train.mean(), inplace=True)\n"
     ]
    },
    {
     "name": "stdout",
     "output_type": "stream",
     "text": [
      "Train after Mean Imputation (282432, 5) (282432,)\n"
     ]
    },
    {
     "name": "stderr",
     "output_type": "stream",
     "text": [
      "C:\\Users\\Hinakoushar\\AppData\\Local\\Temp\\ipykernel_30400\\1187816321.py:37: FutureWarning: Dropping of nuisance columns in DataFrame reductions (with 'numeric_only=None') is deprecated; in a future version this will raise TypeError.  Select only valid columns before calling the reduction.\n",
      "  X_test.fillna(X_test.mean(), inplace=True)\n"
     ]
    },
    {
     "name": "stdout",
     "output_type": "stream",
     "text": [
      "Test after Mean Imputation (70608, 5) (70608,)\n",
      "['gender', 'usertype']\n",
      "2023-02-19 14:36:54.362092\n",
      "2023-02-19 14:36:54.448855\n"
     ]
    }
   ],
   "source": [
    "variables =['dist','hour','birthyear']\n",
    "model_metrics_mean ={}\n",
    "for var in variables:\n",
    "    print(\"Now model is running for varaible ====\", var)\n",
    "    X_train, X_test, y_train, y_test = split_dataset(df)\n",
    "    X_train , y_train, X_test , y_test = ampute_each_variables(var,\"mean\",X_train,y_train,X_test,y_test)\n",
    "    X_train, X_test = one_hot_encoding(X_train,X_test)\n",
    "    model_reg = model_evaluation(X_train,y_train)\n",
    "    y_pred = model_reg.predict(X_test)\n",
    "    model_metrics_mean[var] = {\"MAE\":mean_absolute_error(y_test, y_pred),\"MSE\":mean_squared_error(y_test, y_pred),\n",
    "                          \"RMSE\":np.sqrt(mean_squared_error(y_test, y_pred)),\"R2\":r2_score(y_test, y_pred),\n",
    "                            \"intercept\":model_reg.intercept_,\n",
    "                          \"Mu_train\":mu_train, \"sigma_train\":sigma_train,\n",
    "                          \"Mu_test\":mu_test, \"sigma_test\":sigma_test}\n",
    "\n",
    "    del X_train\n",
    "    del X_test\n",
    "    del y_train\n",
    "    del y_test"
   ]
  },
  {
   "cell_type": "code",
   "execution_count": 86,
   "id": "f5e7b87f",
   "metadata": {},
   "outputs": [
    {
     "data": {
      "text/plain": [
       "{'dist': {'MAE': 286.9939434102655,\n",
       "  'MSE': 431890.3373680253,\n",
       "  'RMSE': 657.1836405206883,\n",
       "  'R2': 0.16210529973154308,\n",
       "  'intercept': 3991.716784147813,\n",
       "  'Mu_train': 0.9502712157262633,\n",
       "  'sigma_train': 0.21738445116093827,\n",
       "  'Mu_test': 0.9510112168592794,\n",
       "  'sigma_test': 0.21584610744896857},\n",
       " 'hour': {'MAE': 278.7067605557872,\n",
       "  'MSE': 429076.69065292994,\n",
       "  'RMSE': 655.0394573252286,\n",
       "  'R2': 0.16756395316049721,\n",
       "  'intercept': 4246.936417347307,\n",
       "  'Mu_train': 0.9502712157262633,\n",
       "  'sigma_train': 0.21738445116093827,\n",
       "  'Mu_test': 0.9510112168592794,\n",
       "  'sigma_test': 0.21584610744896857},\n",
       " 'birthyear': {'MAE': 278.6542757636625,\n",
       "  'MSE': 429039.20644985803,\n",
       "  'RMSE': 655.0108445284384,\n",
       "  'R2': 0.16763667489650347,\n",
       "  'intercept': 4209.050052248725,\n",
       "  'Mu_train': 0.9502712157262633,\n",
       "  'sigma_train': 0.21738445116093827,\n",
       "  'Mu_test': 0.9510112168592794,\n",
       "  'sigma_test': 0.21584610744896857}}"
      ]
     },
     "execution_count": 86,
     "metadata": {},
     "output_type": "execute_result"
    }
   ],
   "source": [
    "model_metrics_mean"
   ]
  },
  {
   "cell_type": "markdown",
   "id": "fbccf6dc",
   "metadata": {},
   "source": [
    "### Bootstarp with mean"
   ]
  },
  {
   "cell_type": "code",
   "execution_count": 87,
   "id": "4131a763",
   "metadata": {},
   "outputs": [
    {
     "name": "stdout",
     "output_type": "stream",
     "text": [
      "Now running model is .... gender\n",
      "Train (282432, 5) (282432,)\n",
      "Test (70608, 5) (70608,)\n",
      "Train set after Amputation (282432, 5)\n",
      "X_train Amputed value count of varaible  56486\n",
      "Test set after Amputation (70608, 5)\n",
      "X_test Amputed value count of varaible  14122\n",
      "Simulate Imputation for Mean\n"
     ]
    },
    {
     "name": "stderr",
     "output_type": "stream",
     "text": [
      "C:\\Users\\Hinakoushar\\AppData\\Local\\Temp\\ipykernel_30400\\1187816321.py:35: FutureWarning: Dropping of nuisance columns in DataFrame reductions (with 'numeric_only=None') is deprecated; in a future version this will raise TypeError.  Select only valid columns before calling the reduction.\n",
      "  X_train.fillna(X_train.mean(), inplace=True)\n"
     ]
    },
    {
     "name": "stdout",
     "output_type": "stream",
     "text": [
      "Train after Mean Imputation (282432, 5) (282432,)\n"
     ]
    },
    {
     "name": "stderr",
     "output_type": "stream",
     "text": [
      "C:\\Users\\Hinakoushar\\AppData\\Local\\Temp\\ipykernel_30400\\1187816321.py:37: FutureWarning: Dropping of nuisance columns in DataFrame reductions (with 'numeric_only=None') is deprecated; in a future version this will raise TypeError.  Select only valid columns before calling the reduction.\n",
      "  X_test.fillna(X_test.mean(), inplace=True)\n"
     ]
    },
    {
     "name": "stdout",
     "output_type": "stream",
     "text": [
      "Test after Mean Imputation (70608, 5) (70608,)\n",
      "['gender', 'usertype']\n",
      "Now running model is .... dist\n",
      "Train (282432, 5) (282432,)\n",
      "Test (70608, 5) (70608,)\n",
      "Train set after Amputation (282432, 5)\n",
      "X_train Amputed value count of varaible  56486\n",
      "Test set after Amputation (70608, 5)\n",
      "X_test Amputed value count of varaible  14122\n",
      "Simulate Imputation for Mean\n"
     ]
    },
    {
     "name": "stderr",
     "output_type": "stream",
     "text": [
      "C:\\Users\\Hinakoushar\\AppData\\Local\\Temp\\ipykernel_30400\\1187816321.py:35: FutureWarning: Dropping of nuisance columns in DataFrame reductions (with 'numeric_only=None') is deprecated; in a future version this will raise TypeError.  Select only valid columns before calling the reduction.\n",
      "  X_train.fillna(X_train.mean(), inplace=True)\n"
     ]
    },
    {
     "name": "stdout",
     "output_type": "stream",
     "text": [
      "Train after Mean Imputation (282432, 5) (282432,)\n"
     ]
    },
    {
     "name": "stderr",
     "output_type": "stream",
     "text": [
      "C:\\Users\\Hinakoushar\\AppData\\Local\\Temp\\ipykernel_30400\\1187816321.py:37: FutureWarning: Dropping of nuisance columns in DataFrame reductions (with 'numeric_only=None') is deprecated; in a future version this will raise TypeError.  Select only valid columns before calling the reduction.\n",
      "  X_test.fillna(X_test.mean(), inplace=True)\n"
     ]
    },
    {
     "name": "stdout",
     "output_type": "stream",
     "text": [
      "Test after Mean Imputation (70608, 5) (70608,)\n",
      "['gender', 'usertype']\n",
      "Now running model is .... hour\n",
      "Train (282432, 5) (282432,)\n",
      "Test (70608, 5) (70608,)\n",
      "Train set after Amputation (282432, 5)\n",
      "X_train Amputed value count of varaible  56486\n",
      "Test set after Amputation (70608, 5)\n",
      "X_test Amputed value count of varaible  14122\n",
      "Simulate Imputation for Mean\n"
     ]
    },
    {
     "name": "stderr",
     "output_type": "stream",
     "text": [
      "C:\\Users\\Hinakoushar\\AppData\\Local\\Temp\\ipykernel_30400\\1187816321.py:35: FutureWarning: Dropping of nuisance columns in DataFrame reductions (with 'numeric_only=None') is deprecated; in a future version this will raise TypeError.  Select only valid columns before calling the reduction.\n",
      "  X_train.fillna(X_train.mean(), inplace=True)\n"
     ]
    },
    {
     "name": "stdout",
     "output_type": "stream",
     "text": [
      "Train after Mean Imputation (282432, 5) (282432,)\n"
     ]
    },
    {
     "name": "stderr",
     "output_type": "stream",
     "text": [
      "C:\\Users\\Hinakoushar\\AppData\\Local\\Temp\\ipykernel_30400\\1187816321.py:37: FutureWarning: Dropping of nuisance columns in DataFrame reductions (with 'numeric_only=None') is deprecated; in a future version this will raise TypeError.  Select only valid columns before calling the reduction.\n",
      "  X_test.fillna(X_test.mean(), inplace=True)\n"
     ]
    },
    {
     "name": "stdout",
     "output_type": "stream",
     "text": [
      "Test after Mean Imputation (70608, 5) (70608,)\n",
      "['gender', 'usertype']\n",
      "Now running model is .... birthyear\n",
      "Train (282432, 5) (282432,)\n",
      "Test (70608, 5) (70608,)\n",
      "Train set after Amputation (282432, 5)\n",
      "X_train Amputed value count of varaible  56486\n",
      "Test set after Amputation (70608, 5)\n",
      "X_test Amputed value count of varaible  14122\n",
      "Simulate Imputation for Mean\n"
     ]
    },
    {
     "name": "stderr",
     "output_type": "stream",
     "text": [
      "C:\\Users\\Hinakoushar\\AppData\\Local\\Temp\\ipykernel_30400\\1187816321.py:35: FutureWarning: Dropping of nuisance columns in DataFrame reductions (with 'numeric_only=None') is deprecated; in a future version this will raise TypeError.  Select only valid columns before calling the reduction.\n",
      "  X_train.fillna(X_train.mean(), inplace=True)\n"
     ]
    },
    {
     "name": "stdout",
     "output_type": "stream",
     "text": [
      "Train after Mean Imputation (282432, 5) (282432,)\n"
     ]
    },
    {
     "name": "stderr",
     "output_type": "stream",
     "text": [
      "C:\\Users\\Hinakoushar\\AppData\\Local\\Temp\\ipykernel_30400\\1187816321.py:37: FutureWarning: Dropping of nuisance columns in DataFrame reductions (with 'numeric_only=None') is deprecated; in a future version this will raise TypeError.  Select only valid columns before calling the reduction.\n",
      "  X_test.fillna(X_test.mean(), inplace=True)\n"
     ]
    },
    {
     "name": "stdout",
     "output_type": "stream",
     "text": [
      "Test after Mean Imputation (70608, 5) (70608,)\n",
      "['gender', 'usertype']\n",
      "Now running model is .... usertype\n",
      "Train (282432, 5) (282432,)\n",
      "Test (70608, 5) (70608,)\n",
      "Train set after Amputation (282432, 5)\n",
      "X_train Amputed value count of varaible  56486\n",
      "Test set after Amputation (70608, 5)\n",
      "X_test Amputed value count of varaible  14122\n",
      "Simulate Imputation for Mean\n"
     ]
    },
    {
     "name": "stderr",
     "output_type": "stream",
     "text": [
      "C:\\Users\\Hinakoushar\\AppData\\Local\\Temp\\ipykernel_30400\\1187816321.py:35: FutureWarning: Dropping of nuisance columns in DataFrame reductions (with 'numeric_only=None') is deprecated; in a future version this will raise TypeError.  Select only valid columns before calling the reduction.\n",
      "  X_train.fillna(X_train.mean(), inplace=True)\n"
     ]
    },
    {
     "name": "stdout",
     "output_type": "stream",
     "text": [
      "Train after Mean Imputation (282432, 5) (282432,)\n"
     ]
    },
    {
     "name": "stderr",
     "output_type": "stream",
     "text": [
      "C:\\Users\\Hinakoushar\\AppData\\Local\\Temp\\ipykernel_30400\\1187816321.py:37: FutureWarning: Dropping of nuisance columns in DataFrame reductions (with 'numeric_only=None') is deprecated; in a future version this will raise TypeError.  Select only valid columns before calling the reduction.\n",
      "  X_test.fillna(X_test.mean(), inplace=True)\n"
     ]
    },
    {
     "name": "stdout",
     "output_type": "stream",
     "text": [
      "Test after Mean Imputation (70608, 5) (70608,)\n",
      "['gender', 'usertype']\n"
     ]
    }
   ],
   "source": [
    "bootstrap_data_mean ={}\n",
    "for var in features_for_amputation:\n",
    "    print(\"Now running model is ....\", var)\n",
    "    X_train, X_test, y_train, y_test = split_dataset(df)\n",
    "    X_train , y_train, X_test , y_test = ampute_each_variables(var,\"mean\",X_train,y_train,X_test,y_test)\n",
    "    X_train, X_test = one_hot_encoding(X_train,X_test)\n",
    "    model_lr = LinearRegression(fit_intercept=True)\n",
    "    rng = np.random.RandomState(1234)\n",
    "    idx = np.arange(y_train.shape[0])\n",
    "    bootstarp_train_accuracies = {}\n",
    "    for i in range(501):\n",
    "        train_idx = rng.choice(idx, size=idx.shape[0], replace=True)\n",
    "        test_idx = np.setdiff1d(idx, train_idx, assume_unique=False)\n",
    "        boot_train_X, boot_train_y = X_train.iloc[train_idx], y_train.iloc[train_idx]\n",
    "        boot_test_X, boot_test_y = X_train.iloc[test_idx], y_train.iloc[test_idx]\n",
    "        model_lr.fit(boot_test_X, boot_test_y )\n",
    "        boot_y_pred = model_lr.predict(boot_test_X)\n",
    "        bootstarp_train_accuracies[i] = {\"RMSE\": np.sqrt(mean_squared_error(boot_test_y, boot_y_pred)),\n",
    "                                      \"R2\":r2_score(boot_test_y, boot_y_pred), \"intercept\":model_lr.intercept_}\n",
    "    R2 = []\n",
    "    RMSE = []\n",
    "    intercept = []\n",
    "    for i in range(501):\n",
    "        R2.append(bootstarp_train_accuracies[i]['R2'])\n",
    "        RMSE.append(bootstarp_train_accuracies[i]['RMSE'])\n",
    "        intercept.append(bootstarp_train_accuracies[i]['intercept'])\n",
    "    bootstrap_data_mean[var] = {\"R2\": [np.percentile(R2, 2.5), np.percentile(R2, 97.5)],\n",
    "                         \"RMSE\": [np.percentile(RMSE, 2.5), np.percentile(RMSE, 97.5)],\n",
    "                         \"intercept\": [np.percentile(intercept, 2.5), np.percentile(intercept, 97.5)]}"
   ]
  },
  {
   "cell_type": "code",
   "execution_count": 88,
   "id": "0dc4c7fc",
   "metadata": {},
   "outputs": [
    {
     "data": {
      "text/plain": [
       "{'gender': {'R2': [0.16989156190454985, 0.1833820125698682],\n",
       "  'RMSE': [649.9049452488719, 682.2505426871476],\n",
       "  'intercept': [3886.849201527024, 5071.303123311012]},\n",
       " 'dist': {'R2': [0.16531885539751906, 0.17834603185987358],\n",
       "  'RMSE': [652.1672695298977, 684.2169623184814],\n",
       "  'intercept': [3433.16790862123, 4563.125048317238]},\n",
       " 'hour': {'R2': [0.17000242512746255, 0.18335979779103656],\n",
       "  'RMSE': [649.887471087138, 682.2235822377604],\n",
       "  'intercept': [3702.1897027026453, 4834.145737227833]},\n",
       " 'birthyear': {'R2': [0.17020072103125516, 0.18368555034055645],\n",
       "  'RMSE': [649.7712867693974, 682.1602130928009],\n",
       "  'intercept': [3549.819881578735, 4882.331160855227]},\n",
       " 'usertype': {'R2': [0.14696456062111757, 0.16142359826544306],\n",
       "  'RMSE': [658.9794378929798, 692.0545938809929],\n",
       "  'intercept': [2715.711674710732, 3912.724502066233]}}"
      ]
     },
     "execution_count": 88,
     "metadata": {},
     "output_type": "execute_result"
    }
   ],
   "source": [
    "bootstrap_data_mean"
   ]
  },
  {
   "cell_type": "markdown",
   "id": "a243af61",
   "metadata": {},
   "source": [
    "## Sampling Replacement Imputation"
   ]
  },
  {
   "cell_type": "code",
   "execution_count": 89,
   "id": "220dd637",
   "metadata": {},
   "outputs": [
    {
     "name": "stdout",
     "output_type": "stream",
     "text": [
      "Now model is running for varaible ==== gender\n",
      "Train (282432, 5) (282432,)\n",
      "Test (70608, 5) (70608,)\n",
      "Train set after Amputation (282432, 5)\n",
      "X_train Amputed value count of varaible  56486\n",
      "Test set after Amputation (70608, 5)\n",
      "X_test Amputed value count of varaible  14122\n",
      "Simple Imputation using sampling\n",
      "['gender', 'usertype']\n",
      "2023-02-19 14:56:08.240108\n",
      "2023-02-19 14:56:08.323575\n",
      "Now model is running for varaible ==== dist\n",
      "Train (282432, 5) (282432,)\n",
      "Test (70608, 5) (70608,)\n",
      "Train set after Amputation (282432, 5)\n",
      "X_train Amputed value count of varaible  56486\n",
      "Test set after Amputation (70608, 5)\n",
      "X_test Amputed value count of varaible  14122\n",
      "Simple Imputation using sampling\n",
      "['gender', 'usertype']\n",
      "2023-02-19 14:56:09.861408\n",
      "2023-02-19 14:56:09.936337\n",
      "Now model is running for varaible ==== hour\n",
      "Train (282432, 5) (282432,)\n",
      "Test (70608, 5) (70608,)\n",
      "Train set after Amputation (282432, 5)\n",
      "X_train Amputed value count of varaible  56486\n",
      "Test set after Amputation (70608, 5)\n",
      "X_test Amputed value count of varaible  14122\n",
      "Simple Imputation using sampling\n",
      "['gender', 'usertype']\n",
      "2023-02-19 14:56:11.217732\n",
      "2023-02-19 14:56:11.312902\n",
      "Now model is running for varaible ==== birthyear\n",
      "Train (282432, 5) (282432,)\n",
      "Test (70608, 5) (70608,)\n",
      "Train set after Amputation (282432, 5)\n",
      "X_train Amputed value count of varaible  56486\n",
      "Test set after Amputation (70608, 5)\n",
      "X_test Amputed value count of varaible  14122\n",
      "Simple Imputation using sampling\n",
      "['gender', 'usertype']\n",
      "2023-02-19 14:56:12.558381\n",
      "2023-02-19 14:56:12.621902\n",
      "Now model is running for varaible ==== usertype\n",
      "Train (282432, 5) (282432,)\n",
      "Test (70608, 5) (70608,)\n",
      "Train set after Amputation (282432, 5)\n",
      "X_train Amputed value count of varaible  56486\n",
      "Test set after Amputation (70608, 5)\n",
      "X_test Amputed value count of varaible  14122\n",
      "Simple Imputation using sampling\n",
      "['gender', 'usertype']\n",
      "2023-02-19 14:56:13.883036\n",
      "2023-02-19 14:56:13.966706\n"
     ]
    }
   ],
   "source": [
    "model_metrics_sample ={}\n",
    "for var in features_for_amputation:\n",
    "    print(\"Now model is running for varaible ====\", var)\n",
    "    X_train, X_test, y_train, y_test = split_dataset(df)\n",
    "    X_train , y_train, X_test , y_test = ampute_each_variables(var,\"sample\",X_train,y_train,X_test,y_test)\n",
    "    X_train, X_test = one_hot_encoding(X_train,X_test)\n",
    "    model_reg = model_evaluation(X_train,y_train)\n",
    "    y_pred = model_reg.predict(X_test)\n",
    "    if(var == 'gender'):\n",
    "        for v in cat_gender:\n",
    "            mu_train = X_train[v].mean()\n",
    "            sigma_train = X_train[v].std()\n",
    "            mu_test = X_test[v].mean()\n",
    "            sigma_test = X_test[v].std()\n",
    "            model_metrics_sample[v] = {\"MAE\":mean_absolute_error(y_test, y_pred),\"MSE\":mean_squared_error(y_test, y_pred),\n",
    "                          \"RMSE\":np.sqrt(mean_squared_error(y_test, y_pred)),\"R2\":r2_score(y_test, y_pred),\n",
    "                           \"intercept\":model_reg.intercept_,\n",
    "                          \"Mu_train\":mu_train, \"sigma_train\":sigma_train,\n",
    "                          \"Mu_test\":mu_test, \"sigma_test\":sigma_test}\n",
    "    elif(var == 'usertype'):\n",
    "        for v in cat_usertype:\n",
    "            mu_train = X_train[v].mean()\n",
    "            sigma_train = X_train[v].std()\n",
    "            mu_test = X_test[v].mean()\n",
    "            sigma_test = X_test[v].std()\n",
    "            model_metrics_sample[v] = {\"MAE\":mean_absolute_error(y_test, y_pred),\"MSE\":mean_squared_error(y_test, y_pred),\n",
    "                          \"RMSE\":np.sqrt(mean_squared_error(y_test, y_pred)),\"R2\":r2_score(y_test, y_pred),\n",
    "                           \"intercept\":model_reg.intercept_,\n",
    "                          \"Mu_train\":mu_train, \"sigma_train\":sigma_train,\n",
    "                          \"Mu_test\":mu_test, \"sigma_test\":sigma_test}\n",
    "    else:\n",
    "        mu_train = X_train[var].mean()\n",
    "        sigma_train = X_train[var].std()\n",
    "        mu_test = X_test[var].mean()\n",
    "        sigma_test = X_test[var].std()\n",
    "        model_metrics_sample[var] = {\"MAE\":mean_absolute_error(y_test, y_pred),\"MSE\":mean_squared_error(y_test, y_pred),\n",
    "                              \"RMSE\":np.sqrt(mean_squared_error(y_test, y_pred)),\"R2\":r2_score(y_test, y_pred),\n",
    "                               \"intercept\":model_reg.intercept_,\n",
    "                              \"Mu_train\":mu_train, \"sigma_train\":sigma_train,\n",
    "                              \"Mu_test\":mu_test, \"sigma_test\":sigma_test}\n",
    "    del X_train\n",
    "    del X_test\n",
    "    del y_train\n",
    "    del y_test"
   ]
  },
  {
   "cell_type": "code",
   "execution_count": 90,
   "id": "c349eb22",
   "metadata": {},
   "outputs": [
    {
     "data": {
      "text/plain": [
       "{'gender_female': {'MAE': 278.85396456035403,\n",
       "  'MSE': 429384.3174478811,\n",
       "  'RMSE': 655.2742307216736,\n",
       "  'R2': 0.16696713762921922,\n",
       "  'intercept': 4617.134205985364,\n",
       "  'Mu_train': 0.21318405846363017,\n",
       "  'sigma_train': 0.40955733369529207,\n",
       "  'Mu_test': 0.20952300022660322,\n",
       "  'sigma_test': 0.4069710779730033},\n",
       " 'gender_male': {'MAE': 278.85396456035403,\n",
       "  'MSE': 429384.3174478811,\n",
       "  'RMSE': 655.2742307216736,\n",
       "  'R2': 0.16696713762921922,\n",
       "  'intercept': 4617.134205985364,\n",
       "  'Mu_train': 0.7270387208248357,\n",
       "  'sigma_train': 0.4454818985187002,\n",
       "  'Mu_test': 0.7313193972354407,\n",
       "  'sigma_test': 0.44327657207449467},\n",
       " 'gender_unknown': {'MAE': 278.85396456035403,\n",
       "  'MSE': 429384.3174478811,\n",
       "  'RMSE': 655.2742307216736,\n",
       "  'R2': 0.16696713762921922,\n",
       "  'intercept': 4617.134205985364,\n",
       "  'Mu_train': 0.0597772207115341,\n",
       "  'sigma_train': 0.23707404665213513,\n",
       "  'Mu_test': 0.05915760253795604,\n",
       "  'sigma_test': 0.2359211073185802},\n",
       " 'dist': {'MAE': 293.05216275275444,\n",
       "  'MSE': 433936.9979399276,\n",
       "  'RMSE': 658.7389452126902,\n",
       "  'R2': 0.1581346481608319,\n",
       "  'intercept': 3801.7326533840337,\n",
       "  'Mu_train': 0.7844930004201232,\n",
       "  'sigma_train': 0.5426091861326015,\n",
       "  'Mu_test': 0.7812153635646467,\n",
       "  'sigma_test': 0.5392997882341904},\n",
       " 'hour': {'MAE': 278.8690825041156,\n",
       "  'MSE': 429235.89405194425,\n",
       "  'RMSE': 655.1609680467421,\n",
       "  'R2': 0.16725508844934922,\n",
       "  'intercept': 4232.620613782851,\n",
       "  'Mu_train': 13.649189893496487,\n",
       "  'sigma_train': 5.155164592950688,\n",
       "  'Mu_test': 13.595966462723771,\n",
       "  'sigma_test': 5.172227080329929},\n",
       " 'birthyear': {'MAE': 278.6818707301921,\n",
       "  'MSE': 429114.7975713067,\n",
       "  'RMSE': 655.0685441778644,\n",
       "  'R2': 0.16749002331722718,\n",
       "  'intercept': 3702.7458214167964,\n",
       "  'Mu_train': 1980.4555645252663,\n",
       "  'sigma_train': 10.102287520414611,\n",
       "  'Mu_test': 1980.391669499207,\n",
       "  'sigma_test': 10.040044300442505},\n",
       " 'usertype_Customer': {'MAE': 287.1207844125547,\n",
       "  'MSE': 447741.4789664978,\n",
       "  'RMSE': 669.1348735243873,\n",
       "  'R2': 0.1313530777218911,\n",
       "  'intercept': 3349.387813713847,\n",
       "  'Mu_train': 0.06182019034670292,\n",
       "  'sigma_train': 0.24082910905166993,\n",
       "  'Mu_test': 0.06131033310673011,\n",
       "  'sigma_test': 0.23990037777284742},\n",
       " 'usertype_Subscriber': {'MAE': 287.1207844125547,\n",
       "  'MSE': 447741.4789664978,\n",
       "  'RMSE': 669.1348735243873,\n",
       "  'R2': 0.1313530777218911,\n",
       "  'intercept': 3349.387813713847,\n",
       "  'Mu_train': 0.9381798096532971,\n",
       "  'sigma_train': 0.24082910905166993,\n",
       "  'Mu_test': 0.9386896668932699,\n",
       "  'sigma_test': 0.23990037777284742}}"
      ]
     },
     "execution_count": 90,
     "metadata": {},
     "output_type": "execute_result"
    }
   ],
   "source": [
    "model_metrics_sample"
   ]
  },
  {
   "cell_type": "markdown",
   "id": "91f3c404",
   "metadata": {},
   "source": [
    "### Bootstrap for sample"
   ]
  },
  {
   "cell_type": "code",
   "execution_count": 91,
   "id": "d2b62e43",
   "metadata": {},
   "outputs": [
    {
     "name": "stdout",
     "output_type": "stream",
     "text": [
      "Now running model is .... gender\n",
      "Train (282432, 5) (282432,)\n",
      "Test (70608, 5) (70608,)\n",
      "Train set after Amputation (282432, 5)\n",
      "X_train Amputed value count of varaible  56486\n",
      "Test set after Amputation (70608, 5)\n",
      "X_test Amputed value count of varaible  14122\n",
      "Simple Imputation using sampling\n",
      "['gender', 'usertype']\n",
      "Now running model is .... dist\n",
      "Train (282432, 5) (282432,)\n",
      "Test (70608, 5) (70608,)\n",
      "Train set after Amputation (282432, 5)\n",
      "X_train Amputed value count of varaible  56486\n",
      "Test set after Amputation (70608, 5)\n",
      "X_test Amputed value count of varaible  14122\n",
      "Simple Imputation using sampling\n",
      "['gender', 'usertype']\n",
      "Now running model is .... hour\n",
      "Train (282432, 5) (282432,)\n",
      "Test (70608, 5) (70608,)\n",
      "Train set after Amputation (282432, 5)\n",
      "X_train Amputed value count of varaible  56486\n",
      "Test set after Amputation (70608, 5)\n",
      "X_test Amputed value count of varaible  14122\n",
      "Simple Imputation using sampling\n",
      "['gender', 'usertype']\n",
      "Now running model is .... birthyear\n",
      "Train (282432, 5) (282432,)\n",
      "Test (70608, 5) (70608,)\n",
      "Train set after Amputation (282432, 5)\n",
      "X_train Amputed value count of varaible  56486\n",
      "Test set after Amputation (70608, 5)\n",
      "X_test Amputed value count of varaible  14122\n",
      "Simple Imputation using sampling\n",
      "['gender', 'usertype']\n",
      "Now running model is .... usertype\n",
      "Train (282432, 5) (282432,)\n",
      "Test (70608, 5) (70608,)\n",
      "Train set after Amputation (282432, 5)\n",
      "X_train Amputed value count of varaible  56486\n",
      "Test set after Amputation (70608, 5)\n",
      "X_test Amputed value count of varaible  14122\n",
      "Simple Imputation using sampling\n",
      "['gender', 'usertype']\n"
     ]
    }
   ],
   "source": [
    "bootstrap_data_sample ={}\n",
    "for var in features_for_amputation:\n",
    "    print(\"Now running model is ....\", var)\n",
    "    X_train, X_test, y_train, y_test = split_dataset(df)\n",
    "    X_train , y_train, X_test , y_test = ampute_each_variables(var,\"sample\",X_train,y_train,X_test,y_test)\n",
    "    X_train, X_test = one_hot_encoding(X_train,X_test)\n",
    "    model_lr = LinearRegression(fit_intercept=True)\n",
    "    rng = np.random.RandomState(1234)\n",
    "    idx = np.arange(y_train.shape[0])\n",
    "    bootstarp_train_accuracies = {}\n",
    "    for i in range(501):\n",
    "        train_idx = rng.choice(idx, size=idx.shape[0], replace=True)\n",
    "        test_idx = np.setdiff1d(idx, train_idx, assume_unique=False)\n",
    "        boot_train_X, boot_train_y = X_train.iloc[train_idx], y_train.iloc[train_idx]\n",
    "        boot_test_X, boot_test_y = X_train.iloc[test_idx], y_train.iloc[test_idx]\n",
    "        model_lr.fit(boot_test_X, boot_test_y )\n",
    "        boot_y_pred = model_lr.predict(boot_test_X)\n",
    "        bootstarp_train_accuracies[i] = {\"RMSE\": np.sqrt(mean_squared_error(boot_test_y, boot_y_pred)),\n",
    "                                      \"R2\":r2_score(boot_test_y, boot_y_pred), \"intercept\":model_lr.intercept_}\n",
    "    R2 = []\n",
    "    RMSE = []\n",
    "    intercept = []\n",
    "    for i in range(501):\n",
    "        R2.append(bootstarp_train_accuracies[i]['R2'])\n",
    "        RMSE.append(bootstarp_train_accuracies[i]['RMSE'])\n",
    "        intercept.append(bootstarp_train_accuracies[i]['intercept'])\n",
    "    bootstrap_data_sample[var] = {\"R2\": [np.percentile(R2, 2.5), np.percentile(R2, 97.5)],\n",
    "                         \"RMSE\": [np.percentile(RMSE, 2.5), np.percentile(RMSE, 97.5)],\n",
    "                         \"intercept\": [np.percentile(intercept, 2.5), np.percentile(intercept, 97.5)]}"
   ]
  },
  {
   "cell_type": "code",
   "execution_count": 92,
   "id": "94aab743",
   "metadata": {},
   "outputs": [
    {
     "data": {
      "text/plain": [
       "{'gender': {'R2': [0.16963604782064934, 0.18305882195796896],\n",
       "  'RMSE': [650.0546877990944, 682.3727173396347],\n",
       "  'intercept': [4015.042044231823, 5226.601329635349]},\n",
       " 'dist': {'R2': [0.16143660547137462, 0.17453452371209505],\n",
       "  'RMSE': [653.7993057997849, 685.6542025352117],\n",
       "  'intercept': [3236.8255879664525, 4360.930960177421]},\n",
       " 'hour': {'R2': [0.1697306488068781, 0.18307582462188177],\n",
       "  'RMSE': [650.0647525689808, 682.3269033940499],\n",
       "  'intercept': [3684.2392817929895, 4817.60609230933]},\n",
       " 'birthyear': {'R2': [0.17016139605304664, 0.18363719440102882],\n",
       "  'RMSE': [649.7784402303014, 682.160494429482],\n",
       "  'intercept': [3126.730810437811, 4295.344199071417]},\n",
       " 'usertype': {'R2': [0.1324154670257659, 0.14525794900721967],\n",
       "  'RMSE': [664.9092796507261, 698.0500296423436],\n",
       "  'intercept': [2774.058005883161, 3939.267016260167]}}"
      ]
     },
     "execution_count": 92,
     "metadata": {},
     "output_type": "execute_result"
    }
   ],
   "source": [
    "bootstrap_data_sample"
   ]
  }
 ],
 "metadata": {
  "kernelspec": {
   "display_name": "Python 3 (ipykernel)",
   "language": "python",
   "name": "python3"
  },
  "language_info": {
   "codemirror_mode": {
    "name": "ipython",
    "version": 3
   },
   "file_extension": ".py",
   "mimetype": "text/x-python",
   "name": "python",
   "nbconvert_exporter": "python",
   "pygments_lexer": "ipython3",
   "version": "3.9.13"
  }
 },
 "nbformat": 4,
 "nbformat_minor": 5
}
