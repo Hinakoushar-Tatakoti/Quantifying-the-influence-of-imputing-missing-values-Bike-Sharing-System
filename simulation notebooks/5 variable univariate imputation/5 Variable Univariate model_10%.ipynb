{
 "cells": [
  {
   "cell_type": "code",
   "execution_count": 83,
   "id": "9aa8cb9c",
   "metadata": {},
   "outputs": [],
   "source": [
    "import datetime\n",
    "import os\n",
    "import random\n",
    "import matplotlib.pyplot as plt\n",
    "import pandas as pd\n",
    "import seaborn as sns\n",
    "import scipy\n",
    "import statsmodels.api as sm\n",
    "import pylab as py\n",
    "\n",
    "import numpy as np\n",
    "from sklearn.model_selection import train_test_split\n",
    "from sklearn.preprocessing import LabelEncoder\n",
    "from sklearn.preprocessing import OneHotEncoder\n",
    "from sklearn.metrics import mean_squared_error, mean_absolute_error,r2_score\n",
    "from sklearn.linear_model import LinearRegression\n",
    "\n",
    "import math\n",
    "import time\n",
    "import datetime\n",
    "from dython.nominal import associations\n",
    "from dython.nominal import identify_nominal_columns"
   ]
  },
  {
   "cell_type": "code",
   "execution_count": 84,
   "id": "c7c35869",
   "metadata": {},
   "outputs": [],
   "source": [
    "data = pd.read_csv(\"../../dataset/final_bike_sharing.csv\")"
   ]
  },
  {
   "cell_type": "code",
   "execution_count": 85,
   "id": "2dd15883",
   "metadata": {},
   "outputs": [],
   "source": [
    "cols = ['tripduration','gender','dist','hour','birthyear','usertype']"
   ]
  },
  {
   "cell_type": "code",
   "execution_count": 86,
   "id": "2d65e73f",
   "metadata": {},
   "outputs": [],
   "source": [
    "df = data[cols]"
   ]
  },
  {
   "cell_type": "markdown",
   "id": "7fb4cd7f",
   "metadata": {},
   "source": [
    "## Before Imputation the distributaion is "
   ]
  },
  {
   "cell_type": "code",
   "execution_count": 87,
   "id": "be66d8e4",
   "metadata": {},
   "outputs": [],
   "source": [
    "# for col in  ['tripduration','gender','dist','hour','birthyear']:\n",
    "#     np.random.seed(19680801)\n",
    "#     plt.figure(figsize=(20,8))\n",
    "#     mu = df[col].mean()\n",
    "#     sigma = df[col].std()\n",
    "#     x = df[col]\n",
    "#     num_bins = 500\n",
    "#     fig, ax = plt.subplots()\n",
    "#     # the histogram of the data\n",
    "#     n, bins, patches = ax.hist(x, num_bins, density=True)\n",
    "#     # add a 'best fit' line\n",
    "#     y = ((1 / (np.sqrt(2 * np.pi) * sigma)) *\n",
    "#          np.exp(-0.5 * (1 / sigma * (bins - mu))**2))\n",
    "#     ax.plot(bins, y, '--')\n",
    "#     ax.set_xlabel(col)\n",
    "#     ax.set_ylabel('Probability density')\n",
    "#     ax.set_title(f'Histogram of IQ: {mu}, {sigma}')\n",
    "#     plt.plot([mu,mu],[0, 2], lw=1.8, label=\"mean\")\n",
    "# #     plt.plot([sigma,sigma],[0, 2], lw=1.8, label=\"std\")\n",
    "# #     ax.set_ylim([0,2.5])\n",
    "# #     ax.set_xlim([0, 6])\n",
    "#     # Tweak spacing to prevent clipping of ylabel\n",
    "#     fig.tight_layout()\n",
    "#     plt.show()"
   ]
  },
  {
   "cell_type": "code",
   "execution_count": 88,
   "id": "fba878f6",
   "metadata": {},
   "outputs": [],
   "source": [
    "# for col in df.columns:\n",
    "#     norm_cdf = scipy.stats.norm.cdf(df[col]) # calculate the cdf - also discrete\n",
    "#     # plot the cdf\n",
    "#     sns.lineplot(x=df[col], y=norm_cdf)\n",
    "#     plt.show()\n",
    "#     sm.qqplot(df[col], line ='45')\n",
    "#     py.show()\n"
   ]
  },
  {
   "cell_type": "code",
   "execution_count": 89,
   "id": "eb970929",
   "metadata": {},
   "outputs": [
    {
     "name": "stdout",
     "output_type": "stream",
     "text": [
      "The variable tripduration has mean = 525.9314525266259 and standard deviation =731.0970649533257 \n",
      "The variable dist has mean = 0.7842291293398377 and standard deviation =0.5421989613484405 \n",
      "The variable hour has mean = 13.633500453206436 and standard deviation =5.156725828688158 \n",
      "The variable birthyear has mean = 1980.439108882846 and standard deviation =10.094119857977768 \n",
      "usertype mode is :  0    Subscriber\n",
      "Name: usertype, dtype: object\n",
      "gender mode is :  0    male\n",
      "Name: gender, dtype: object\n"
     ]
    }
   ],
   "source": [
    "for col in  ['tripduration','dist','hour','birthyear']:\n",
    "    mu = df[col].mean()\n",
    "    sigma = df[col].std()\n",
    "    print(f\"The variable {col} has mean = {mu} and standard deviation ={sigma} \")\n",
    "print(\"usertype mode is : \" ,df['usertype'].mode() )\n",
    "print(\"gender mode is : \" , df['gender'].mode() )"
   ]
  },
  {
   "cell_type": "code",
   "execution_count": 90,
   "id": "51286e84",
   "metadata": {},
   "outputs": [],
   "source": [
    "def split_dataset(df):\n",
    "    X = df.drop('tripduration', axis=1)\n",
    "    y = df['tripduration']\n",
    "\n",
    "    X_train, X_test, y_train, y_test = train_test_split(X, y, test_size=0.2, random_state=42)\n",
    "    print('Train', X_train.shape, y_train.shape)\n",
    "    print('Test', X_test.shape, y_test.shape)\n",
    "    return X_train, X_test, y_train, y_test"
   ]
  },
  {
   "cell_type": "code",
   "execution_count": 91,
   "id": "68a18fb2",
   "metadata": {},
   "outputs": [],
   "source": [
    "## get the sample size such as 5%, 10%,20% etc\n",
    "def get_sample_size(df, perc):\n",
    "    return round(perc/100 * df.shape[0])\n",
    "\n",
    "def get_an_index(index):\n",
    "    li = []\n",
    "    for i in index:\n",
    "        li.append(i)\n",
    "    return li   \n",
    "\n",
    "def ampute_nan_values(X_train,col_name, perc):\n",
    "    random.seed(100)\n",
    "    index = get_an_index(X_train.index)\n",
    "    sample_size = get_sample_size(X_train, perc)\n",
    "    selected_index = random.sample(index, sample_size)\n",
    "    for i in selected_index:\n",
    "        if col_name in X_train.columns:\n",
    "            X_train.at[i,col_name]= np.NaN\n",
    "        else:\n",
    "            X_train.loc[i] = np.NaN\n",
    "    return X_train\n",
    "\n",
    "###====================####\n",
    "def convert_to_dataframe(y_train):\n",
    "    return pd.DataFrame(y_train)\n",
    "\n",
    "def convert_to_series(y_train):\n",
    "    return y_train.squeeze()\n",
    "\n",
    "def ampute_nan_values_drop(X_train,y_train,col_name, perc):\n",
    "    random.seed(100)\n",
    "    index = get_an_index(X_train.index)\n",
    "    sample_size = get_sample_size(X_train, perc)\n",
    "    selected_index = random.sample(index, sample_size)\n",
    "    y_train = convert_to_dataframe(y_train)\n",
    "    for i in selected_index:\n",
    "        if col_name in X_train.columns:\n",
    "            X_train.at[i,col_name]= np.NaN\n",
    "        else:\n",
    "            X_train.loc[i] = np.NaN\n",
    "        y_train.loc[i] = np.NaN\n",
    "    y_train = convert_to_series(y_train)\n",
    "    return X_train, y_train"
   ]
  },
  {
   "cell_type": "code",
   "execution_count": 92,
   "id": "82bcd4f5",
   "metadata": {},
   "outputs": [],
   "source": [
    "def sample_imputation_X(var,X_train,X_test):\n",
    "    # extract a random sample\n",
    "    random_sample_train = X_train[var].dropna().sample(X_train[var].isnull().sum(), random_state=0)\n",
    "    random_sample_test = X_test[var].dropna().sample(X_test[var].isnull().sum(), random_state=0)\n",
    "     # re-index the randomly extracted sample\n",
    "    random_sample_train.index = X_train[X_train[var].isnull()].index\n",
    "    random_sample_test.index = X_test[X_test[var].isnull()].index\n",
    "\n",
    "    # replace the NA\n",
    "    X_train.loc[X_train[var].isnull(), var] = random_sample_train\n",
    "    X_test.loc[X_test[var].isnull(), var] = random_sample_test\n",
    "    return X_train, X_test"
   ]
  },
  {
   "cell_type": "code",
   "execution_count": 93,
   "id": "e13ef9a3",
   "metadata": {},
   "outputs": [],
   "source": [
    "def one_hot_encoding(X_train,X_test):\n",
    "    categorical_features=identify_nominal_columns(X_train)\n",
    "    print(categorical_features)\n",
    "    one_hot_encoded_data_train = pd.get_dummies(X_train, columns = categorical_features)\n",
    "    one_hot_encoded_data_test = pd.get_dummies(X_test, columns = categorical_features)\n",
    "    return one_hot_encoded_data_train,one_hot_encoded_data_test"
   ]
  },
  {
   "cell_type": "code",
   "execution_count": 94,
   "id": "c4c3a36c",
   "metadata": {},
   "outputs": [],
   "source": [
    "def model_evaluation(X_train,y_train):\n",
    "    print(datetime.datetime.now())\n",
    "    model_lr = LinearRegression(fit_intercept=True).fit(X_train, y_train) \n",
    "    print(datetime.datetime.now())\n",
    "    return model_lr"
   ]
  },
  {
   "cell_type": "code",
   "execution_count": 95,
   "id": "da36f77a",
   "metadata": {},
   "outputs": [],
   "source": [
    "def ampute_each_variables(variable, method,X_train,y_train,X_test,y_test):\n",
    "    if method == \"remove\":\n",
    "        X_train , y_train = ampute_nan_values_drop(X_train,y_train,variable,perc=10)\n",
    "        print('Train set after Amputation', X_train.shape, y_train.shape)\n",
    "        print(\"y_train Amputed value count of varaible \", y_train.isnull().sum())\n",
    "        print(\"X_train Amputed value count of varaible \", X_train.isnull().sum()[variable])\n",
    "        X_test , y_test = ampute_nan_values_drop(X_test,y_test,variable,perc=10)\n",
    "        print('Test set after Amputation', X_test.shape, y_test.shape)\n",
    "        print(\"y_test Amputed value count of varaible \", y_test.isnull().sum())\n",
    "        print(\"X_test Amputed value count of varaible \", X_test.isnull().sum()[variable])\n",
    "    else:\n",
    "        X_train = ampute_nan_values(X_train,variable,perc=10)\n",
    "        print('Train set after Amputation', X_train.shape)\n",
    "        print(\"X_train Amputed value count of varaible \", X_train.isnull().sum()[variable])\n",
    "        X_test = ampute_nan_values(X_test,variable,perc=10)\n",
    "        print('Test set after Amputation', X_test.shape)\n",
    "        print(\"X_test Amputed value count of varaible \", X_test.isnull().sum()[variable])\n",
    "    \n",
    "    if method == \"remove\":\n",
    "        print(\"Simulate Imputation for NA\")\n",
    "        X_train.dropna(axis=0, inplace=True)\n",
    "        y_train.dropna(inplace=True)\n",
    "        print('Train after NA value removal Imputation', X_train.shape, y_train.shape)\n",
    "        X_test.dropna(axis=0, inplace=True)\n",
    "        y_test.dropna(inplace=True)\n",
    "        print('Test after NA value removal Imputation', X_test.shape, y_test.shape)\n",
    "    if method == \"mode\":\n",
    "        print(\"Simulate Imputation for Mode\")\n",
    "        X_train.fillna(X_train.mode().iloc[0], inplace=True)\n",
    "        print('Train after Mode Imputation', X_train.shape, y_train.shape)\n",
    "        X_test.fillna(X_test.mode().iloc[0], inplace=True)\n",
    "        print('Test after Mode Imputation', X_test.shape, y_test.shape)\n",
    "    if method == \"mean\":\n",
    "        print(\"Simulate Imputation for Mean\")\n",
    "        X_train.fillna(X_train.mean(), inplace=True)\n",
    "        print('Train after Mean Imputation', X_train.shape, y_train.shape)\n",
    "        X_test.fillna(X_test.mean(), inplace=True)\n",
    "        print('Test after Mean Imputation', X_test.shape, y_test.shape)\n",
    "    if method == \"sample\":\n",
    "        print(\"Simple Imputation using sampling\")\n",
    "        X_train, X_test = sample_imputation_X(variable, X_train, X_test)        \n",
    "            \n",
    "    return X_train , y_train, X_test , y_test"
   ]
  },
  {
   "cell_type": "code",
   "execution_count": 96,
   "id": "dacafc9b",
   "metadata": {},
   "outputs": [],
   "source": [
    "def visualize_dist(df, col):\n",
    "    np.random.seed(19680801)\n",
    "    plt.figure(figsize=(20,8))\n",
    "    mu = df[col].mean()\n",
    "    sigma = df[col].std()\n",
    "    x = df[col]\n",
    "    num_bins = 500\n",
    "    fig, ax = plt.subplots()\n",
    "    # the histogram of the data\n",
    "    n, bins, patches = ax.hist(x, num_bins, density=True)\n",
    "    # add a 'best fit' line\n",
    "    y = ((1 / (np.sqrt(2 * np.pi) * sigma)) *\n",
    "         np.exp(-0.5 * (1 / sigma * (bins - mu))**2))\n",
    "    ax.plot(bins, y, '--')\n",
    "    ax.set_xlabel(col)\n",
    "    ax.set_ylabel('Probability density')\n",
    "    ax.set_title(f'Histogram of IQ: {mu}, {sigma}')\n",
    "    plt.plot([mu,mu],[0, 2], lw=1.8, label=\"mean\")\n",
    "    #     plt.plot([sigma,sigma],[0, 2], lw=1.8, label=\"std\")\n",
    "    #     ax.set_ylim([0,2.5])\n",
    "    #     ax.set_xlim([0, 6])\n",
    "    # Tweak spacing to prevent clipping of ylabel\n",
    "    fig.tight_layout()\n",
    "    plt.show()"
   ]
  },
  {
   "cell_type": "code",
   "execution_count": 97,
   "id": "1928c7ab",
   "metadata": {},
   "outputs": [],
   "source": [
    "features_for_amputation =['gender','dist','hour','birthyear','usertype']"
   ]
  },
  {
   "cell_type": "markdown",
   "id": "af059b5d",
   "metadata": {},
   "source": [
    "## Calculate mean and std before imputation"
   ]
  },
  {
   "cell_type": "code",
   "execution_count": 98,
   "id": "d9173084",
   "metadata": {},
   "outputs": [
    {
     "name": "stdout",
     "output_type": "stream",
     "text": [
      "Train (282432, 5) (282432,)\n",
      "Test (70608, 5) (70608,)\n"
     ]
    }
   ],
   "source": [
    "X_train, X_test, y_train, y_test = split_dataset(df)"
   ]
  },
  {
   "cell_type": "code",
   "execution_count": 99,
   "id": "2ddd530a",
   "metadata": {},
   "outputs": [
    {
     "name": "stdout",
     "output_type": "stream",
     "text": [
      "The variable dist has mean = 0.7848814720776504 and standard deviation =0.54278813457282 \n",
      "The variable hour has mean = 13.633274558123725 and standard deviation =5.155597162884377 \n",
      "The variable birthyear has mean = 1980.450076478586 and standard deviation =10.101242979840942 \n",
      "The variable usertype categorical type mode is  0    Subscriber\n",
      "Name: usertype, dtype: object\n",
      "The variable gender categorical type mode is  0    male\n",
      "Name: gender, dtype: object\n"
     ]
    }
   ],
   "source": [
    "for col in  ['dist','hour','birthyear']:\n",
    "    mu = X_train[col].mean()\n",
    "    sigma = X_train[col].std()\n",
    "    print(f\"The variable {col} has mean = {mu} and standard deviation ={sigma} \")\n",
    "    \n",
    "print(f\"The variable usertype categorical type mode is \", X_train['usertype'].mode() )    \n",
    "print(f\"The variable gender categorical type mode is \", X_train['gender'].mode() )    "
   ]
  },
  {
   "cell_type": "code",
   "execution_count": 100,
   "id": "5e98df2e",
   "metadata": {},
   "outputs": [
    {
     "name": "stdout",
     "output_type": "stream",
     "text": [
      "The variable dist has mean = 0.7816197583886165 and standard deviation =0.539831786399696 \n",
      "The variable hour has mean = 13.634404033537276 and standard deviation =5.161274457822756 \n",
      "The variable birthyear has mean = 1980.3952384998868 and standard deviation =10.065528836178935 \n",
      "The variable usertype categorical type mode is  0    Subscriber\n",
      "Name: usertype, dtype: object\n",
      "The variable gender categorical type mode is  0    male\n",
      "Name: gender, dtype: object\n"
     ]
    }
   ],
   "source": [
    "for col in ['dist','hour','birthyear']:\n",
    "    mu = X_test[col].mean()\n",
    "    sigma = X_test[col].std()\n",
    "    print(f\"The variable {col} has mean = {mu} and standard deviation ={sigma} \")\n",
    "print(f\"The variable usertype categorical type mode is \", X_test['usertype'].mode() )   \n",
    "print(f\"The variable gender categorical type mode is \", X_test['gender'].mode() ) "
   ]
  },
  {
   "cell_type": "markdown",
   "id": "5c66ca11",
   "metadata": {},
   "source": [
    "## Imputation for NA ( drop NA values)"
   ]
  },
  {
   "cell_type": "code",
   "execution_count": 101,
   "id": "0b78a92c",
   "metadata": {},
   "outputs": [
    {
     "name": "stdout",
     "output_type": "stream",
     "text": [
      "Now running model is .... gender\n",
      "Train (282432, 5) (282432,)\n",
      "Test (70608, 5) (70608,)\n",
      "Train set after Amputation (282432, 5) (282432,)\n",
      "y_train Amputed value count of varaible  28243\n",
      "X_train Amputed value count of varaible  28243\n",
      "Test set after Amputation (70608, 5) (70608,)\n",
      "y_test Amputed value count of varaible  7061\n",
      "X_test Amputed value count of varaible  7061\n",
      "Simulate Imputation for NA\n",
      "Train after NA value removal Imputation (254189, 5) (254189,)\n",
      "Test after NA value removal Imputation (63547, 5) (63547,)\n",
      "['gender', 'usertype']\n",
      "2023-02-19 12:43:09.347869\n",
      "2023-02-19 12:43:09.453890\n",
      "Now running model is .... dist\n",
      "Train (282432, 5) (282432,)\n",
      "Test (70608, 5) (70608,)\n",
      "Train set after Amputation (282432, 5) (282432,)\n",
      "y_train Amputed value count of varaible  28243\n",
      "X_train Amputed value count of varaible  28243\n",
      "Test set after Amputation (70608, 5) (70608,)\n",
      "y_test Amputed value count of varaible  7061\n",
      "X_test Amputed value count of varaible  7061\n",
      "Simulate Imputation for NA\n",
      "Train after NA value removal Imputation (254189, 5) (254189,)\n",
      "Test after NA value removal Imputation (63547, 5) (63547,)\n",
      "['gender', 'usertype']\n",
      "2023-02-19 12:43:12.609159\n",
      "2023-02-19 12:43:12.698192\n",
      "Now running model is .... hour\n",
      "Train (282432, 5) (282432,)\n",
      "Test (70608, 5) (70608,)\n",
      "Train set after Amputation (282432, 5) (282432,)\n",
      "y_train Amputed value count of varaible  28243\n",
      "X_train Amputed value count of varaible  28243\n",
      "Test set after Amputation (70608, 5) (70608,)\n",
      "y_test Amputed value count of varaible  7061\n",
      "X_test Amputed value count of varaible  7061\n",
      "Simulate Imputation for NA\n",
      "Train after NA value removal Imputation (254189, 5) (254189,)\n",
      "Test after NA value removal Imputation (63547, 5) (63547,)\n",
      "['gender', 'usertype']\n",
      "2023-02-19 12:43:15.824890\n",
      "2023-02-19 12:43:15.887619\n",
      "Now running model is .... birthyear\n",
      "Train (282432, 5) (282432,)\n",
      "Test (70608, 5) (70608,)\n",
      "Train set after Amputation (282432, 5) (282432,)\n",
      "y_train Amputed value count of varaible  28243\n",
      "X_train Amputed value count of varaible  28243\n",
      "Test set after Amputation (70608, 5) (70608,)\n",
      "y_test Amputed value count of varaible  7061\n",
      "X_test Amputed value count of varaible  7061\n",
      "Simulate Imputation for NA\n",
      "Train after NA value removal Imputation (254189, 5) (254189,)\n",
      "Test after NA value removal Imputation (63547, 5) (63547,)\n",
      "['gender', 'usertype']\n",
      "2023-02-19 12:43:19.100248\n",
      "2023-02-19 12:43:19.187845\n",
      "Now running model is .... usertype\n",
      "Train (282432, 5) (282432,)\n",
      "Test (70608, 5) (70608,)\n",
      "Train set after Amputation (282432, 5) (282432,)\n",
      "y_train Amputed value count of varaible  28243\n",
      "X_train Amputed value count of varaible  28243\n",
      "Test set after Amputation (70608, 5) (70608,)\n",
      "y_test Amputed value count of varaible  7061\n",
      "X_test Amputed value count of varaible  7061\n",
      "Simulate Imputation for NA\n",
      "Train after NA value removal Imputation (254189, 5) (254189,)\n",
      "Test after NA value removal Imputation (63547, 5) (63547,)\n",
      "['gender', 'usertype']\n",
      "2023-02-19 12:43:22.204396\n",
      "2023-02-19 12:43:22.293817\n"
     ]
    }
   ],
   "source": [
    "model_metrics ={}\n",
    "cat_gender = ['gender_female', 'gender_male','gender_unknown']\n",
    "cat_usertype = ['usertype_Customer', 'usertype_Subscriber']\n",
    "for var in features_for_amputation:\n",
    "    print(\"Now running model is ....\", var)\n",
    "    X_train, X_test, y_train, y_test = split_dataset(df)\n",
    "    X_train , y_train, X_test , y_test = ampute_each_variables(var,\"remove\",X_train,y_train,X_test,y_test)\n",
    "    X_train, X_test = one_hot_encoding(X_train,X_test)\n",
    "    model_reg = model_evaluation(X_train,y_train)\n",
    "    y_pred = model_reg.predict(X_test)\n",
    "    if(var == 'gender'):\n",
    "        for v in cat_gender:\n",
    "            mu_train = X_train[v].mean()\n",
    "            sigma_train = X_train[v].std()\n",
    "            mu_test = X_test[v].mean()\n",
    "            sigma_test = X_test[v].std()\n",
    "            model_metrics[v] = {\"MAE\":mean_absolute_error(y_test, y_pred),\"MSE\":mean_squared_error(y_test, y_pred),\n",
    "                          \"RMSE\":np.sqrt(mean_squared_error(y_test, y_pred)),\"R2\":r2_score(y_test, y_pred),\n",
    "                           \"intercept\":model_reg.intercept_,\n",
    "                          \"Mu_train\":mu_train, \"sigma_train\":sigma_train,\n",
    "                          \"Mu_test\":mu_test, \"sigma_test\":sigma_test}\n",
    "    elif(var == 'usertype'):\n",
    "        for v in cat_usertype:\n",
    "            mu_train = X_train[v].mean()\n",
    "            sigma_train = X_train[v].std()\n",
    "            mu_test = X_test[v].mean()\n",
    "            sigma_test = X_test[v].std()\n",
    "            model_metrics[v] = {\"MAE\":mean_absolute_error(y_test, y_pred),\"MSE\":mean_squared_error(y_test, y_pred),\n",
    "                          \"RMSE\":np.sqrt(mean_squared_error(y_test, y_pred)),\"R2\":r2_score(y_test, y_pred),\n",
    "                            \"intercept\":model_reg.intercept_,\n",
    "                          \"Mu_train\":mu_train, \"sigma_train\":sigma_train,\n",
    "                          \"Mu_test\":mu_test, \"sigma_test\":sigma_test}\n",
    "    else:\n",
    "        mu_train = X_train[var].mean()\n",
    "        sigma_train = X_train[var].std()\n",
    "        mu_test = X_test[var].mean()\n",
    "        sigma_test = X_test[var].std()\n",
    "        model_metrics[var] = {\"MAE\":mean_absolute_error(y_test, y_pred),\"MSE\":mean_squared_error(y_test, y_pred),\n",
    "                              \"RMSE\":np.sqrt(mean_squared_error(y_test, y_pred)),\"R2\":r2_score(y_test, y_pred),\n",
    "                               \"intercept\":model_reg.intercept_,\n",
    "                              \"Mu_train\":mu_train, \"sigma_train\":sigma_train,\n",
    "                              \"Mu_test\":mu_test, \"sigma_test\":sigma_test}\n",
    "    \n",
    "    \n",
    "    del X_train\n",
    "    del X_test\n",
    "    del y_train\n",
    "    del y_test"
   ]
  },
  {
   "cell_type": "code",
   "execution_count": 102,
   "id": "a6a307d3",
   "metadata": {},
   "outputs": [
    {
     "data": {
      "text/plain": [
       "{'gender_female': {'MAE': 279.2542248801155,\n",
       "  'MSE': 432806.1392976349,\n",
       "  'RMSE': 657.880034122966,\n",
       "  'R2': 0.16721358241898143,\n",
       "  'intercept': 4330.683499886296,\n",
       "  'Mu_train': 0.21332945170719425,\n",
       "  'sigma_train': 0.40965919611487306,\n",
       "  'Mu_test': 0.21078886493461532,\n",
       "  'sigma_test': 0.40787196183577956},\n",
       " 'gender_male': {'MAE': 279.2542248801155,\n",
       "  'MSE': 432806.1392976349,\n",
       "  'RMSE': 657.880034122966,\n",
       "  'R2': 0.16721358241898143,\n",
       "  'intercept': 4330.683499886296,\n",
       "  'Mu_train': 0.7267899082965824,\n",
       "  'sigma_train': 0.44560870578778683,\n",
       "  'Mu_test': 0.7302154310982423,\n",
       "  'sigma_test': 0.44385127623356097},\n",
       " 'gender_unknown': {'MAE': 279.2542248801155,\n",
       "  'MSE': 432806.1392976349,\n",
       "  'RMSE': 657.880034122966,\n",
       "  'R2': 0.16721358241898143,\n",
       "  'intercept': 4330.683499886296,\n",
       "  'Mu_train': 0.059880639996223284,\n",
       "  'sigma_train': 0.23726603300852148,\n",
       "  'Mu_test': 0.05899570396714243,\n",
       "  'sigma_test': 0.2356185147712141},\n",
       " 'dist': {'MAE': 279.2542248801155,\n",
       "  'MSE': 432806.1392976349,\n",
       "  'RMSE': 657.880034122966,\n",
       "  'R2': 0.16721358241898143,\n",
       "  'intercept': 4330.683499886296,\n",
       "  'Mu_train': 0.7846721331162541,\n",
       "  'sigma_train': 0.5429889265774022,\n",
       "  'Mu_test': 0.782316118029587,\n",
       "  'sigma_test': 0.5400844246046014},\n",
       " 'hour': {'MAE': 279.2542248801155,\n",
       "  'MSE': 432806.1392976349,\n",
       "  'RMSE': 657.880034122966,\n",
       "  'R2': 0.16721358241898143,\n",
       "  'intercept': 4330.683499886296,\n",
       "  'Mu_train': 13.636136890266691,\n",
       "  'sigma_train': 5.155795928773315,\n",
       "  'Mu_test': 13.620910507183659,\n",
       "  'sigma_test': 5.161691344412102},\n",
       " 'birthyear': {'MAE': 279.2542248801155,\n",
       "  'MSE': 432806.1392976349,\n",
       "  'RMSE': 657.880034122966,\n",
       "  'R2': 0.16721358241898143,\n",
       "  'intercept': 4330.683499886296,\n",
       "  'Mu_train': 1980.4473836397326,\n",
       "  'sigma_train': 10.104827199980448,\n",
       "  'Mu_test': 1980.3931420838119,\n",
       "  'sigma_test': 10.055824988748098},\n",
       " 'usertype_Customer': {'MAE': 279.2542248801155,\n",
       "  'MSE': 432806.1392976349,\n",
       "  'RMSE': 657.880034122966,\n",
       "  'R2': 0.16721358241898143,\n",
       "  'intercept': 4330.683499886296,\n",
       "  'Mu_train': 0.062091593263280474,\n",
       "  'sigma_train': 0.2413223081611356,\n",
       "  'Mu_test': 0.06086833367428832,\n",
       "  'sigma_test': 0.23909052509260498},\n",
       " 'usertype_Subscriber': {'MAE': 279.2542248801155,\n",
       "  'MSE': 432806.1392976349,\n",
       "  'RMSE': 657.880034122966,\n",
       "  'R2': 0.16721358241898143,\n",
       "  'intercept': 4330.683499886296,\n",
       "  'Mu_train': 0.9379084067367195,\n",
       "  'sigma_train': 0.2413223081611356,\n",
       "  'Mu_test': 0.9391316663257117,\n",
       "  'sigma_test': 0.239090525092605}}"
      ]
     },
     "execution_count": 102,
     "metadata": {},
     "output_type": "execute_result"
    }
   ],
   "source": [
    "model_metrics"
   ]
  },
  {
   "cell_type": "markdown",
   "id": "4fb16eb4",
   "metadata": {},
   "source": [
    "###  BootStarp estimation with drop amputation"
   ]
  },
  {
   "cell_type": "code",
   "execution_count": 103,
   "id": "8ac8c68a",
   "metadata": {},
   "outputs": [
    {
     "name": "stdout",
     "output_type": "stream",
     "text": [
      "Now running model is .... gender\n",
      "Train (282432, 5) (282432,)\n",
      "Test (70608, 5) (70608,)\n",
      "Train set after Amputation (282432, 5) (282432,)\n",
      "y_train Amputed value count of varaible  28243\n",
      "X_train Amputed value count of varaible  28243\n",
      "Test set after Amputation (70608, 5) (70608,)\n",
      "y_test Amputed value count of varaible  7061\n",
      "X_test Amputed value count of varaible  7061\n",
      "Simulate Imputation for NA\n",
      "Train after NA value removal Imputation (254189, 5) (254189,)\n",
      "Test after NA value removal Imputation (63547, 5) (63547,)\n",
      "['gender', 'usertype']\n",
      "Now running model is .... dist\n",
      "Train (282432, 5) (282432,)\n",
      "Test (70608, 5) (70608,)\n",
      "Train set after Amputation (282432, 5) (282432,)\n",
      "y_train Amputed value count of varaible  28243\n",
      "X_train Amputed value count of varaible  28243\n",
      "Test set after Amputation (70608, 5) (70608,)\n",
      "y_test Amputed value count of varaible  7061\n",
      "X_test Amputed value count of varaible  7061\n",
      "Simulate Imputation for NA\n",
      "Train after NA value removal Imputation (254189, 5) (254189,)\n",
      "Test after NA value removal Imputation (63547, 5) (63547,)\n",
      "['gender', 'usertype']\n",
      "Now running model is .... hour\n",
      "Train (282432, 5) (282432,)\n",
      "Test (70608, 5) (70608,)\n",
      "Train set after Amputation (282432, 5) (282432,)\n",
      "y_train Amputed value count of varaible  28243\n",
      "X_train Amputed value count of varaible  28243\n",
      "Test set after Amputation (70608, 5) (70608,)\n",
      "y_test Amputed value count of varaible  7061\n",
      "X_test Amputed value count of varaible  7061\n",
      "Simulate Imputation for NA\n",
      "Train after NA value removal Imputation (254189, 5) (254189,)\n",
      "Test after NA value removal Imputation (63547, 5) (63547,)\n",
      "['gender', 'usertype']\n",
      "Now running model is .... birthyear\n",
      "Train (282432, 5) (282432,)\n",
      "Test (70608, 5) (70608,)\n",
      "Train set after Amputation (282432, 5) (282432,)\n",
      "y_train Amputed value count of varaible  28243\n",
      "X_train Amputed value count of varaible  28243\n",
      "Test set after Amputation (70608, 5) (70608,)\n",
      "y_test Amputed value count of varaible  7061\n",
      "X_test Amputed value count of varaible  7061\n",
      "Simulate Imputation for NA\n",
      "Train after NA value removal Imputation (254189, 5) (254189,)\n",
      "Test after NA value removal Imputation (63547, 5) (63547,)\n",
      "['gender', 'usertype']\n",
      "Now running model is .... usertype\n",
      "Train (282432, 5) (282432,)\n",
      "Test (70608, 5) (70608,)\n",
      "Train set after Amputation (282432, 5) (282432,)\n",
      "y_train Amputed value count of varaible  28243\n",
      "X_train Amputed value count of varaible  28243\n",
      "Test set after Amputation (70608, 5) (70608,)\n",
      "y_test Amputed value count of varaible  7061\n",
      "X_test Amputed value count of varaible  7061\n",
      "Simulate Imputation for NA\n",
      "Train after NA value removal Imputation (254189, 5) (254189,)\n",
      "Test after NA value removal Imputation (63547, 5) (63547,)\n",
      "['gender', 'usertype']\n"
     ]
    }
   ],
   "source": [
    "bootstrap_data ={}\n",
    "for var in features_for_amputation:\n",
    "    print(\"Now running model is ....\", var)\n",
    "    X_train, X_test, y_train, y_test = split_dataset(df)\n",
    "    X_train , y_train, X_test , y_test = ampute_each_variables(var,\"remove\",X_train,y_train,X_test,y_test)\n",
    "    X_train, X_test = one_hot_encoding(X_train,X_test)\n",
    "    model_lr = LinearRegression(fit_intercept=True)\n",
    "    rng = np.random.RandomState(1234)\n",
    "    idx = np.arange(y_train.shape[0])\n",
    "    bootstarp_train_accuracies = {}\n",
    "    for i in range(501):\n",
    "        train_idx = rng.choice(idx, size=idx.shape[0], replace=True)\n",
    "        test_idx = np.setdiff1d(idx, train_idx, assume_unique=False)\n",
    "        boot_train_X, boot_train_y = X_train.iloc[train_idx], y_train.iloc[train_idx]\n",
    "        boot_test_X, boot_test_y = X_train.iloc[test_idx], y_train.iloc[test_idx]\n",
    "        model_lr.fit(boot_test_X, boot_test_y )\n",
    "        boot_y_pred = model_lr.predict(boot_test_X)\n",
    "        bootstarp_train_accuracies[i] = {\"RMSE\": np.sqrt(mean_squared_error(boot_test_y, boot_y_pred)),\n",
    "                                      \"R2\":r2_score(boot_test_y, boot_y_pred), \"intercept\":model_lr.intercept_}\n",
    "    R2 = []\n",
    "    RMSE = []\n",
    "    intercept = []\n",
    "    for i in range(501):\n",
    "        R2.append(bootstarp_train_accuracies[i]['R2'])\n",
    "        RMSE.append(bootstarp_train_accuracies[i]['RMSE'])\n",
    "        intercept.append(bootstarp_train_accuracies[i]['intercept'])\n",
    "    bootstrap_data[var] = {\"R2\": [np.percentile(R2, 2.5), np.percentile(R2, 97.5)],\n",
    "                         \"RMSE\": [np.percentile(RMSE, 2.5), np.percentile(RMSE, 97.5)],\n",
    "                         \"intercept\": [np.percentile(intercept, 2.5), np.percentile(intercept, 97.5)]}\n",
    "                         \n",
    "#     print(np.percentile(R2, 2.5), np.percentile(R2, 97.5))\n",
    "#     print(np.percentile(RMSE, 2.5), np.percentile(RMSE, 97.5))\n",
    "#     print(np.percentile(intercept, 2.5), np.percentile(intercept, 97.5))"
   ]
  },
  {
   "cell_type": "code",
   "execution_count": 104,
   "id": "2a6e18b9",
   "metadata": {},
   "outputs": [
    {
     "data": {
      "text/plain": [
       "{'gender': {'R2': [0.1692903070566928, 0.18287391667440567],\n",
       "  'RMSE': [649.4322232919918, 683.6458268938354],\n",
       "  'intercept': [3702.721568724243, 4859.1833670179185]},\n",
       " 'dist': {'R2': [0.1692903070566928, 0.18287391667440567],\n",
       "  'RMSE': [649.4322232919918, 683.6458268938354],\n",
       "  'intercept': [3702.721568724243, 4859.1833670179185]},\n",
       " 'hour': {'R2': [0.1692903070566928, 0.18287391667440567],\n",
       "  'RMSE': [649.4322232919918, 683.6458268938354],\n",
       "  'intercept': [3702.721568724243, 4859.1833670179185]},\n",
       " 'birthyear': {'R2': [0.1692903070566928, 0.18287391667440567],\n",
       "  'RMSE': [649.4322232919918, 683.6458268938354],\n",
       "  'intercept': [3702.721568724243, 4859.1833670179185]},\n",
       " 'usertype': {'R2': [0.1692903070566928, 0.18287391667440567],\n",
       "  'RMSE': [649.4322232919918, 683.6458268938354],\n",
       "  'intercept': [3702.721568724243, 4859.1833670179185]}}"
      ]
     },
     "execution_count": 104,
     "metadata": {},
     "output_type": "execute_result"
    }
   ],
   "source": [
    "bootstrap_data"
   ]
  },
  {
   "cell_type": "markdown",
   "id": "c2bf9d60",
   "metadata": {},
   "source": [
    "### Mode Replacement"
   ]
  },
  {
   "cell_type": "code",
   "execution_count": 105,
   "id": "1bb598f3",
   "metadata": {},
   "outputs": [
    {
     "name": "stdout",
     "output_type": "stream",
     "text": [
      "Now model is running for varaible ==== gender\n",
      "Train (282432, 5) (282432,)\n",
      "Test (70608, 5) (70608,)\n",
      "Train set after Amputation (282432, 5)\n",
      "X_train Amputed value count of varaible  28243\n",
      "Test set after Amputation (70608, 5)\n",
      "X_test Amputed value count of varaible  7061\n",
      "Simulate Imputation for Mode\n",
      "Train after Mode Imputation (282432, 5) (282432,)\n",
      "Test after Mode Imputation (70608, 5) (70608,)\n",
      "['gender', 'usertype']\n",
      "2023-02-19 12:48:48.374735\n",
      "2023-02-19 12:48:48.464297\n",
      "Now model is running for varaible ==== dist\n",
      "Train (282432, 5) (282432,)\n",
      "Test (70608, 5) (70608,)\n",
      "Train set after Amputation (282432, 5)\n",
      "X_train Amputed value count of varaible  28243\n",
      "Test set after Amputation (70608, 5)\n",
      "X_test Amputed value count of varaible  7061\n",
      "Simulate Imputation for Mode\n",
      "Train after Mode Imputation (282432, 5) (282432,)\n",
      "Test after Mode Imputation (70608, 5) (70608,)\n",
      "['gender', 'usertype']\n",
      "2023-02-19 12:48:49.793658\n",
      "2023-02-19 12:48:49.877248\n",
      "Now model is running for varaible ==== hour\n",
      "Train (282432, 5) (282432,)\n",
      "Test (70608, 5) (70608,)\n",
      "Train set after Amputation (282432, 5)\n",
      "X_train Amputed value count of varaible  28243\n",
      "Test set after Amputation (70608, 5)\n",
      "X_test Amputed value count of varaible  7061\n",
      "Simulate Imputation for Mode\n",
      "Train after Mode Imputation (282432, 5) (282432,)\n",
      "Test after Mode Imputation (70608, 5) (70608,)\n",
      "['gender', 'usertype']\n",
      "2023-02-19 12:48:51.151682\n",
      "2023-02-19 12:48:51.222394\n",
      "Now model is running for varaible ==== birthyear\n",
      "Train (282432, 5) (282432,)\n",
      "Test (70608, 5) (70608,)\n",
      "Train set after Amputation (282432, 5)\n",
      "X_train Amputed value count of varaible  28243\n",
      "Test set after Amputation (70608, 5)\n",
      "X_test Amputed value count of varaible  7061\n",
      "Simulate Imputation for Mode\n",
      "Train after Mode Imputation (282432, 5) (282432,)\n",
      "Test after Mode Imputation (70608, 5) (70608,)\n",
      "['gender', 'usertype']\n",
      "2023-02-19 12:48:52.494144\n",
      "2023-02-19 12:48:52.583370\n",
      "Now model is running for varaible ==== usertype\n",
      "Train (282432, 5) (282432,)\n",
      "Test (70608, 5) (70608,)\n",
      "Train set after Amputation (282432, 5)\n",
      "X_train Amputed value count of varaible  28243\n",
      "Test set after Amputation (70608, 5)\n",
      "X_test Amputed value count of varaible  7061\n",
      "Simulate Imputation for Mode\n",
      "Train after Mode Imputation (282432, 5) (282432,)\n",
      "Test after Mode Imputation (70608, 5) (70608,)\n",
      "['gender', 'usertype']\n",
      "2023-02-19 12:48:53.691925\n",
      "2023-02-19 12:48:53.749398\n"
     ]
    }
   ],
   "source": [
    "model_metrics_mode ={}\n",
    "for var in features_for_amputation:\n",
    "    print(\"Now model is running for varaible ====\", var)\n",
    "    X_train, X_test, y_train, y_test = split_dataset(df)\n",
    "    X_train , y_train, X_test , y_test = ampute_each_variables(var,\"mode\",X_train,y_train,X_test,y_test)\n",
    "    X_train, X_test = one_hot_encoding(X_train,X_test)\n",
    "    model_reg = model_evaluation(X_train,y_train)\n",
    "    y_pred = model_reg.predict(X_test)\n",
    "    if(var == 'gender'):\n",
    "        for v in cat_gender:\n",
    "            mu_train = X_train[v].mean()\n",
    "            sigma_train = X_train[v].std()\n",
    "            mu_test = X_test[v].mean()\n",
    "            sigma_test = X_test[v].std()\n",
    "            model_metrics_mode[v] = {\"MAE\":mean_absolute_error(y_test, y_pred),\"MSE\":mean_squared_error(y_test, y_pred),\n",
    "                          \"RMSE\":np.sqrt(mean_squared_error(y_test, y_pred)),\"R2\":r2_score(y_test, y_pred),\n",
    "                            \"intercept\":model_reg.intercept_,\n",
    "                          \"Mu_train\":mu_train, \"sigma_train\":sigma_train,\n",
    "                          \"Mu_test\":mu_test, \"sigma_test\":sigma_test}\n",
    "    elif(var == 'usertype'):\n",
    "        for v in cat_usertype:\n",
    "            mu_train = X_train[v].mean()\n",
    "            sigma_train = X_train[v].std()\n",
    "            mu_test = X_test[v].mean()\n",
    "            sigma_test = X_test[v].std()\n",
    "            model_metrics_mode[v] = {\"MAE\":mean_absolute_error(y_test, y_pred),\"MSE\":mean_squared_error(y_test, y_pred),\n",
    "                          \"RMSE\":np.sqrt(mean_squared_error(y_test, y_pred)),\"R2\":r2_score(y_test, y_pred),\n",
    "                           \"intercept\":model_reg.intercept_,\n",
    "                          \"Mu_train\":mu_train, \"sigma_train\":sigma_train,\n",
    "                          \"Mu_test\":mu_test, \"sigma_test\":sigma_test}\n",
    "    else:\n",
    "        mu_train = X_train[var].mean()\n",
    "        sigma_train = X_train[var].std()\n",
    "        mu_test = X_test[var].mean()\n",
    "        sigma_test = X_test[var].std()\n",
    "        model_metrics_mode[var] = {\"MAE\":mean_absolute_error(y_test, y_pred),\"MSE\":mean_squared_error(y_test, y_pred),\n",
    "                              \"RMSE\":np.sqrt(mean_squared_error(y_test, y_pred)),\"R2\":r2_score(y_test, y_pred),\n",
    "                                \"intercept\":model_reg.intercept_,\n",
    "                              \"Mu_train\":mu_train, \"sigma_train\":sigma_train,\n",
    "                              \"Mu_test\":mu_test, \"sigma_test\":sigma_test}\n",
    "    del X_train\n",
    "    del X_test\n",
    "    del y_train\n",
    "    del y_test"
   ]
  },
  {
   "cell_type": "code",
   "execution_count": 106,
   "id": "5631e12a",
   "metadata": {},
   "outputs": [
    {
     "data": {
      "text/plain": [
       "{'gender_female': {'MAE': 278.68373476735826,\n",
       "  'MSE': 429063.44288055133,\n",
       "  'RMSE': 655.0293450529917,\n",
       "  'R2': 0.16758965468078135,\n",
       "  'intercept': 4407.742348775691,\n",
       "  'Mu_train': 0.19199665760253795,\n",
       "  'sigma_train': 0.3938711595850177,\n",
       "  'Mu_test': 0.1897093813732155,\n",
       "  'sigma_test': 0.39207385670261174},\n",
       " 'gender_male': {'MAE': 278.68373476735826,\n",
       "  'MSE': 429063.44288055133,\n",
       "  'RMSE': 655.0293450529917,\n",
       "  'R2': 0.16758965468078135,\n",
       "  'intercept': 4407.742348775691,\n",
       "  'Mu_train': 0.7541107239972807,\n",
       "  'sigma_train': 0.43061397619134123,\n",
       "  'Mu_test': 0.7571946521640607,\n",
       "  'sigma_test': 0.42878143005567},\n",
       " 'gender_unknown': {'MAE': 278.68373476735826,\n",
       "  'MSE': 429063.44288055133,\n",
       "  'RMSE': 655.0293450529917,\n",
       "  'R2': 0.16758965468078135,\n",
       "  'intercept': 4407.742348775691,\n",
       "  'Mu_train': 0.05389261840018128,\n",
       "  'sigma_train': 0.22580607745467474,\n",
       "  'Mu_test': 0.05309596646272377,\n",
       "  'sigma_test': 0.22422644106633338},\n",
       " 'dist': {'MAE': 283.2296212487276,\n",
       "  'MSE': 430551.94962635095,\n",
       "  'RMSE': 656.1645751077629,\n",
       "  'R2': 0.16470185700227824,\n",
       "  'intercept': 4111.855820672355,\n",
       "  'Mu_train': 0.7721098420873885,\n",
       "  'sigma_train': 0.5165014016892983,\n",
       "  'Mu_test': 0.7699889903902088,\n",
       "  'sigma_test': 0.5137007171323418},\n",
       " 'hour': {'MAE': 278.7603679873668,\n",
       "  'MSE': 429053.8033245243,\n",
       "  'RMSE': 655.0219869016034,\n",
       "  'R2': 0.1676083560320485,\n",
       "  'intercept': 4251.533427259707,\n",
       "  'Mu_train': 13.072527192386131,\n",
       "  'sigma_train': 5.175224975410671,\n",
       "  'Mu_test': 13.058803535010197,\n",
       "  'sigma_test': 5.1790218757925235},\n",
       " 'birthyear': {'MAE': 278.69358293844994,\n",
       "  'MSE': 429070.9915071109,\n",
       "  'RMSE': 655.0351070798503,\n",
       "  'R2': 0.16757500986555574,\n",
       "  'intercept': 3954.4623684338007,\n",
       "  'Mu_train': 1979.302653382053,\n",
       "  'sigma_train': 10.182858952140826,\n",
       "  'Mu_test': 1979.2537956038975,\n",
       "  'sigma_test': 10.133608258003052},\n",
       " 'usertype_Customer': {'MAE': 281.37174548463054,\n",
       "  'MSE': 434650.0532401177,\n",
       "  'RMSE': 659.279950582541,\n",
       "  'R2': 0.15675127556521273,\n",
       "  'intercept': 4000.1784635185445,\n",
       "  'Mu_train': 0.055882477906186265,\n",
       "  'sigma_train': 0.22969504429703688,\n",
       "  'Mu_test': 0.054781327894856104,\n",
       "  'sigma_test': 0.2275545371305804},\n",
       " 'usertype_Subscriber': {'MAE': 281.37174548463054,\n",
       "  'MSE': 434650.0532401177,\n",
       "  'RMSE': 659.279950582541,\n",
       "  'R2': 0.15675127556521273,\n",
       "  'intercept': 4000.1784635185445,\n",
       "  'Mu_train': 0.9441175220938137,\n",
       "  'sigma_train': 0.22969504429703688,\n",
       "  'Mu_test': 0.9452186721051439,\n",
       "  'sigma_test': 0.2275545371305804}}"
      ]
     },
     "execution_count": 106,
     "metadata": {},
     "output_type": "execute_result"
    }
   ],
   "source": [
    "model_metrics_mode"
   ]
  },
  {
   "cell_type": "markdown",
   "id": "6c614530",
   "metadata": {},
   "source": [
    "### Bootstarp for Mode Imputation"
   ]
  },
  {
   "cell_type": "code",
   "execution_count": 107,
   "id": "23e23352",
   "metadata": {},
   "outputs": [
    {
     "name": "stdout",
     "output_type": "stream",
     "text": [
      "Now running model is .... gender\n",
      "Train (282432, 5) (282432,)\n",
      "Test (70608, 5) (70608,)\n",
      "Train set after Amputation (282432, 5)\n",
      "X_train Amputed value count of varaible  28243\n",
      "Test set after Amputation (70608, 5)\n",
      "X_test Amputed value count of varaible  7061\n",
      "Simulate Imputation for Mode\n",
      "Train after Mode Imputation (282432, 5) (282432,)\n",
      "Test after Mode Imputation (70608, 5) (70608,)\n",
      "['gender', 'usertype']\n",
      "Now running model is .... dist\n",
      "Train (282432, 5) (282432,)\n",
      "Test (70608, 5) (70608,)\n",
      "Train set after Amputation (282432, 5)\n",
      "X_train Amputed value count of varaible  28243\n",
      "Test set after Amputation (70608, 5)\n",
      "X_test Amputed value count of varaible  7061\n",
      "Simulate Imputation for Mode\n",
      "Train after Mode Imputation (282432, 5) (282432,)\n",
      "Test after Mode Imputation (70608, 5) (70608,)\n",
      "['gender', 'usertype']\n",
      "Now running model is .... hour\n",
      "Train (282432, 5) (282432,)\n",
      "Test (70608, 5) (70608,)\n",
      "Train set after Amputation (282432, 5)\n",
      "X_train Amputed value count of varaible  28243\n",
      "Test set after Amputation (70608, 5)\n",
      "X_test Amputed value count of varaible  7061\n",
      "Simulate Imputation for Mode\n",
      "Train after Mode Imputation (282432, 5) (282432,)\n",
      "Test after Mode Imputation (70608, 5) (70608,)\n",
      "['gender', 'usertype']\n",
      "Now running model is .... birthyear\n",
      "Train (282432, 5) (282432,)\n",
      "Test (70608, 5) (70608,)\n",
      "Train set after Amputation (282432, 5)\n",
      "X_train Amputed value count of varaible  28243\n",
      "Test set after Amputation (70608, 5)\n",
      "X_test Amputed value count of varaible  7061\n",
      "Simulate Imputation for Mode\n",
      "Train after Mode Imputation (282432, 5) (282432,)\n",
      "Test after Mode Imputation (70608, 5) (70608,)\n",
      "['gender', 'usertype']\n",
      "Now running model is .... usertype\n",
      "Train (282432, 5) (282432,)\n",
      "Test (70608, 5) (70608,)\n",
      "Train set after Amputation (282432, 5)\n",
      "X_train Amputed value count of varaible  28243\n",
      "Test set after Amputation (70608, 5)\n",
      "X_test Amputed value count of varaible  7061\n",
      "Simulate Imputation for Mode\n",
      "Train after Mode Imputation (282432, 5) (282432,)\n",
      "Test after Mode Imputation (70608, 5) (70608,)\n",
      "['gender', 'usertype']\n"
     ]
    }
   ],
   "source": [
    "bootstrap_data_mode ={}\n",
    "for var in features_for_amputation:\n",
    "    print(\"Now running model is ....\", var)\n",
    "    X_train, X_test, y_train, y_test = split_dataset(df)\n",
    "    X_train , y_train, X_test , y_test = ampute_each_variables(var,\"mode\",X_train,y_train,X_test,y_test)\n",
    "    X_train, X_test = one_hot_encoding(X_train,X_test)\n",
    "    model_lr = LinearRegression(fit_intercept=True)\n",
    "    rng = np.random.RandomState(1234)\n",
    "    idx = np.arange(y_train.shape[0])\n",
    "    bootstarp_train_accuracies = {}\n",
    "    for i in range(501):\n",
    "        train_idx = rng.choice(idx, size=idx.shape[0], replace=True)\n",
    "        test_idx = np.setdiff1d(idx, train_idx, assume_unique=False)\n",
    "        boot_train_X, boot_train_y = X_train.iloc[train_idx], y_train.iloc[train_idx]\n",
    "        boot_test_X, boot_test_y = X_train.iloc[test_idx], y_train.iloc[test_idx]\n",
    "        model_lr.fit(boot_test_X, boot_test_y )\n",
    "        boot_y_pred = model_lr.predict(boot_test_X)\n",
    "        bootstarp_train_accuracies[i] = {\"RMSE\": np.sqrt(mean_squared_error(boot_test_y, boot_y_pred)),\n",
    "                                      \"R2\":r2_score(boot_test_y, boot_y_pred), \"intercept\":model_lr.intercept_}\n",
    "    R2 = []\n",
    "    RMSE = []\n",
    "    intercept = []\n",
    "    for i in range(501):\n",
    "        R2.append(bootstarp_train_accuracies[i]['R2'])\n",
    "        RMSE.append(bootstarp_train_accuracies[i]['RMSE'])\n",
    "        intercept.append(bootstarp_train_accuracies[i]['intercept'])\n",
    "    bootstrap_data_mode[var] = {\"R2\": [np.percentile(R2, 2.5), np.percentile(R2, 97.5)],\n",
    "                         \"RMSE\": [np.percentile(RMSE, 2.5), np.percentile(RMSE, 97.5)],\n",
    "                         \"intercept\": [np.percentile(intercept, 2.5), np.percentile(intercept, 97.5)]}\n",
    "#     print(np.percentile(R2, 2.5), np.percentile(R2, 97.5))\n",
    "#     print(np.percentile(RMSE, 2.5), np.percentile(RMSE, 97.5))\n",
    "#     print(np.percentile(intercept, 2.5), np.percentile(intercept, 97.5))"
   ]
  },
  {
   "cell_type": "code",
   "execution_count": 108,
   "id": "d4650b4b",
   "metadata": {},
   "outputs": [
    {
     "data": {
      "text/plain": [
       "{'gender': {'R2': [0.16997660432429562, 0.1835356319143303],\n",
       "  'RMSE': [649.8816105513088, 682.2198713448631],\n",
       "  'intercept': [3843.377598410043, 4981.248931453127]},\n",
       " 'dist': {'R2': [0.16762615966649053, 0.18079919850336795],\n",
       "  'RMSE': [651.008253623839, 683.3143277562708],\n",
       "  'intercept': [3558.304995363931, 4698.273353215009]},\n",
       " 'hour': {'R2': [0.1700350649761721, 0.18345144505295674],\n",
       "  'RMSE': [649.8888673399063, 682.2404490210199],\n",
       "  'intercept': [3706.3446842892854, 4836.586634046061]},\n",
       " 'birthyear': {'R2': [0.17024987025297977, 0.183650747144242],\n",
       "  'RMSE': [649.764389445547, 682.1494081344799],\n",
       "  'intercept': [3397.4268445384077, 4538.925440484303]},\n",
       " 'usertype': {'R2': [0.15689657076436275, 0.17087599791601144],\n",
       "  'RMSE': [655.2468635104944, 687.2619475365002],\n",
       "  'intercept': [3432.090871497232, 4604.633226701961]}}"
      ]
     },
     "execution_count": 108,
     "metadata": {},
     "output_type": "execute_result"
    }
   ],
   "source": [
    "bootstrap_data_mode"
   ]
  },
  {
   "cell_type": "markdown",
   "id": "b7fc77e5",
   "metadata": {},
   "source": [
    "## Mean Imputation"
   ]
  },
  {
   "cell_type": "code",
   "execution_count": 109,
   "id": "b54fe94a",
   "metadata": {},
   "outputs": [
    {
     "name": "stdout",
     "output_type": "stream",
     "text": [
      "Now model is running for varaible ==== dist\n",
      "Train (282432, 5) (282432,)\n",
      "Test (70608, 5) (70608,)\n",
      "Train set after Amputation (282432, 5)\n",
      "X_train Amputed value count of varaible  28243\n",
      "Test set after Amputation (70608, 5)\n",
      "X_test Amputed value count of varaible  7061\n",
      "Simulate Imputation for Mean\n"
     ]
    },
    {
     "name": "stderr",
     "output_type": "stream",
     "text": [
      "C:\\Users\\Hinakoushar\\AppData\\Local\\Temp\\ipykernel_28292\\3010668567.py:35: FutureWarning: Dropping of nuisance columns in DataFrame reductions (with 'numeric_only=None') is deprecated; in a future version this will raise TypeError.  Select only valid columns before calling the reduction.\n",
      "  X_train.fillna(X_train.mean(), inplace=True)\n"
     ]
    },
    {
     "name": "stdout",
     "output_type": "stream",
     "text": [
      "Train after Mean Imputation (282432, 5) (282432,)\n"
     ]
    },
    {
     "name": "stderr",
     "output_type": "stream",
     "text": [
      "C:\\Users\\Hinakoushar\\AppData\\Local\\Temp\\ipykernel_28292\\3010668567.py:37: FutureWarning: Dropping of nuisance columns in DataFrame reductions (with 'numeric_only=None') is deprecated; in a future version this will raise TypeError.  Select only valid columns before calling the reduction.\n",
      "  X_test.fillna(X_test.mean(), inplace=True)\n"
     ]
    },
    {
     "name": "stdout",
     "output_type": "stream",
     "text": [
      "Test after Mean Imputation (70608, 5) (70608,)\n",
      "['gender', 'usertype']\n",
      "2023-02-19 12:59:24.982652\n",
      "2023-02-19 12:59:25.079192\n",
      "Now model is running for varaible ==== hour\n",
      "Train (282432, 5) (282432,)\n",
      "Test (70608, 5) (70608,)\n",
      "Train set after Amputation (282432, 5)\n",
      "X_train Amputed value count of varaible  28243\n",
      "Test set after Amputation (70608, 5)\n",
      "X_test Amputed value count of varaible  7061\n",
      "Simulate Imputation for Mean\n"
     ]
    },
    {
     "name": "stderr",
     "output_type": "stream",
     "text": [
      "C:\\Users\\Hinakoushar\\AppData\\Local\\Temp\\ipykernel_28292\\3010668567.py:35: FutureWarning: Dropping of nuisance columns in DataFrame reductions (with 'numeric_only=None') is deprecated; in a future version this will raise TypeError.  Select only valid columns before calling the reduction.\n",
      "  X_train.fillna(X_train.mean(), inplace=True)\n"
     ]
    },
    {
     "name": "stdout",
     "output_type": "stream",
     "text": [
      "Train after Mean Imputation (282432, 5) (282432,)\n"
     ]
    },
    {
     "name": "stderr",
     "output_type": "stream",
     "text": [
      "C:\\Users\\Hinakoushar\\AppData\\Local\\Temp\\ipykernel_28292\\3010668567.py:37: FutureWarning: Dropping of nuisance columns in DataFrame reductions (with 'numeric_only=None') is deprecated; in a future version this will raise TypeError.  Select only valid columns before calling the reduction.\n",
      "  X_test.fillna(X_test.mean(), inplace=True)\n"
     ]
    },
    {
     "name": "stdout",
     "output_type": "stream",
     "text": [
      "Test after Mean Imputation (70608, 5) (70608,)\n",
      "['gender', 'usertype']\n",
      "2023-02-19 13:03:21.840478\n",
      "2023-02-19 13:03:21.935409\n",
      "Now model is running for varaible ==== birthyear\n",
      "Train (282432, 5) (282432,)\n",
      "Test (70608, 5) (70608,)\n",
      "Train set after Amputation (282432, 5)\n",
      "X_train Amputed value count of varaible  28243\n",
      "Test set after Amputation (70608, 5)\n",
      "X_test Amputed value count of varaible  7061\n",
      "Simulate Imputation for Mean\n"
     ]
    },
    {
     "name": "stderr",
     "output_type": "stream",
     "text": [
      "C:\\Users\\Hinakoushar\\AppData\\Local\\Temp\\ipykernel_28292\\3010668567.py:35: FutureWarning: Dropping of nuisance columns in DataFrame reductions (with 'numeric_only=None') is deprecated; in a future version this will raise TypeError.  Select only valid columns before calling the reduction.\n",
      "  X_train.fillna(X_train.mean(), inplace=True)\n"
     ]
    },
    {
     "name": "stdout",
     "output_type": "stream",
     "text": [
      "Train after Mean Imputation (282432, 5) (282432,)\n"
     ]
    },
    {
     "name": "stderr",
     "output_type": "stream",
     "text": [
      "C:\\Users\\Hinakoushar\\AppData\\Local\\Temp\\ipykernel_28292\\3010668567.py:37: FutureWarning: Dropping of nuisance columns in DataFrame reductions (with 'numeric_only=None') is deprecated; in a future version this will raise TypeError.  Select only valid columns before calling the reduction.\n",
      "  X_test.fillna(X_test.mean(), inplace=True)\n"
     ]
    },
    {
     "name": "stdout",
     "output_type": "stream",
     "text": [
      "Test after Mean Imputation (70608, 5) (70608,)\n",
      "['gender', 'usertype']\n",
      "2023-02-19 13:07:01.381347\n",
      "2023-02-19 13:07:01.461999\n"
     ]
    }
   ],
   "source": [
    "variables =['dist','hour','birthyear']\n",
    "model_metrics_mean ={}\n",
    "for var in variables:\n",
    "    print(\"Now model is running for varaible ====\", var)\n",
    "    X_train, X_test, y_train, y_test = split_dataset(df)\n",
    "    X_train , y_train, X_test , y_test = ampute_each_variables(var,\"mean\",X_train,y_train,X_test,y_test)\n",
    "    X_train, X_test = one_hot_encoding(X_train,X_test)\n",
    "    model_reg = model_evaluation(X_train,y_train)\n",
    "    y_pred = model_reg.predict(X_test)\n",
    "    mu_train = X_train[var].mean()\n",
    "    sigma_train = X_train[var].std()\n",
    "    mu_test = X_test[var].mean()\n",
    "    sigma_test = X_test[var].std()\n",
    "    model_metrics_mean[var] = {\"MAE\":mean_absolute_error(y_test, y_pred),\"MSE\":mean_squared_error(y_test, y_pred),\n",
    "                          \"RMSE\":np.sqrt(mean_squared_error(y_test, y_pred)),\"R2\":r2_score(y_test, y_pred),\n",
    "                            \"intercept\":model_reg.intercept_,\n",
    "                          \"Mu_train\":mu_train, \"sigma_train\":sigma_train,\n",
    "                          \"Mu_test\":mu_test, \"sigma_test\":sigma_test}\n",
    "\n",
    "    del X_train\n",
    "    del X_test\n",
    "    del y_train\n",
    "    del y_test"
   ]
  },
  {
   "cell_type": "code",
   "execution_count": 110,
   "id": "f5e7b87f",
   "metadata": {},
   "outputs": [
    {
     "data": {
      "text/plain": [
       "{'dist': {'MAE': 282.7806168658308,\n",
       "  'MSE': 430535.91508764157,\n",
       "  'RMSE': 656.1523566121222,\n",
       "  'R2': 0.1647329650263376,\n",
       "  'intercept': 4115.940493290295,\n",
       "  'Mu_train': 0.7846721331167078,\n",
       "  'sigma_train': 0.5151246269979137,\n",
       "  'Mu_test': 0.7823161180295614,\n",
       "  'sigma_test': 0.512367863719376},\n",
       " 'hour': {'MAE': 278.6932198006469,\n",
       "  'MSE': 429028.8170143051,\n",
       "  'RMSE': 655.0029137448971,\n",
       "  'R2': 0.16765683106170426,\n",
       "  'intercept': 4257.934127420233,\n",
       "  'Mu_train': 13.636136890269404,\n",
       "  'sigma_train': 4.891218447910462,\n",
       "  'Mu_test': 13.620910507182153,\n",
       "  'sigma_test': 4.896798809282101},\n",
       " 'birthyear': {'MAE': 278.6530299877195,\n",
       "  'MSE': 429000.3044984794,\n",
       "  'RMSE': 654.9811482008314,\n",
       "  'R2': 0.16771214715431992,\n",
       "  'intercept': 4313.150255488631,\n",
       "  'Mu_train': 1980.4473836399623,\n",
       "  'sigma_train': 9.58628267998128,\n",
       "  'Mu_test': 1980.3931420840102,\n",
       "  'sigma_test': 9.539770696393475}}"
      ]
     },
     "execution_count": 110,
     "metadata": {},
     "output_type": "execute_result"
    }
   ],
   "source": [
    "model_metrics_mean"
   ]
  },
  {
   "cell_type": "markdown",
   "id": "e4d70158",
   "metadata": {},
   "source": [
    "### Bootstrap for mean"
   ]
  },
  {
   "cell_type": "code",
   "execution_count": 111,
   "id": "b3541161",
   "metadata": {},
   "outputs": [
    {
     "name": "stdout",
     "output_type": "stream",
     "text": [
      "Now running model is .... gender\n",
      "Train (282432, 5) (282432,)\n",
      "Test (70608, 5) (70608,)\n",
      "Train set after Amputation (282432, 5)\n",
      "X_train Amputed value count of varaible  28243\n",
      "Test set after Amputation (70608, 5)\n",
      "X_test Amputed value count of varaible  7061\n",
      "Simulate Imputation for Mean\n"
     ]
    },
    {
     "name": "stderr",
     "output_type": "stream",
     "text": [
      "C:\\Users\\Hinakoushar\\AppData\\Local\\Temp\\ipykernel_28292\\3010668567.py:35: FutureWarning: Dropping of nuisance columns in DataFrame reductions (with 'numeric_only=None') is deprecated; in a future version this will raise TypeError.  Select only valid columns before calling the reduction.\n",
      "  X_train.fillna(X_train.mean(), inplace=True)\n"
     ]
    },
    {
     "name": "stdout",
     "output_type": "stream",
     "text": [
      "Train after Mean Imputation (282432, 5) (282432,)\n"
     ]
    },
    {
     "name": "stderr",
     "output_type": "stream",
     "text": [
      "C:\\Users\\Hinakoushar\\AppData\\Local\\Temp\\ipykernel_28292\\3010668567.py:37: FutureWarning: Dropping of nuisance columns in DataFrame reductions (with 'numeric_only=None') is deprecated; in a future version this will raise TypeError.  Select only valid columns before calling the reduction.\n",
      "  X_test.fillna(X_test.mean(), inplace=True)\n"
     ]
    },
    {
     "name": "stdout",
     "output_type": "stream",
     "text": [
      "Test after Mean Imputation (70608, 5) (70608,)\n",
      "['gender', 'usertype']\n",
      "Now running model is .... dist\n",
      "Train (282432, 5) (282432,)\n",
      "Test (70608, 5) (70608,)\n",
      "Train set after Amputation (282432, 5)\n",
      "X_train Amputed value count of varaible  28243\n",
      "Test set after Amputation (70608, 5)\n",
      "X_test Amputed value count of varaible  7061\n",
      "Simulate Imputation for Mean\n"
     ]
    },
    {
     "name": "stderr",
     "output_type": "stream",
     "text": [
      "C:\\Users\\Hinakoushar\\AppData\\Local\\Temp\\ipykernel_28292\\3010668567.py:35: FutureWarning: Dropping of nuisance columns in DataFrame reductions (with 'numeric_only=None') is deprecated; in a future version this will raise TypeError.  Select only valid columns before calling the reduction.\n",
      "  X_train.fillna(X_train.mean(), inplace=True)\n"
     ]
    },
    {
     "name": "stdout",
     "output_type": "stream",
     "text": [
      "Train after Mean Imputation (282432, 5) (282432,)\n"
     ]
    },
    {
     "name": "stderr",
     "output_type": "stream",
     "text": [
      "C:\\Users\\Hinakoushar\\AppData\\Local\\Temp\\ipykernel_28292\\3010668567.py:37: FutureWarning: Dropping of nuisance columns in DataFrame reductions (with 'numeric_only=None') is deprecated; in a future version this will raise TypeError.  Select only valid columns before calling the reduction.\n",
      "  X_test.fillna(X_test.mean(), inplace=True)\n"
     ]
    },
    {
     "name": "stdout",
     "output_type": "stream",
     "text": [
      "Test after Mean Imputation (70608, 5) (70608,)\n",
      "['gender', 'usertype']\n",
      "Now running model is .... hour\n",
      "Train (282432, 5) (282432,)\n",
      "Test (70608, 5) (70608,)\n",
      "Train set after Amputation (282432, 5)\n",
      "X_train Amputed value count of varaible  28243\n",
      "Test set after Amputation (70608, 5)\n",
      "X_test Amputed value count of varaible  7061\n",
      "Simulate Imputation for Mean\n"
     ]
    },
    {
     "name": "stderr",
     "output_type": "stream",
     "text": [
      "C:\\Users\\Hinakoushar\\AppData\\Local\\Temp\\ipykernel_28292\\3010668567.py:35: FutureWarning: Dropping of nuisance columns in DataFrame reductions (with 'numeric_only=None') is deprecated; in a future version this will raise TypeError.  Select only valid columns before calling the reduction.\n",
      "  X_train.fillna(X_train.mean(), inplace=True)\n"
     ]
    },
    {
     "name": "stdout",
     "output_type": "stream",
     "text": [
      "Train after Mean Imputation (282432, 5) (282432,)\n"
     ]
    },
    {
     "name": "stderr",
     "output_type": "stream",
     "text": [
      "C:\\Users\\Hinakoushar\\AppData\\Local\\Temp\\ipykernel_28292\\3010668567.py:37: FutureWarning: Dropping of nuisance columns in DataFrame reductions (with 'numeric_only=None') is deprecated; in a future version this will raise TypeError.  Select only valid columns before calling the reduction.\n",
      "  X_test.fillna(X_test.mean(), inplace=True)\n"
     ]
    },
    {
     "name": "stdout",
     "output_type": "stream",
     "text": [
      "Test after Mean Imputation (70608, 5) (70608,)\n",
      "['gender', 'usertype']\n",
      "Now running model is .... birthyear\n",
      "Train (282432, 5) (282432,)\n",
      "Test (70608, 5) (70608,)\n",
      "Train set after Amputation (282432, 5)\n",
      "X_train Amputed value count of varaible  28243\n",
      "Test set after Amputation (70608, 5)\n",
      "X_test Amputed value count of varaible  7061\n",
      "Simulate Imputation for Mean\n"
     ]
    },
    {
     "name": "stderr",
     "output_type": "stream",
     "text": [
      "C:\\Users\\Hinakoushar\\AppData\\Local\\Temp\\ipykernel_28292\\3010668567.py:35: FutureWarning: Dropping of nuisance columns in DataFrame reductions (with 'numeric_only=None') is deprecated; in a future version this will raise TypeError.  Select only valid columns before calling the reduction.\n",
      "  X_train.fillna(X_train.mean(), inplace=True)\n"
     ]
    },
    {
     "name": "stdout",
     "output_type": "stream",
     "text": [
      "Train after Mean Imputation (282432, 5) (282432,)\n"
     ]
    },
    {
     "name": "stderr",
     "output_type": "stream",
     "text": [
      "C:\\Users\\Hinakoushar\\AppData\\Local\\Temp\\ipykernel_28292\\3010668567.py:37: FutureWarning: Dropping of nuisance columns in DataFrame reductions (with 'numeric_only=None') is deprecated; in a future version this will raise TypeError.  Select only valid columns before calling the reduction.\n",
      "  X_test.fillna(X_test.mean(), inplace=True)\n"
     ]
    },
    {
     "name": "stdout",
     "output_type": "stream",
     "text": [
      "Test after Mean Imputation (70608, 5) (70608,)\n",
      "['gender', 'usertype']\n",
      "Now running model is .... usertype\n",
      "Train (282432, 5) (282432,)\n",
      "Test (70608, 5) (70608,)\n",
      "Train set after Amputation (282432, 5)\n",
      "X_train Amputed value count of varaible  28243\n",
      "Test set after Amputation (70608, 5)\n",
      "X_test Amputed value count of varaible  7061\n",
      "Simulate Imputation for Mean\n"
     ]
    },
    {
     "name": "stderr",
     "output_type": "stream",
     "text": [
      "C:\\Users\\Hinakoushar\\AppData\\Local\\Temp\\ipykernel_28292\\3010668567.py:35: FutureWarning: Dropping of nuisance columns in DataFrame reductions (with 'numeric_only=None') is deprecated; in a future version this will raise TypeError.  Select only valid columns before calling the reduction.\n",
      "  X_train.fillna(X_train.mean(), inplace=True)\n"
     ]
    },
    {
     "name": "stdout",
     "output_type": "stream",
     "text": [
      "Train after Mean Imputation (282432, 5) (282432,)\n"
     ]
    },
    {
     "name": "stderr",
     "output_type": "stream",
     "text": [
      "C:\\Users\\Hinakoushar\\AppData\\Local\\Temp\\ipykernel_28292\\3010668567.py:37: FutureWarning: Dropping of nuisance columns in DataFrame reductions (with 'numeric_only=None') is deprecated; in a future version this will raise TypeError.  Select only valid columns before calling the reduction.\n",
      "  X_test.fillna(X_test.mean(), inplace=True)\n"
     ]
    },
    {
     "name": "stdout",
     "output_type": "stream",
     "text": [
      "Test after Mean Imputation (70608, 5) (70608,)\n",
      "['gender', 'usertype']\n"
     ]
    }
   ],
   "source": [
    "bootstrap_data_mean = {}\n",
    "for var in features_for_amputation:\n",
    "    print(\"Now running model is ....\", var)\n",
    "    X_train, X_test, y_train, y_test = split_dataset(df)\n",
    "    X_train , y_train, X_test , y_test = ampute_each_variables(var,\"mean\",X_train,y_train,X_test,y_test)\n",
    "    X_train, X_test = one_hot_encoding(X_train,X_test)\n",
    "    model_lr = LinearRegression(fit_intercept=True)\n",
    "    rng = np.random.RandomState(1234)\n",
    "    idx = np.arange(y_train.shape[0])\n",
    "    bootstarp_train_accuracies = {}\n",
    "    for i in range(501):\n",
    "        train_idx = rng.choice(idx, size=idx.shape[0], replace=True)\n",
    "        test_idx = np.setdiff1d(idx, train_idx, assume_unique=False)\n",
    "        boot_train_X, boot_train_y = X_train.iloc[train_idx], y_train.iloc[train_idx]\n",
    "        boot_test_X, boot_test_y = X_train.iloc[test_idx], y_train.iloc[test_idx]\n",
    "        model_lr.fit(boot_test_X, boot_test_y )\n",
    "        boot_y_pred = model_lr.predict(boot_test_X)\n",
    "        bootstarp_train_accuracies[i] = {\"RMSE\": np.sqrt(mean_squared_error(boot_test_y, boot_y_pred)),\n",
    "                                      \"R2\":r2_score(boot_test_y, boot_y_pred), \"intercept\":model_lr.intercept_}\n",
    "    R2 = []\n",
    "    RMSE = []\n",
    "    intercept = []\n",
    "    for i in range(501):\n",
    "        R2.append(bootstarp_train_accuracies[i]['R2'])\n",
    "        RMSE.append(bootstarp_train_accuracies[i]['RMSE'])\n",
    "        intercept.append(bootstarp_train_accuracies[i]['intercept'])\n",
    "    bootstrap_data_mean[var] = {\"R2\": [np.percentile(R2, 2.5), np.percentile(R2, 97.5)],\n",
    "                         \"RMSE\": [np.percentile(RMSE, 2.5), np.percentile(RMSE, 97.5)],\n",
    "                         \"intercept\": [np.percentile(intercept, 2.5), np.percentile(intercept, 97.5)]}"
   ]
  },
  {
   "cell_type": "code",
   "execution_count": 112,
   "id": "6c5ecb5b",
   "metadata": {},
   "outputs": [
    {
     "data": {
      "text/plain": [
       "{'gender': {'R2': [0.1700662638910192, 0.18357051996191937],\n",
       "  'RMSE': [649.8484696300372, 682.1920598357341],\n",
       "  'intercept': [3797.3718626481427, 4923.946610684054]},\n",
       " 'dist': {'R2': [0.16778358892726325, 0.18086761886874342],\n",
       "  'RMSE': [650.9444334981852, 683.2606155151748],\n",
       "  'intercept': [3559.4347627576713, 4706.78902112447]},\n",
       " 'hour': {'R2': [0.170165103621014, 0.1835192990876529],\n",
       "  'RMSE': [649.8157238910101, 682.1865055773817],\n",
       "  'intercept': [3712.7564578599354, 4846.451810941811]},\n",
       " 'birthyear': {'R2': [0.170281513662499, 0.18374532332964283],\n",
       "  'RMSE': [649.7480810186221, 682.1293325139047],\n",
       "  'intercept': [3710.858051283004, 4951.740677792273]},\n",
       " 'usertype': {'R2': [0.1576918683829046, 0.17160917330829317],\n",
       "  'RMSE': [654.963145652195, 686.9468830945938],\n",
       "  'intercept': [2989.2880572956933, 4173.116349938559]}}"
      ]
     },
     "execution_count": 112,
     "metadata": {},
     "output_type": "execute_result"
    }
   ],
   "source": [
    "bootstrap_data_mean"
   ]
  },
  {
   "cell_type": "markdown",
   "id": "a243af61",
   "metadata": {},
   "source": [
    "## Sampling Replacement Imputation"
   ]
  },
  {
   "cell_type": "code",
   "execution_count": 113,
   "id": "220dd637",
   "metadata": {},
   "outputs": [
    {
     "name": "stdout",
     "output_type": "stream",
     "text": [
      "Now model is running for varaible ==== gender\n",
      "Train (282432, 5) (282432,)\n",
      "Test (70608, 5) (70608,)\n",
      "Train set after Amputation (282432, 5)\n",
      "X_train Amputed value count of varaible  28243\n",
      "Test set after Amputation (70608, 5)\n",
      "X_test Amputed value count of varaible  7061\n",
      "Simple Imputation using sampling\n",
      "['gender', 'usertype']\n",
      "2023-02-19 13:27:35.294936\n",
      "2023-02-19 13:27:35.366505\n",
      "Now model is running for varaible ==== dist\n",
      "Train (282432, 5) (282432,)\n",
      "Test (70608, 5) (70608,)\n",
      "Train set after Amputation (282432, 5)\n",
      "X_train Amputed value count of varaible  28243\n",
      "Test set after Amputation (70608, 5)\n",
      "X_test Amputed value count of varaible  7061\n",
      "Simple Imputation using sampling\n",
      "['gender', 'usertype']\n",
      "2023-02-19 13:27:36.317276\n",
      "2023-02-19 13:27:36.378277\n",
      "Now model is running for varaible ==== hour\n",
      "Train (282432, 5) (282432,)\n",
      "Test (70608, 5) (70608,)\n",
      "Train set after Amputation (282432, 5)\n",
      "X_train Amputed value count of varaible  28243\n",
      "Test set after Amputation (70608, 5)\n",
      "X_test Amputed value count of varaible  7061\n",
      "Simple Imputation using sampling\n",
      "['gender', 'usertype']\n",
      "2023-02-19 13:27:37.308431\n",
      "2023-02-19 13:27:37.378030\n",
      "Now model is running for varaible ==== birthyear\n",
      "Train (282432, 5) (282432,)\n",
      "Test (70608, 5) (70608,)\n",
      "Train set after Amputation (282432, 5)\n",
      "X_train Amputed value count of varaible  28243\n",
      "Test set after Amputation (70608, 5)\n",
      "X_test Amputed value count of varaible  7061\n",
      "Simple Imputation using sampling\n",
      "['gender', 'usertype']\n",
      "2023-02-19 13:27:38.355770\n",
      "2023-02-19 13:27:38.428390\n",
      "Now model is running for varaible ==== usertype\n",
      "Train (282432, 5) (282432,)\n",
      "Test (70608, 5) (70608,)\n",
      "Train set after Amputation (282432, 5)\n",
      "X_train Amputed value count of varaible  28243\n",
      "Test set after Amputation (70608, 5)\n",
      "X_test Amputed value count of varaible  7061\n",
      "Simple Imputation using sampling\n",
      "['gender', 'usertype']\n",
      "2023-02-19 13:27:39.406299\n",
      "2023-02-19 13:27:39.481279\n"
     ]
    }
   ],
   "source": [
    "model_metrics_sample ={}\n",
    "for var in features_for_amputation:\n",
    "    print(\"Now model is running for varaible ====\", var)\n",
    "    X_train, X_test, y_train, y_test = split_dataset(df)\n",
    "    X_train , y_train, X_test , y_test = ampute_each_variables(var,\"sample\",X_train,y_train,X_test,y_test)\n",
    "    X_train, X_test = one_hot_encoding(X_train,X_test)\n",
    "    model_reg = model_evaluation(X_train,y_train)\n",
    "    y_pred = model_reg.predict(X_test)\n",
    "    if(var == 'gender'):\n",
    "        for v in cat_gender:\n",
    "            mu_train = X_train[v].mean()\n",
    "            sigma_train = X_train[v].std()\n",
    "            mu_test = X_test[v].mean()\n",
    "            sigma_test = X_test[v].std()\n",
    "            model_metrics_sample[v] = {\"MAE\":mean_absolute_error(y_test, y_pred),\"MSE\":mean_squared_error(y_test, y_pred),\n",
    "                          \"RMSE\":np.sqrt(mean_squared_error(y_test, y_pred)),\"R2\":r2_score(y_test, y_pred),\n",
    "                            \"intercept\":model_reg.intercept_,\n",
    "                          \"Mu_train\":mu_train, \"sigma_train\":sigma_train,\n",
    "                          \"Mu_test\":mu_test, \"sigma_test\":sigma_test}\n",
    "    elif(var == 'usertype'):\n",
    "        for v in cat_usertype:\n",
    "            mu_train = X_train[v].mean()\n",
    "            sigma_train = X_train[v].std()\n",
    "            mu_test = X_test[v].mean()\n",
    "            sigma_test = X_test[v].std()\n",
    "            model_metrics_sample[v] = {\"MAE\":mean_absolute_error(y_test, y_pred),\"MSE\":mean_squared_error(y_test, y_pred),\n",
    "                          \"RMSE\":np.sqrt(mean_squared_error(y_test, y_pred)),\"R2\":r2_score(y_test, y_pred),\n",
    "                            \"intercept\":model_reg.intercept_,\n",
    "                          \"Mu_train\":mu_train, \"sigma_train\":sigma_train,\n",
    "                          \"Mu_test\":mu_test, \"sigma_test\":sigma_test}\n",
    "    else:\n",
    "        mu_train = X_train[var].mean()\n",
    "        sigma_train = X_train[var].std()\n",
    "        mu_test = X_test[var].mean()\n",
    "        sigma_test = X_test[var].std()\n",
    "        model_metrics_sample[var] = {\"MAE\":mean_absolute_error(y_test, y_pred),\"MSE\":mean_squared_error(y_test, y_pred),\n",
    "                              \"RMSE\":np.sqrt(mean_squared_error(y_test, y_pred)),\"R2\":r2_score(y_test, y_pred),\n",
    "                               \"intercept\":model_reg.intercept_,\n",
    "                              \"Mu_train\":mu_train, \"sigma_train\":sigma_train,\n",
    "                              \"Mu_test\":mu_test, \"sigma_test\":sigma_test}\n",
    "    del X_train\n",
    "    del X_test\n",
    "    del y_train\n",
    "    del y_test"
   ]
  },
  {
   "cell_type": "code",
   "execution_count": 114,
   "id": "c349eb22",
   "metadata": {},
   "outputs": [
    {
     "data": {
      "text/plain": [
       "{'gender_female': {'MAE': 278.76076998898355,\n",
       "  'MSE': 429156.02409157454,\n",
       "  'RMSE': 655.100010755285,\n",
       "  'R2': 0.16741004124804404,\n",
       "  'intercept': 4517.511059910166,\n",
       "  'Mu_train': 0.2130813788805801,\n",
       "  'sigma_train': 0.4094854070041289,\n",
       "  'Mu_test': 0.21116587355540448,\n",
       "  'sigma_test': 0.408138709980046},\n",
       " 'gender_male': {'MAE': 278.76076998898355,\n",
       "  'MSE': 429156.02409157454,\n",
       "  'RMSE': 655.100010755285,\n",
       "  'R2': 0.16741004124804404,\n",
       "  'intercept': 4517.511059910166,\n",
       "  'Mu_train': 0.7269077158395649,\n",
       "  'sigma_train': 0.44554864085151974,\n",
       "  'Mu_test': 0.7298889644232948,\n",
       "  'sigma_test': 0.44402010795404767},\n",
       " 'gender_unknown': {'MAE': 278.76076998898355,\n",
       "  'MSE': 429156.02409157454,\n",
       "  'RMSE': 655.100010755285,\n",
       "  'R2': 0.16741004124804404,\n",
       "  'intercept': 4517.511059910166,\n",
       "  'Mu_train': 0.060010905279854976,\n",
       "  'sigma_train': 0.23750746568501435,\n",
       "  'Mu_test': 0.0589451620213007,\n",
       "  'sigma_test': 0.23552370479563514},\n",
       " 'dist': {'MAE': 286.45448848217734,\n",
       "  'MSE': 432069.9376809045,\n",
       "  'RMSE': 657.320270249522,\n",
       "  'R2': 0.1617568637113136,\n",
       "  'intercept': 4001.055412114822,\n",
       "  'Mu_train': 0.7846422274582016,\n",
       "  'sigma_train': 0.5432903957779815,\n",
       "  'Mu_test': 0.7824346834659238,\n",
       "  'sigma_test': 0.5403040746875721},\n",
       " 'hour': {'MAE': 278.83236431806034,\n",
       "  'MSE': 429111.9555126809,\n",
       "  'RMSE': 655.0663748908815,\n",
       "  'R2': 0.1674955370915685,\n",
       "  'intercept': 4247.846498959255,\n",
       "  'Mu_train': 13.630934171765238,\n",
       "  'sigma_train': 5.15449225875592,\n",
       "  'Mu_test': 13.621161907999094,\n",
       "  'sigma_test': 5.161991919524151},\n",
       " 'birthyear': {'MAE': 278.6698739214603,\n",
       "  'MSE': 429046.1796312413,\n",
       "  'RMSE': 655.0161674579043,\n",
       "  'R2': 0.16762314648148813,\n",
       "  'intercept': 3928.5412817428382,\n",
       "  'Mu_train': 1980.4457497733968,\n",
       "  'sigma_train': 10.106526510898506,\n",
       "  'Mu_test': 1980.391173804668,\n",
       "  'sigma_test': 10.055897549394137},\n",
       " 'usertype_Customer': {'MAE': 282.97614847484635,\n",
       "  'MSE': 438765.0675647037,\n",
       "  'RMSE': 662.3934386485903,\n",
       "  'R2': 0.14876788627451576,\n",
       "  'intercept': 3714.3964141924653,\n",
       "  'Mu_train': 0.062103444368910035,\n",
       "  'sigma_train': 0.24134376478268046,\n",
       "  'Mu_test': 0.06054554724677091,\n",
       "  'sigma_test': 0.23849651892249615},\n",
       " 'usertype_Subscriber': {'MAE': 282.97614847484635,\n",
       "  'MSE': 438765.0675647037,\n",
       "  'RMSE': 662.3934386485903,\n",
       "  'R2': 0.14876788627451576,\n",
       "  'intercept': 3714.3964141924653,\n",
       "  'Mu_train': 0.93789655563109,\n",
       "  'sigma_train': 0.24134376478268046,\n",
       "  'Mu_test': 0.9394544527532291,\n",
       "  'sigma_test': 0.23849651892249613}}"
      ]
     },
     "execution_count": 114,
     "metadata": {},
     "output_type": "execute_result"
    }
   ],
   "source": [
    "model_metrics_sample"
   ]
  },
  {
   "cell_type": "markdown",
   "id": "18f9072f",
   "metadata": {},
   "source": [
    "### Bootstarp for Sample"
   ]
  },
  {
   "cell_type": "code",
   "execution_count": 115,
   "id": "d816ae80",
   "metadata": {},
   "outputs": [
    {
     "name": "stdout",
     "output_type": "stream",
     "text": [
      "Now running model is .... gender\n",
      "Train (282432, 5) (282432,)\n",
      "Test (70608, 5) (70608,)\n",
      "Train set after Amputation (282432, 5)\n",
      "X_train Amputed value count of varaible  28243\n",
      "Test set after Amputation (70608, 5)\n",
      "X_test Amputed value count of varaible  7061\n",
      "Simple Imputation using sampling\n",
      "['gender', 'usertype']\n",
      "Now running model is .... dist\n",
      "Train (282432, 5) (282432,)\n",
      "Test (70608, 5) (70608,)\n",
      "Train set after Amputation (282432, 5)\n",
      "X_train Amputed value count of varaible  28243\n",
      "Test set after Amputation (70608, 5)\n",
      "X_test Amputed value count of varaible  7061\n",
      "Simple Imputation using sampling\n",
      "['gender', 'usertype']\n",
      "Now running model is .... hour\n",
      "Train (282432, 5) (282432,)\n",
      "Test (70608, 5) (70608,)\n",
      "Train set after Amputation (282432, 5)\n",
      "X_train Amputed value count of varaible  28243\n",
      "Test set after Amputation (70608, 5)\n",
      "X_test Amputed value count of varaible  7061\n",
      "Simple Imputation using sampling\n",
      "['gender', 'usertype']\n",
      "Now running model is .... birthyear\n",
      "Train (282432, 5) (282432,)\n",
      "Test (70608, 5) (70608,)\n",
      "Train set after Amputation (282432, 5)\n",
      "X_train Amputed value count of varaible  28243\n",
      "Test set after Amputation (70608, 5)\n",
      "X_test Amputed value count of varaible  7061\n",
      "Simple Imputation using sampling\n",
      "['gender', 'usertype']\n",
      "Now running model is .... usertype\n",
      "Train (282432, 5) (282432,)\n",
      "Test (70608, 5) (70608,)\n",
      "Train set after Amputation (282432, 5)\n",
      "X_train Amputed value count of varaible  28243\n",
      "Test set after Amputation (70608, 5)\n",
      "X_test Amputed value count of varaible  7061\n",
      "Simple Imputation using sampling\n",
      "['gender', 'usertype']\n"
     ]
    }
   ],
   "source": [
    "bootstrap_data_sample ={}\n",
    "for var in features_for_amputation:\n",
    "    print(\"Now running model is ....\", var)\n",
    "    X_train, X_test, y_train, y_test = split_dataset(df)\n",
    "    X_train , y_train, X_test , y_test = ampute_each_variables(var,\"sample\",X_train,y_train,X_test,y_test)\n",
    "    X_train, X_test = one_hot_encoding(X_train,X_test)\n",
    "    model_lr = LinearRegression(fit_intercept=True)\n",
    "    rng = np.random.RandomState(1234)\n",
    "    idx = np.arange(y_train.shape[0])\n",
    "    bootstarp_train_accuracies = {}\n",
    "    for i in range(501):\n",
    "        train_idx = rng.choice(idx, size=idx.shape[0], replace=True)\n",
    "        test_idx = np.setdiff1d(idx, train_idx, assume_unique=False)\n",
    "        boot_train_X, boot_train_y = X_train.iloc[train_idx], y_train.iloc[train_idx]\n",
    "        boot_test_X, boot_test_y = X_train.iloc[test_idx], y_train.iloc[test_idx]\n",
    "        model_lr.fit(boot_test_X, boot_test_y )\n",
    "        boot_y_pred = model_lr.predict(boot_test_X)\n",
    "        bootstarp_train_accuracies[i] = {\"RMSE\": np.sqrt(mean_squared_error(boot_test_y, boot_y_pred)),\n",
    "                                      \"R2\":r2_score(boot_test_y, boot_y_pred), \"intercept\":model_lr.intercept_}\n",
    "    R2 = []\n",
    "    RMSE = []\n",
    "    intercept = []\n",
    "    for i in range(501):\n",
    "        R2.append(bootstarp_train_accuracies[i]['R2'])\n",
    "        RMSE.append(bootstarp_train_accuracies[i]['RMSE'])\n",
    "        intercept.append(bootstarp_train_accuracies[i]['intercept'])\n",
    "    bootstrap_data_sample[var] = {\"R2\": [np.percentile(R2, 2.5), np.percentile(R2, 97.5)],\n",
    "                         \"RMSE\": [np.percentile(RMSE, 2.5), np.percentile(RMSE, 97.5)],\n",
    "                         \"intercept\": [np.percentile(intercept, 2.5), np.percentile(intercept, 97.5)]}"
   ]
  },
  {
   "cell_type": "code",
   "execution_count": 116,
   "id": "98bcc51a",
   "metadata": {},
   "outputs": [
    {
     "data": {
      "text/plain": [
       "{'gender': {'R2': [0.1698543806696846, 0.18332535945308626],\n",
       "  'RMSE': [649.9251616738643, 682.275451812396],\n",
       "  'intercept': [3931.1548116314098, 5096.4652742285925]},\n",
       " 'dist': {'R2': [0.16537963764702812, 0.17849683671605704],\n",
       "  'RMSE': [651.9672195243456, 684.1042671968746],\n",
       "  'intercept': [3444.6521142479487, 4598.230480736644]},\n",
       " 'hour': {'R2': [0.17001266884351496, 0.18337376534128502],\n",
       "  'RMSE': [649.8948303836703, 682.2323406450054],\n",
       "  'intercept': [3703.991486917915, 4838.313142447543]},\n",
       " 'birthyear': {'R2': [0.1702223209679128, 0.18367958755592245],\n",
       "  'RMSE': [649.7698811628004, 682.1455282397708],\n",
       "  'intercept': [3370.6060523439673, 4557.4314102041135]},\n",
       " 'usertype': {'R2': [0.148283525129633, 0.16136721499136536],\n",
       "  'RMSE': [659.0175933284797, 691.0306534521352],\n",
       "  'intercept': [3142.625196729451, 4324.445531734245]}}"
      ]
     },
     "execution_count": 116,
     "metadata": {},
     "output_type": "execute_result"
    }
   ],
   "source": [
    "bootstrap_data_sample"
   ]
  }
 ],
 "metadata": {
  "kernelspec": {
   "display_name": "Python 3 (ipykernel)",
   "language": "python",
   "name": "python3"
  },
  "language_info": {
   "codemirror_mode": {
    "name": "ipython",
    "version": 3
   },
   "file_extension": ".py",
   "mimetype": "text/x-python",
   "name": "python",
   "nbconvert_exporter": "python",
   "pygments_lexer": "ipython3",
   "version": "3.9.13"
  }
 },
 "nbformat": 4,
 "nbformat_minor": 5
}
