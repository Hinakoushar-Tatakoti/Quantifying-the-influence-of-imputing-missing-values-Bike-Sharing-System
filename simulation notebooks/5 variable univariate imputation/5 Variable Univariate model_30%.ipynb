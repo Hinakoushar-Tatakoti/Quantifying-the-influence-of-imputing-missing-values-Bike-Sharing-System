{
 "cells": [
  {
   "cell_type": "code",
   "execution_count": 1,
   "id": "9aa8cb9c",
   "metadata": {},
   "outputs": [],
   "source": [
    "import datetime\n",
    "import os\n",
    "import random\n",
    "import matplotlib.pyplot as plt\n",
    "import pandas as pd\n",
    "import seaborn as sns\n",
    "import scipy\n",
    "import statsmodels.api as sm\n",
    "import pylab as py\n",
    "\n",
    "import numpy as np\n",
    "from sklearn.model_selection import train_test_split\n",
    "from sklearn.preprocessing import LabelEncoder\n",
    "from sklearn.preprocessing import OneHotEncoder\n",
    "from sklearn.metrics import mean_squared_error, mean_absolute_error,r2_score\n",
    "from sklearn.linear_model import LinearRegression\n",
    "\n",
    "import math\n",
    "import time\n",
    "import datetime\n",
    "from dython.nominal import associations\n",
    "from dython.nominal import identify_nominal_columns"
   ]
  },
  {
   "cell_type": "code",
   "execution_count": 2,
   "id": "c7c35869",
   "metadata": {},
   "outputs": [],
   "source": [
    "data = pd.read_csv(\"../../dataset/final_bike_sharing.csv\")"
   ]
  },
  {
   "cell_type": "code",
   "execution_count": 3,
   "id": "2dd15883",
   "metadata": {},
   "outputs": [],
   "source": [
    "cols = ['tripduration','gender','dist','hour','birthyear','usertype']"
   ]
  },
  {
   "cell_type": "code",
   "execution_count": 4,
   "id": "2d65e73f",
   "metadata": {},
   "outputs": [],
   "source": [
    "df = data[cols]"
   ]
  },
  {
   "cell_type": "markdown",
   "id": "7fb4cd7f",
   "metadata": {},
   "source": [
    "## Before Imputation the distributaion is "
   ]
  },
  {
   "cell_type": "code",
   "execution_count": 5,
   "id": "be66d8e4",
   "metadata": {},
   "outputs": [],
   "source": [
    "# for col in  ['tripduration','gender','dist','hour','birthyear']:\n",
    "#     np.random.seed(19680801)\n",
    "#     plt.figure(figsize=(20,8))\n",
    "#     mu = df[col].mean()\n",
    "#     sigma = df[col].std()\n",
    "#     x = df[col]\n",
    "#     num_bins = 500\n",
    "#     fig, ax = plt.subplots()\n",
    "#     # the histogram of the data\n",
    "#     n, bins, patches = ax.hist(x, num_bins, density=True)\n",
    "#     # add a 'best fit' line\n",
    "#     y = ((1 / (np.sqrt(2 * np.pi) * sigma)) *\n",
    "#          np.exp(-0.5 * (1 / sigma * (bins - mu))**2))\n",
    "#     ax.plot(bins, y, '--')\n",
    "#     ax.set_xlabel(col)\n",
    "#     ax.set_ylabel('Probability density')\n",
    "#     ax.set_title(f'Histogram of IQ: {mu}, {sigma}')\n",
    "#     plt.plot([mu,mu],[0, 2], lw=1.8, label=\"mean\")\n",
    "# #     plt.plot([sigma,sigma],[0, 2], lw=1.8, label=\"std\")\n",
    "# #     ax.set_ylim([0,2.5])\n",
    "# #     ax.set_xlim([0, 6])\n",
    "#     # Tweak spacing to prevent clipping of ylabel\n",
    "#     fig.tight_layout()\n",
    "#     plt.show()"
   ]
  },
  {
   "cell_type": "code",
   "execution_count": 6,
   "id": "fba878f6",
   "metadata": {},
   "outputs": [],
   "source": [
    "# for col in df.columns:\n",
    "#     norm_cdf = scipy.stats.norm.cdf(df[col]) # calculate the cdf - also discrete\n",
    "#     # plot the cdf\n",
    "#     sns.lineplot(x=df[col], y=norm_cdf)\n",
    "#     plt.show()\n",
    "#     sm.qqplot(df[col], line ='45')\n",
    "#     py.show()\n"
   ]
  },
  {
   "cell_type": "code",
   "execution_count": 7,
   "id": "eb970929",
   "metadata": {},
   "outputs": [
    {
     "name": "stdout",
     "output_type": "stream",
     "text": [
      "The variable tripduration has mean = 525.9314525266259 and standard deviation =731.0970649533257 \n",
      "The variable dist has mean = 0.7842291293398377 and standard deviation =0.5421989613484405 \n",
      "The variable hour has mean = 13.633500453206436 and standard deviation =5.156725828688158 \n",
      "The variable birthyear has mean = 1980.439108882846 and standard deviation =10.094119857977768 \n",
      "The variable usertype categorical type mode is  0    Subscriber\n",
      "Name: usertype, dtype: object\n",
      "gender mode is :  0    male\n",
      "Name: gender, dtype: object\n"
     ]
    }
   ],
   "source": [
    "for col in  ['tripduration','dist','hour','birthyear']:\n",
    "    mu = df[col].mean()\n",
    "    sigma = df[col].std()\n",
    "    print(f\"The variable {col} has mean = {mu} and standard deviation ={sigma} \")\n",
    "print(f\"The variable usertype categorical type mode is \", df['usertype'].mode() )  \n",
    "print(\"gender mode is : \" , df['gender'].mode() )"
   ]
  },
  {
   "cell_type": "code",
   "execution_count": 8,
   "id": "51286e84",
   "metadata": {},
   "outputs": [],
   "source": [
    "def split_dataset(df):\n",
    "    X = df.drop('tripduration', axis=1)\n",
    "    y = df['tripduration']\n",
    "\n",
    "    X_train, X_test, y_train, y_test = train_test_split(X, y, test_size=0.2, random_state=42)\n",
    "    print('Train', X_train.shape, y_train.shape)\n",
    "    print('Test', X_test.shape, y_test.shape)\n",
    "    return X_train, X_test, y_train, y_test"
   ]
  },
  {
   "cell_type": "code",
   "execution_count": 9,
   "id": "68a18fb2",
   "metadata": {},
   "outputs": [],
   "source": [
    "## get the sample size such as 5%, 10%,20% etc\n",
    "def get_sample_size(df, perc):\n",
    "    return round(perc/100 * df.shape[0])\n",
    "\n",
    "def get_an_index(index):\n",
    "    li = []\n",
    "    for i in index:\n",
    "        li.append(i)\n",
    "    return li   \n",
    "\n",
    "def ampute_nan_values(X_train,col_name, perc):\n",
    "    random.seed(100)\n",
    "    index = get_an_index(X_train.index)\n",
    "    sample_size = get_sample_size(X_train, perc)\n",
    "    selected_index = random.sample(index, sample_size)\n",
    "    for i in selected_index:\n",
    "        if col_name in X_train.columns:\n",
    "            X_train.at[i,col_name]= np.NaN\n",
    "        else:\n",
    "            X_train.loc[i] = np.NaN\n",
    "    return X_train\n",
    "\n",
    "###====================####\n",
    "def convert_to_dataframe(y_train):\n",
    "    return pd.DataFrame(y_train)\n",
    "\n",
    "def convert_to_series(y_train):\n",
    "    return y_train.squeeze()\n",
    "\n",
    "def ampute_nan_values_drop(X_train,y_train,col_name, perc):\n",
    "    random.seed(100)\n",
    "    index = get_an_index(X_train.index)\n",
    "    sample_size = get_sample_size(X_train, perc)\n",
    "    selected_index = random.sample(index, sample_size)\n",
    "    y_train = convert_to_dataframe(y_train)\n",
    "    for i in selected_index:\n",
    "        if col_name in X_train.columns:\n",
    "            X_train.at[i,col_name]= np.NaN\n",
    "        else:\n",
    "            X_train.loc[i] = np.NaN\n",
    "        y_train.loc[i] = np.NaN\n",
    "    y_train = convert_to_series(y_train)\n",
    "    return X_train, y_train"
   ]
  },
  {
   "cell_type": "code",
   "execution_count": 10,
   "id": "82bcd4f5",
   "metadata": {},
   "outputs": [],
   "source": [
    "def sample_imputation_X(var,X_train,X_test):\n",
    "    # extract a random sample\n",
    "    random_sample_train = X_train[var].dropna().sample(X_train[var].isnull().sum(), random_state=0)\n",
    "    random_sample_test = X_test[var].dropna().sample(X_test[var].isnull().sum(), random_state=0)\n",
    "     # re-index the randomly extracted sample\n",
    "    random_sample_train.index = X_train[X_train[var].isnull()].index\n",
    "    random_sample_test.index = X_test[X_test[var].isnull()].index\n",
    "\n",
    "    # replace the NA\n",
    "    X_train.loc[X_train[var].isnull(), var] = random_sample_train\n",
    "    X_test.loc[X_test[var].isnull(), var] = random_sample_test\n",
    "    return X_train, X_test"
   ]
  },
  {
   "cell_type": "code",
   "execution_count": 11,
   "id": "e13ef9a3",
   "metadata": {},
   "outputs": [],
   "source": [
    "def one_hot_encoding(X_train,X_test):\n",
    "    categorical_features=identify_nominal_columns(X_train)\n",
    "    print(categorical_features)\n",
    "    one_hot_encoded_data_train = pd.get_dummies(X_train, columns = categorical_features)\n",
    "    one_hot_encoded_data_test = pd.get_dummies(X_test, columns = categorical_features)\n",
    "    return one_hot_encoded_data_train,one_hot_encoded_data_test"
   ]
  },
  {
   "cell_type": "code",
   "execution_count": 12,
   "id": "c4c3a36c",
   "metadata": {},
   "outputs": [],
   "source": [
    "def model_evaluation(X_train,y_train):\n",
    "    print(datetime.datetime.now())\n",
    "    model_lr = LinearRegression(fit_intercept=True).fit(X_train, y_train) \n",
    "    print(datetime.datetime.now())\n",
    "    return model_lr"
   ]
  },
  {
   "cell_type": "code",
   "execution_count": 13,
   "id": "da36f77a",
   "metadata": {},
   "outputs": [],
   "source": [
    "def ampute_each_variables(variable, method,X_train,y_train,X_test,y_test):\n",
    "    if method == \"remove\":\n",
    "        X_train , y_train = ampute_nan_values_drop(X_train,y_train,variable,perc=30)\n",
    "        print('Train set after Amputation', X_train.shape, y_train.shape)\n",
    "        print(\"y_train Amputed value count of varaible \", y_train.isnull().sum())\n",
    "        print(\"X_train Amputed value count of varaible \", X_train.isnull().sum()[variable])\n",
    "        X_test , y_test = ampute_nan_values_drop(X_test,y_test,variable,perc=30)\n",
    "        print('Test set after Amputation', X_test.shape, y_test.shape)\n",
    "        print(\"y_test Amputed value count of varaible \", y_test.isnull().sum())\n",
    "        print(\"X_test Amputed value count of varaible \", X_test.isnull().sum()[variable])\n",
    "    else:\n",
    "        X_train = ampute_nan_values(X_train,variable,perc=30)\n",
    "        print('Train set after Amputation', X_train.shape)\n",
    "        print(\"X_train Amputed value count of varaible \", X_train.isnull().sum()[variable])\n",
    "        X_test = ampute_nan_values(X_test,variable,perc=30)\n",
    "        print('Test set after Amputation', X_test.shape)\n",
    "        print(\"X_test Amputed value count of varaible \", X_test.isnull().sum()[variable])\n",
    "    \n",
    "    if method == \"remove\":\n",
    "        print(\"Simulate Imputation for NA\")\n",
    "        X_train.dropna(axis=0, inplace=True)\n",
    "        y_train.dropna(inplace=True)\n",
    "        print('Train after NA value removal Imputation', X_train.shape, y_train.shape)\n",
    "        X_test.dropna(axis=0, inplace=True)\n",
    "        y_test.dropna(inplace=True)\n",
    "        print('Test after NA value removal Imputation', X_test.shape, y_test.shape)\n",
    "    if method == \"mode\":\n",
    "        print(\"Simulate Imputation for Mode\")\n",
    "        X_train.fillna(X_train.mode().iloc[0], inplace=True)\n",
    "        print('Train after Mode Imputation', X_train.shape, y_train.shape)\n",
    "        X_test.fillna(X_test.mode().iloc[0], inplace=True)\n",
    "        print('Test after Mode Imputation', X_test.shape, y_test.shape)\n",
    "    if method == \"mean\":\n",
    "        print(\"Simulate Imputation for Mean\")\n",
    "        X_train.fillna(X_train.mean(), inplace=True)\n",
    "        print('Train after Mean Imputation', X_train.shape, y_train.shape)\n",
    "        X_test.fillna(X_test.mean(), inplace=True)\n",
    "        print('Test after Mean Imputation', X_test.shape, y_test.shape)\n",
    "    if method == \"sample\":\n",
    "        print(\"Simple Imputation using sampling\")\n",
    "        X_train, X_test = sample_imputation_X(variable, X_train, X_test)        \n",
    "            \n",
    "    return X_train , y_train, X_test , y_test"
   ]
  },
  {
   "cell_type": "code",
   "execution_count": 14,
   "id": "dacafc9b",
   "metadata": {},
   "outputs": [],
   "source": [
    "def visualize_dist(df, col):\n",
    "    np.random.seed(19680801)\n",
    "    plt.figure(figsize=(20,8))\n",
    "    mu = df[col].mean()\n",
    "    sigma = df[col].std()\n",
    "    x = df[col]\n",
    "    num_bins = 500\n",
    "    fig, ax = plt.subplots()\n",
    "    # the histogram of the data\n",
    "    n, bins, patches = ax.hist(x, num_bins, density=True)\n",
    "    # add a 'best fit' line\n",
    "    y = ((1 / (np.sqrt(2 * np.pi) * sigma)) *\n",
    "         np.exp(-0.5 * (1 / sigma * (bins - mu))**2))\n",
    "    ax.plot(bins, y, '--')\n",
    "    ax.set_xlabel(col)\n",
    "    ax.set_ylabel('Probability density')\n",
    "    ax.set_title(f'Histogram of IQ: {mu}, {sigma}')\n",
    "    plt.plot([mu,mu],[0, 2], lw=1.8, label=\"mean\")\n",
    "    #     plt.plot([sigma,sigma],[0, 2], lw=1.8, label=\"std\")\n",
    "    #     ax.set_ylim([0,2.5])\n",
    "    #     ax.set_xlim([0, 6])\n",
    "    # Tweak spacing to prevent clipping of ylabel\n",
    "    fig.tight_layout()\n",
    "    plt.show()"
   ]
  },
  {
   "cell_type": "code",
   "execution_count": 15,
   "id": "1928c7ab",
   "metadata": {},
   "outputs": [],
   "source": [
    "features_for_amputation =['gender','dist','hour','birthyear','usertype']"
   ]
  },
  {
   "cell_type": "markdown",
   "id": "af059b5d",
   "metadata": {},
   "source": [
    "## Calculate mean and std before imputation"
   ]
  },
  {
   "cell_type": "code",
   "execution_count": 16,
   "id": "d9173084",
   "metadata": {},
   "outputs": [
    {
     "name": "stdout",
     "output_type": "stream",
     "text": [
      "Train (282432, 5) (282432,)\n",
      "Test (70608, 5) (70608,)\n"
     ]
    }
   ],
   "source": [
    "X_train, X_test, y_train, y_test = split_dataset(df)"
   ]
  },
  {
   "cell_type": "code",
   "execution_count": 17,
   "id": "2ddd530a",
   "metadata": {},
   "outputs": [
    {
     "name": "stdout",
     "output_type": "stream",
     "text": [
      "The variable dist has mean = 0.7848814720776504 and standard deviation =0.54278813457282 \n",
      "The variable hour has mean = 13.633274558123725 and standard deviation =5.155597162884377 \n",
      "The variable birthyear has mean = 1980.450076478586 and standard deviation =10.101242979840942 \n",
      "The variable usertype has mode  0    Subscriber\n",
      "Name: usertype, dtype: object\n",
      "The variable gender categorical type mode is  0    male\n",
      "Name: gender, dtype: object\n"
     ]
    }
   ],
   "source": [
    "for col in  ['dist','hour','birthyear']:\n",
    "    mu = X_train[col].mean()\n",
    "    sigma = X_train[col].std()\n",
    "    print(f\"The variable {col} has mean = {mu} and standard deviation ={sigma} \")\n",
    "print(f\"The variable usertype has mode \",  X_train['usertype'].mode())\n",
    "print(f\"The variable gender categorical type mode is \", X_train['gender'].mode() )"
   ]
  },
  {
   "cell_type": "code",
   "execution_count": 18,
   "id": "5e98df2e",
   "metadata": {},
   "outputs": [
    {
     "name": "stdout",
     "output_type": "stream",
     "text": [
      "The variable dist has mean = 0.7816197583886165 and standard deviation =0.539831786399696 \n",
      "The variable hour has mean = 13.634404033537276 and standard deviation =5.161274457822756 \n",
      "The variable birthyear has mean = 1980.3952384998868 and standard deviation =10.065528836178935 \n",
      "The variable usertype has mode  0    Subscriber\n",
      "Name: usertype, dtype: object\n",
      "The variable gender categorical type mode is  0    male\n",
      "Name: gender, dtype: object\n"
     ]
    }
   ],
   "source": [
    "for col in ['dist','hour','birthyear']:\n",
    "    mu = X_test[col].mean()\n",
    "    sigma = X_test[col].std()\n",
    "    print(f\"The variable {col} has mean = {mu} and standard deviation ={sigma} \")\n",
    "print(f\"The variable usertype has mode \",  X_test['usertype'].mode())\n",
    "print(f\"The variable gender categorical type mode is \", X_test['gender'].mode() ) "
   ]
  },
  {
   "cell_type": "code",
   "execution_count": 19,
   "id": "602288bd",
   "metadata": {},
   "outputs": [],
   "source": [
    "cat_gender = ['gender_female', 'gender_male','gender_unknown']\n",
    "cat_usertype = ['usertype_Customer', 'usertype_Subscriber']"
   ]
  },
  {
   "cell_type": "markdown",
   "id": "5c66ca11",
   "metadata": {},
   "source": [
    "## Imputation for NA ( drop NA values)"
   ]
  },
  {
   "cell_type": "code",
   "execution_count": 20,
   "id": "0b78a92c",
   "metadata": {},
   "outputs": [
    {
     "name": "stdout",
     "output_type": "stream",
     "text": [
      "Now running model is .... gender\n",
      "Train (282432, 5) (282432,)\n",
      "Test (70608, 5) (70608,)\n",
      "Train set after Amputation (282432, 5) (282432,)\n",
      "y_train Amputed value count of varaible  84730\n",
      "X_train Amputed value count of varaible  84730\n",
      "Test set after Amputation (70608, 5) (70608,)\n",
      "y_test Amputed value count of varaible  21182\n",
      "X_test Amputed value count of varaible  21182\n",
      "Simulate Imputation for NA\n",
      "Train after NA value removal Imputation (197702, 5) (197702,)\n",
      "Test after NA value removal Imputation (49426, 5) (49426,)\n",
      "['gender', 'usertype']\n",
      "2023-02-19 15:14:07.840329\n",
      "2023-02-19 15:14:07.974071\n",
      "Now running model is .... dist\n",
      "Train (282432, 5) (282432,)\n",
      "Test (70608, 5) (70608,)\n",
      "Train set after Amputation (282432, 5) (282432,)\n",
      "y_train Amputed value count of varaible  84730\n",
      "X_train Amputed value count of varaible  84730\n",
      "Test set after Amputation (70608, 5) (70608,)\n",
      "y_test Amputed value count of varaible  21182\n",
      "X_test Amputed value count of varaible  21182\n",
      "Simulate Imputation for NA\n",
      "Train after NA value removal Imputation (197702, 5) (197702,)\n",
      "Test after NA value removal Imputation (49426, 5) (49426,)\n",
      "['gender', 'usertype']\n",
      "2023-02-19 15:14:16.009550\n",
      "2023-02-19 15:14:16.067646\n",
      "Now running model is .... hour\n",
      "Train (282432, 5) (282432,)\n",
      "Test (70608, 5) (70608,)\n",
      "Train set after Amputation (282432, 5) (282432,)\n",
      "y_train Amputed value count of varaible  84730\n",
      "X_train Amputed value count of varaible  84730\n",
      "Test set after Amputation (70608, 5) (70608,)\n",
      "y_test Amputed value count of varaible  21182\n",
      "X_test Amputed value count of varaible  21182\n",
      "Simulate Imputation for NA\n",
      "Train after NA value removal Imputation (197702, 5) (197702,)\n",
      "Test after NA value removal Imputation (49426, 5) (49426,)\n",
      "['gender', 'usertype']\n",
      "2023-02-19 15:14:23.929452\n",
      "2023-02-19 15:14:23.993256\n",
      "Now running model is .... birthyear\n",
      "Train (282432, 5) (282432,)\n",
      "Test (70608, 5) (70608,)\n",
      "Train set after Amputation (282432, 5) (282432,)\n",
      "y_train Amputed value count of varaible  84730\n",
      "X_train Amputed value count of varaible  84730\n",
      "Test set after Amputation (70608, 5) (70608,)\n",
      "y_test Amputed value count of varaible  21182\n",
      "X_test Amputed value count of varaible  21182\n",
      "Simulate Imputation for NA\n",
      "Train after NA value removal Imputation (197702, 5) (197702,)\n",
      "Test after NA value removal Imputation (49426, 5) (49426,)\n",
      "['gender', 'usertype']\n",
      "2023-02-19 15:14:31.713539\n",
      "2023-02-19 15:14:31.771065\n",
      "Now running model is .... usertype\n",
      "Train (282432, 5) (282432,)\n",
      "Test (70608, 5) (70608,)\n",
      "Train set after Amputation (282432, 5) (282432,)\n",
      "y_train Amputed value count of varaible  84730\n",
      "X_train Amputed value count of varaible  84730\n",
      "Test set after Amputation (70608, 5) (70608,)\n",
      "y_test Amputed value count of varaible  21182\n",
      "X_test Amputed value count of varaible  21182\n",
      "Simulate Imputation for NA\n",
      "Train after NA value removal Imputation (197702, 5) (197702,)\n",
      "Test after NA value removal Imputation (49426, 5) (49426,)\n",
      "['gender', 'usertype']\n",
      "2023-02-19 15:14:38.645499\n",
      "2023-02-19 15:14:38.691444\n"
     ]
    }
   ],
   "source": [
    "model_metrics ={}\n",
    "for var in features_for_amputation:\n",
    "    print(\"Now running model is ....\", var)\n",
    "    X_train, X_test, y_train, y_test = split_dataset(df)\n",
    "    X_train , y_train, X_test , y_test = ampute_each_variables(var,\"remove\",X_train,y_train,X_test,y_test)\n",
    "    X_train, X_test = one_hot_encoding(X_train,X_test)\n",
    "    model_reg = model_evaluation(X_train,y_train)\n",
    "    y_pred = model_reg.predict(X_test)\n",
    "    if(var == 'gender'):\n",
    "        for v in cat_gender:\n",
    "            mu_train = X_train[v].mean()\n",
    "            sigma_train = X_train[v].std()\n",
    "            mu_test = X_test[v].mean()\n",
    "            sigma_test = X_test[v].std()\n",
    "            model_metrics[v] = {\"MAE\":mean_absolute_error(y_test, y_pred),\"MSE\":mean_squared_error(y_test, y_pred),\n",
    "                          \"RMSE\":np.sqrt(mean_squared_error(y_test, y_pred)),\"R2\":r2_score(y_test, y_pred),\n",
    "                           \"intercept\":model_reg.intercept_,\n",
    "                          \"Mu_train\":mu_train, \"sigma_train\":sigma_train,\n",
    "                          \"Mu_test\":mu_test, \"sigma_test\":sigma_test}\n",
    "    elif(var == 'usertype'):\n",
    "        for v in cat_usertype:\n",
    "            mu_train = X_train[v].mean()\n",
    "            sigma_train = X_train[v].std()\n",
    "            mu_test = X_test[v].mean()\n",
    "            sigma_test = X_test[v].std()\n",
    "            model_metrics[v] = {\"MAE\":mean_absolute_error(y_test, y_pred),\"MSE\":mean_squared_error(y_test, y_pred),\n",
    "                          \"RMSE\":np.sqrt(mean_squared_error(y_test, y_pred)),\"R2\":r2_score(y_test, y_pred),\n",
    "                          \"intercept\":model_reg.intercept_,\n",
    "                          \"Mu_train\":mu_train, \"sigma_train\":sigma_train,\n",
    "                          \"Mu_test\":mu_test, \"sigma_test\":sigma_test}\n",
    "    else:\n",
    "        mu_train = X_train[var].mean()\n",
    "        sigma_train = X_train[var].std()\n",
    "        mu_test = X_test[var].mean()\n",
    "        sigma_test = X_test[var].std()\n",
    "        model_metrics[var] = {\"MAE\":mean_absolute_error(y_test, y_pred),\"MSE\":mean_squared_error(y_test, y_pred),\n",
    "                              \"RMSE\":np.sqrt(mean_squared_error(y_test, y_pred)),\"R2\":r2_score(y_test, y_pred),\n",
    "                               \"intercept\":model_reg.intercept_,\n",
    "                              \"Mu_train\":mu_train, \"sigma_train\":sigma_train,\n",
    "                              \"Mu_test\":mu_test, \"sigma_test\":sigma_test}\n",
    "    \n",
    "    del X_train\n",
    "    del X_test\n",
    "    del y_train\n",
    "    del y_test"
   ]
  },
  {
   "cell_type": "code",
   "execution_count": 21,
   "id": "a6a307d3",
   "metadata": {},
   "outputs": [
    {
     "data": {
      "text/plain": [
       "{'gender_female': {'MAE': 279.21711401617745,\n",
       "  'MSE': 420130.14623705694,\n",
       "  'RMSE': 648.1744720652433,\n",
       "  'R2': 0.17175428879313015,\n",
       "  'intercept': 4139.21243948069,\n",
       "  'Mu_train': 0.21241565588613165,\n",
       "  'sigma_train': 0.4090184485129352,\n",
       "  'Mu_test': 0.21213531339780684,\n",
       "  'sigma_test': 0.40882429450055874},\n",
       " 'gender_male': {'MAE': 279.21711401617745,\n",
       "  'MSE': 420130.14623705694,\n",
       "  'RMSE': 648.1744720652433,\n",
       "  'R2': 0.17175428879313015,\n",
       "  'intercept': 4139.21243948069,\n",
       "  'Mu_train': 0.7274787306147636,\n",
       "  'sigma_train': 0.44525771179413776,\n",
       "  'Mu_test': 0.7282604297333387,\n",
       "  'sigma_test': 0.44486085488313537},\n",
       " 'gender_unknown': {'MAE': 279.21711401617745,\n",
       "  'MSE': 420130.14623705694,\n",
       "  'RMSE': 648.1744720652433,\n",
       "  'R2': 0.17175428879313015,\n",
       "  'intercept': 4139.21243948069,\n",
       "  'Mu_train': 0.06010561349910471,\n",
       "  'sigma_train': 0.23768301259099936,\n",
       "  'Mu_test': 0.05960425686885445,\n",
       "  'sigma_test': 0.23675456385379678},\n",
       " 'dist': {'MAE': 279.21711401617745,\n",
       "  'MSE': 420130.14623705694,\n",
       "  'RMSE': 648.1744720652433,\n",
       "  'R2': 0.17175428879313015,\n",
       "  'intercept': 4139.21243948069,\n",
       "  'Mu_train': 0.7838262897723453,\n",
       "  'sigma_train': 0.5424145362330546,\n",
       "  'Mu_test': 0.7807552009991885,\n",
       "  'sigma_test': 0.5387213259505671},\n",
       " 'hour': {'MAE': 279.21711401617745,\n",
       "  'MSE': 420130.14623705694,\n",
       "  'RMSE': 648.1744720652433,\n",
       "  'R2': 0.17175428879313015,\n",
       "  'intercept': 4139.21243948069,\n",
       "  'Mu_train': 13.640924219279523,\n",
       "  'sigma_train': 5.154885144916811,\n",
       "  'Mu_test': 13.611115607170316,\n",
       "  'sigma_test': 5.155739916216756},\n",
       " 'birthyear': {'MAE': 279.21711401617745,\n",
       "  'MSE': 420130.14623705694,\n",
       "  'RMSE': 648.1744720652433,\n",
       "  'R2': 0.17175428879313015,\n",
       "  'intercept': 4139.21243948069,\n",
       "  'Mu_train': 1980.4443556463768,\n",
       "  'sigma_train': 10.116586692568342,\n",
       "  'Mu_test': 1980.3531137458017,\n",
       "  'sigma_test': 10.050681992468522},\n",
       " 'usertype_Customer': {'MAE': 279.21711401617745,\n",
       "  'MSE': 420130.14623705694,\n",
       "  'RMSE': 648.1744720652433,\n",
       "  'R2': 0.17175428879313015,\n",
       "  'intercept': 4139.21243948069,\n",
       "  'Mu_train': 0.06231095284822612,\n",
       "  'sigma_train': 0.24172007269169787,\n",
       "  'Mu_test': 0.06142516084651803,\n",
       "  'sigma_test': 0.24011096792515732},\n",
       " 'usertype_Subscriber': {'MAE': 279.21711401617745,\n",
       "  'MSE': 420130.14623705694,\n",
       "  'RMSE': 648.1744720652433,\n",
       "  'R2': 0.17175428879313015,\n",
       "  'intercept': 4139.21243948069,\n",
       "  'Mu_train': 0.9376890471517739,\n",
       "  'sigma_train': 0.24172007269169787,\n",
       "  'Mu_test': 0.9385748391534819,\n",
       "  'sigma_test': 0.24011096792515732}}"
      ]
     },
     "execution_count": 21,
     "metadata": {},
     "output_type": "execute_result"
    }
   ],
   "source": [
    "model_metrics"
   ]
  },
  {
   "cell_type": "markdown",
   "id": "411f0b0d",
   "metadata": {},
   "source": [
    "### Bootstrap with drop"
   ]
  },
  {
   "cell_type": "code",
   "execution_count": 22,
   "id": "098742f6",
   "metadata": {},
   "outputs": [
    {
     "name": "stdout",
     "output_type": "stream",
     "text": [
      "Now running model is .... gender\n",
      "Train (282432, 5) (282432,)\n",
      "Test (70608, 5) (70608,)\n",
      "Train set after Amputation (282432, 5) (282432,)\n",
      "y_train Amputed value count of varaible  84730\n",
      "X_train Amputed value count of varaible  84730\n",
      "Test set after Amputation (70608, 5) (70608,)\n",
      "y_test Amputed value count of varaible  21182\n",
      "X_test Amputed value count of varaible  21182\n",
      "Simulate Imputation for NA\n",
      "Train after NA value removal Imputation (197702, 5) (197702,)\n",
      "Test after NA value removal Imputation (49426, 5) (49426,)\n",
      "['gender', 'usertype']\n",
      "Now running model is .... dist\n",
      "Train (282432, 5) (282432,)\n",
      "Test (70608, 5) (70608,)\n",
      "Train set after Amputation (282432, 5) (282432,)\n",
      "y_train Amputed value count of varaible  84730\n",
      "X_train Amputed value count of varaible  84730\n",
      "Test set after Amputation (70608, 5) (70608,)\n",
      "y_test Amputed value count of varaible  21182\n",
      "X_test Amputed value count of varaible  21182\n",
      "Simulate Imputation for NA\n",
      "Train after NA value removal Imputation (197702, 5) (197702,)\n",
      "Test after NA value removal Imputation (49426, 5) (49426,)\n",
      "['gender', 'usertype']\n",
      "Now running model is .... hour\n",
      "Train (282432, 5) (282432,)\n",
      "Test (70608, 5) (70608,)\n",
      "Train set after Amputation (282432, 5) (282432,)\n",
      "y_train Amputed value count of varaible  84730\n",
      "X_train Amputed value count of varaible  84730\n",
      "Test set after Amputation (70608, 5) (70608,)\n",
      "y_test Amputed value count of varaible  21182\n",
      "X_test Amputed value count of varaible  21182\n",
      "Simulate Imputation for NA\n",
      "Train after NA value removal Imputation (197702, 5) (197702,)\n",
      "Test after NA value removal Imputation (49426, 5) (49426,)\n",
      "['gender', 'usertype']\n",
      "Now running model is .... birthyear\n",
      "Train (282432, 5) (282432,)\n",
      "Test (70608, 5) (70608,)\n",
      "Train set after Amputation (282432, 5) (282432,)\n",
      "y_train Amputed value count of varaible  84730\n",
      "X_train Amputed value count of varaible  84730\n",
      "Test set after Amputation (70608, 5) (70608,)\n",
      "y_test Amputed value count of varaible  21182\n",
      "X_test Amputed value count of varaible  21182\n",
      "Simulate Imputation for NA\n",
      "Train after NA value removal Imputation (197702, 5) (197702,)\n",
      "Test after NA value removal Imputation (49426, 5) (49426,)\n",
      "['gender', 'usertype']\n",
      "Now running model is .... usertype\n",
      "Train (282432, 5) (282432,)\n",
      "Test (70608, 5) (70608,)\n",
      "Train set after Amputation (282432, 5) (282432,)\n",
      "y_train Amputed value count of varaible  84730\n",
      "X_train Amputed value count of varaible  84730\n",
      "Test set after Amputation (70608, 5) (70608,)\n",
      "y_test Amputed value count of varaible  21182\n",
      "X_test Amputed value count of varaible  21182\n",
      "Simulate Imputation for NA\n",
      "Train after NA value removal Imputation (197702, 5) (197702,)\n",
      "Test after NA value removal Imputation (49426, 5) (49426,)\n",
      "['gender', 'usertype']\n"
     ]
    }
   ],
   "source": [
    "bootstrap_data_drop ={}\n",
    "for var in features_for_amputation:\n",
    "    print(\"Now running model is ....\", var)\n",
    "    X_train, X_test, y_train, y_test = split_dataset(df)\n",
    "    X_train , y_train, X_test , y_test = ampute_each_variables(var,\"remove\",X_train,y_train,X_test,y_test)\n",
    "    X_train, X_test = one_hot_encoding(X_train,X_test)\n",
    "    model_lr = LinearRegression(fit_intercept=True)\n",
    "    rng = np.random.RandomState(1234)\n",
    "    idx = np.arange(y_train.shape[0])\n",
    "    bootstarp_train_accuracies = {}\n",
    "    for i in range(501):\n",
    "        train_idx = rng.choice(idx, size=idx.shape[0], replace=True)\n",
    "        test_idx = np.setdiff1d(idx, train_idx, assume_unique=False)\n",
    "        boot_train_X, boot_train_y = X_train.iloc[train_idx], y_train.iloc[train_idx]\n",
    "        boot_test_X, boot_test_y = X_train.iloc[test_idx], y_train.iloc[test_idx]\n",
    "        model_lr.fit(boot_test_X, boot_test_y )\n",
    "        boot_y_pred = model_lr.predict(boot_test_X)\n",
    "        bootstarp_train_accuracies[i] = {\"RMSE\": np.sqrt(mean_squared_error(boot_test_y, boot_y_pred)),\n",
    "                                      \"R2\":r2_score(boot_test_y, boot_y_pred), \"intercept\":model_lr.intercept_}\n",
    "    R2 = []\n",
    "    RMSE = []\n",
    "    intercept = []\n",
    "    for i in range(501):\n",
    "        R2.append(bootstarp_train_accuracies[i]['R2'])\n",
    "        RMSE.append(bootstarp_train_accuracies[i]['RMSE'])\n",
    "        intercept.append(bootstarp_train_accuracies[i]['intercept'])\n",
    "    bootstrap_data_drop[var] = {\"R2\": [np.percentile(R2, 2.5), np.percentile(R2, 97.5)],\n",
    "                         \"RMSE\": [np.percentile(RMSE, 2.5), np.percentile(RMSE, 97.5)],\n",
    "                         \"intercept\": [np.percentile(intercept, 2.5), np.percentile(intercept, 97.5)]}"
   ]
  },
  {
   "cell_type": "code",
   "execution_count": 23,
   "id": "4bc694d3",
   "metadata": {},
   "outputs": [
    {
     "data": {
      "text/plain": [
       "{'gender': {'R2': [0.17027847551248348, 0.18588588915925847],\n",
       "  'RMSE': [651.1930436503169, 687.4213614773985],\n",
       "  'intercept': [3442.1923463760604, 4858.746632123913]},\n",
       " 'dist': {'R2': [0.17027847551248348, 0.18588588915925847],\n",
       "  'RMSE': [651.1930436503169, 687.4213614773985],\n",
       "  'intercept': [3442.1923463760604, 4858.746632123913]},\n",
       " 'hour': {'R2': [0.17027847551248348, 0.18588588915925847],\n",
       "  'RMSE': [651.1930436503169, 687.4213614773985],\n",
       "  'intercept': [3442.1923463760604, 4858.746632123913]},\n",
       " 'birthyear': {'R2': [0.17027847551248348, 0.18588588915925847],\n",
       "  'RMSE': [651.1930436503169, 687.4213614773985],\n",
       "  'intercept': [3442.1923463760604, 4858.746632123913]},\n",
       " 'usertype': {'R2': [0.17027847551248348, 0.18588588915925847],\n",
       "  'RMSE': [651.1930436503169, 687.4213614773985],\n",
       "  'intercept': [3442.1923463760604, 4858.746632123913]}}"
      ]
     },
     "execution_count": 23,
     "metadata": {},
     "output_type": "execute_result"
    }
   ],
   "source": [
    "bootstrap_data_drop"
   ]
  },
  {
   "cell_type": "markdown",
   "id": "c2bf9d60",
   "metadata": {},
   "source": [
    "### Mode Replacement"
   ]
  },
  {
   "cell_type": "code",
   "execution_count": 24,
   "id": "1bb598f3",
   "metadata": {},
   "outputs": [
    {
     "name": "stdout",
     "output_type": "stream",
     "text": [
      "Now model is running for varaible ==== gender\n",
      "Train (282432, 5) (282432,)\n",
      "Test (70608, 5) (70608,)\n",
      "Train set after Amputation (282432, 5)\n",
      "X_train Amputed value count of varaible  84730\n",
      "Test set after Amputation (70608, 5)\n",
      "X_test Amputed value count of varaible  21182\n",
      "Simulate Imputation for Mode\n",
      "Train after Mode Imputation (282432, 5) (282432,)\n",
      "Test after Mode Imputation (70608, 5) (70608,)\n",
      "['gender', 'usertype']\n",
      "2023-02-19 15:19:18.103502\n",
      "2023-02-19 15:19:18.188060\n",
      "Now model is running for varaible ==== dist\n",
      "Train (282432, 5) (282432,)\n",
      "Test (70608, 5) (70608,)\n",
      "Train set after Amputation (282432, 5)\n",
      "X_train Amputed value count of varaible  84730\n",
      "Test set after Amputation (70608, 5)\n",
      "X_test Amputed value count of varaible  21182\n",
      "Simulate Imputation for Mode\n",
      "Train after Mode Imputation (282432, 5) (282432,)\n",
      "Test after Mode Imputation (70608, 5) (70608,)\n",
      "['gender', 'usertype']\n",
      "2023-02-19 15:19:20.176240\n",
      "2023-02-19 15:19:20.273324\n",
      "Now model is running for varaible ==== hour\n",
      "Train (282432, 5) (282432,)\n",
      "Test (70608, 5) (70608,)\n",
      "Train set after Amputation (282432, 5)\n",
      "X_train Amputed value count of varaible  84730\n",
      "Test set after Amputation (70608, 5)\n",
      "X_test Amputed value count of varaible  21182\n",
      "Simulate Imputation for Mode\n",
      "Train after Mode Imputation (282432, 5) (282432,)\n",
      "Test after Mode Imputation (70608, 5) (70608,)\n",
      "['gender', 'usertype']\n",
      "2023-02-19 15:19:22.190197\n",
      "2023-02-19 15:19:22.269891\n",
      "Now model is running for varaible ==== birthyear\n",
      "Train (282432, 5) (282432,)\n",
      "Test (70608, 5) (70608,)\n",
      "Train set after Amputation (282432, 5)\n",
      "X_train Amputed value count of varaible  84730\n",
      "Test set after Amputation (70608, 5)\n",
      "X_test Amputed value count of varaible  21182\n",
      "Simulate Imputation for Mode\n",
      "Train after Mode Imputation (282432, 5) (282432,)\n",
      "Test after Mode Imputation (70608, 5) (70608,)\n",
      "['gender', 'usertype']\n",
      "2023-02-19 15:19:24.286940\n",
      "2023-02-19 15:19:24.352445\n",
      "Now model is running for varaible ==== usertype\n",
      "Train (282432, 5) (282432,)\n",
      "Test (70608, 5) (70608,)\n",
      "Train set after Amputation (282432, 5)\n",
      "X_train Amputed value count of varaible  84730\n",
      "Test set after Amputation (70608, 5)\n",
      "X_test Amputed value count of varaible  21182\n",
      "Simulate Imputation for Mode\n",
      "Train after Mode Imputation (282432, 5) (282432,)\n",
      "Test after Mode Imputation (70608, 5) (70608,)\n",
      "['gender', 'usertype']\n",
      "2023-02-19 15:19:26.235120\n",
      "2023-02-19 15:19:26.305134\n"
     ]
    }
   ],
   "source": [
    "model_metrics_mode ={}\n",
    "for var in features_for_amputation:\n",
    "    print(\"Now model is running for varaible ====\", var)\n",
    "    X_train, X_test, y_train, y_test = split_dataset(df)\n",
    "    X_train , y_train, X_test , y_test = ampute_each_variables(var,\"mode\",X_train,y_train,X_test,y_test)\n",
    "    X_train, X_test = one_hot_encoding(X_train,X_test)\n",
    "    model_reg = model_evaluation(X_train,y_train)\n",
    "    y_pred = model_reg.predict(X_test)\n",
    "    if(var == 'gender'):\n",
    "        for v in cat_gender:\n",
    "            mu_train = X_train[v].mean()\n",
    "            sigma_train = X_train[v].std()\n",
    "            mu_test = X_test[v].mean()\n",
    "            sigma_test = X_test[v].std()\n",
    "            model_metrics_mode[v] = {\"MAE\":mean_absolute_error(y_test, y_pred),\"MSE\":mean_squared_error(y_test, y_pred),\n",
    "                          \"RMSE\":np.sqrt(mean_squared_error(y_test, y_pred)),\"R2\":r2_score(y_test, y_pred),\n",
    "                           \"intercept\":model_reg.intercept_,\n",
    "                          \"Mu_train\":mu_train, \"sigma_train\":sigma_train,\n",
    "                          \"Mu_test\":mu_test, \"sigma_test\":sigma_test}\n",
    "    elif(var == 'usertype'):\n",
    "        for v in cat_usertype:\n",
    "            mu_train = X_train[v].mean()\n",
    "            sigma_train = X_train[v].std()\n",
    "            mu_test = X_test[v].mean()\n",
    "            sigma_test = X_test[v].std()\n",
    "            model_metrics_mode[v] = {\"MAE\":mean_absolute_error(y_test, y_pred),\"MSE\":mean_squared_error(y_test, y_pred),\n",
    "                          \"RMSE\":np.sqrt(mean_squared_error(y_test, y_pred)),\"R2\":r2_score(y_test, y_pred),\n",
    "                            \"intercept\":model_reg.intercept_,\n",
    "                          \"Mu_train\":mu_train, \"sigma_train\":sigma_train,\n",
    "                          \"Mu_test\":mu_test, \"sigma_test\":sigma_test}\n",
    "    else:\n",
    "        mu_train = X_train[var].mean()\n",
    "        sigma_train = X_train[var].std()\n",
    "        mu_test = X_test[var].mean()\n",
    "        sigma_test = X_test[var].std()\n",
    "        model_metrics_mode[var] = {\"MAE\":mean_absolute_error(y_test, y_pred),\"MSE\":mean_squared_error(y_test, y_pred),\n",
    "                              \"RMSE\":np.sqrt(mean_squared_error(y_test, y_pred)),\"R2\":r2_score(y_test, y_pred),\n",
    "                                \"intercept\":model_reg.intercept_,\n",
    "                              \"Mu_train\":mu_train, \"sigma_train\":sigma_train,\n",
    "                              \"Mu_test\":mu_test, \"sigma_test\":sigma_test}\n",
    "    del X_train\n",
    "    del X_test\n",
    "    del y_train\n",
    "    del y_test"
   ]
  },
  {
   "cell_type": "code",
   "execution_count": 25,
   "id": "5631e12a",
   "metadata": {},
   "outputs": [
    {
     "data": {
      "text/plain": [
       "{'gender_female': {'MAE': 278.8692481491538,\n",
       "  'MSE': 429416.4352502737,\n",
       "  'RMSE': 655.2987374093389,\n",
       "  'R2': 0.16690482705155496,\n",
       "  'intercept': 4572.206099409003,\n",
       "  'Mu_train': 0.14869065828234762,\n",
       "  'sigma_train': 0.3557839156122109,\n",
       "  'Mu_test': 0.1484959211420802,\n",
       "  'sigma_test': 0.3555934101929993},\n",
       " 'gender_male': {'MAE': 278.8692481491538,\n",
       "  'MSE': 429416.4352502737,\n",
       "  'RMSE': 655.2987374093389,\n",
       "  'R2': 0.16690482705155496,\n",
       "  'intercept': 4572.206099409003,\n",
       "  'Mu_train': 0.809235497394063,\n",
       "  'sigma_train': 0.3929045096960431,\n",
       "  'Mu_test': 0.8097807613868117,\n",
       "  'sigma_test': 0.3924768292136893},\n",
       " 'gender_unknown': {'MAE': 278.8692481491538,\n",
       "  'MSE': 429416.4352502737,\n",
       "  'RMSE': 655.2987374093389,\n",
       "  'R2': 0.16690482705155496,\n",
       "  'intercept': 4572.206099409003,\n",
       "  'Mu_train': 0.0420738443235894,\n",
       "  'sigma_train': 0.2007580101764719,\n",
       "  'Mu_test': 0.04172331747110809,\n",
       "  'sigma_test': 0.19995761680485905},\n",
       " 'dist': {'MAE': 292.20408652186177,\n",
       "  'MSE': 433809.2918253957,\n",
       "  'RMSE': 658.6420058160546,\n",
       "  'R2': 0.15838240613849397,\n",
       "  'intercept': 3832.7347042238366,\n",
       "  'Mu_train': 0.746392726093809,\n",
       "  'sigma_train': 0.4574039403497704,\n",
       "  'Mu_test': 0.744243830152232,\n",
       "  'sigma_test': 0.4541646467942445},\n",
       " 'hour': {'MAE': 278.99526629176444,\n",
       "  'MSE': 429299.2136667761,\n",
       "  'RMSE': 655.2092899728881,\n",
       "  'R2': 0.16713224437273955,\n",
       "  'intercept': 4224.941879433071,\n",
       "  'Mu_train': 11.948638964423294,\n",
       "  'sigma_train': 5.028237255309031,\n",
       "  'Mu_test': 11.927812712440517,\n",
       "  'sigma_test': 5.021851018853225},\n",
       " 'birthyear': {'MAE': 278.7658751913494,\n",
       "  'MSE': 429191.94603280694,\n",
       "  'RMSE': 655.1274273244916,\n",
       "  'R2': 0.16734035039928508,\n",
       "  'intercept': 3029.374191661406,\n",
       "  'Mu_train': 1977.011032744165,\n",
       "  'sigma_train': 9.957210168037474,\n",
       "  'Mu_test': 1976.947243938364,\n",
       "  'sigma_test': 9.888334063994956},\n",
       " 'usertype_Customer': {'MAE': 285.5160656798232,\n",
       "  'MSE': 444611.5109534899,\n",
       "  'RMSE': 666.7919547756181,\n",
       "  'R2': 0.13742541457038693,\n",
       "  'intercept': 3520.3459952665444,\n",
       "  'Mu_train': 0.04361757874461818,\n",
       "  'sigma_train': 0.2042430739809072,\n",
       "  'Mu_test': 0.042997960571040106,\n",
       "  'sigma_test': 0.20285393451678185},\n",
       " 'usertype_Subscriber': {'MAE': 285.5160656798232,\n",
       "  'MSE': 444611.5109534899,\n",
       "  'RMSE': 666.7919547756181,\n",
       "  'R2': 0.13742541457038693,\n",
       "  'intercept': 3520.3459952665444,\n",
       "  'Mu_train': 0.9563824212553819,\n",
       "  'sigma_train': 0.2042430739809072,\n",
       "  'Mu_test': 0.9570020394289599,\n",
       "  'sigma_test': 0.20285393451678185}}"
      ]
     },
     "execution_count": 25,
     "metadata": {},
     "output_type": "execute_result"
    }
   ],
   "source": [
    "model_metrics_mode"
   ]
  },
  {
   "cell_type": "markdown",
   "id": "c2026ce5",
   "metadata": {},
   "source": [
    "### Bootstrap with mode"
   ]
  },
  {
   "cell_type": "code",
   "execution_count": 26,
   "id": "baa57de4",
   "metadata": {},
   "outputs": [
    {
     "name": "stdout",
     "output_type": "stream",
     "text": [
      "Now running model is .... gender\n",
      "Train (282432, 5) (282432,)\n",
      "Test (70608, 5) (70608,)\n",
      "Train set after Amputation (282432, 5)\n",
      "X_train Amputed value count of varaible  84730\n",
      "Test set after Amputation (70608, 5)\n",
      "X_test Amputed value count of varaible  21182\n",
      "Simulate Imputation for Mode\n",
      "Train after Mode Imputation (282432, 5) (282432,)\n",
      "Test after Mode Imputation (70608, 5) (70608,)\n",
      "['gender', 'usertype']\n",
      "Now running model is .... dist\n",
      "Train (282432, 5) (282432,)\n",
      "Test (70608, 5) (70608,)\n",
      "Train set after Amputation (282432, 5)\n",
      "X_train Amputed value count of varaible  84730\n",
      "Test set after Amputation (70608, 5)\n",
      "X_test Amputed value count of varaible  21182\n",
      "Simulate Imputation for Mode\n",
      "Train after Mode Imputation (282432, 5) (282432,)\n",
      "Test after Mode Imputation (70608, 5) (70608,)\n",
      "['gender', 'usertype']\n",
      "Now running model is .... hour\n",
      "Train (282432, 5) (282432,)\n",
      "Test (70608, 5) (70608,)\n",
      "Train set after Amputation (282432, 5)\n",
      "X_train Amputed value count of varaible  84730\n",
      "Test set after Amputation (70608, 5)\n",
      "X_test Amputed value count of varaible  21182\n",
      "Simulate Imputation for Mode\n",
      "Train after Mode Imputation (282432, 5) (282432,)\n",
      "Test after Mode Imputation (70608, 5) (70608,)\n",
      "['gender', 'usertype']\n",
      "Now running model is .... birthyear\n",
      "Train (282432, 5) (282432,)\n",
      "Test (70608, 5) (70608,)\n",
      "Train set after Amputation (282432, 5)\n",
      "X_train Amputed value count of varaible  84730\n",
      "Test set after Amputation (70608, 5)\n",
      "X_test Amputed value count of varaible  21182\n",
      "Simulate Imputation for Mode\n",
      "Train after Mode Imputation (282432, 5) (282432,)\n",
      "Test after Mode Imputation (70608, 5) (70608,)\n",
      "['gender', 'usertype']\n",
      "Now running model is .... usertype\n",
      "Train (282432, 5) (282432,)\n",
      "Test (70608, 5) (70608,)\n",
      "Train set after Amputation (282432, 5)\n",
      "X_train Amputed value count of varaible  84730\n",
      "Test set after Amputation (70608, 5)\n",
      "X_test Amputed value count of varaible  21182\n",
      "Simulate Imputation for Mode\n",
      "Train after Mode Imputation (282432, 5) (282432,)\n",
      "Test after Mode Imputation (70608, 5) (70608,)\n",
      "['gender', 'usertype']\n"
     ]
    }
   ],
   "source": [
    "bootstrap_data_mode = {}\n",
    "for var in features_for_amputation:\n",
    "    print(\"Now running model is ....\", var)\n",
    "    X_train, X_test, y_train, y_test = split_dataset(df)\n",
    "    X_train , y_train, X_test , y_test = ampute_each_variables(var,\"mode\",X_train,y_train,X_test,y_test)\n",
    "    X_train, X_test = one_hot_encoding(X_train,X_test)\n",
    "    model_lr = LinearRegression(fit_intercept=True)\n",
    "    rng = np.random.RandomState(1234)\n",
    "    idx = np.arange(y_train.shape[0])\n",
    "    bootstarp_train_accuracies = {}\n",
    "    for i in range(501):\n",
    "        train_idx = rng.choice(idx, size=idx.shape[0], replace=True)\n",
    "        test_idx = np.setdiff1d(idx, train_idx, assume_unique=False)\n",
    "        boot_train_X, boot_train_y = X_train.iloc[train_idx], y_train.iloc[train_idx]\n",
    "        boot_test_X, boot_test_y = X_train.iloc[test_idx], y_train.iloc[test_idx]\n",
    "        model_lr.fit(boot_test_X, boot_test_y )\n",
    "        boot_y_pred = model_lr.predict(boot_test_X)\n",
    "        bootstarp_train_accuracies[i] = {\"RMSE\": np.sqrt(mean_squared_error(boot_test_y, boot_y_pred)),\n",
    "                                      \"R2\":r2_score(boot_test_y, boot_y_pred), \"intercept\":model_lr.intercept_}\n",
    "    R2 = []\n",
    "    RMSE = []\n",
    "    intercept = []\n",
    "    for i in range(501):\n",
    "        R2.append(bootstarp_train_accuracies[i]['R2'])\n",
    "        RMSE.append(bootstarp_train_accuracies[i]['RMSE'])\n",
    "        intercept.append(bootstarp_train_accuracies[i]['intercept'])\n",
    "    bootstrap_data_mode[var] = {\"R2\": [np.percentile(R2, 2.5), np.percentile(R2, 97.5)],\n",
    "                         \"RMSE\": [np.percentile(RMSE, 2.5), np.percentile(RMSE, 97.5)],\n",
    "                         \"intercept\": [np.percentile(intercept, 2.5), np.percentile(intercept, 97.5)]}"
   ]
  },
  {
   "cell_type": "code",
   "execution_count": 27,
   "id": "836c3040",
   "metadata": {},
   "outputs": [
    {
     "data": {
      "text/plain": [
       "{'gender': {'R2': [0.16948671457369874, 0.18315528677655357],\n",
       "  'RMSE': [650.039544027035, 682.3413824741604],\n",
       "  'intercept': [3952.6025169830027, 5193.349654425764]},\n",
       " 'dist': {'R2': [0.16215710650658666, 0.17513979523209539],\n",
       "  'RMSE': [653.419984255818, 685.3838738129667],\n",
       "  'intercept': [3271.22334004212, 4395.419361195757]},\n",
       " 'hour': {'R2': [0.16971061636973578, 0.18318692609141957],\n",
       "  'RMSE': [650.0375570143433, 682.3338056689058],\n",
       "  'intercept': [3683.4251399814348, 4813.615340846018]},\n",
       " 'birthyear': {'R2': [0.16999827843669152, 0.18343939659903696],\n",
       "  'RMSE': [649.8421910291186, 682.2337119731031],\n",
       "  'intercept': [2483.4696082320625, 3598.298809583811]},\n",
       " 'usertype': {'R2': [0.13695173300382452, 0.1508715616000464],\n",
       "  'RMSE': [663.0242692664726, 696.4180504500068],\n",
       "  'intercept': [2904.456667780773, 4121.242701706049]}}"
      ]
     },
     "execution_count": 27,
     "metadata": {},
     "output_type": "execute_result"
    }
   ],
   "source": [
    "bootstrap_data_mode"
   ]
  },
  {
   "cell_type": "markdown",
   "id": "b7fc77e5",
   "metadata": {},
   "source": [
    "## Mean Imputation"
   ]
  },
  {
   "cell_type": "code",
   "execution_count": 28,
   "id": "b54fe94a",
   "metadata": {},
   "outputs": [
    {
     "name": "stdout",
     "output_type": "stream",
     "text": [
      "Now model is running for varaible ==== dist\n",
      "Train (282432, 5) (282432,)\n",
      "Test (70608, 5) (70608,)\n",
      "Train set after Amputation (282432, 5)\n",
      "X_train Amputed value count of varaible  84730\n",
      "Test set after Amputation (70608, 5)\n",
      "X_test Amputed value count of varaible  21182\n",
      "Simulate Imputation for Mean\n"
     ]
    },
    {
     "name": "stderr",
     "output_type": "stream",
     "text": [
      "C:\\Users\\Hinakoushar\\AppData\\Local\\Temp\\ipykernel_2668\\3519124876.py:35: FutureWarning: Dropping of nuisance columns in DataFrame reductions (with 'numeric_only=None') is deprecated; in a future version this will raise TypeError.  Select only valid columns before calling the reduction.\n",
      "  X_train.fillna(X_train.mean(), inplace=True)\n"
     ]
    },
    {
     "name": "stdout",
     "output_type": "stream",
     "text": [
      "Train after Mean Imputation (282432, 5) (282432,)\n"
     ]
    },
    {
     "name": "stderr",
     "output_type": "stream",
     "text": [
      "C:\\Users\\Hinakoushar\\AppData\\Local\\Temp\\ipykernel_2668\\3519124876.py:37: FutureWarning: Dropping of nuisance columns in DataFrame reductions (with 'numeric_only=None') is deprecated; in a future version this will raise TypeError.  Select only valid columns before calling the reduction.\n",
      "  X_test.fillna(X_test.mean(), inplace=True)\n"
     ]
    },
    {
     "name": "stdout",
     "output_type": "stream",
     "text": [
      "Test after Mean Imputation (70608, 5) (70608,)\n",
      "['gender', 'usertype']\n",
      "2023-02-19 15:29:12.828394\n",
      "2023-02-19 15:29:12.902478\n",
      "Now model is running for varaible ==== hour\n",
      "Train (282432, 5) (282432,)\n",
      "Test (70608, 5) (70608,)\n",
      "Train set after Amputation (282432, 5)\n",
      "X_train Amputed value count of varaible  84730\n",
      "Test set after Amputation (70608, 5)\n",
      "X_test Amputed value count of varaible  21182\n",
      "Simulate Imputation for Mean\n"
     ]
    },
    {
     "name": "stderr",
     "output_type": "stream",
     "text": [
      "C:\\Users\\Hinakoushar\\AppData\\Local\\Temp\\ipykernel_2668\\3519124876.py:35: FutureWarning: Dropping of nuisance columns in DataFrame reductions (with 'numeric_only=None') is deprecated; in a future version this will raise TypeError.  Select only valid columns before calling the reduction.\n",
      "  X_train.fillna(X_train.mean(), inplace=True)\n"
     ]
    },
    {
     "name": "stdout",
     "output_type": "stream",
     "text": [
      "Train after Mean Imputation (282432, 5) (282432,)\n"
     ]
    },
    {
     "name": "stderr",
     "output_type": "stream",
     "text": [
      "C:\\Users\\Hinakoushar\\AppData\\Local\\Temp\\ipykernel_2668\\3519124876.py:37: FutureWarning: Dropping of nuisance columns in DataFrame reductions (with 'numeric_only=None') is deprecated; in a future version this will raise TypeError.  Select only valid columns before calling the reduction.\n",
      "  X_test.fillna(X_test.mean(), inplace=True)\n"
     ]
    },
    {
     "name": "stdout",
     "output_type": "stream",
     "text": [
      "Test after Mean Imputation (70608, 5) (70608,)\n",
      "['gender', 'usertype']\n",
      "2023-02-19 15:32:33.766315\n",
      "2023-02-19 15:32:33.842862\n",
      "Now model is running for varaible ==== birthyear\n",
      "Train (282432, 5) (282432,)\n",
      "Test (70608, 5) (70608,)\n",
      "Train set after Amputation (282432, 5)\n",
      "X_train Amputed value count of varaible  84730\n",
      "Test set after Amputation (70608, 5)\n",
      "X_test Amputed value count of varaible  21182\n",
      "Simulate Imputation for Mean\n"
     ]
    },
    {
     "name": "stderr",
     "output_type": "stream",
     "text": [
      "C:\\Users\\Hinakoushar\\AppData\\Local\\Temp\\ipykernel_2668\\3519124876.py:35: FutureWarning: Dropping of nuisance columns in DataFrame reductions (with 'numeric_only=None') is deprecated; in a future version this will raise TypeError.  Select only valid columns before calling the reduction.\n",
      "  X_train.fillna(X_train.mean(), inplace=True)\n"
     ]
    },
    {
     "name": "stdout",
     "output_type": "stream",
     "text": [
      "Train after Mean Imputation (282432, 5) (282432,)\n",
      "Test after Mean Imputation (70608, 5) (70608,)\n",
      "['gender', 'usertype']\n",
      "2023-02-19 15:35:49.690219\n",
      "2023-02-19 15:35:49.777736\n"
     ]
    },
    {
     "name": "stderr",
     "output_type": "stream",
     "text": [
      "C:\\Users\\Hinakoushar\\AppData\\Local\\Temp\\ipykernel_2668\\3519124876.py:37: FutureWarning: Dropping of nuisance columns in DataFrame reductions (with 'numeric_only=None') is deprecated; in a future version this will raise TypeError.  Select only valid columns before calling the reduction.\n",
      "  X_test.fillna(X_test.mean(), inplace=True)\n"
     ]
    }
   ],
   "source": [
    "variables =['dist','hour','birthyear']\n",
    "model_metrics_mean ={}\n",
    "for var in variables:\n",
    "    print(\"Now model is running for varaible ====\", var)\n",
    "    X_train, X_test, y_train, y_test = split_dataset(df)\n",
    "    X_train , y_train, X_test , y_test = ampute_each_variables(var,\"mean\",X_train,y_train,X_test,y_test)\n",
    "    X_train, X_test = one_hot_encoding(X_train,X_test)\n",
    "    model_reg = model_evaluation(X_train,y_train)\n",
    "    y_pred = model_reg.predict(X_test)\n",
    "    model_metrics_mean[var] = {\"MAE\":mean_absolute_error(y_test, y_pred),\"MSE\":mean_squared_error(y_test, y_pred),\n",
    "                          \"RMSE\":np.sqrt(mean_squared_error(y_test, y_pred)),\"R2\":r2_score(y_test, y_pred),\n",
    "                            \"intercept\":model_reg.intercept_,\n",
    "                          \"Mu_train\":mu_train, \"sigma_train\":sigma_train,\n",
    "                          \"Mu_test\":mu_test, \"sigma_test\":sigma_test}\n",
    "    del X_train\n",
    "    del X_test\n",
    "    del y_train\n",
    "    del y_test"
   ]
  },
  {
   "cell_type": "code",
   "execution_count": 29,
   "id": "f5e7b87f",
   "metadata": {},
   "outputs": [
    {
     "data": {
      "text/plain": [
       "{'dist': {'MAE': 291.1887971476297,\n",
       "  'MSE': 433644.9919233972,\n",
       "  'RMSE': 658.5172677488398,\n",
       "  'R2': 0.1587011583893042,\n",
       "  'intercept': 3837.1015651514567,\n",
       "  'Mu_train': 0.9563824212553819,\n",
       "  'sigma_train': 0.2042430739809072,\n",
       "  'Mu_test': 0.9570020394289599,\n",
       "  'sigma_test': 0.20285393451678185},\n",
       " 'hour': {'MAE': 278.8191117599752,\n",
       "  'MSE': 429153.65113467735,\n",
       "  'RMSE': 655.0981996118425,\n",
       "  'R2': 0.1674146449352213,\n",
       "  'intercept': 4229.5175783072755,\n",
       "  'Mu_train': 0.9563824212553819,\n",
       "  'sigma_train': 0.2042430739809072,\n",
       "  'Mu_test': 0.9570020394289599,\n",
       "  'sigma_test': 0.20285393451678185},\n",
       " 'birthyear': {'MAE': 278.747867226137,\n",
       "  'MSE': 429141.59773600876,\n",
       "  'RMSE': 655.0889998588045,\n",
       "  'R2': 0.16743802929460794,\n",
       "  'intercept': 4100.280860668483,\n",
       "  'Mu_train': 0.9563824212553819,\n",
       "  'sigma_train': 0.2042430739809072,\n",
       "  'Mu_test': 0.9570020394289599,\n",
       "  'sigma_test': 0.20285393451678185}}"
      ]
     },
     "execution_count": 29,
     "metadata": {},
     "output_type": "execute_result"
    }
   ],
   "source": [
    "model_metrics_mean"
   ]
  },
  {
   "cell_type": "markdown",
   "id": "13357148",
   "metadata": {},
   "source": [
    "### Bootstrap with mean "
   ]
  },
  {
   "cell_type": "code",
   "execution_count": 30,
   "id": "186d0793",
   "metadata": {},
   "outputs": [
    {
     "name": "stdout",
     "output_type": "stream",
     "text": [
      "Now running model is .... gender\n",
      "Train (282432, 5) (282432,)\n",
      "Test (70608, 5) (70608,)\n",
      "Train set after Amputation (282432, 5)\n",
      "X_train Amputed value count of varaible  84730\n",
      "Test set after Amputation (70608, 5)\n",
      "X_test Amputed value count of varaible  21182\n",
      "Simulate Imputation for Mean\n"
     ]
    },
    {
     "name": "stderr",
     "output_type": "stream",
     "text": [
      "C:\\Users\\Hinakoushar\\AppData\\Local\\Temp\\ipykernel_2668\\3519124876.py:35: FutureWarning: Dropping of nuisance columns in DataFrame reductions (with 'numeric_only=None') is deprecated; in a future version this will raise TypeError.  Select only valid columns before calling the reduction.\n",
      "  X_train.fillna(X_train.mean(), inplace=True)\n"
     ]
    },
    {
     "name": "stdout",
     "output_type": "stream",
     "text": [
      "Train after Mean Imputation (282432, 5) (282432,)\n"
     ]
    },
    {
     "name": "stderr",
     "output_type": "stream",
     "text": [
      "C:\\Users\\Hinakoushar\\AppData\\Local\\Temp\\ipykernel_2668\\3519124876.py:37: FutureWarning: Dropping of nuisance columns in DataFrame reductions (with 'numeric_only=None') is deprecated; in a future version this will raise TypeError.  Select only valid columns before calling the reduction.\n",
      "  X_test.fillna(X_test.mean(), inplace=True)\n"
     ]
    },
    {
     "name": "stdout",
     "output_type": "stream",
     "text": [
      "Test after Mean Imputation (70608, 5) (70608,)\n",
      "['gender', 'usertype']\n",
      "Now running model is .... dist\n",
      "Train (282432, 5) (282432,)\n",
      "Test (70608, 5) (70608,)\n",
      "Train set after Amputation (282432, 5)\n",
      "X_train Amputed value count of varaible  84730\n",
      "Test set after Amputation (70608, 5)\n",
      "X_test Amputed value count of varaible  21182\n",
      "Simulate Imputation for Mean\n"
     ]
    },
    {
     "name": "stderr",
     "output_type": "stream",
     "text": [
      "C:\\Users\\Hinakoushar\\AppData\\Local\\Temp\\ipykernel_2668\\3519124876.py:35: FutureWarning: Dropping of nuisance columns in DataFrame reductions (with 'numeric_only=None') is deprecated; in a future version this will raise TypeError.  Select only valid columns before calling the reduction.\n",
      "  X_train.fillna(X_train.mean(), inplace=True)\n"
     ]
    },
    {
     "name": "stdout",
     "output_type": "stream",
     "text": [
      "Train after Mean Imputation (282432, 5) (282432,)\n"
     ]
    },
    {
     "name": "stderr",
     "output_type": "stream",
     "text": [
      "C:\\Users\\Hinakoushar\\AppData\\Local\\Temp\\ipykernel_2668\\3519124876.py:37: FutureWarning: Dropping of nuisance columns in DataFrame reductions (with 'numeric_only=None') is deprecated; in a future version this will raise TypeError.  Select only valid columns before calling the reduction.\n",
      "  X_test.fillna(X_test.mean(), inplace=True)\n"
     ]
    },
    {
     "name": "stdout",
     "output_type": "stream",
     "text": [
      "Test after Mean Imputation (70608, 5) (70608,)\n",
      "['gender', 'usertype']\n",
      "Now running model is .... hour\n",
      "Train (282432, 5) (282432,)\n",
      "Test (70608, 5) (70608,)\n",
      "Train set after Amputation (282432, 5)\n",
      "X_train Amputed value count of varaible  84730\n",
      "Test set after Amputation (70608, 5)\n",
      "X_test Amputed value count of varaible  21182\n",
      "Simulate Imputation for Mean\n"
     ]
    },
    {
     "name": "stderr",
     "output_type": "stream",
     "text": [
      "C:\\Users\\Hinakoushar\\AppData\\Local\\Temp\\ipykernel_2668\\3519124876.py:35: FutureWarning: Dropping of nuisance columns in DataFrame reductions (with 'numeric_only=None') is deprecated; in a future version this will raise TypeError.  Select only valid columns before calling the reduction.\n",
      "  X_train.fillna(X_train.mean(), inplace=True)\n"
     ]
    },
    {
     "name": "stdout",
     "output_type": "stream",
     "text": [
      "Train after Mean Imputation (282432, 5) (282432,)\n"
     ]
    },
    {
     "name": "stderr",
     "output_type": "stream",
     "text": [
      "C:\\Users\\Hinakoushar\\AppData\\Local\\Temp\\ipykernel_2668\\3519124876.py:37: FutureWarning: Dropping of nuisance columns in DataFrame reductions (with 'numeric_only=None') is deprecated; in a future version this will raise TypeError.  Select only valid columns before calling the reduction.\n",
      "  X_test.fillna(X_test.mean(), inplace=True)\n"
     ]
    },
    {
     "name": "stdout",
     "output_type": "stream",
     "text": [
      "Test after Mean Imputation (70608, 5) (70608,)\n",
      "['gender', 'usertype']\n",
      "Now running model is .... birthyear\n",
      "Train (282432, 5) (282432,)\n",
      "Test (70608, 5) (70608,)\n",
      "Train set after Amputation (282432, 5)\n",
      "X_train Amputed value count of varaible  84730\n",
      "Test set after Amputation (70608, 5)\n",
      "X_test Amputed value count of varaible  21182\n",
      "Simulate Imputation for Mean\n"
     ]
    },
    {
     "name": "stderr",
     "output_type": "stream",
     "text": [
      "C:\\Users\\Hinakoushar\\AppData\\Local\\Temp\\ipykernel_2668\\3519124876.py:35: FutureWarning: Dropping of nuisance columns in DataFrame reductions (with 'numeric_only=None') is deprecated; in a future version this will raise TypeError.  Select only valid columns before calling the reduction.\n",
      "  X_train.fillna(X_train.mean(), inplace=True)\n"
     ]
    },
    {
     "name": "stdout",
     "output_type": "stream",
     "text": [
      "Train after Mean Imputation (282432, 5) (282432,)\n"
     ]
    },
    {
     "name": "stderr",
     "output_type": "stream",
     "text": [
      "C:\\Users\\Hinakoushar\\AppData\\Local\\Temp\\ipykernel_2668\\3519124876.py:37: FutureWarning: Dropping of nuisance columns in DataFrame reductions (with 'numeric_only=None') is deprecated; in a future version this will raise TypeError.  Select only valid columns before calling the reduction.\n",
      "  X_test.fillna(X_test.mean(), inplace=True)\n"
     ]
    },
    {
     "name": "stdout",
     "output_type": "stream",
     "text": [
      "Test after Mean Imputation (70608, 5) (70608,)\n",
      "['gender', 'usertype']\n",
      "Now running model is .... usertype\n",
      "Train (282432, 5) (282432,)\n",
      "Test (70608, 5) (70608,)\n",
      "Train set after Amputation (282432, 5)\n",
      "X_train Amputed value count of varaible  84730\n",
      "Test set after Amputation (70608, 5)\n",
      "X_test Amputed value count of varaible  21182\n",
      "Simulate Imputation for Mean\n"
     ]
    },
    {
     "name": "stderr",
     "output_type": "stream",
     "text": [
      "C:\\Users\\Hinakoushar\\AppData\\Local\\Temp\\ipykernel_2668\\3519124876.py:35: FutureWarning: Dropping of nuisance columns in DataFrame reductions (with 'numeric_only=None') is deprecated; in a future version this will raise TypeError.  Select only valid columns before calling the reduction.\n",
      "  X_train.fillna(X_train.mean(), inplace=True)\n"
     ]
    },
    {
     "name": "stdout",
     "output_type": "stream",
     "text": [
      "Train after Mean Imputation (282432, 5) (282432,)\n"
     ]
    },
    {
     "name": "stderr",
     "output_type": "stream",
     "text": [
      "C:\\Users\\Hinakoushar\\AppData\\Local\\Temp\\ipykernel_2668\\3519124876.py:37: FutureWarning: Dropping of nuisance columns in DataFrame reductions (with 'numeric_only=None') is deprecated; in a future version this will raise TypeError.  Select only valid columns before calling the reduction.\n",
      "  X_test.fillna(X_test.mean(), inplace=True)\n"
     ]
    },
    {
     "name": "stdout",
     "output_type": "stream",
     "text": [
      "Test after Mean Imputation (70608, 5) (70608,)\n",
      "['gender', 'usertype']\n"
     ]
    }
   ],
   "source": [
    "bootstrap_data_mean ={}\n",
    "for var in features_for_amputation:\n",
    "    print(\"Now running model is ....\", var)\n",
    "    X_train, X_test, y_train, y_test = split_dataset(df)\n",
    "    X_train , y_train, X_test , y_test = ampute_each_variables(var,\"mean\",X_train,y_train,X_test,y_test)\n",
    "    X_train, X_test = one_hot_encoding(X_train,X_test)\n",
    "    model_lr = LinearRegression(fit_intercept=True)\n",
    "    rng = np.random.RandomState(1234)\n",
    "    idx = np.arange(y_train.shape[0])\n",
    "    bootstarp_train_accuracies = {}\n",
    "    for i in range(501):\n",
    "        train_idx = rng.choice(idx, size=idx.shape[0], replace=True)\n",
    "        test_idx = np.setdiff1d(idx, train_idx, assume_unique=False)\n",
    "        boot_train_X, boot_train_y = X_train.iloc[train_idx], y_train.iloc[train_idx]\n",
    "        boot_test_X, boot_test_y = X_train.iloc[test_idx], y_train.iloc[test_idx]\n",
    "        model_lr.fit(boot_test_X, boot_test_y )\n",
    "        boot_y_pred = model_lr.predict(boot_test_X)\n",
    "        bootstarp_train_accuracies[i] = {\"RMSE\": np.sqrt(mean_squared_error(boot_test_y, boot_y_pred)),\n",
    "                                      \"R2\":r2_score(boot_test_y, boot_y_pred), \"intercept\":model_lr.intercept_}\n",
    "    R2 = []\n",
    "    RMSE = []\n",
    "    intercept = []\n",
    "    for i in range(501):\n",
    "        R2.append(bootstarp_train_accuracies[i]['R2'])\n",
    "        RMSE.append(bootstarp_train_accuracies[i]['RMSE'])\n",
    "        intercept.append(bootstarp_train_accuracies[i]['intercept'])\n",
    "    bootstrap_data_mean[var] = {\"R2\": [np.percentile(R2, 2.5), np.percentile(R2, 97.5)],\n",
    "                         \"RMSE\": [np.percentile(RMSE, 2.5), np.percentile(RMSE, 97.5)],\n",
    "                         \"intercept\": [np.percentile(intercept, 2.5), np.percentile(intercept, 97.5)]}"
   ]
  },
  {
   "cell_type": "code",
   "execution_count": 31,
   "id": "fe843ad7",
   "metadata": {},
   "outputs": [
    {
     "data": {
      "text/plain": [
       "{'gender': {'R2': [0.1696499996565437, 0.18321673414152612],\n",
       "  'RMSE': [649.9773680175595, 682.304614110603],\n",
       "  'intercept': [3886.4350570184297, 5132.057118764554]},\n",
       " 'dist': {'R2': [0.16249555975340202, 0.17533773570603622],\n",
       "  'RMSE': [653.2986594976559, 685.2764362197564],\n",
       "  'intercept': [3280.495591019094, 4399.658763647251]},\n",
       " 'hour': {'R2': [0.16993946940949106, 0.18329487707226272],\n",
       "  'RMSE': [649.9145406243812, 682.2561031947929],\n",
       "  'intercept': [3683.142429779408, 4817.313096140191]},\n",
       " 'birthyear': {'R2': [0.17008785166170587, 0.18360839943341656],\n",
       "  'RMSE': [649.7942684570487, 682.1731350222277],\n",
       "  'intercept': [3463.830077076648, 4827.239023228878]},\n",
       " 'usertype': {'R2': [0.1384267532238745, 0.15209264223389451],\n",
       "  'RMSE': [662.5476553284448, 695.8474731135385],\n",
       "  'intercept': [2512.772205881981, 3712.0955080118965]}}"
      ]
     },
     "execution_count": 31,
     "metadata": {},
     "output_type": "execute_result"
    }
   ],
   "source": [
    "bootstrap_data_mean"
   ]
  },
  {
   "cell_type": "markdown",
   "id": "a243af61",
   "metadata": {},
   "source": [
    "## Sampling Replacement Imputation"
   ]
  },
  {
   "cell_type": "code",
   "execution_count": 32,
   "id": "220dd637",
   "metadata": {},
   "outputs": [
    {
     "name": "stdout",
     "output_type": "stream",
     "text": [
      "Now model is running for varaible ==== gender\n",
      "Train (282432, 5) (282432,)\n",
      "Test (70608, 5) (70608,)\n",
      "Train set after Amputation (282432, 5)\n",
      "X_train Amputed value count of varaible  84730\n",
      "Test set after Amputation (70608, 5)\n",
      "X_test Amputed value count of varaible  21182\n",
      "Simple Imputation using sampling\n",
      "['gender', 'usertype']\n",
      "2023-02-19 15:55:18.717874\n",
      "2023-02-19 15:55:18.804556\n",
      "Now model is running for varaible ==== dist\n",
      "Train (282432, 5) (282432,)\n",
      "Test (70608, 5) (70608,)\n",
      "Train set after Amputation (282432, 5)\n",
      "X_train Amputed value count of varaible  84730\n",
      "Test set after Amputation (70608, 5)\n",
      "X_test Amputed value count of varaible  21182\n",
      "Simple Imputation using sampling\n",
      "['gender', 'usertype']\n",
      "2023-02-19 15:55:20.574150\n",
      "2023-02-19 15:55:20.641146\n",
      "Now model is running for varaible ==== hour\n",
      "Train (282432, 5) (282432,)\n",
      "Test (70608, 5) (70608,)\n",
      "Train set after Amputation (282432, 5)\n",
      "X_train Amputed value count of varaible  84730\n",
      "Test set after Amputation (70608, 5)\n",
      "X_test Amputed value count of varaible  21182\n",
      "Simple Imputation using sampling\n",
      "['gender', 'usertype']\n",
      "2023-02-19 15:55:22.489765\n",
      "2023-02-19 15:55:22.548700\n",
      "Now model is running for varaible ==== birthyear\n",
      "Train (282432, 5) (282432,)\n",
      "Test (70608, 5) (70608,)\n",
      "Train set after Amputation (282432, 5)\n",
      "X_train Amputed value count of varaible  84730\n",
      "Test set after Amputation (70608, 5)\n",
      "X_test Amputed value count of varaible  21182\n",
      "Simple Imputation using sampling\n",
      "['gender', 'usertype']\n",
      "2023-02-19 15:55:24.416215\n",
      "2023-02-19 15:55:24.495747\n",
      "Now model is running for varaible ==== usertype\n",
      "Train (282432, 5) (282432,)\n",
      "Test (70608, 5) (70608,)\n",
      "Train set after Amputation (282432, 5)\n",
      "X_train Amputed value count of varaible  84730\n",
      "Test set after Amputation (70608, 5)\n",
      "X_test Amputed value count of varaible  21182\n",
      "Simple Imputation using sampling\n",
      "['gender', 'usertype']\n",
      "2023-02-19 15:55:26.165062\n",
      "2023-02-19 15:55:26.242723\n"
     ]
    }
   ],
   "source": [
    "model_metrics_sample ={}\n",
    "for var in features_for_amputation:\n",
    "    print(\"Now model is running for varaible ====\", var)\n",
    "    X_train, X_test, y_train, y_test = split_dataset(df)\n",
    "    X_train , y_train, X_test , y_test = ampute_each_variables(var,\"sample\",X_train,y_train,X_test,y_test)\n",
    "    X_train, X_test = one_hot_encoding(X_train,X_test)\n",
    "    model_reg = model_evaluation(X_train,y_train)\n",
    "    y_pred = model_reg.predict(X_test)\n",
    "    if(var == 'gender'):\n",
    "        for v in cat_gender:\n",
    "            mu_train = X_train[v].mean()\n",
    "            sigma_train = X_train[v].std()\n",
    "            mu_test = X_test[v].mean()\n",
    "            sigma_test = X_test[v].std()\n",
    "            model_metrics_sample[v] = {\"MAE\":mean_absolute_error(y_test, y_pred),\"MSE\":mean_squared_error(y_test, y_pred),\n",
    "                          \"RMSE\":np.sqrt(mean_squared_error(y_test, y_pred)),\"R2\":r2_score(y_test, y_pred),\n",
    "                            \"intercept\":model_reg.intercept_,\n",
    "                          \"Mu_train\":mu_train, \"sigma_train\":sigma_train,\n",
    "                          \"Mu_test\":mu_test, \"sigma_test\":sigma_test}\n",
    "    elif(var == 'usertype'):\n",
    "        for v in cat_usertype:\n",
    "            mu_train = X_train[v].mean()\n",
    "            sigma_train = X_train[v].std()\n",
    "            mu_test = X_test[v].mean()\n",
    "            sigma_test = X_test[v].std()\n",
    "            model_metrics_sample[v] = {\"MAE\":mean_absolute_error(y_test, y_pred),\"MSE\":mean_squared_error(y_test, y_pred),\n",
    "                          \"RMSE\":np.sqrt(mean_squared_error(y_test, y_pred)),\"R2\":r2_score(y_test, y_pred),\n",
    "                           \"intercept\":model_reg.intercept_,\n",
    "                          \"Mu_train\":mu_train, \"sigma_train\":sigma_train,\n",
    "                          \"Mu_test\":mu_test, \"sigma_test\":sigma_test}\n",
    "    else:\n",
    "        mu_train = X_train[var].mean()\n",
    "        sigma_train = X_train[var].std()\n",
    "        mu_test = X_test[var].mean()\n",
    "        sigma_test = X_test[var].std()\n",
    "        model_metrics_sample[var] = {\"MAE\":mean_absolute_error(y_test, y_pred),\"MSE\":mean_squared_error(y_test, y_pred),\n",
    "                              \"RMSE\":np.sqrt(mean_squared_error(y_test, y_pred)),\"R2\":r2_score(y_test, y_pred),\n",
    "                               \"intercept\":model_reg.intercept_,\n",
    "                              \"Mu_train\":mu_train, \"sigma_train\":sigma_train,\n",
    "                              \"Mu_test\":mu_test, \"sigma_test\":sigma_test}\n",
    "    del X_train\n",
    "    del X_test\n",
    "    del y_train\n",
    "    del y_test"
   ]
  },
  {
   "cell_type": "code",
   "execution_count": 33,
   "id": "c349eb22",
   "metadata": {},
   "outputs": [
    {
     "data": {
      "text/plain": [
       "{'gender_female': {'MAE': 279.0582596954936,\n",
       "  'MSE': 429574.5118342138,\n",
       "  'RMSE': 655.4193404487037,\n",
       "  'R2': 0.1665981484332577,\n",
       "  'intercept': 4729.485666497717,\n",
       "  'Mu_train': 0.21225286086562428,\n",
       "  'sigma_train': 0.40890362670022007,\n",
       "  'Mu_test': 0.21242635395422615,\n",
       "  'sigma_test': 0.4090278322720775},\n",
       " 'gender_male': {'MAE': 279.0582596954936,\n",
       "  'MSE': 429574.5118342138,\n",
       "  'RMSE': 655.4193404487037,\n",
       "  'R2': 0.1665981484332577,\n",
       "  'intercept': 4729.485666497717,\n",
       "  'Mu_train': 0.7278991049172898,\n",
       "  'sigma_train': 0.4450423566960799,\n",
       "  'Mu_test': 0.7278495354634036,\n",
       "  'sigma_test': 0.4450701008174726},\n",
       " 'gender_unknown': {'MAE': 279.0582596954936,\n",
       "  'MSE': 429574.5118342138,\n",
       "  'RMSE': 655.4193404487037,\n",
       "  'R2': 0.1665981484332577,\n",
       "  'intercept': 4729.485666497717,\n",
       "  'Mu_train': 0.059848034217085885,\n",
       "  'sigma_train': 0.23720549369407865,\n",
       "  'Mu_test': 0.05972411058237027,\n",
       "  'sigma_test': 0.2369766582294243},\n",
       " 'dist': {'MAE': 299.59747846998687,\n",
       "  'MSE': 436935.00529423996,\n",
       "  'RMSE': 661.0105939349535,\n",
       "  'R2': 0.15231832337604356,\n",
       "  'intercept': 3572.9436394937843,\n",
       "  'Mu_train': 0.7837813213842605,\n",
       "  'sigma_train': 0.5429165773961713,\n",
       "  'Mu_test': 0.7804512089419834,\n",
       "  'sigma_test': 0.537760438548376},\n",
       " 'hour': {'MAE': 279.0659588382967,\n",
       "  'MSE': 429299.1421296683,\n",
       "  'RMSE': 655.2092353818499,\n",
       "  'R2': 0.16713238315927448,\n",
       "  'intercept': 4219.4126145214905,\n",
       "  'Mu_train': 13.636903750283254,\n",
       "  'sigma_train': 5.153727813940737,\n",
       "  'Mu_test': 13.608302175390891,\n",
       "  'sigma_test': 5.155474772024395},\n",
       " 'birthyear': {'MAE': 278.7432833881394,\n",
       "  'MSE': 429185.3033413349,\n",
       "  'RMSE': 655.1223575343273,\n",
       "  'R2': 0.1673532376428707,\n",
       "  'intercept': 3121.127307249477,\n",
       "  'Mu_train': 1980.4391747394063,\n",
       "  'sigma_train': 10.124151702822623,\n",
       "  'Mu_test': 1980.3481475186948,\n",
       "  'sigma_test': 10.051415006928934},\n",
       " 'usertype_Customer': {'MAE': 289.9391385371448,\n",
       "  'MSE': 454059.07349229633,\n",
       "  'RMSE': 673.839056075185,\n",
       "  'R2': 0.11909654287123794,\n",
       "  'intercept': 2954.861685944684,\n",
       "  'Mu_train': 0.06206449694085656,\n",
       "  'sigma_train': 0.24127308443464474,\n",
       "  'Mu_test': 0.06146612281894403,\n",
       "  'sigma_test': 0.24018504448564174},\n",
       " 'usertype_Subscriber': {'MAE': 289.9391385371448,\n",
       "  'MSE': 454059.07349229633,\n",
       "  'RMSE': 673.839056075185,\n",
       "  'R2': 0.11909654287123794,\n",
       "  'intercept': 2954.861685944684,\n",
       "  'Mu_train': 0.9379355030591434,\n",
       "  'sigma_train': 0.24127308443464474,\n",
       "  'Mu_test': 0.938533877181056,\n",
       "  'sigma_test': 0.24018504448564174}}"
      ]
     },
     "execution_count": 33,
     "metadata": {},
     "output_type": "execute_result"
    }
   ],
   "source": [
    "model_metrics_sample"
   ]
  },
  {
   "cell_type": "markdown",
   "id": "ac0422a3",
   "metadata": {},
   "source": [
    "### Bootstrap with sample"
   ]
  },
  {
   "cell_type": "code",
   "execution_count": 34,
   "id": "8fda8dd5",
   "metadata": {},
   "outputs": [
    {
     "name": "stdout",
     "output_type": "stream",
     "text": [
      "Now running model is .... gender\n",
      "Train (282432, 5) (282432,)\n",
      "Test (70608, 5) (70608,)\n",
      "Train set after Amputation (282432, 5)\n",
      "X_train Amputed value count of varaible  84730\n",
      "Test set after Amputation (70608, 5)\n",
      "X_test Amputed value count of varaible  21182\n",
      "Simple Imputation using sampling\n",
      "['gender', 'usertype']\n",
      "Now running model is .... dist\n",
      "Train (282432, 5) (282432,)\n",
      "Test (70608, 5) (70608,)\n",
      "Train set after Amputation (282432, 5)\n",
      "X_train Amputed value count of varaible  84730\n",
      "Test set after Amputation (70608, 5)\n",
      "X_test Amputed value count of varaible  21182\n",
      "Simple Imputation using sampling\n",
      "['gender', 'usertype']\n",
      "Now running model is .... hour\n",
      "Train (282432, 5) (282432,)\n",
      "Test (70608, 5) (70608,)\n",
      "Train set after Amputation (282432, 5)\n",
      "X_train Amputed value count of varaible  84730\n",
      "Test set after Amputation (70608, 5)\n",
      "X_test Amputed value count of varaible  21182\n",
      "Simple Imputation using sampling\n",
      "['gender', 'usertype']\n",
      "Now running model is .... birthyear\n",
      "Train (282432, 5) (282432,)\n",
      "Test (70608, 5) (70608,)\n",
      "Train set after Amputation (282432, 5)\n",
      "X_train Amputed value count of varaible  84730\n",
      "Test set after Amputation (70608, 5)\n",
      "X_test Amputed value count of varaible  21182\n",
      "Simple Imputation using sampling\n",
      "['gender', 'usertype']\n",
      "Now running model is .... usertype\n",
      "Train (282432, 5) (282432,)\n",
      "Test (70608, 5) (70608,)\n",
      "Train set after Amputation (282432, 5)\n",
      "X_train Amputed value count of varaible  84730\n",
      "Test set after Amputation (70608, 5)\n",
      "X_test Amputed value count of varaible  21182\n",
      "Simple Imputation using sampling\n",
      "['gender', 'usertype']\n"
     ]
    }
   ],
   "source": [
    "bootstrap_data_sample ={}\n",
    "for var in features_for_amputation:\n",
    "    print(\"Now running model is ....\", var)\n",
    "    X_train, X_test, y_train, y_test = split_dataset(df)\n",
    "    X_train , y_train, X_test , y_test = ampute_each_variables(var,\"sample\",X_train,y_train,X_test,y_test)\n",
    "    X_train, X_test = one_hot_encoding(X_train,X_test)\n",
    "    model_lr = LinearRegression(fit_intercept=True)\n",
    "    rng = np.random.RandomState(1234)\n",
    "    idx = np.arange(y_train.shape[0])\n",
    "    bootstarp_train_accuracies = {}\n",
    "    for i in range(501):\n",
    "        train_idx = rng.choice(idx, size=idx.shape[0], replace=True)\n",
    "        test_idx = np.setdiff1d(idx, train_idx, assume_unique=False)\n",
    "        boot_train_X, boot_train_y = X_train.iloc[train_idx], y_train.iloc[train_idx]\n",
    "        boot_test_X, boot_test_y = X_train.iloc[test_idx], y_train.iloc[test_idx]\n",
    "        model_lr.fit(boot_test_X, boot_test_y )\n",
    "        boot_y_pred = model_lr.predict(boot_test_X)\n",
    "        bootstarp_train_accuracies[i] = {\"RMSE\": np.sqrt(mean_squared_error(boot_test_y, boot_y_pred)),\n",
    "                                      \"R2\":r2_score(boot_test_y, boot_y_pred), \"intercept\":model_lr.intercept_}\n",
    "    R2 = []\n",
    "    RMSE = []\n",
    "    intercept = []\n",
    "    for i in range(501):\n",
    "        R2.append(bootstarp_train_accuracies[i]['R2'])\n",
    "        RMSE.append(bootstarp_train_accuracies[i]['RMSE'])\n",
    "        intercept.append(bootstarp_train_accuracies[i]['intercept'])\n",
    "    bootstrap_data_sample[var] = {\"R2\": [np.percentile(R2, 2.5), np.percentile(R2, 97.5)],\n",
    "                         \"RMSE\": [np.percentile(RMSE, 2.5), np.percentile(RMSE, 97.5)],\n",
    "                         \"intercept\": [np.percentile(intercept, 2.5), np.percentile(intercept, 97.5)]}"
   ]
  },
  {
   "cell_type": "code",
   "execution_count": 35,
   "id": "cf37bcec",
   "metadata": {},
   "outputs": [
    {
     "data": {
      "text/plain": [
       "{'gender': {'R2': [0.16919905790204676, 0.1826797666015309],\n",
       "  'RMSE': [650.2069516025169, 682.5137713422105],\n",
       "  'intercept': [4128.493524077371, 5376.421720617557]},\n",
       " 'dist': {'R2': [0.15761101587638798, 0.17022436215906783],\n",
       "  'RMSE': [655.4337064017885, 687.3741034288978],\n",
       "  'intercept': [3028.466203983856, 4121.852654760087]},\n",
       " 'hour': {'R2': [0.16968842201072198, 0.18295193666771514],\n",
       "  'RMSE': [650.0568054301013, 682.372299749865],\n",
       "  'intercept': [3677.489630740998, 4810.190489413755]},\n",
       " 'birthyear': {'R2': [0.16996440700846982, 0.1834617553890609],\n",
       "  'RMSE': [649.8478843106484, 682.2068316379654],\n",
       "  'intercept': [2498.366344798944, 3716.5799342012883]},\n",
       " 'usertype': {'R2': [0.11950140076877447, 0.13177373899652223],\n",
       "  'RMSE': [670.4128514173087, 703.1189583773973],\n",
       "  'intercept': [2380.6799265021723, 3559.308188143546]}}"
      ]
     },
     "execution_count": 35,
     "metadata": {},
     "output_type": "execute_result"
    }
   ],
   "source": [
    "bootstrap_data_sample"
   ]
  }
 ],
 "metadata": {
  "kernelspec": {
   "display_name": "Python 3 (ipykernel)",
   "language": "python",
   "name": "python3"
  },
  "language_info": {
   "codemirror_mode": {
    "name": "ipython",
    "version": 3
   },
   "file_extension": ".py",
   "mimetype": "text/x-python",
   "name": "python",
   "nbconvert_exporter": "python",
   "pygments_lexer": "ipython3",
   "version": "3.9.13"
  }
 },
 "nbformat": 4,
 "nbformat_minor": 5
}
