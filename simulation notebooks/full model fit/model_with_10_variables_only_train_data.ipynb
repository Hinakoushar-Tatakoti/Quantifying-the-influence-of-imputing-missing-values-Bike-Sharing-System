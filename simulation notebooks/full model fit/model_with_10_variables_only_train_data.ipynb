{
 "cells": [
  {
   "cell_type": "code",
   "execution_count": 3,
   "id": "a6c7a9d6",
   "metadata": {},
   "outputs": [],
   "source": [
    "import pandas as pd\n",
    "import numpy as np\n",
    "from sklearn.linear_model import LinearRegression\n",
    "from sklearn.model_selection import train_test_split\n",
    "from sklearn.metrics import mean_squared_error, mean_absolute_error,r2_score"
   ]
  },
  {
   "cell_type": "code",
   "execution_count": 4,
   "id": "00b1cdba",
   "metadata": {},
   "outputs": [],
   "source": [
    "tripdata = pd.read_csv(\"../../dataset/final_bike_sharing.csv\")"
   ]
  },
  {
   "cell_type": "code",
   "execution_count": 5,
   "id": "fe9c3d4f",
   "metadata": {},
   "outputs": [
    {
     "data": {
      "text/plain": [
       "Index(['tripduration', 'start_station_id', 'start_station_name', 'start_lat',\n",
       "       'start_lon', 'end_station_id', 'end_station_name', 'end_lat', 'end_lon',\n",
       "       'bikeid', 'usertype', 'hour', 'min', 'temp', 'feelslike', 'dew',\n",
       "       'humidity', 'precip', 'precipprob', 'snow', 'snowdepth', 'windspeed',\n",
       "       'winddir', 'sealevelpressure', 'cloudcover', 'visibility',\n",
       "       'solarradiation', 'uvindex', 'conditions', 'date', 'dist', 'birthyear',\n",
       "       'years_old', 'holiday', 'day', 'month', 'seasons', 'gender'],\n",
       "      dtype='object')"
      ]
     },
     "execution_count": 5,
     "metadata": {},
     "output_type": "execute_result"
    }
   ],
   "source": [
    "tripdata.columns"
   ]
  },
  {
   "cell_type": "code",
   "execution_count": 6,
   "id": "33194739",
   "metadata": {},
   "outputs": [
    {
     "data": {
      "text/plain": [
       "(349504, 38)"
      ]
     },
     "execution_count": 6,
     "metadata": {},
     "output_type": "execute_result"
    }
   ],
   "source": [
    "tripdata.shape"
   ]
  },
  {
   "cell_type": "code",
   "execution_count": 7,
   "id": "2580b2f0",
   "metadata": {},
   "outputs": [],
   "source": [
    "cols = ['tripduration','dist','hour','birthyear','temp','snowdepth','usertype','gender','cloudcover','holiday','feelslike']"
   ]
  },
  {
   "cell_type": "code",
   "execution_count": 8,
   "id": "89cf4b7c",
   "metadata": {},
   "outputs": [],
   "source": [
    "df = tripdata[cols]"
   ]
  },
  {
   "cell_type": "code",
   "execution_count": 9,
   "id": "800fcfca",
   "metadata": {},
   "outputs": [
    {
     "data": {
      "text/html": [
       "<div>\n",
       "<style scoped>\n",
       "    .dataframe tbody tr th:only-of-type {\n",
       "        vertical-align: middle;\n",
       "    }\n",
       "\n",
       "    .dataframe tbody tr th {\n",
       "        vertical-align: top;\n",
       "    }\n",
       "\n",
       "    .dataframe thead th {\n",
       "        text-align: right;\n",
       "    }\n",
       "</style>\n",
       "<table border=\"1\" class=\"dataframe\">\n",
       "  <thead>\n",
       "    <tr style=\"text-align: right;\">\n",
       "      <th></th>\n",
       "      <th>tripduration</th>\n",
       "      <th>dist</th>\n",
       "      <th>hour</th>\n",
       "      <th>birthyear</th>\n",
       "      <th>temp</th>\n",
       "      <th>snowdepth</th>\n",
       "      <th>usertype</th>\n",
       "      <th>gender</th>\n",
       "      <th>cloudcover</th>\n",
       "      <th>holiday</th>\n",
       "      <th>feelslike</th>\n",
       "    </tr>\n",
       "  </thead>\n",
       "  <tbody>\n",
       "    <tr>\n",
       "      <th>0</th>\n",
       "      <td>15.53</td>\n",
       "      <td>1.084267</td>\n",
       "      <td>2</td>\n",
       "      <td>1992</td>\n",
       "      <td>-11.7</td>\n",
       "      <td>0.0</td>\n",
       "      <td>Subscriber</td>\n",
       "      <td>male</td>\n",
       "      <td>0.0</td>\n",
       "      <td>holiday</td>\n",
       "      <td>-16.5</td>\n",
       "    </tr>\n",
       "    <tr>\n",
       "      <th>1</th>\n",
       "      <td>9.17</td>\n",
       "      <td>1.084267</td>\n",
       "      <td>12</td>\n",
       "      <td>1969</td>\n",
       "      <td>-7.3</td>\n",
       "      <td>0.0</td>\n",
       "      <td>Subscriber</td>\n",
       "      <td>female</td>\n",
       "      <td>0.2</td>\n",
       "      <td>holiday</td>\n",
       "      <td>-12.5</td>\n",
       "    </tr>\n",
       "    <tr>\n",
       "      <th>2</th>\n",
       "      <td>5.90</td>\n",
       "      <td>0.415696</td>\n",
       "      <td>14</td>\n",
       "      <td>1994</td>\n",
       "      <td>-5.2</td>\n",
       "      <td>0.0</td>\n",
       "      <td>Subscriber</td>\n",
       "      <td>male</td>\n",
       "      <td>0.2</td>\n",
       "      <td>holiday</td>\n",
       "      <td>-5.2</td>\n",
       "    </tr>\n",
       "    <tr>\n",
       "      <th>3</th>\n",
       "      <td>4.17</td>\n",
       "      <td>0.240932</td>\n",
       "      <td>17</td>\n",
       "      <td>1991</td>\n",
       "      <td>-5.8</td>\n",
       "      <td>0.0</td>\n",
       "      <td>Subscriber</td>\n",
       "      <td>male</td>\n",
       "      <td>0.2</td>\n",
       "      <td>holiday</td>\n",
       "      <td>-10.6</td>\n",
       "    </tr>\n",
       "    <tr>\n",
       "      <th>4</th>\n",
       "      <td>10.22</td>\n",
       "      <td>1.217917</td>\n",
       "      <td>22</td>\n",
       "      <td>1982</td>\n",
       "      <td>-7.2</td>\n",
       "      <td>0.0</td>\n",
       "      <td>Subscriber</td>\n",
       "      <td>male</td>\n",
       "      <td>0.2</td>\n",
       "      <td>holiday</td>\n",
       "      <td>-15.0</td>\n",
       "    </tr>\n",
       "    <tr>\n",
       "      <th>...</th>\n",
       "      <td>...</td>\n",
       "      <td>...</td>\n",
       "      <td>...</td>\n",
       "      <td>...</td>\n",
       "      <td>...</td>\n",
       "      <td>...</td>\n",
       "      <td>...</td>\n",
       "      <td>...</td>\n",
       "      <td>...</td>\n",
       "      <td>...</td>\n",
       "      <td>...</td>\n",
       "    </tr>\n",
       "    <tr>\n",
       "      <th>349499</th>\n",
       "      <td>18.02</td>\n",
       "      <td>1.872980</td>\n",
       "      <td>11</td>\n",
       "      <td>1993</td>\n",
       "      <td>7.1</td>\n",
       "      <td>0.0</td>\n",
       "      <td>Subscriber</td>\n",
       "      <td>male</td>\n",
       "      <td>94.9</td>\n",
       "      <td>working_day</td>\n",
       "      <td>5.2</td>\n",
       "    </tr>\n",
       "    <tr>\n",
       "      <th>349500</th>\n",
       "      <td>5.73</td>\n",
       "      <td>0.828647</td>\n",
       "      <td>21</td>\n",
       "      <td>1983</td>\n",
       "      <td>2.8</td>\n",
       "      <td>0.0</td>\n",
       "      <td>Subscriber</td>\n",
       "      <td>female</td>\n",
       "      <td>0.8</td>\n",
       "      <td>holiday</td>\n",
       "      <td>2.8</td>\n",
       "    </tr>\n",
       "    <tr>\n",
       "      <th>349501</th>\n",
       "      <td>20.55</td>\n",
       "      <td>2.657139</td>\n",
       "      <td>12</td>\n",
       "      <td>1988</td>\n",
       "      <td>11.5</td>\n",
       "      <td>0.0</td>\n",
       "      <td>Subscriber</td>\n",
       "      <td>male</td>\n",
       "      <td>29.8</td>\n",
       "      <td>working_day</td>\n",
       "      <td>11.5</td>\n",
       "    </tr>\n",
       "    <tr>\n",
       "      <th>349502</th>\n",
       "      <td>17.62</td>\n",
       "      <td>2.315132</td>\n",
       "      <td>15</td>\n",
       "      <td>1991</td>\n",
       "      <td>3.8</td>\n",
       "      <td>0.0</td>\n",
       "      <td>Subscriber</td>\n",
       "      <td>female</td>\n",
       "      <td>99.6</td>\n",
       "      <td>working_day</td>\n",
       "      <td>1.9</td>\n",
       "    </tr>\n",
       "    <tr>\n",
       "      <th>349503</th>\n",
       "      <td>5.02</td>\n",
       "      <td>0.902881</td>\n",
       "      <td>16</td>\n",
       "      <td>1991</td>\n",
       "      <td>6.7</td>\n",
       "      <td>0.0</td>\n",
       "      <td>Subscriber</td>\n",
       "      <td>male</td>\n",
       "      <td>100.0</td>\n",
       "      <td>working_day</td>\n",
       "      <td>4.4</td>\n",
       "    </tr>\n",
       "  </tbody>\n",
       "</table>\n",
       "<p>349504 rows × 11 columns</p>\n",
       "</div>"
      ],
      "text/plain": [
       "        tripduration      dist  hour  birthyear  temp  snowdepth    usertype  \\\n",
       "0              15.53  1.084267     2       1992 -11.7        0.0  Subscriber   \n",
       "1               9.17  1.084267    12       1969  -7.3        0.0  Subscriber   \n",
       "2               5.90  0.415696    14       1994  -5.2        0.0  Subscriber   \n",
       "3               4.17  0.240932    17       1991  -5.8        0.0  Subscriber   \n",
       "4              10.22  1.217917    22       1982  -7.2        0.0  Subscriber   \n",
       "...              ...       ...   ...        ...   ...        ...         ...   \n",
       "349499         18.02  1.872980    11       1993   7.1        0.0  Subscriber   \n",
       "349500          5.73  0.828647    21       1983   2.8        0.0  Subscriber   \n",
       "349501         20.55  2.657139    12       1988  11.5        0.0  Subscriber   \n",
       "349502         17.62  2.315132    15       1991   3.8        0.0  Subscriber   \n",
       "349503          5.02  0.902881    16       1991   6.7        0.0  Subscriber   \n",
       "\n",
       "        gender  cloudcover      holiday  feelslike  \n",
       "0         male         0.0      holiday      -16.5  \n",
       "1       female         0.2      holiday      -12.5  \n",
       "2         male         0.2      holiday       -5.2  \n",
       "3         male         0.2      holiday      -10.6  \n",
       "4         male         0.2      holiday      -15.0  \n",
       "...        ...         ...          ...        ...  \n",
       "349499    male        94.9  working_day        5.2  \n",
       "349500  female         0.8      holiday        2.8  \n",
       "349501    male        29.8  working_day       11.5  \n",
       "349502  female        99.6  working_day        1.9  \n",
       "349503    male       100.0  working_day        4.4  \n",
       "\n",
       "[349504 rows x 11 columns]"
      ]
     },
     "execution_count": 9,
     "metadata": {},
     "output_type": "execute_result"
    }
   ],
   "source": [
    "df"
   ]
  },
  {
   "cell_type": "code",
   "execution_count": 10,
   "id": "3a1da9bf",
   "metadata": {},
   "outputs": [
    {
     "name": "stdout",
     "output_type": "stream",
     "text": [
      "(279603, 11)\n",
      "(69901, 11)\n"
     ]
    }
   ],
   "source": [
    "train, test = train_test_split(df, test_size=0.2, random_state=42)\n",
    "print(train.shape)\n",
    "print(test.shape)"
   ]
  },
  {
   "cell_type": "code",
   "execution_count": 11,
   "id": "12918ac2",
   "metadata": {},
   "outputs": [],
   "source": [
    "X_train = train.drop('tripduration', axis=1)\n",
    "y_train = train['tripduration']"
   ]
  },
  {
   "cell_type": "code",
   "execution_count": 13,
   "id": "a44de979",
   "metadata": {},
   "outputs": [
    {
     "data": {
      "text/plain": [
       "['usertype', 'gender', 'holiday']"
      ]
     },
     "execution_count": 13,
     "metadata": {},
     "output_type": "execute_result"
    }
   ],
   "source": [
    "from dython.nominal import associations\n",
    "from dython.nominal import identify_nominal_columns\n",
    "categorical_features=identify_nominal_columns(X_train)\n",
    "categorical_features"
   ]
  },
  {
   "cell_type": "code",
   "execution_count": 14,
   "id": "c5a5f5b2",
   "metadata": {},
   "outputs": [],
   "source": [
    "one_hot_encoded_data_train = pd.get_dummies(X_train, columns = categorical_features)\n",
    "one_hot_encoded_data_train.head(3)\n",
    "X_train = one_hot_encoded_data_train"
   ]
  },
  {
   "cell_type": "code",
   "execution_count": 15,
   "id": "8ccbfff0",
   "metadata": {},
   "outputs": [
    {
     "name": "stdout",
     "output_type": "stream",
     "text": [
      "Intercept is 75.28952240449448\n",
      "coeffients are  [ 3.68334612e+00  6.84945829e-02 -3.19993325e-02  1.57966478e-01\n",
      "  3.71470094e-01 -2.31540901e-03 -7.02164807e-02  8.20879599e+00\n",
      " -8.20879599e+00  2.91300508e-02 -8.37122503e-01  8.07992452e-01\n",
      "  8.83180088e-01 -8.83180088e-01]\n"
     ]
    }
   ],
   "source": [
    "model_lr = LinearRegression(fit_intercept=True).fit(X_train, y_train)\n",
    "print(\"Intercept is\", model_lr.intercept_)\n",
    "print(\"coeffients are \", model_lr.coef_)"
   ]
  },
  {
   "cell_type": "code",
   "execution_count": 16,
   "id": "ea9d3931",
   "metadata": {},
   "outputs": [
    {
     "name": "stdout",
     "output_type": "stream",
     "text": [
      "RMSE is of linear regression is =  9.799220079803547\n",
      "R2 is of linear regression is =  0.1989518667349991\n"
     ]
    }
   ],
   "source": [
    "y_train_pred = model_lr.predict(X_train)\n",
    "rmse = mean_squared_error(y_train, y_train_pred, squared=False)\n",
    "print(\"RMSE is of linear regression is = \", rmse)\n",
    "print(\"R2 is of linear regression is = \", r2_score(y_train, y_train_pred))"
   ]
  },
  {
   "cell_type": "markdown",
   "id": "dcbae28d",
   "metadata": {},
   "source": [
    "### Python version \n",
    "1. Split 80% and 20% (282213, 11) (70554, 11)\n",
    "2. Intercept is 75.28952240449448\n",
    "3. coeffients are  [ 3.68334612e+00  6.84945829e-02 -3.19993325e-02  1.57966478e-01\n",
    "  3.71470094e-01 -2.31540901e-03 -7.02164807e-02  8.20879599e+00\n",
    " -8.20879599e+00  2.91300508e-02 -8.37122503e-01  8.07992452e-01\n",
    "  8.83180088e-01 -8.83180088e-01]\n",
    "4. RMSE is of linear regression is =  9.799220079803547\n",
    "5. R2 is of linear regression is =  0.1989518667349991"
   ]
  },
  {
   "cell_type": "markdown",
   "id": "a5a3606a",
   "metadata": {},
   "source": [
    "### R Version\n",
    "1. Split 80% and 20% showing (282691,11)(70076, 11) \n",
    "\n",
    "Call:\n",
    "lm(formula = tripduration ~ dist + hour + birthyear + temp + \n",
    "    snowdepth + factor(usertype) + factor(gender) + cloudcover + \n",
    "    factor(holiday) + feelslike, data = train)\n",
    "\n",
    "Residuals:\n",
    "    Min      1Q  Median      3Q     Max \n",
    "-27.698  -3.168  -1.846   0.165 175.174 \n",
    "\n",
    "Coefficients:\n",
    "                             Estimate Std. Error  t value Pr(>|t|)    \n",
    "(Intercept)                 81.747024   4.152722   19.685  < 2e-16 ***\n",
    "dist                         3.524912   0.036018   97.865  < 2e-16 ***\n",
    "hour                         0.070350   0.003829   18.371  < 2e-16 ***\n",
    "birthyear                   -0.029945   0.002092  -14.315  < 2e-16 ***\n",
    "temp                         0.169994   0.020395    8.335  < 2e-16 ***\n",
    "snowdepth                    0.370567   0.068815    5.385 7.25e-08 ***\n",
    "factor(usertype)Subscriber -17.576692   0.097099 -181.019  < 2e-16 ***\n",
    "factor(gender)male          -0.899655   0.048298  -18.627  < 2e-16 ***\n",
    "factor(gender)unknown        0.944763   0.107577    8.782  < 2e-16 ***\n",
    "cloudcover                  -0.002193   0.000445   -4.928 8.30e-07 ***\n",
    "factor(holiday)working_day  -1.932395   0.167329  -11.548  < 2e-16 ***\n",
    "feelslike                   -0.078067   0.017495   -4.462 8.11e-06 ***\n",
    "---\n",
    "Signif. codes:  0 ‘***’ 0.001 ‘**’ 0.01 ‘*’ 0.05 ‘.’ 0.1 ‘ ’ 1\n",
    "\n",
    "Residual standard error: 10.3 on 280054 degrees of freedom\n",
    "Multiple R-squared:  0.2012,\tAdjusted R-squared:  0.2011 \n",
    "F-statistic:  6411 on 11 and 280054 DF,  p-value: < 2.2e-16"
   ]
  },
  {
   "cell_type": "code",
   "execution_count": null,
   "id": "edc39ca3",
   "metadata": {},
   "outputs": [],
   "source": []
  },
  {
   "cell_type": "code",
   "execution_count": null,
   "id": "4fce06d0",
   "metadata": {},
   "outputs": [],
   "source": []
  }
 ],
 "metadata": {
  "kernelspec": {
   "display_name": "Python 3 (ipykernel)",
   "language": "python",
   "name": "python3"
  },
  "language_info": {
   "codemirror_mode": {
    "name": "ipython",
    "version": 3
   },
   "file_extension": ".py",
   "mimetype": "text/x-python",
   "name": "python",
   "nbconvert_exporter": "python",
   "pygments_lexer": "ipython3",
   "version": "3.9.13"
  }
 },
 "nbformat": 4,
 "nbformat_minor": 5
}
